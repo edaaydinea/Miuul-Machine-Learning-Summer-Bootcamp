{
 "cells": [
  {
   "cell_type": "markdown",
   "metadata": {
    "pycharm": {
     "name": "#%% md\n"
    }
   },
   "source": [
    "# 5. Application"
   ]
  },
  {
   "cell_type": "code",
   "execution_count": null,
   "metadata": {
    "collapsed": false,
    "pycharm": {
     "name": "#%%\n"
    }
   },
   "outputs": [],
   "source": [
    "This Titanic project was made at Miuul Machine Learning Summer BootCamp with narration by Vahit Keskin.\n",
    "\n",
    "**TABLE OF CONTENTS**\n",
    "\n",
    "- [Import Libraries](#51-import-libraries)\n",
    "- [Data Loading](#52-data-loading)\n",
    "- [Feature Engineering & Data Preprocessing](#53-feature-engineering--data-preprocessing)\n",
    "- [Handling Outliers](#54-handling-outliers)\n",
    "- [Handling Missing Values](#55-handling-missing-values)\n",
    "- [Label Encoding](#56-label-encoding)\n",
    "- [Rare Encoding](#57-rare-encoding)\n",
    "- [One-Hot Encoding](#58-one-hot-encoding)\n",
    "- [Standard Scaler Processing](#59-standard-scaler-processing)\n",
    "- [Modelling](#510-modelling)"
   ]
  },
  {
   "cell_type": "markdown",
   "metadata": {
    "pycharm": {
     "name": "#%% md\n"
    }
   },
   "source": [
    "## 5.1 Import Libraries"
   ]
  },
  {
   "cell_type": "code",
   "execution_count": 1,
   "metadata": {
    "pycharm": {
     "name": "#%%\n"
    }
   },
   "outputs": [],
   "source": [
    "import numpy as np\n",
    "import pandas as pd\n",
    "import seaborn as sns\n",
    "from matplotlib import pyplot as plt\n",
    "# !pip install missingno\n",
    "import missingno as msno\n",
    "from datetime import date\n",
    "from sklearn.metrics import accuracy_score\n",
    "from sklearn.model_selection import train_test_split\n",
    "from sklearn.neighbors import LocalOutlierFactor\n",
    "from sklearn.preprocessing import MinMaxScaler, LabelEncoder, StandardScaler, RobustScaler\n",
    "from sklearn.ensemble import RandomForestClassifier"
   ]
  },
  {
   "cell_type": "code",
   "execution_count": 2,
   "metadata": {
    "pycharm": {
     "name": "#%%\n"
    }
   },
   "outputs": [],
   "source": [
    "pd.set_option('display.max_columns', None)\n",
    "pd.set_option('display.max_rows', None)\n",
    "pd.set_option('display.float_format', lambda x: '%.3f' % x)\n",
    "pd.set_option('display.width', 500)"
   ]
  },
  {
   "cell_type": "markdown",
   "metadata": {
    "pycharm": {
     "name": "#%% md\n"
    }
   },
   "source": [
    "## 5.2 Data Loading"
   ]
  },
  {
   "cell_type": "code",
   "execution_count": 3,
   "metadata": {
    "pycharm": {
     "name": "#%%\n"
    }
   },
   "outputs": [
    {
     "data": {
      "text/html": [
       "<div>\n",
       "<style scoped>\n",
       "    .dataframe tbody tr th:only-of-type {\n",
       "        vertical-align: middle;\n",
       "    }\n",
       "\n",
       "    .dataframe tbody tr th {\n",
       "        vertical-align: top;\n",
       "    }\n",
       "\n",
       "    .dataframe thead th {\n",
       "        text-align: right;\n",
       "    }\n",
       "</style>\n",
       "<table border=\"1\" class=\"dataframe\">\n",
       "  <thead>\n",
       "    <tr style=\"text-align: right;\">\n",
       "      <th></th>\n",
       "      <th>PassengerId</th>\n",
       "      <th>Survived</th>\n",
       "      <th>Pclass</th>\n",
       "      <th>Name</th>\n",
       "      <th>Sex</th>\n",
       "      <th>Age</th>\n",
       "      <th>SibSp</th>\n",
       "      <th>Parch</th>\n",
       "      <th>Ticket</th>\n",
       "      <th>Fare</th>\n",
       "      <th>Cabin</th>\n",
       "      <th>Embarked</th>\n",
       "    </tr>\n",
       "  </thead>\n",
       "  <tbody>\n",
       "    <tr>\n",
       "      <th>0</th>\n",
       "      <td>1</td>\n",
       "      <td>0</td>\n",
       "      <td>3</td>\n",
       "      <td>Braund, Mr. Owen Harris</td>\n",
       "      <td>male</td>\n",
       "      <td>22.000</td>\n",
       "      <td>1</td>\n",
       "      <td>0</td>\n",
       "      <td>A/5 21171</td>\n",
       "      <td>7.250</td>\n",
       "      <td>NaN</td>\n",
       "      <td>S</td>\n",
       "    </tr>\n",
       "    <tr>\n",
       "      <th>1</th>\n",
       "      <td>2</td>\n",
       "      <td>1</td>\n",
       "      <td>1</td>\n",
       "      <td>Cumings, Mrs. John Bradley (Florence Briggs Th...</td>\n",
       "      <td>female</td>\n",
       "      <td>38.000</td>\n",
       "      <td>1</td>\n",
       "      <td>0</td>\n",
       "      <td>PC 17599</td>\n",
       "      <td>71.283</td>\n",
       "      <td>C85</td>\n",
       "      <td>C</td>\n",
       "    </tr>\n",
       "    <tr>\n",
       "      <th>2</th>\n",
       "      <td>3</td>\n",
       "      <td>1</td>\n",
       "      <td>3</td>\n",
       "      <td>Heikkinen, Miss. Laina</td>\n",
       "      <td>female</td>\n",
       "      <td>26.000</td>\n",
       "      <td>0</td>\n",
       "      <td>0</td>\n",
       "      <td>STON/O2. 3101282</td>\n",
       "      <td>7.925</td>\n",
       "      <td>NaN</td>\n",
       "      <td>S</td>\n",
       "    </tr>\n",
       "    <tr>\n",
       "      <th>3</th>\n",
       "      <td>4</td>\n",
       "      <td>1</td>\n",
       "      <td>1</td>\n",
       "      <td>Futrelle, Mrs. Jacques Heath (Lily May Peel)</td>\n",
       "      <td>female</td>\n",
       "      <td>35.000</td>\n",
       "      <td>1</td>\n",
       "      <td>0</td>\n",
       "      <td>113803</td>\n",
       "      <td>53.100</td>\n",
       "      <td>C123</td>\n",
       "      <td>S</td>\n",
       "    </tr>\n",
       "    <tr>\n",
       "      <th>4</th>\n",
       "      <td>5</td>\n",
       "      <td>0</td>\n",
       "      <td>3</td>\n",
       "      <td>Allen, Mr. William Henry</td>\n",
       "      <td>male</td>\n",
       "      <td>35.000</td>\n",
       "      <td>0</td>\n",
       "      <td>0</td>\n",
       "      <td>373450</td>\n",
       "      <td>8.050</td>\n",
       "      <td>NaN</td>\n",
       "      <td>S</td>\n",
       "    </tr>\n",
       "  </tbody>\n",
       "</table>\n",
       "</div>"
      ],
      "text/plain": [
       "   PassengerId  Survived  Pclass                                               Name     Sex    Age  SibSp  Parch            Ticket   Fare Cabin Embarked\n",
       "0            1         0       3                            Braund, Mr. Owen Harris    male 22.000      1      0         A/5 21171  7.250   NaN        S\n",
       "1            2         1       1  Cumings, Mrs. John Bradley (Florence Briggs Th...  female 38.000      1      0          PC 17599 71.283   C85        C\n",
       "2            3         1       3                             Heikkinen, Miss. Laina  female 26.000      0      0  STON/O2. 3101282  7.925   NaN        S\n",
       "3            4         1       1       Futrelle, Mrs. Jacques Heath (Lily May Peel)  female 35.000      1      0            113803 53.100  C123        S\n",
       "4            5         0       3                           Allen, Mr. William Henry    male 35.000      0      0            373450  8.050   NaN        S"
      ]
     },
     "execution_count": 3,
     "metadata": {},
     "output_type": "execute_result"
    }
   ],
   "source": [
    "# Data set for small scale application\n",
    "def load_titanic():\n",
    "    data = pd.read_csv(\"datasets/titanic.csv\")\n",
    "    return data\n",
    "\n",
    "\n",
    "df = load_titanic()\n",
    "df.head()"
   ]
  },
  {
   "cell_type": "code",
   "execution_count": 4,
   "metadata": {
    "pycharm": {
     "name": "#%%\n"
    }
   },
   "outputs": [
    {
     "data": {
      "text/plain": [
       "(891, 12)"
      ]
     },
     "execution_count": 4,
     "metadata": {},
     "output_type": "execute_result"
    }
   ],
   "source": [
    "df.shape"
   ]
  },
  {
   "cell_type": "code",
   "execution_count": 5,
   "metadata": {
    "pycharm": {
     "name": "#%%\n"
    }
   },
   "outputs": [
    {
     "data": {
      "text/html": [
       "<div>\n",
       "<style scoped>\n",
       "    .dataframe tbody tr th:only-of-type {\n",
       "        vertical-align: middle;\n",
       "    }\n",
       "\n",
       "    .dataframe tbody tr th {\n",
       "        vertical-align: top;\n",
       "    }\n",
       "\n",
       "    .dataframe thead th {\n",
       "        text-align: right;\n",
       "    }\n",
       "</style>\n",
       "<table border=\"1\" class=\"dataframe\">\n",
       "  <thead>\n",
       "    <tr style=\"text-align: right;\">\n",
       "      <th></th>\n",
       "      <th>PASSENGERID</th>\n",
       "      <th>SURVIVED</th>\n",
       "      <th>PCLASS</th>\n",
       "      <th>NAME</th>\n",
       "      <th>SEX</th>\n",
       "      <th>AGE</th>\n",
       "      <th>SIBSP</th>\n",
       "      <th>PARCH</th>\n",
       "      <th>TICKET</th>\n",
       "      <th>FARE</th>\n",
       "      <th>CABIN</th>\n",
       "      <th>EMBARKED</th>\n",
       "    </tr>\n",
       "  </thead>\n",
       "  <tbody>\n",
       "    <tr>\n",
       "      <th>0</th>\n",
       "      <td>1</td>\n",
       "      <td>0</td>\n",
       "      <td>3</td>\n",
       "      <td>Braund, Mr. Owen Harris</td>\n",
       "      <td>male</td>\n",
       "      <td>22.000</td>\n",
       "      <td>1</td>\n",
       "      <td>0</td>\n",
       "      <td>A/5 21171</td>\n",
       "      <td>7.250</td>\n",
       "      <td>NaN</td>\n",
       "      <td>S</td>\n",
       "    </tr>\n",
       "    <tr>\n",
       "      <th>1</th>\n",
       "      <td>2</td>\n",
       "      <td>1</td>\n",
       "      <td>1</td>\n",
       "      <td>Cumings, Mrs. John Bradley (Florence Briggs Th...</td>\n",
       "      <td>female</td>\n",
       "      <td>38.000</td>\n",
       "      <td>1</td>\n",
       "      <td>0</td>\n",
       "      <td>PC 17599</td>\n",
       "      <td>71.283</td>\n",
       "      <td>C85</td>\n",
       "      <td>C</td>\n",
       "    </tr>\n",
       "    <tr>\n",
       "      <th>2</th>\n",
       "      <td>3</td>\n",
       "      <td>1</td>\n",
       "      <td>3</td>\n",
       "      <td>Heikkinen, Miss. Laina</td>\n",
       "      <td>female</td>\n",
       "      <td>26.000</td>\n",
       "      <td>0</td>\n",
       "      <td>0</td>\n",
       "      <td>STON/O2. 3101282</td>\n",
       "      <td>7.925</td>\n",
       "      <td>NaN</td>\n",
       "      <td>S</td>\n",
       "    </tr>\n",
       "    <tr>\n",
       "      <th>3</th>\n",
       "      <td>4</td>\n",
       "      <td>1</td>\n",
       "      <td>1</td>\n",
       "      <td>Futrelle, Mrs. Jacques Heath (Lily May Peel)</td>\n",
       "      <td>female</td>\n",
       "      <td>35.000</td>\n",
       "      <td>1</td>\n",
       "      <td>0</td>\n",
       "      <td>113803</td>\n",
       "      <td>53.100</td>\n",
       "      <td>C123</td>\n",
       "      <td>S</td>\n",
       "    </tr>\n",
       "    <tr>\n",
       "      <th>4</th>\n",
       "      <td>5</td>\n",
       "      <td>0</td>\n",
       "      <td>3</td>\n",
       "      <td>Allen, Mr. William Henry</td>\n",
       "      <td>male</td>\n",
       "      <td>35.000</td>\n",
       "      <td>0</td>\n",
       "      <td>0</td>\n",
       "      <td>373450</td>\n",
       "      <td>8.050</td>\n",
       "      <td>NaN</td>\n",
       "      <td>S</td>\n",
       "    </tr>\n",
       "  </tbody>\n",
       "</table>\n",
       "</div>"
      ],
      "text/plain": [
       "   PASSENGERID  SURVIVED  PCLASS                                               NAME     SEX    AGE  SIBSP  PARCH            TICKET   FARE CABIN EMBARKED\n",
       "0            1         0       3                            Braund, Mr. Owen Harris    male 22.000      1      0         A/5 21171  7.250   NaN        S\n",
       "1            2         1       1  Cumings, Mrs. John Bradley (Florence Briggs Th...  female 38.000      1      0          PC 17599 71.283   C85        C\n",
       "2            3         1       3                             Heikkinen, Miss. Laina  female 26.000      0      0  STON/O2. 3101282  7.925   NaN        S\n",
       "3            4         1       1       Futrelle, Mrs. Jacques Heath (Lily May Peel)  female 35.000      1      0            113803 53.100  C123        S\n",
       "4            5         0       3                           Allen, Mr. William Henry    male 35.000      0      0            373450  8.050   NaN        S"
      ]
     },
     "execution_count": 5,
     "metadata": {},
     "output_type": "execute_result"
    }
   ],
   "source": [
    "df.columns = [col.upper() for col in df.columns]\n",
    "df.head()"
   ]
  },
  {
   "cell_type": "markdown",
   "metadata": {
    "pycharm": {
     "name": "#%% md\n"
    }
   },
   "source": [
    "### 5.2.1 Auto Find Categorical / Numerical / Cardinal / Nominal / Ordinal Features"
   ]
  },
  {
   "cell_type": "code",
   "execution_count": 6,
   "metadata": {
    "pycharm": {
     "name": "#%%\n"
    }
   },
   "outputs": [],
   "source": [
    "def grab_col_names(dataframe, categorical_threshold = 10, cardinal_threshold= 20):\n",
    "    \"\"\"\n",
    "    It gives the names of categorical, numerical and categorical but cardinal variables in the data set.\n",
    "    Note: Categorical variables but numerical variables are also included in categorical variables.\n",
    "\n",
    "    Parameters\n",
    "    ----------\n",
    "    dataframe : dataframe\n",
    "        The dataframe from which variables names are to be retrieved.\n",
    "    categorical_threshold : int, optional\n",
    "        class threshold for numeric but categorical variables\n",
    "    cardinal_threshold : int, optional\n",
    "        Class threshold for categorical but cardinal variables\n",
    "\n",
    "    Returns\n",
    "    -------\n",
    "        categorical_cols : list\n",
    "            Categorical variable list\n",
    "        numerical_cols : list\n",
    "            Numerical variable list\n",
    "        cardinal_cols : list\n",
    "            Categorical looking cardinal variable list\n",
    "\n",
    "    Examples\n",
    "    -------\n",
    "        import seaborn as sns\n",
    "        df = sns.load_titanic_dataset(\"iris\")\n",
    "        print(grab_col_names(df))\n",
    "\n",
    "    Notes\n",
    "    -------\n",
    "        categorical_cols + numerical_cols + cardinal_cols = total number of variables.\n",
    "        nominal_cols is inside categorical_cols\n",
    "        The sum of the 3 returned lists equals the total number of variables: categorical_cols + cardinal_cols = number of variables\n",
    "\n",
    "    \"\"\"\n",
    "\n",
    "    categorical_cols = [col for col in dataframe.columns if dataframe[col].dtypes == \"O\"]\n",
    "    nominal_cols = [col for col in dataframe.columns if dataframe[col].nunique() < categorical_threshold and dataframe[col].dtypes != \"O\"]\n",
    "    cardinal_cols = [col for col in dataframe.columns if dataframe[col].nunique() > cardinal_threshold and dataframe[col].dtypes == \"O\"]\n",
    "    categorical_cols = categorical_cols + nominal_cols\n",
    "    categorical_cols = [col for col in categorical_cols if col not in cardinal_cols]\n",
    "\n",
    "    # numerical_cols\n",
    "    numerical_cols = [col for col in dataframe.columns if dataframe[col].dtypes != \"O\"]\n",
    "    numerical_cols = [col for col in numerical_cols if col not in categorical_cols]\n",
    "\n",
    "    print(f\"Observations: {dataframe.shape[0]}\")\n",
    "    print(f\"Variables: {dataframe.shape[1]}\")\n",
    "    print(f'categorical_cols: {len(categorical_cols)}')\n",
    "    print(f'numerical_cols: {len(numerical_cols)}')\n",
    "    print(f'cardinal_cols: {len(cardinal_cols)}')\n",
    "    print(f'nominal_cols: {len(nominal_cols)}')\n",
    "    return categorical_cols, numerical_cols, cardinal_cols, nominal_cols"
   ]
  },
  {
   "cell_type": "code",
   "execution_count": 7,
   "metadata": {
    "pycharm": {
     "name": "#%%\n"
    }
   },
   "outputs": [
    {
     "name": "stdout",
     "output_type": "stream",
     "text": [
      "Observations: 891\n",
      "Variables: 12\n",
      "categorical_cols: 6\n",
      "numerical_cols: 3\n",
      "cardinal_cols: 3\n",
      "nominal_cols: 4\n"
     ]
    }
   ],
   "source": [
    "categorical_cols, numerical_cols, cardinal_cols,nominal_cols = grab_col_names(df)\n",
    "numerical_cols = [col for col in numerical_cols if \"PASSENGERID\" not in col]"
   ]
  },
  {
   "cell_type": "markdown",
   "metadata": {
    "pycharm": {
     "name": "#%% md\n"
    }
   },
   "source": [
    "## 5.3 Feature Engineering & Data Preprocessing"
   ]
  },
  {
   "cell_type": "code",
   "execution_count": 8,
   "metadata": {
    "pycharm": {
     "name": "#%%\n"
    }
   },
   "outputs": [],
   "source": [
    "# Cabin bool\n",
    "df[\"NEW_CABIN_BOOL\"] = df[\"CABIN\"].notnull().astype('int64')"
   ]
  },
  {
   "cell_type": "code",
   "execution_count": 9,
   "metadata": {
    "pycharm": {
     "name": "#%%\n"
    }
   },
   "outputs": [],
   "source": [
    "# Name count\n",
    "df[\"NEW_NAME_COUNT\"] = df[\"NAME\"].str.len()"
   ]
  },
  {
   "cell_type": "code",
   "execution_count": 10,
   "metadata": {
    "pycharm": {
     "name": "#%%\n"
    }
   },
   "outputs": [],
   "source": [
    "# name word count\n",
    "df[\"NEW_NAME_WORD_COUNT\"] = df[\"NAME\"].apply(lambda x: len(str(x).split(\" \")))"
   ]
  },
  {
   "cell_type": "code",
   "execution_count": 11,
   "metadata": {
    "pycharm": {
     "name": "#%%\n"
    }
   },
   "outputs": [],
   "source": [
    "# name dr\n",
    "df[\"NEW_NAME_DR\"] = df[\"NAME\"].apply(lambda x: len([x for x in x.split() if x.startswith(\"Dr\")]))"
   ]
  },
  {
   "cell_type": "code",
   "execution_count": 12,
   "metadata": {
    "pycharm": {
     "name": "#%%\n"
    }
   },
   "outputs": [],
   "source": [
    "# name title\n",
    "df['NEW_TITLE'] = df.NAME.str.extract(' ([A-Za-z]+)\\.', expand=False)"
   ]
  },
  {
   "cell_type": "code",
   "execution_count": 13,
   "metadata": {
    "pycharm": {
     "name": "#%%\n"
    }
   },
   "outputs": [],
   "source": [
    "# family size\n",
    "df[\"NEW_FAMILY_SIZE\"] = df[\"SIBSP\"] + df[\"PARCH\"] + 1"
   ]
  },
  {
   "cell_type": "code",
   "execution_count": 14,
   "metadata": {
    "pycharm": {
     "name": "#%%\n"
    }
   },
   "outputs": [],
   "source": [
    "# age_pclass\n",
    "df[\"NEW_AGE_PCLASS\"] = df[\"AGE\"] * df[\"PCLASS\"]"
   ]
  },
  {
   "cell_type": "code",
   "execution_count": 15,
   "metadata": {
    "pycharm": {
     "name": "#%%\n"
    }
   },
   "outputs": [],
   "source": [
    "# is alone\n",
    "df.loc[((df['SIBSP'] + df['PARCH']) > 0), \"NEW_IS_ALONE\"] = \"NO\"\n",
    "df.loc[((df['SIBSP'] + df['PARCH']) == 0), \"NEW_IS_ALONE\"] = \"YES\""
   ]
  },
  {
   "cell_type": "code",
   "execution_count": 16,
   "metadata": {
    "pycharm": {
     "name": "#%%\n"
    }
   },
   "outputs": [],
   "source": [
    "# age level\n",
    "df.loc[(df['AGE'] < 18), 'NEW_AGE_CAT'] = 'young'\n",
    "df.loc[(df['AGE'] >= 18) & (df['AGE'] < 56), 'NEW_AGE_CAT'] = 'mature'\n",
    "df.loc[(df['AGE'] >= 56), 'NEW_AGE_CAT'] = 'senior'"
   ]
  },
  {
   "cell_type": "code",
   "execution_count": 17,
   "metadata": {
    "pycharm": {
     "name": "#%%\n"
    }
   },
   "outputs": [],
   "source": [
    "# sex x age\n",
    "df.loc[(df['SEX'] == 'male') & (df['AGE'] <= 21), 'NEW_SEX_CAT'] = 'youngmale'\n",
    "df.loc[(df['SEX'] == 'male') & (df['AGE'] > 21) & (df['AGE'] < 50), 'NEW_SEX_CAT'] = 'maturemale'\n",
    "df.loc[(df['SEX'] == 'male') & (df['AGE'] >= 50), 'NEW_SEX_CAT'] = 'seniormale'\n",
    "df.loc[(df['SEX'] == 'female') & (df['AGE'] <= 21), 'NEW_SEX_CAT'] = 'youngfemale'\n",
    "df.loc[(df['SEX'] == 'female') & (df['AGE'] > 21) & (df['AGE'] < 50), 'NEW_SEX_CAT'] = 'maturefemale'\n",
    "df.loc[(df['SEX'] == 'female') & (df['AGE'] >= 50), 'NEW_SEX_CAT'] = 'seniorfemale'"
   ]
  },
  {
   "cell_type": "code",
   "execution_count": 18,
   "metadata": {
    "pycharm": {
     "name": "#%%\n"
    }
   },
   "outputs": [
    {
     "data": {
      "text/html": [
       "<div>\n",
       "<style scoped>\n",
       "    .dataframe tbody tr th:only-of-type {\n",
       "        vertical-align: middle;\n",
       "    }\n",
       "\n",
       "    .dataframe tbody tr th {\n",
       "        vertical-align: top;\n",
       "    }\n",
       "\n",
       "    .dataframe thead th {\n",
       "        text-align: right;\n",
       "    }\n",
       "</style>\n",
       "<table border=\"1\" class=\"dataframe\">\n",
       "  <thead>\n",
       "    <tr style=\"text-align: right;\">\n",
       "      <th></th>\n",
       "      <th>PASSENGERID</th>\n",
       "      <th>SURVIVED</th>\n",
       "      <th>PCLASS</th>\n",
       "      <th>NAME</th>\n",
       "      <th>SEX</th>\n",
       "      <th>AGE</th>\n",
       "      <th>SIBSP</th>\n",
       "      <th>PARCH</th>\n",
       "      <th>TICKET</th>\n",
       "      <th>FARE</th>\n",
       "      <th>CABIN</th>\n",
       "      <th>EMBARKED</th>\n",
       "      <th>NEW_CABIN_BOOL</th>\n",
       "      <th>NEW_NAME_COUNT</th>\n",
       "      <th>NEW_NAME_WORD_COUNT</th>\n",
       "      <th>NEW_NAME_DR</th>\n",
       "      <th>NEW_TITLE</th>\n",
       "      <th>NEW_FAMILY_SIZE</th>\n",
       "      <th>NEW_AGE_PCLASS</th>\n",
       "      <th>NEW_IS_ALONE</th>\n",
       "      <th>NEW_AGE_CAT</th>\n",
       "      <th>NEW_SEX_CAT</th>\n",
       "    </tr>\n",
       "  </thead>\n",
       "  <tbody>\n",
       "    <tr>\n",
       "      <th>0</th>\n",
       "      <td>1</td>\n",
       "      <td>0</td>\n",
       "      <td>3</td>\n",
       "      <td>Braund, Mr. Owen Harris</td>\n",
       "      <td>male</td>\n",
       "      <td>22.000</td>\n",
       "      <td>1</td>\n",
       "      <td>0</td>\n",
       "      <td>A/5 21171</td>\n",
       "      <td>7.250</td>\n",
       "      <td>NaN</td>\n",
       "      <td>S</td>\n",
       "      <td>0</td>\n",
       "      <td>23</td>\n",
       "      <td>4</td>\n",
       "      <td>0</td>\n",
       "      <td>Mr</td>\n",
       "      <td>2</td>\n",
       "      <td>66.000</td>\n",
       "      <td>NO</td>\n",
       "      <td>mature</td>\n",
       "      <td>maturemale</td>\n",
       "    </tr>\n",
       "    <tr>\n",
       "      <th>1</th>\n",
       "      <td>2</td>\n",
       "      <td>1</td>\n",
       "      <td>1</td>\n",
       "      <td>Cumings, Mrs. John Bradley (Florence Briggs Th...</td>\n",
       "      <td>female</td>\n",
       "      <td>38.000</td>\n",
       "      <td>1</td>\n",
       "      <td>0</td>\n",
       "      <td>PC 17599</td>\n",
       "      <td>71.283</td>\n",
       "      <td>C85</td>\n",
       "      <td>C</td>\n",
       "      <td>1</td>\n",
       "      <td>51</td>\n",
       "      <td>7</td>\n",
       "      <td>0</td>\n",
       "      <td>Mrs</td>\n",
       "      <td>2</td>\n",
       "      <td>38.000</td>\n",
       "      <td>NO</td>\n",
       "      <td>mature</td>\n",
       "      <td>maturefemale</td>\n",
       "    </tr>\n",
       "    <tr>\n",
       "      <th>2</th>\n",
       "      <td>3</td>\n",
       "      <td>1</td>\n",
       "      <td>3</td>\n",
       "      <td>Heikkinen, Miss. Laina</td>\n",
       "      <td>female</td>\n",
       "      <td>26.000</td>\n",
       "      <td>0</td>\n",
       "      <td>0</td>\n",
       "      <td>STON/O2. 3101282</td>\n",
       "      <td>7.925</td>\n",
       "      <td>NaN</td>\n",
       "      <td>S</td>\n",
       "      <td>0</td>\n",
       "      <td>22</td>\n",
       "      <td>3</td>\n",
       "      <td>0</td>\n",
       "      <td>Miss</td>\n",
       "      <td>1</td>\n",
       "      <td>78.000</td>\n",
       "      <td>YES</td>\n",
       "      <td>mature</td>\n",
       "      <td>maturefemale</td>\n",
       "    </tr>\n",
       "    <tr>\n",
       "      <th>3</th>\n",
       "      <td>4</td>\n",
       "      <td>1</td>\n",
       "      <td>1</td>\n",
       "      <td>Futrelle, Mrs. Jacques Heath (Lily May Peel)</td>\n",
       "      <td>female</td>\n",
       "      <td>35.000</td>\n",
       "      <td>1</td>\n",
       "      <td>0</td>\n",
       "      <td>113803</td>\n",
       "      <td>53.100</td>\n",
       "      <td>C123</td>\n",
       "      <td>S</td>\n",
       "      <td>1</td>\n",
       "      <td>44</td>\n",
       "      <td>7</td>\n",
       "      <td>0</td>\n",
       "      <td>Mrs</td>\n",
       "      <td>2</td>\n",
       "      <td>35.000</td>\n",
       "      <td>NO</td>\n",
       "      <td>mature</td>\n",
       "      <td>maturefemale</td>\n",
       "    </tr>\n",
       "    <tr>\n",
       "      <th>4</th>\n",
       "      <td>5</td>\n",
       "      <td>0</td>\n",
       "      <td>3</td>\n",
       "      <td>Allen, Mr. William Henry</td>\n",
       "      <td>male</td>\n",
       "      <td>35.000</td>\n",
       "      <td>0</td>\n",
       "      <td>0</td>\n",
       "      <td>373450</td>\n",
       "      <td>8.050</td>\n",
       "      <td>NaN</td>\n",
       "      <td>S</td>\n",
       "      <td>0</td>\n",
       "      <td>24</td>\n",
       "      <td>4</td>\n",
       "      <td>0</td>\n",
       "      <td>Mr</td>\n",
       "      <td>1</td>\n",
       "      <td>105.000</td>\n",
       "      <td>YES</td>\n",
       "      <td>mature</td>\n",
       "      <td>maturemale</td>\n",
       "    </tr>\n",
       "  </tbody>\n",
       "</table>\n",
       "</div>"
      ],
      "text/plain": [
       "   PASSENGERID  SURVIVED  PCLASS                                               NAME     SEX    AGE  SIBSP  PARCH            TICKET   FARE CABIN EMBARKED  NEW_CABIN_BOOL  NEW_NAME_COUNT  NEW_NAME_WORD_COUNT  NEW_NAME_DR NEW_TITLE  NEW_FAMILY_SIZE  NEW_AGE_PCLASS NEW_IS_ALONE NEW_AGE_CAT   NEW_SEX_CAT\n",
       "0            1         0       3                            Braund, Mr. Owen Harris    male 22.000      1      0         A/5 21171  7.250   NaN        S               0              23                    4            0        Mr                2          66.000           NO      mature    maturemale\n",
       "1            2         1       1  Cumings, Mrs. John Bradley (Florence Briggs Th...  female 38.000      1      0          PC 17599 71.283   C85        C               1              51                    7            0       Mrs                2          38.000           NO      mature  maturefemale\n",
       "2            3         1       3                             Heikkinen, Miss. Laina  female 26.000      0      0  STON/O2. 3101282  7.925   NaN        S               0              22                    3            0      Miss                1          78.000          YES      mature  maturefemale\n",
       "3            4         1       1       Futrelle, Mrs. Jacques Heath (Lily May Peel)  female 35.000      1      0            113803 53.100  C123        S               1              44                    7            0       Mrs                2          35.000           NO      mature  maturefemale\n",
       "4            5         0       3                           Allen, Mr. William Henry    male 35.000      0      0            373450  8.050   NaN        S               0              24                    4            0        Mr                1         105.000          YES      mature    maturemale"
      ]
     },
     "execution_count": 18,
     "metadata": {},
     "output_type": "execute_result"
    }
   ],
   "source": [
    "df.head()"
   ]
  },
  {
   "cell_type": "code",
   "execution_count": 19,
   "metadata": {
    "pycharm": {
     "name": "#%%\n"
    }
   },
   "outputs": [
    {
     "data": {
      "text/plain": [
       "(891, 22)"
      ]
     },
     "execution_count": 19,
     "metadata": {},
     "output_type": "execute_result"
    }
   ],
   "source": [
    "df.shape"
   ]
  },
  {
   "cell_type": "code",
   "execution_count": 20,
   "metadata": {
    "pycharm": {
     "name": "#%%\n"
    }
   },
   "outputs": [
    {
     "name": "stdout",
     "output_type": "stream",
     "text": [
      "Observations: 891\n",
      "Variables: 22\n",
      "categorical_cols: 14\n",
      "numerical_cols: 5\n",
      "cardinal_cols: 3\n",
      "nominal_cols: 8\n"
     ]
    }
   ],
   "source": [
    "categorical_cols, numerical_cols, cardinal_cols,nominal_cols = grab_col_names(df)\n",
    "numerical_cols = [col for col in numerical_cols if \"PASSENGERID\" not in col]"
   ]
  },
  {
   "cell_type": "markdown",
   "metadata": {
    "pycharm": {
     "name": "#%% md\n"
    }
   },
   "source": [
    "## 5.4 Handling Outliers"
   ]
  },
  {
   "cell_type": "markdown",
   "metadata": {
    "pycharm": {
     "name": "#%% md\n"
    }
   },
   "source": [
    "### 5.4.1 Outlier Thresholds"
   ]
  },
  {
   "cell_type": "code",
   "execution_count": 21,
   "metadata": {
    "pycharm": {
     "name": "#%%\n"
    }
   },
   "outputs": [],
   "source": [
    "def outlier_thresholds(dataframe, col_name, q1 = 0.25, q3 = 0.75):\n",
    "    quartile1 = dataframe[col_name].quantile(q1)\n",
    "    quartile3 = dataframe[col_name].quantile(q3)\n",
    "    interquartile_range = quartile3 - quartile1\n",
    "    up_limit = quartile3 + (1.5 * interquartile_range)\n",
    "    low_limit = quartile1 - (1.5 * interquartile_range)\n",
    "    return low_limit, up_limit"
   ]
  },
  {
   "cell_type": "markdown",
   "metadata": {
    "pycharm": {
     "name": "#%% md\n"
    }
   },
   "source": [
    "### 5.4.2 Check Outliers"
   ]
  },
  {
   "cell_type": "code",
   "execution_count": 22,
   "metadata": {
    "pycharm": {
     "name": "#%%\n"
    }
   },
   "outputs": [],
   "source": [
    "def check_outlier(dataframe, col_name):\n",
    "    low_limit, up_limit = outlier_thresholds(dataframe, col_name)\n",
    "    if dataframe[(dataframe[col_name] > up_limit) | (dataframe[col_name] < low_limit)].any(axis=None):\n",
    "        return True\n",
    "    else:\n",
    "        return False"
   ]
  },
  {
   "cell_type": "markdown",
   "metadata": {
    "pycharm": {
     "name": "#%% md\n"
    }
   },
   "source": [
    "### 5.4.3 Replace the low, up limit with Thresholds"
   ]
  },
  {
   "cell_type": "code",
   "execution_count": 23,
   "metadata": {
    "pycharm": {
     "name": "#%%\n"
    }
   },
   "outputs": [],
   "source": [
    "def replace_with_thresholds(dataframe, variable):\n",
    "    low_limit, up_limit = outlier_thresholds(dataframe, variable)\n",
    "    dataframe.loc[(dataframe[variable] < low_limit), variable] = low_limit\n",
    "    dataframe.loc[(dataframe[variable] > up_limit), variable] = up_limit"
   ]
  },
  {
   "cell_type": "markdown",
   "metadata": {
    "pycharm": {
     "name": "#%% md\n"
    }
   },
   "source": [
    "### 5.4.4 Checking if Outlier is Cleared"
   ]
  },
  {
   "cell_type": "code",
   "execution_count": 24,
   "metadata": {
    "pycharm": {
     "name": "#%%\n"
    }
   },
   "outputs": [
    {
     "name": "stdout",
     "output_type": "stream",
     "text": [
      "AGE True\n",
      "FARE True\n",
      "NEW_NAME_COUNT True\n",
      "NEW_AGE_PCLASS True\n"
     ]
    }
   ],
   "source": [
    "for col in numerical_cols:\n",
    "    print(col, check_outlier(df, col))"
   ]
  },
  {
   "cell_type": "code",
   "execution_count": 25,
   "metadata": {
    "pycharm": {
     "name": "#%%\n"
    }
   },
   "outputs": [],
   "source": [
    "for col in numerical_cols:\n",
    "    replace_with_thresholds(df, col)"
   ]
  },
  {
   "cell_type": "code",
   "execution_count": 26,
   "metadata": {
    "pycharm": {
     "name": "#%%\n"
    }
   },
   "outputs": [
    {
     "name": "stdout",
     "output_type": "stream",
     "text": [
      "AGE False\n",
      "FARE False\n",
      "NEW_NAME_COUNT False\n",
      "NEW_AGE_PCLASS False\n"
     ]
    }
   ],
   "source": [
    "for col in numerical_cols:\n",
    "    print(col, check_outlier(df, col))"
   ]
  },
  {
   "cell_type": "markdown",
   "metadata": {
    "pycharm": {
     "name": "#%% md\n"
    }
   },
   "source": [
    "## 5.5 Handling Missing Values"
   ]
  },
  {
   "cell_type": "code",
   "execution_count": 27,
   "metadata": {
    "pycharm": {
     "name": "#%%\n"
    }
   },
   "outputs": [],
   "source": [
    "def missing_values_table(dataframe, na_name=False):\n",
    "    \n",
    "    # Column Names with Missing Values\n",
    "    na_columns = [col for col in dataframe.columns if dataframe[col].isnull().sum() > 0]\n",
    "\n",
    "    # Number of Missing Values of One Column\n",
    "    number_of_missing_values = dataframe[na_columns].isnull().sum().sort_values(ascending=False)\n",
    "    \n",
    "    # Percentage Distribution of Missing Data\n",
    "    percentage_ratio = (dataframe[na_columns].isnull().sum() / dataframe.shape[0] * 100).sort_values(ascending=False)\n",
    "    \n",
    "    # Dataframe with Missing Data\n",
    "    missing_df = pd.concat([number_of_missing_values, np.round(percentage_ratio, 2)], axis=1, keys=['number_of_missing_values', 'percentage_ratio'])\n",
    "    \n",
    "    print(missing_df, end=\"\\n\")\n",
    "\n",
    "    if na_name:\n",
    "        return na_columns"
   ]
  },
  {
   "cell_type": "code",
   "execution_count": 28,
   "metadata": {
    "pycharm": {
     "name": "#%%\n"
    }
   },
   "outputs": [
    {
     "name": "stdout",
     "output_type": "stream",
     "text": [
      "                number_of_missing_values  percentage_ratio\n",
      "CABIN                                687            77.100\n",
      "AGE                                  177            19.870\n",
      "NEW_AGE_PCLASS                       177            19.870\n",
      "NEW_AGE_CAT                          177            19.870\n",
      "NEW_SEX_CAT                          177            19.870\n",
      "EMBARKED                               2             0.220\n"
     ]
    }
   ],
   "source": [
    "missing_values_table(df)"
   ]
  },
  {
   "cell_type": "code",
   "execution_count": 29,
   "metadata": {
    "pycharm": {
     "name": "#%%\n"
    }
   },
   "outputs": [],
   "source": [
    "df.drop(\"CABIN\", inplace=True, axis=1)"
   ]
  },
  {
   "cell_type": "code",
   "execution_count": 30,
   "metadata": {
    "pycharm": {
     "name": "#%%\n"
    }
   },
   "outputs": [],
   "source": [
    "remove_cols = [\"TICKET\", \"NAME\"]\n",
    "df.drop(remove_cols, inplace=True, axis=1)"
   ]
  },
  {
   "cell_type": "code",
   "execution_count": 31,
   "metadata": {
    "pycharm": {
     "name": "#%%\n"
    }
   },
   "outputs": [],
   "source": [
    "df[\"AGE\"] = df[\"AGE\"].fillna(df.groupby(\"NEW_TITLE\")[\"AGE\"].transform(\"median\"))"
   ]
  },
  {
   "cell_type": "code",
   "execution_count": 32,
   "metadata": {
    "pycharm": {
     "name": "#%%\n"
    }
   },
   "outputs": [
    {
     "name": "stdout",
     "output_type": "stream",
     "text": [
      "                number_of_missing_values  percentage_ratio\n",
      "NEW_AGE_PCLASS                       177            19.870\n",
      "NEW_AGE_CAT                          177            19.870\n",
      "NEW_SEX_CAT                          177            19.870\n",
      "EMBARKED                               2             0.220\n"
     ]
    }
   ],
   "source": [
    "missing_values_table(df)"
   ]
  },
  {
   "cell_type": "code",
   "execution_count": 33,
   "metadata": {
    "pycharm": {
     "name": "#%%\n"
    }
   },
   "outputs": [],
   "source": [
    "df[\"NEW_AGE_PCLASS\"] = df[\"AGE\"] * df[\"PCLASS\"]"
   ]
  },
  {
   "cell_type": "code",
   "execution_count": 34,
   "metadata": {
    "pycharm": {
     "name": "#%%\n"
    }
   },
   "outputs": [],
   "source": [
    "df.loc[(df['AGE'] < 18), 'NEW_AGE_CAT'] = 'young'\n",
    "df.loc[(df['AGE'] >= 18) & (df['AGE'] < 56), 'NEW_AGE_CAT'] = 'mature'\n",
    "df.loc[(df['AGE'] >= 56), 'NEW_AGE_CAT'] = 'senior'"
   ]
  },
  {
   "cell_type": "code",
   "execution_count": 35,
   "metadata": {
    "pycharm": {
     "name": "#%%\n"
    }
   },
   "outputs": [],
   "source": [
    "df.loc[(df['SEX'] == 'male') & (df['AGE'] <= 21), 'NEW_SEX_CAT'] = 'youngmale'\n",
    "df.loc[(df['SEX'] == 'male') & (df['AGE'] > 21) & (df['AGE'] < 50), 'NEW_SEX_CAT'] = 'maturemale'\n",
    "df.loc[(df['SEX'] == 'male') & (df['AGE'] >= 50), 'NEW_SEX_CAT'] = 'seniormale'\n",
    "df.loc[(df['SEX'] == 'female') & (df['AGE'] <= 21), 'NEW_SEX_CAT'] = 'youngfemale'\n",
    "df.loc[(df['SEX'] == 'female') & (df['AGE'] > 21) & (df['AGE'] < 50), 'NEW_SEX_CAT'] = 'maturefemale'\n",
    "df.loc[(df['SEX'] == 'female') & (df['AGE'] >= 50), 'NEW_SEX_CAT'] = 'seniorfemale'"
   ]
  },
  {
   "cell_type": "code",
   "execution_count": 36,
   "metadata": {
    "pycharm": {
     "name": "#%%\n"
    }
   },
   "outputs": [
    {
     "name": "stdout",
     "output_type": "stream",
     "text": [
      "          number_of_missing_values  percentage_ratio\n",
      "EMBARKED                         2             0.220\n"
     ]
    }
   ],
   "source": [
    "missing_values_table(df)"
   ]
  },
  {
   "cell_type": "code",
   "execution_count": 37,
   "metadata": {
    "pycharm": {
     "name": "#%%\n"
    }
   },
   "outputs": [],
   "source": [
    "df = df.apply(lambda x: x.fillna(x.mode()[0]) if (x.dtype == \"O\" and len(x.unique()) <= 10) else x, axis=0)"
   ]
  },
  {
   "cell_type": "code",
   "execution_count": 38,
   "metadata": {
    "pycharm": {
     "name": "#%%\n"
    }
   },
   "outputs": [
    {
     "name": "stdout",
     "output_type": "stream",
     "text": [
      "Empty DataFrame\n",
      "Columns: [number_of_missing_values, percentage_ratio]\n",
      "Index: []\n"
     ]
    }
   ],
   "source": [
    "missing_values_table(df) # Handling Missing Values is done."
   ]
  },
  {
   "cell_type": "markdown",
   "metadata": {
    "pycharm": {
     "name": "#%% md\n"
    }
   },
   "source": [
    "## 5.6 Label Encoding"
   ]
  },
  {
   "cell_type": "code",
   "execution_count": 39,
   "metadata": {
    "pycharm": {
     "name": "#%%\n"
    }
   },
   "outputs": [],
   "source": [
    "binary_cols = [col for col in df.columns if df[col].dtype not in [\"int64\", \"float64\"]\n",
    "               and df[col].nunique() == 2]"
   ]
  },
  {
   "cell_type": "code",
   "execution_count": 40,
   "metadata": {
    "pycharm": {
     "name": "#%%\n"
    }
   },
   "outputs": [
    {
     "data": {
      "text/plain": [
       "['SEX', 'NEW_IS_ALONE']"
      ]
     },
     "execution_count": 40,
     "metadata": {},
     "output_type": "execute_result"
    }
   ],
   "source": [
    "binary_cols"
   ]
  },
  {
   "cell_type": "code",
   "execution_count": 41,
   "metadata": {
    "pycharm": {
     "name": "#%%\n"
    }
   },
   "outputs": [],
   "source": [
    "def label_encoder(dataframe, binary_col):\n",
    "    labelencoder = LabelEncoder()\n",
    "    dataframe[binary_col] = labelencoder.fit_transform(dataframe[binary_col])\n",
    "    return dataframe"
   ]
  },
  {
   "cell_type": "code",
   "execution_count": 42,
   "metadata": {
    "pycharm": {
     "name": "#%%\n"
    }
   },
   "outputs": [],
   "source": [
    "for col in binary_cols:\n",
    "    df = label_encoder(df, col)"
   ]
  },
  {
   "cell_type": "markdown",
   "metadata": {
    "pycharm": {
     "name": "#%% md\n"
    }
   },
   "source": [
    "## 5.7 Rare Encoding"
   ]
  },
  {
   "cell_type": "code",
   "execution_count": 43,
   "metadata": {
    "pycharm": {
     "name": "#%%\n"
    }
   },
   "outputs": [],
   "source": [
    "def rare_analyser(dataframe, target, cat_cols):\n",
    "    for col in categorical_cols:\n",
    "        print(col,\":\",len(dataframe[col].value_counts()))\n",
    "        print(pd.DataFrame({\"COUNT\": dataframe[col].value_counts(),\n",
    "                            \"RATIO\": dataframe[col].value_counts() / len(dataframe),\n",
    "                            \"TARGET_MEAN\": dataframe.groupby(col)[target].mean()}), end=\"\\n\\n\\n\")"
   ]
  },
  {
   "cell_type": "code",
   "execution_count": 44,
   "metadata": {
    "pycharm": {
     "name": "#%%\n"
    }
   },
   "outputs": [
    {
     "name": "stdout",
     "output_type": "stream",
     "text": [
      "SEX : 2\n",
      "   COUNT  RATIO  TARGET_MEAN\n",
      "0    314  0.352        0.742\n",
      "1    577  0.648        0.189\n",
      "\n",
      "\n",
      "EMBARKED : 3\n",
      "   COUNT  RATIO  TARGET_MEAN\n",
      "C    168  0.189        0.554\n",
      "Q     77  0.086        0.390\n",
      "S    646  0.725        0.339\n",
      "\n",
      "\n",
      "NEW_TITLE : 17\n",
      "          COUNT  RATIO  TARGET_MEAN\n",
      "Capt          1  0.001        0.000\n",
      "Col           2  0.002        0.500\n",
      "Countess      1  0.001        1.000\n",
      "Don           1  0.001        0.000\n",
      "Dr            7  0.008        0.429\n",
      "Jonkheer      1  0.001        0.000\n",
      "Lady          1  0.001        1.000\n",
      "Major         2  0.002        0.500\n",
      "Master       40  0.045        0.575\n",
      "Miss        182  0.204        0.698\n",
      "Mlle          2  0.002        1.000\n",
      "Mme           1  0.001        1.000\n",
      "Mr          517  0.580        0.157\n",
      "Mrs         125  0.140        0.792\n",
      "Ms            1  0.001        1.000\n",
      "Rev           6  0.007        0.000\n",
      "Sir           1  0.001        1.000\n",
      "\n",
      "\n",
      "NEW_IS_ALONE : 2\n",
      "   COUNT  RATIO  TARGET_MEAN\n",
      "0    354  0.397        0.506\n",
      "1    537  0.603        0.304\n",
      "\n",
      "\n",
      "NEW_AGE_CAT : 3\n",
      "        COUNT  RATIO  TARGET_MEAN\n",
      "mature    735  0.825        0.363\n",
      "senior     39  0.044        0.308\n",
      "young     117  0.131        0.538\n",
      "\n",
      "\n",
      "NEW_SEX_CAT : 6\n",
      "              COUNT  RATIO  TARGET_MEAN\n",
      "maturefemale    172  0.193        0.779\n",
      "maturemale      401  0.450        0.175\n",
      "seniorfemale     22  0.025        0.909\n",
      "seniormale       52  0.058        0.135\n",
      "youngfemale     120  0.135        0.658\n",
      "youngmale       124  0.139        0.258\n",
      "\n",
      "\n",
      "SURVIVED : 2\n",
      "   COUNT  RATIO  TARGET_MEAN\n",
      "0    549  0.616        0.000\n",
      "1    342  0.384        1.000\n",
      "\n",
      "\n",
      "PCLASS : 3\n",
      "   COUNT  RATIO  TARGET_MEAN\n",
      "1    216  0.242        0.630\n",
      "2    184  0.207        0.473\n",
      "3    491  0.551        0.242\n",
      "\n",
      "\n",
      "SIBSP : 7\n",
      "   COUNT  RATIO  TARGET_MEAN\n",
      "0    608  0.682        0.345\n",
      "1    209  0.235        0.536\n",
      "2     28  0.031        0.464\n",
      "3     16  0.018        0.250\n",
      "4     18  0.020        0.167\n",
      "5      5  0.006        0.000\n",
      "8      7  0.008        0.000\n",
      "\n",
      "\n",
      "PARCH : 7\n",
      "   COUNT  RATIO  TARGET_MEAN\n",
      "0    678  0.761        0.344\n",
      "1    118  0.132        0.551\n",
      "2     80  0.090        0.500\n",
      "3      5  0.006        0.600\n",
      "4      4  0.004        0.000\n",
      "5      5  0.006        0.200\n",
      "6      1  0.001        0.000\n",
      "\n",
      "\n",
      "NEW_CABIN_BOOL : 2\n",
      "   COUNT  RATIO  TARGET_MEAN\n",
      "0    687  0.771        0.300\n",
      "1    204  0.229        0.667\n",
      "\n",
      "\n",
      "NEW_NAME_WORD_COUNT : 8\n",
      "    COUNT  RATIO  TARGET_MEAN\n",
      "3     305  0.342        0.292\n",
      "4     388  0.435        0.340\n",
      "5      96  0.108        0.427\n",
      "6      53  0.059        0.774\n",
      "7      38  0.043        0.842\n",
      "8       9  0.010        0.556\n",
      "9       1  0.001        1.000\n",
      "14      1  0.001        1.000\n",
      "\n",
      "\n",
      "NEW_NAME_DR : 2\n",
      "   COUNT  RATIO  TARGET_MEAN\n",
      "0    881  0.989        0.383\n",
      "1     10  0.011        0.500\n",
      "\n",
      "\n",
      "NEW_FAMILY_SIZE : 9\n",
      "    COUNT  RATIO  TARGET_MEAN\n",
      "1     537  0.603        0.304\n",
      "2     161  0.181        0.553\n",
      "3     102  0.114        0.578\n",
      "4      29  0.033        0.724\n",
      "5      15  0.017        0.200\n",
      "6      22  0.025        0.136\n",
      "7      12  0.013        0.333\n",
      "8       6  0.007        0.000\n",
      "11      7  0.008        0.000\n",
      "\n",
      "\n"
     ]
    }
   ],
   "source": [
    "rare_analyser(df, \"SURVIVED\", categorical_cols)"
   ]
  },
  {
   "cell_type": "code",
   "execution_count": 45,
   "metadata": {
    "pycharm": {
     "name": "#%%\n"
    }
   },
   "outputs": [],
   "source": [
    "def rare_encoder(dataframe, rare_percentage):\n",
    "    temp_df = dataframe.copy()\n",
    "    \n",
    "    rare_columns = [col for col in temp_df.columns if temp_df[col].dtypes == \"O\" and\n",
    "                    (temp_df[col].value_counts() / len(temp_df) < rare_percentage).any(axis=None)]\n",
    "    \n",
    "    for variable in rare_columns:\n",
    "        tmp = temp_df[variable].value_counts() / len(temp_df)\n",
    "        rare_labels = tmp[tmp < rare_percentage].index\n",
    "        temp_df[variable] = np.where(temp_df[variable].isin(rare_labels), 'Rare', temp_df[variable])\n",
    "\n",
    "    return temp_df"
   ]
  },
  {
   "cell_type": "code",
   "execution_count": 46,
   "metadata": {
    "pycharm": {
     "name": "#%%\n"
    }
   },
   "outputs": [],
   "source": [
    "df = rare_encoder(df, 0.01)"
   ]
  },
  {
   "cell_type": "code",
   "execution_count": 47,
   "metadata": {
    "pycharm": {
     "name": "#%%\n"
    }
   },
   "outputs": [
    {
     "data": {
      "text/plain": [
       "Mr        517\n",
       "Miss      182\n",
       "Mrs       125\n",
       "Master     40\n",
       "Rare       27\n",
       "Name: NEW_TITLE, dtype: int64"
      ]
     },
     "execution_count": 47,
     "metadata": {},
     "output_type": "execute_result"
    }
   ],
   "source": [
    "df[\"NEW_TITLE\"].value_counts()"
   ]
  },
  {
   "cell_type": "markdown",
   "metadata": {
    "pycharm": {
     "name": "#%% md\n"
    }
   },
   "source": [
    "## 5.8 One Hot Encoding"
   ]
  },
  {
   "cell_type": "code",
   "execution_count": 48,
   "metadata": {
    "pycharm": {
     "name": "#%%\n"
    }
   },
   "outputs": [
    {
     "data": {
      "text/plain": [
       "['PCLASS',\n",
       " 'SIBSP',\n",
       " 'PARCH',\n",
       " 'EMBARKED',\n",
       " 'NEW_NAME_WORD_COUNT',\n",
       " 'NEW_TITLE',\n",
       " 'NEW_FAMILY_SIZE',\n",
       " 'NEW_AGE_CAT',\n",
       " 'NEW_SEX_CAT']"
      ]
     },
     "execution_count": 48,
     "metadata": {},
     "output_type": "execute_result"
    }
   ],
   "source": [
    "one_hot_encoding_cols = [col for col in df.columns if 10 >= df[col].nunique() > 2]\n",
    "one_hot_encoding_cols"
   ]
  },
  {
   "cell_type": "code",
   "execution_count": 49,
   "metadata": {
    "pycharm": {
     "name": "#%%\n"
    }
   },
   "outputs": [
    {
     "data": {
      "text/html": [
       "<div>\n",
       "<style scoped>\n",
       "    .dataframe tbody tr th:only-of-type {\n",
       "        vertical-align: middle;\n",
       "    }\n",
       "\n",
       "    .dataframe tbody tr th {\n",
       "        vertical-align: top;\n",
       "    }\n",
       "\n",
       "    .dataframe thead th {\n",
       "        text-align: right;\n",
       "    }\n",
       "</style>\n",
       "<table border=\"1\" class=\"dataframe\">\n",
       "  <thead>\n",
       "    <tr style=\"text-align: right;\">\n",
       "      <th></th>\n",
       "      <th>PASSENGERID</th>\n",
       "      <th>SURVIVED</th>\n",
       "      <th>SEX</th>\n",
       "      <th>AGE</th>\n",
       "      <th>FARE</th>\n",
       "      <th>NEW_CABIN_BOOL</th>\n",
       "      <th>NEW_NAME_COUNT</th>\n",
       "      <th>NEW_NAME_DR</th>\n",
       "      <th>NEW_AGE_PCLASS</th>\n",
       "      <th>NEW_IS_ALONE</th>\n",
       "      <th>PCLASS_1</th>\n",
       "      <th>PCLASS_2</th>\n",
       "      <th>PCLASS_3</th>\n",
       "      <th>SIBSP_0</th>\n",
       "      <th>SIBSP_1</th>\n",
       "      <th>SIBSP_2</th>\n",
       "      <th>SIBSP_3</th>\n",
       "      <th>SIBSP_4</th>\n",
       "      <th>SIBSP_5</th>\n",
       "      <th>SIBSP_8</th>\n",
       "      <th>PARCH_0</th>\n",
       "      <th>PARCH_1</th>\n",
       "      <th>PARCH_2</th>\n",
       "      <th>PARCH_3</th>\n",
       "      <th>PARCH_4</th>\n",
       "      <th>PARCH_5</th>\n",
       "      <th>PARCH_6</th>\n",
       "      <th>EMBARKED_C</th>\n",
       "      <th>EMBARKED_Q</th>\n",
       "      <th>EMBARKED_S</th>\n",
       "      <th>NEW_NAME_WORD_COUNT_3</th>\n",
       "      <th>NEW_NAME_WORD_COUNT_4</th>\n",
       "      <th>NEW_NAME_WORD_COUNT_5</th>\n",
       "      <th>NEW_NAME_WORD_COUNT_6</th>\n",
       "      <th>NEW_NAME_WORD_COUNT_7</th>\n",
       "      <th>NEW_NAME_WORD_COUNT_8</th>\n",
       "      <th>NEW_NAME_WORD_COUNT_9</th>\n",
       "      <th>NEW_NAME_WORD_COUNT_14</th>\n",
       "      <th>NEW_TITLE_Master</th>\n",
       "      <th>NEW_TITLE_Miss</th>\n",
       "      <th>NEW_TITLE_Mr</th>\n",
       "      <th>NEW_TITLE_Mrs</th>\n",
       "      <th>NEW_TITLE_Rare</th>\n",
       "      <th>NEW_FAMILY_SIZE_1</th>\n",
       "      <th>NEW_FAMILY_SIZE_2</th>\n",
       "      <th>NEW_FAMILY_SIZE_3</th>\n",
       "      <th>NEW_FAMILY_SIZE_4</th>\n",
       "      <th>NEW_FAMILY_SIZE_5</th>\n",
       "      <th>NEW_FAMILY_SIZE_6</th>\n",
       "      <th>NEW_FAMILY_SIZE_7</th>\n",
       "      <th>NEW_FAMILY_SIZE_8</th>\n",
       "      <th>NEW_FAMILY_SIZE_11</th>\n",
       "      <th>NEW_AGE_CAT_mature</th>\n",
       "      <th>NEW_AGE_CAT_senior</th>\n",
       "      <th>NEW_AGE_CAT_young</th>\n",
       "      <th>NEW_SEX_CAT_maturefemale</th>\n",
       "      <th>NEW_SEX_CAT_maturemale</th>\n",
       "      <th>NEW_SEX_CAT_seniorfemale</th>\n",
       "      <th>NEW_SEX_CAT_seniormale</th>\n",
       "      <th>NEW_SEX_CAT_youngfemale</th>\n",
       "      <th>NEW_SEX_CAT_youngmale</th>\n",
       "    </tr>\n",
       "  </thead>\n",
       "  <tbody>\n",
       "    <tr>\n",
       "      <th>0</th>\n",
       "      <td>1</td>\n",
       "      <td>0</td>\n",
       "      <td>1</td>\n",
       "      <td>22.000</td>\n",
       "      <td>7.250</td>\n",
       "      <td>0</td>\n",
       "      <td>23</td>\n",
       "      <td>0</td>\n",
       "      <td>66.000</td>\n",
       "      <td>0</td>\n",
       "      <td>0</td>\n",
       "      <td>0</td>\n",
       "      <td>1</td>\n",
       "      <td>0</td>\n",
       "      <td>1</td>\n",
       "      <td>0</td>\n",
       "      <td>0</td>\n",
       "      <td>0</td>\n",
       "      <td>0</td>\n",
       "      <td>0</td>\n",
       "      <td>1</td>\n",
       "      <td>0</td>\n",
       "      <td>0</td>\n",
       "      <td>0</td>\n",
       "      <td>0</td>\n",
       "      <td>0</td>\n",
       "      <td>0</td>\n",
       "      <td>0</td>\n",
       "      <td>0</td>\n",
       "      <td>1</td>\n",
       "      <td>0</td>\n",
       "      <td>1</td>\n",
       "      <td>0</td>\n",
       "      <td>0</td>\n",
       "      <td>0</td>\n",
       "      <td>0</td>\n",
       "      <td>0</td>\n",
       "      <td>0</td>\n",
       "      <td>0</td>\n",
       "      <td>0</td>\n",
       "      <td>1</td>\n",
       "      <td>0</td>\n",
       "      <td>0</td>\n",
       "      <td>0</td>\n",
       "      <td>1</td>\n",
       "      <td>0</td>\n",
       "      <td>0</td>\n",
       "      <td>0</td>\n",
       "      <td>0</td>\n",
       "      <td>0</td>\n",
       "      <td>0</td>\n",
       "      <td>0</td>\n",
       "      <td>1</td>\n",
       "      <td>0</td>\n",
       "      <td>0</td>\n",
       "      <td>0</td>\n",
       "      <td>1</td>\n",
       "      <td>0</td>\n",
       "      <td>0</td>\n",
       "      <td>0</td>\n",
       "      <td>0</td>\n",
       "    </tr>\n",
       "    <tr>\n",
       "      <th>1</th>\n",
       "      <td>2</td>\n",
       "      <td>1</td>\n",
       "      <td>0</td>\n",
       "      <td>38.000</td>\n",
       "      <td>65.634</td>\n",
       "      <td>1</td>\n",
       "      <td>45</td>\n",
       "      <td>0</td>\n",
       "      <td>38.000</td>\n",
       "      <td>0</td>\n",
       "      <td>1</td>\n",
       "      <td>0</td>\n",
       "      <td>0</td>\n",
       "      <td>0</td>\n",
       "      <td>1</td>\n",
       "      <td>0</td>\n",
       "      <td>0</td>\n",
       "      <td>0</td>\n",
       "      <td>0</td>\n",
       "      <td>0</td>\n",
       "      <td>1</td>\n",
       "      <td>0</td>\n",
       "      <td>0</td>\n",
       "      <td>0</td>\n",
       "      <td>0</td>\n",
       "      <td>0</td>\n",
       "      <td>0</td>\n",
       "      <td>1</td>\n",
       "      <td>0</td>\n",
       "      <td>0</td>\n",
       "      <td>0</td>\n",
       "      <td>0</td>\n",
       "      <td>0</td>\n",
       "      <td>0</td>\n",
       "      <td>1</td>\n",
       "      <td>0</td>\n",
       "      <td>0</td>\n",
       "      <td>0</td>\n",
       "      <td>0</td>\n",
       "      <td>0</td>\n",
       "      <td>0</td>\n",
       "      <td>1</td>\n",
       "      <td>0</td>\n",
       "      <td>0</td>\n",
       "      <td>1</td>\n",
       "      <td>0</td>\n",
       "      <td>0</td>\n",
       "      <td>0</td>\n",
       "      <td>0</td>\n",
       "      <td>0</td>\n",
       "      <td>0</td>\n",
       "      <td>0</td>\n",
       "      <td>1</td>\n",
       "      <td>0</td>\n",
       "      <td>0</td>\n",
       "      <td>1</td>\n",
       "      <td>0</td>\n",
       "      <td>0</td>\n",
       "      <td>0</td>\n",
       "      <td>0</td>\n",
       "      <td>0</td>\n",
       "    </tr>\n",
       "    <tr>\n",
       "      <th>2</th>\n",
       "      <td>3</td>\n",
       "      <td>1</td>\n",
       "      <td>0</td>\n",
       "      <td>26.000</td>\n",
       "      <td>7.925</td>\n",
       "      <td>0</td>\n",
       "      <td>22</td>\n",
       "      <td>0</td>\n",
       "      <td>78.000</td>\n",
       "      <td>1</td>\n",
       "      <td>0</td>\n",
       "      <td>0</td>\n",
       "      <td>1</td>\n",
       "      <td>1</td>\n",
       "      <td>0</td>\n",
       "      <td>0</td>\n",
       "      <td>0</td>\n",
       "      <td>0</td>\n",
       "      <td>0</td>\n",
       "      <td>0</td>\n",
       "      <td>1</td>\n",
       "      <td>0</td>\n",
       "      <td>0</td>\n",
       "      <td>0</td>\n",
       "      <td>0</td>\n",
       "      <td>0</td>\n",
       "      <td>0</td>\n",
       "      <td>0</td>\n",
       "      <td>0</td>\n",
       "      <td>1</td>\n",
       "      <td>1</td>\n",
       "      <td>0</td>\n",
       "      <td>0</td>\n",
       "      <td>0</td>\n",
       "      <td>0</td>\n",
       "      <td>0</td>\n",
       "      <td>0</td>\n",
       "      <td>0</td>\n",
       "      <td>0</td>\n",
       "      <td>1</td>\n",
       "      <td>0</td>\n",
       "      <td>0</td>\n",
       "      <td>0</td>\n",
       "      <td>1</td>\n",
       "      <td>0</td>\n",
       "      <td>0</td>\n",
       "      <td>0</td>\n",
       "      <td>0</td>\n",
       "      <td>0</td>\n",
       "      <td>0</td>\n",
       "      <td>0</td>\n",
       "      <td>0</td>\n",
       "      <td>1</td>\n",
       "      <td>0</td>\n",
       "      <td>0</td>\n",
       "      <td>1</td>\n",
       "      <td>0</td>\n",
       "      <td>0</td>\n",
       "      <td>0</td>\n",
       "      <td>0</td>\n",
       "      <td>0</td>\n",
       "    </tr>\n",
       "    <tr>\n",
       "      <th>3</th>\n",
       "      <td>4</td>\n",
       "      <td>1</td>\n",
       "      <td>0</td>\n",
       "      <td>35.000</td>\n",
       "      <td>53.100</td>\n",
       "      <td>1</td>\n",
       "      <td>44</td>\n",
       "      <td>0</td>\n",
       "      <td>35.000</td>\n",
       "      <td>0</td>\n",
       "      <td>1</td>\n",
       "      <td>0</td>\n",
       "      <td>0</td>\n",
       "      <td>0</td>\n",
       "      <td>1</td>\n",
       "      <td>0</td>\n",
       "      <td>0</td>\n",
       "      <td>0</td>\n",
       "      <td>0</td>\n",
       "      <td>0</td>\n",
       "      <td>1</td>\n",
       "      <td>0</td>\n",
       "      <td>0</td>\n",
       "      <td>0</td>\n",
       "      <td>0</td>\n",
       "      <td>0</td>\n",
       "      <td>0</td>\n",
       "      <td>0</td>\n",
       "      <td>0</td>\n",
       "      <td>1</td>\n",
       "      <td>0</td>\n",
       "      <td>0</td>\n",
       "      <td>0</td>\n",
       "      <td>0</td>\n",
       "      <td>1</td>\n",
       "      <td>0</td>\n",
       "      <td>0</td>\n",
       "      <td>0</td>\n",
       "      <td>0</td>\n",
       "      <td>0</td>\n",
       "      <td>0</td>\n",
       "      <td>1</td>\n",
       "      <td>0</td>\n",
       "      <td>0</td>\n",
       "      <td>1</td>\n",
       "      <td>0</td>\n",
       "      <td>0</td>\n",
       "      <td>0</td>\n",
       "      <td>0</td>\n",
       "      <td>0</td>\n",
       "      <td>0</td>\n",
       "      <td>0</td>\n",
       "      <td>1</td>\n",
       "      <td>0</td>\n",
       "      <td>0</td>\n",
       "      <td>1</td>\n",
       "      <td>0</td>\n",
       "      <td>0</td>\n",
       "      <td>0</td>\n",
       "      <td>0</td>\n",
       "      <td>0</td>\n",
       "    </tr>\n",
       "    <tr>\n",
       "      <th>4</th>\n",
       "      <td>5</td>\n",
       "      <td>0</td>\n",
       "      <td>1</td>\n",
       "      <td>35.000</td>\n",
       "      <td>8.050</td>\n",
       "      <td>0</td>\n",
       "      <td>24</td>\n",
       "      <td>0</td>\n",
       "      <td>105.000</td>\n",
       "      <td>1</td>\n",
       "      <td>0</td>\n",
       "      <td>0</td>\n",
       "      <td>1</td>\n",
       "      <td>1</td>\n",
       "      <td>0</td>\n",
       "      <td>0</td>\n",
       "      <td>0</td>\n",
       "      <td>0</td>\n",
       "      <td>0</td>\n",
       "      <td>0</td>\n",
       "      <td>1</td>\n",
       "      <td>0</td>\n",
       "      <td>0</td>\n",
       "      <td>0</td>\n",
       "      <td>0</td>\n",
       "      <td>0</td>\n",
       "      <td>0</td>\n",
       "      <td>0</td>\n",
       "      <td>0</td>\n",
       "      <td>1</td>\n",
       "      <td>0</td>\n",
       "      <td>1</td>\n",
       "      <td>0</td>\n",
       "      <td>0</td>\n",
       "      <td>0</td>\n",
       "      <td>0</td>\n",
       "      <td>0</td>\n",
       "      <td>0</td>\n",
       "      <td>0</td>\n",
       "      <td>0</td>\n",
       "      <td>1</td>\n",
       "      <td>0</td>\n",
       "      <td>0</td>\n",
       "      <td>1</td>\n",
       "      <td>0</td>\n",
       "      <td>0</td>\n",
       "      <td>0</td>\n",
       "      <td>0</td>\n",
       "      <td>0</td>\n",
       "      <td>0</td>\n",
       "      <td>0</td>\n",
       "      <td>0</td>\n",
       "      <td>1</td>\n",
       "      <td>0</td>\n",
       "      <td>0</td>\n",
       "      <td>0</td>\n",
       "      <td>1</td>\n",
       "      <td>0</td>\n",
       "      <td>0</td>\n",
       "      <td>0</td>\n",
       "      <td>0</td>\n",
       "    </tr>\n",
       "  </tbody>\n",
       "</table>\n",
       "</div>"
      ],
      "text/plain": [
       "   PASSENGERID  SURVIVED  SEX    AGE   FARE  NEW_CABIN_BOOL  NEW_NAME_COUNT  NEW_NAME_DR  NEW_AGE_PCLASS  NEW_IS_ALONE  PCLASS_1  PCLASS_2  PCLASS_3  SIBSP_0  SIBSP_1  SIBSP_2  SIBSP_3  SIBSP_4  SIBSP_5  SIBSP_8  PARCH_0  PARCH_1  PARCH_2  PARCH_3  PARCH_4  PARCH_5  PARCH_6  EMBARKED_C  EMBARKED_Q  EMBARKED_S  NEW_NAME_WORD_COUNT_3  NEW_NAME_WORD_COUNT_4  NEW_NAME_WORD_COUNT_5  NEW_NAME_WORD_COUNT_6  NEW_NAME_WORD_COUNT_7  NEW_NAME_WORD_COUNT_8  NEW_NAME_WORD_COUNT_9  NEW_NAME_WORD_COUNT_14  \\\n",
       "0            1         0    1 22.000  7.250               0              23            0          66.000             0         0         0         1        0        1        0        0        0        0        0        1        0        0        0        0        0        0           0           0           1                      0                      1                      0                      0                      0                      0                      0                       0   \n",
       "1            2         1    0 38.000 65.634               1              45            0          38.000             0         1         0         0        0        1        0        0        0        0        0        1        0        0        0        0        0        0           1           0           0                      0                      0                      0                      0                      1                      0                      0                       0   \n",
       "2            3         1    0 26.000  7.925               0              22            0          78.000             1         0         0         1        1        0        0        0        0        0        0        1        0        0        0        0        0        0           0           0           1                      1                      0                      0                      0                      0                      0                      0                       0   \n",
       "3            4         1    0 35.000 53.100               1              44            0          35.000             0         1         0         0        0        1        0        0        0        0        0        1        0        0        0        0        0        0           0           0           1                      0                      0                      0                      0                      1                      0                      0                       0   \n",
       "4            5         0    1 35.000  8.050               0              24            0         105.000             1         0         0         1        1        0        0        0        0        0        0        1        0        0        0        0        0        0           0           0           1                      0                      1                      0                      0                      0                      0                      0                       0   \n",
       "\n",
       "   NEW_TITLE_Master  NEW_TITLE_Miss  NEW_TITLE_Mr  NEW_TITLE_Mrs  NEW_TITLE_Rare  NEW_FAMILY_SIZE_1  NEW_FAMILY_SIZE_2  NEW_FAMILY_SIZE_3  NEW_FAMILY_SIZE_4  NEW_FAMILY_SIZE_5  NEW_FAMILY_SIZE_6  NEW_FAMILY_SIZE_7  NEW_FAMILY_SIZE_8  NEW_FAMILY_SIZE_11  NEW_AGE_CAT_mature  NEW_AGE_CAT_senior  NEW_AGE_CAT_young  NEW_SEX_CAT_maturefemale  NEW_SEX_CAT_maturemale  NEW_SEX_CAT_seniorfemale  NEW_SEX_CAT_seniormale  NEW_SEX_CAT_youngfemale  NEW_SEX_CAT_youngmale  \n",
       "0                 0               0             1              0               0                  0                  1                  0                  0                  0                  0                  0                  0                   0                   1                   0                  0                         0                       1                         0                       0                        0                      0  \n",
       "1                 0               0             0              1               0                  0                  1                  0                  0                  0                  0                  0                  0                   0                   1                   0                  0                         1                       0                         0                       0                        0                      0  \n",
       "2                 0               1             0              0               0                  1                  0                  0                  0                  0                  0                  0                  0                   0                   1                   0                  0                         1                       0                         0                       0                        0                      0  \n",
       "3                 0               0             0              1               0                  0                  1                  0                  0                  0                  0                  0                  0                   0                   1                   0                  0                         1                       0                         0                       0                        0                      0  \n",
       "4                 0               0             1              0               0                  1                  0                  0                  0                  0                  0                  0                  0                   0                   1                   0                  0                         0                       1                         0                       0                        0                      0  "
      ]
     },
     "execution_count": 49,
     "metadata": {},
     "output_type": "execute_result"
    }
   ],
   "source": [
    "def one_hot_encoder(dataframe, categorical_cols, drop_first=False):\n",
    "    dataframe = pd.get_dummies(dataframe, columns=categorical_cols, drop_first=drop_first)\n",
    "    return dataframe\n",
    "\n",
    "df = one_hot_encoder(df, one_hot_encoding_cols)\n",
    "df.head()"
   ]
  },
  {
   "cell_type": "code",
   "execution_count": 50,
   "metadata": {
    "pycharm": {
     "name": "#%%\n"
    }
   },
   "outputs": [
    {
     "data": {
      "text/plain": [
       "(891, 61)"
      ]
     },
     "execution_count": 50,
     "metadata": {},
     "output_type": "execute_result"
    }
   ],
   "source": [
    "df.shape"
   ]
  },
  {
   "cell_type": "code",
   "execution_count": 51,
   "metadata": {
    "pycharm": {
     "name": "#%%\n"
    }
   },
   "outputs": [
    {
     "name": "stdout",
     "output_type": "stream",
     "text": [
      "Observations: 891\n",
      "Variables: 61\n",
      "categorical_cols: 56\n",
      "numerical_cols: 5\n",
      "cardinal_cols: 0\n",
      "nominal_cols: 56\n"
     ]
    }
   ],
   "source": [
    "categorical_cols, numerical_cols, cardinal_cols,nominal_cols = grab_col_names(df)"
   ]
  },
  {
   "cell_type": "code",
   "execution_count": 52,
   "metadata": {
    "pycharm": {
     "name": "#%%\n"
    }
   },
   "outputs": [],
   "source": [
    "numerical_cols = [col for col in numerical_cols if \"PASSENGERID\" not in col]"
   ]
  },
  {
   "cell_type": "code",
   "execution_count": 53,
   "metadata": {
    "pycharm": {
     "name": "#%%\n"
    }
   },
   "outputs": [
    {
     "data": {
      "text/plain": [
       "['AGE', 'FARE', 'NEW_NAME_COUNT', 'NEW_AGE_PCLASS']"
      ]
     },
     "execution_count": 53,
     "metadata": {},
     "output_type": "execute_result"
    }
   ],
   "source": [
    "numerical_cols"
   ]
  },
  {
   "cell_type": "code",
   "execution_count": 54,
   "metadata": {
    "pycharm": {
     "name": "#%%\n"
    }
   },
   "outputs": [
    {
     "name": "stdout",
     "output_type": "stream",
     "text": [
      "SURVIVED : 2\n",
      "   COUNT  RATIO  TARGET_MEAN\n",
      "0    549  0.616        0.000\n",
      "1    342  0.384        1.000\n",
      "\n",
      "\n",
      "SEX : 2\n",
      "   COUNT  RATIO  TARGET_MEAN\n",
      "0    314  0.352        0.742\n",
      "1    577  0.648        0.189\n",
      "\n",
      "\n",
      "NEW_CABIN_BOOL : 2\n",
      "   COUNT  RATIO  TARGET_MEAN\n",
      "0    687  0.771        0.300\n",
      "1    204  0.229        0.667\n",
      "\n",
      "\n",
      "NEW_NAME_DR : 2\n",
      "   COUNT  RATIO  TARGET_MEAN\n",
      "0    881  0.989        0.383\n",
      "1     10  0.011        0.500\n",
      "\n",
      "\n",
      "NEW_IS_ALONE : 2\n",
      "   COUNT  RATIO  TARGET_MEAN\n",
      "0    354  0.397        0.506\n",
      "1    537  0.603        0.304\n",
      "\n",
      "\n",
      "PCLASS_1 : 2\n",
      "   COUNT  RATIO  TARGET_MEAN\n",
      "0    675  0.758        0.305\n",
      "1    216  0.242        0.630\n",
      "\n",
      "\n",
      "PCLASS_2 : 2\n",
      "   COUNT  RATIO  TARGET_MEAN\n",
      "0    707  0.793        0.361\n",
      "1    184  0.207        0.473\n",
      "\n",
      "\n",
      "PCLASS_3 : 2\n",
      "   COUNT  RATIO  TARGET_MEAN\n",
      "0    400  0.449        0.557\n",
      "1    491  0.551        0.242\n",
      "\n",
      "\n",
      "SIBSP_0 : 2\n",
      "   COUNT  RATIO  TARGET_MEAN\n",
      "0    283  0.318        0.466\n",
      "1    608  0.682        0.345\n",
      "\n",
      "\n",
      "SIBSP_1 : 2\n",
      "   COUNT  RATIO  TARGET_MEAN\n",
      "0    682  0.765        0.337\n",
      "1    209  0.235        0.536\n",
      "\n",
      "\n",
      "SIBSP_2 : 2\n",
      "   COUNT  RATIO  TARGET_MEAN\n",
      "0    863  0.969        0.381\n",
      "1     28  0.031        0.464\n",
      "\n",
      "\n",
      "SIBSP_3 : 2\n",
      "   COUNT  RATIO  TARGET_MEAN\n",
      "0    875  0.982        0.386\n",
      "1     16  0.018        0.250\n",
      "\n",
      "\n",
      "SIBSP_4 : 2\n",
      "   COUNT  RATIO  TARGET_MEAN\n",
      "0    873  0.980        0.388\n",
      "1     18  0.020        0.167\n",
      "\n",
      "\n",
      "SIBSP_5 : 2\n",
      "   COUNT  RATIO  TARGET_MEAN\n",
      "0    886  0.994        0.386\n",
      "1      5  0.006        0.000\n",
      "\n",
      "\n",
      "SIBSP_8 : 2\n",
      "   COUNT  RATIO  TARGET_MEAN\n",
      "0    884  0.992        0.387\n",
      "1      7  0.008        0.000\n",
      "\n",
      "\n",
      "PARCH_0 : 2\n",
      "   COUNT  RATIO  TARGET_MEAN\n",
      "0    213  0.239        0.512\n",
      "1    678  0.761        0.344\n",
      "\n",
      "\n",
      "PARCH_1 : 2\n",
      "   COUNT  RATIO  TARGET_MEAN\n",
      "0    773  0.868        0.358\n",
      "1    118  0.132        0.551\n",
      "\n",
      "\n",
      "PARCH_2 : 2\n",
      "   COUNT  RATIO  TARGET_MEAN\n",
      "0    811  0.910        0.372\n",
      "1     80  0.090        0.500\n",
      "\n",
      "\n",
      "PARCH_3 : 2\n",
      "   COUNT  RATIO  TARGET_MEAN\n",
      "0    886  0.994        0.383\n",
      "1      5  0.006        0.600\n",
      "\n",
      "\n",
      "PARCH_4 : 2\n",
      "   COUNT  RATIO  TARGET_MEAN\n",
      "0    887  0.996        0.386\n",
      "1      4  0.004        0.000\n",
      "\n",
      "\n",
      "PARCH_5 : 2\n",
      "   COUNT  RATIO  TARGET_MEAN\n",
      "0    886  0.994        0.385\n",
      "1      5  0.006        0.200\n",
      "\n",
      "\n",
      "PARCH_6 : 2\n",
      "   COUNT  RATIO  TARGET_MEAN\n",
      "0    890  0.999        0.384\n",
      "1      1  0.001        0.000\n",
      "\n",
      "\n",
      "EMBARKED_C : 2\n",
      "   COUNT  RATIO  TARGET_MEAN\n",
      "0    723  0.811        0.344\n",
      "1    168  0.189        0.554\n",
      "\n",
      "\n",
      "EMBARKED_Q : 2\n",
      "   COUNT  RATIO  TARGET_MEAN\n",
      "0    814  0.914        0.383\n",
      "1     77  0.086        0.390\n",
      "\n",
      "\n",
      "EMBARKED_S : 2\n",
      "   COUNT  RATIO  TARGET_MEAN\n",
      "0    245  0.275        0.502\n",
      "1    646  0.725        0.339\n",
      "\n",
      "\n",
      "NEW_NAME_WORD_COUNT_3 : 2\n",
      "   COUNT  RATIO  TARGET_MEAN\n",
      "0    586  0.658        0.432\n",
      "1    305  0.342        0.292\n",
      "\n",
      "\n",
      "NEW_NAME_WORD_COUNT_4 : 2\n",
      "   COUNT  RATIO  TARGET_MEAN\n",
      "0    503  0.565        0.417\n",
      "1    388  0.435        0.340\n",
      "\n",
      "\n",
      "NEW_NAME_WORD_COUNT_5 : 2\n",
      "   COUNT  RATIO  TARGET_MEAN\n",
      "0    795  0.892        0.379\n",
      "1     96  0.108        0.427\n",
      "\n",
      "\n",
      "NEW_NAME_WORD_COUNT_6 : 2\n",
      "   COUNT  RATIO  TARGET_MEAN\n",
      "0    838  0.941        0.359\n",
      "1     53  0.059        0.774\n",
      "\n",
      "\n",
      "NEW_NAME_WORD_COUNT_7 : 2\n",
      "   COUNT  RATIO  TARGET_MEAN\n",
      "0    853  0.957        0.363\n",
      "1     38  0.043        0.842\n",
      "\n",
      "\n",
      "NEW_NAME_WORD_COUNT_8 : 2\n",
      "   COUNT  RATIO  TARGET_MEAN\n",
      "0    882  0.990        0.382\n",
      "1      9  0.010        0.556\n",
      "\n",
      "\n",
      "NEW_NAME_WORD_COUNT_9 : 2\n",
      "   COUNT  RATIO  TARGET_MEAN\n",
      "0    890  0.999        0.383\n",
      "1      1  0.001        1.000\n",
      "\n",
      "\n",
      "NEW_NAME_WORD_COUNT_14 : 2\n",
      "   COUNT  RATIO  TARGET_MEAN\n",
      "0    890  0.999        0.383\n",
      "1      1  0.001        1.000\n",
      "\n",
      "\n",
      "NEW_TITLE_Master : 2\n",
      "   COUNT  RATIO  TARGET_MEAN\n",
      "0    851  0.955        0.375\n",
      "1     40  0.045        0.575\n",
      "\n",
      "\n",
      "NEW_TITLE_Miss : 2\n",
      "   COUNT  RATIO  TARGET_MEAN\n",
      "0    709  0.796        0.303\n",
      "1    182  0.204        0.698\n",
      "\n",
      "\n",
      "NEW_TITLE_Mr : 2\n",
      "   COUNT  RATIO  TARGET_MEAN\n",
      "0    374  0.420        0.698\n",
      "1    517  0.580        0.157\n",
      "\n",
      "\n",
      "NEW_TITLE_Mrs : 2\n",
      "   COUNT  RATIO  TARGET_MEAN\n",
      "0    766  0.860        0.317\n",
      "1    125  0.140        0.792\n",
      "\n",
      "\n",
      "NEW_TITLE_Rare : 2\n",
      "   COUNT  RATIO  TARGET_MEAN\n",
      "0    864  0.970        0.382\n",
      "1     27  0.030        0.444\n",
      "\n",
      "\n",
      "NEW_FAMILY_SIZE_1 : 2\n",
      "   COUNT  RATIO  TARGET_MEAN\n",
      "0    354  0.397        0.506\n",
      "1    537  0.603        0.304\n",
      "\n",
      "\n",
      "NEW_FAMILY_SIZE_2 : 2\n",
      "   COUNT  RATIO  TARGET_MEAN\n",
      "0    730  0.819        0.347\n",
      "1    161  0.181        0.553\n",
      "\n",
      "\n",
      "NEW_FAMILY_SIZE_3 : 2\n",
      "   COUNT  RATIO  TARGET_MEAN\n",
      "0    789  0.886        0.359\n",
      "1    102  0.114        0.578\n",
      "\n",
      "\n",
      "NEW_FAMILY_SIZE_4 : 2\n",
      "   COUNT  RATIO  TARGET_MEAN\n",
      "0    862  0.967        0.372\n",
      "1     29  0.033        0.724\n",
      "\n",
      "\n",
      "NEW_FAMILY_SIZE_5 : 2\n",
      "   COUNT  RATIO  TARGET_MEAN\n",
      "0    876  0.983        0.387\n",
      "1     15  0.017        0.200\n",
      "\n",
      "\n",
      "NEW_FAMILY_SIZE_6 : 2\n",
      "   COUNT  RATIO  TARGET_MEAN\n",
      "0    869  0.975        0.390\n",
      "1     22  0.025        0.136\n",
      "\n",
      "\n",
      "NEW_FAMILY_SIZE_7 : 2\n",
      "   COUNT  RATIO  TARGET_MEAN\n",
      "0    879  0.987        0.385\n",
      "1     12  0.013        0.333\n",
      "\n",
      "\n",
      "NEW_FAMILY_SIZE_8 : 2\n",
      "   COUNT  RATIO  TARGET_MEAN\n",
      "0    885  0.993        0.386\n",
      "1      6  0.007        0.000\n",
      "\n",
      "\n",
      "NEW_FAMILY_SIZE_11 : 2\n",
      "   COUNT  RATIO  TARGET_MEAN\n",
      "0    884  0.992        0.387\n",
      "1      7  0.008        0.000\n",
      "\n",
      "\n",
      "NEW_AGE_CAT_mature : 2\n",
      "   COUNT  RATIO  TARGET_MEAN\n",
      "0    156  0.175        0.481\n",
      "1    735  0.825        0.363\n",
      "\n",
      "\n",
      "NEW_AGE_CAT_senior : 2\n",
      "   COUNT  RATIO  TARGET_MEAN\n",
      "0    852  0.956        0.387\n",
      "1     39  0.044        0.308\n",
      "\n",
      "\n",
      "NEW_AGE_CAT_young : 2\n",
      "   COUNT  RATIO  TARGET_MEAN\n",
      "0    774  0.869        0.360\n",
      "1    117  0.131        0.538\n",
      "\n",
      "\n",
      "NEW_SEX_CAT_maturefemale : 2\n",
      "   COUNT  RATIO  TARGET_MEAN\n",
      "0    719  0.807        0.289\n",
      "1    172  0.193        0.779\n",
      "\n",
      "\n",
      "NEW_SEX_CAT_maturemale : 2\n",
      "   COUNT  RATIO  TARGET_MEAN\n",
      "0    490  0.550        0.555\n",
      "1    401  0.450        0.175\n",
      "\n",
      "\n",
      "NEW_SEX_CAT_seniorfemale : 2\n",
      "   COUNT  RATIO  TARGET_MEAN\n",
      "0    869  0.975        0.371\n",
      "1     22  0.025        0.909\n",
      "\n",
      "\n",
      "NEW_SEX_CAT_seniormale : 2\n",
      "   COUNT  RATIO  TARGET_MEAN\n",
      "0    839  0.942        0.399\n",
      "1     52  0.058        0.135\n",
      "\n",
      "\n",
      "NEW_SEX_CAT_youngfemale : 2\n",
      "   COUNT  RATIO  TARGET_MEAN\n",
      "0    771  0.865        0.341\n",
      "1    120  0.135        0.658\n",
      "\n",
      "\n",
      "NEW_SEX_CAT_youngmale : 2\n",
      "   COUNT  RATIO  TARGET_MEAN\n",
      "0    767  0.861        0.404\n",
      "1    124  0.139        0.258\n",
      "\n",
      "\n"
     ]
    }
   ],
   "source": [
    "rare_analyser(df, \"SURVIVED\", categorical_cols)"
   ]
  },
  {
   "cell_type": "code",
   "execution_count": 55,
   "metadata": {
    "pycharm": {
     "name": "#%%\n"
    }
   },
   "outputs": [
    {
     "data": {
      "text/plain": [
       "['SIBSP_5',\n",
       " 'SIBSP_8',\n",
       " 'PARCH_3',\n",
       " 'PARCH_4',\n",
       " 'PARCH_5',\n",
       " 'PARCH_6',\n",
       " 'NEW_NAME_WORD_COUNT_9',\n",
       " 'NEW_NAME_WORD_COUNT_14',\n",
       " 'NEW_FAMILY_SIZE_8',\n",
       " 'NEW_FAMILY_SIZE_11']"
      ]
     },
     "execution_count": 55,
     "metadata": {},
     "output_type": "execute_result"
    }
   ],
   "source": [
    "useless_cols = [col for col in df.columns if df[col].nunique() == 2 and\n",
    "                (df[col].value_counts() / len(df) < 0.01).any(axis=None)]\n",
    "\n",
    "useless_cols"
   ]
  },
  {
   "cell_type": "code",
   "execution_count": 56,
   "metadata": {
    "pycharm": {
     "name": "#%%\n"
    }
   },
   "outputs": [],
   "source": [
    "#df.drop(useless_cols, axis=1, inplace=True)"
   ]
  },
  {
   "cell_type": "markdown",
   "metadata": {
    "pycharm": {
     "name": "#%% md\n"
    }
   },
   "source": [
    "## 5.9 Standard Scaler Processing"
   ]
  },
  {
   "cell_type": "code",
   "execution_count": 57,
   "metadata": {
    "pycharm": {
     "name": "#%%\n"
    }
   },
   "outputs": [
    {
     "data": {
      "text/html": [
       "<div>\n",
       "<style scoped>\n",
       "    .dataframe tbody tr th:only-of-type {\n",
       "        vertical-align: middle;\n",
       "    }\n",
       "\n",
       "    .dataframe tbody tr th {\n",
       "        vertical-align: top;\n",
       "    }\n",
       "\n",
       "    .dataframe thead th {\n",
       "        text-align: right;\n",
       "    }\n",
       "</style>\n",
       "<table border=\"1\" class=\"dataframe\">\n",
       "  <thead>\n",
       "    <tr style=\"text-align: right;\">\n",
       "      <th></th>\n",
       "      <th>AGE</th>\n",
       "      <th>FARE</th>\n",
       "      <th>NEW_NAME_COUNT</th>\n",
       "      <th>NEW_AGE_PCLASS</th>\n",
       "    </tr>\n",
       "  </thead>\n",
       "  <tbody>\n",
       "    <tr>\n",
       "      <th>0</th>\n",
       "      <td>-0.561</td>\n",
       "      <td>-0.821</td>\n",
       "      <td>-0.437</td>\n",
       "      <td>0.066</td>\n",
       "    </tr>\n",
       "    <tr>\n",
       "      <th>1</th>\n",
       "      <td>0.663</td>\n",
       "      <td>2.032</td>\n",
       "      <td>2.248</td>\n",
       "      <td>-0.790</td>\n",
       "    </tr>\n",
       "    <tr>\n",
       "      <th>2</th>\n",
       "      <td>-0.255</td>\n",
       "      <td>-0.788</td>\n",
       "      <td>-0.559</td>\n",
       "      <td>0.434</td>\n",
       "    </tr>\n",
       "    <tr>\n",
       "      <th>3</th>\n",
       "      <td>0.434</td>\n",
       "      <td>1.419</td>\n",
       "      <td>2.126</td>\n",
       "      <td>-0.882</td>\n",
       "    </tr>\n",
       "    <tr>\n",
       "      <th>4</th>\n",
       "      <td>0.434</td>\n",
       "      <td>-0.781</td>\n",
       "      <td>-0.315</td>\n",
       "      <td>1.260</td>\n",
       "    </tr>\n",
       "  </tbody>\n",
       "</table>\n",
       "</div>"
      ],
      "text/plain": [
       "     AGE   FARE  NEW_NAME_COUNT  NEW_AGE_PCLASS\n",
       "0 -0.561 -0.821          -0.437           0.066\n",
       "1  0.663  2.032           2.248          -0.790\n",
       "2 -0.255 -0.788          -0.559           0.434\n",
       "3  0.434  1.419           2.126          -0.882\n",
       "4  0.434 -0.781          -0.315           1.260"
      ]
     },
     "execution_count": 57,
     "metadata": {},
     "output_type": "execute_result"
    }
   ],
   "source": [
    "scaler = StandardScaler()\n",
    "df[numerical_cols] = scaler.fit_transform(df[numerical_cols])\n",
    "df[numerical_cols].head()"
   ]
  },
  {
   "cell_type": "code",
   "execution_count": 58,
   "metadata": {
    "pycharm": {
     "name": "#%%\n"
    }
   },
   "outputs": [
    {
     "data": {
      "text/html": [
       "<div>\n",
       "<style scoped>\n",
       "    .dataframe tbody tr th:only-of-type {\n",
       "        vertical-align: middle;\n",
       "    }\n",
       "\n",
       "    .dataframe tbody tr th {\n",
       "        vertical-align: top;\n",
       "    }\n",
       "\n",
       "    .dataframe thead th {\n",
       "        text-align: right;\n",
       "    }\n",
       "</style>\n",
       "<table border=\"1\" class=\"dataframe\">\n",
       "  <thead>\n",
       "    <tr style=\"text-align: right;\">\n",
       "      <th></th>\n",
       "      <th>PASSENGERID</th>\n",
       "      <th>SURVIVED</th>\n",
       "      <th>SEX</th>\n",
       "      <th>AGE</th>\n",
       "      <th>FARE</th>\n",
       "      <th>NEW_CABIN_BOOL</th>\n",
       "      <th>NEW_NAME_COUNT</th>\n",
       "      <th>NEW_NAME_DR</th>\n",
       "      <th>NEW_AGE_PCLASS</th>\n",
       "      <th>NEW_IS_ALONE</th>\n",
       "      <th>PCLASS_1</th>\n",
       "      <th>PCLASS_2</th>\n",
       "      <th>PCLASS_3</th>\n",
       "      <th>SIBSP_0</th>\n",
       "      <th>SIBSP_1</th>\n",
       "      <th>SIBSP_2</th>\n",
       "      <th>SIBSP_3</th>\n",
       "      <th>SIBSP_4</th>\n",
       "      <th>SIBSP_5</th>\n",
       "      <th>SIBSP_8</th>\n",
       "      <th>PARCH_0</th>\n",
       "      <th>PARCH_1</th>\n",
       "      <th>PARCH_2</th>\n",
       "      <th>PARCH_3</th>\n",
       "      <th>PARCH_4</th>\n",
       "      <th>PARCH_5</th>\n",
       "      <th>PARCH_6</th>\n",
       "      <th>EMBARKED_C</th>\n",
       "      <th>EMBARKED_Q</th>\n",
       "      <th>EMBARKED_S</th>\n",
       "      <th>NEW_NAME_WORD_COUNT_3</th>\n",
       "      <th>NEW_NAME_WORD_COUNT_4</th>\n",
       "      <th>NEW_NAME_WORD_COUNT_5</th>\n",
       "      <th>NEW_NAME_WORD_COUNT_6</th>\n",
       "      <th>NEW_NAME_WORD_COUNT_7</th>\n",
       "      <th>NEW_NAME_WORD_COUNT_8</th>\n",
       "      <th>NEW_NAME_WORD_COUNT_9</th>\n",
       "      <th>NEW_NAME_WORD_COUNT_14</th>\n",
       "      <th>NEW_TITLE_Master</th>\n",
       "      <th>NEW_TITLE_Miss</th>\n",
       "      <th>NEW_TITLE_Mr</th>\n",
       "      <th>NEW_TITLE_Mrs</th>\n",
       "      <th>NEW_TITLE_Rare</th>\n",
       "      <th>NEW_FAMILY_SIZE_1</th>\n",
       "      <th>NEW_FAMILY_SIZE_2</th>\n",
       "      <th>NEW_FAMILY_SIZE_3</th>\n",
       "      <th>NEW_FAMILY_SIZE_4</th>\n",
       "      <th>NEW_FAMILY_SIZE_5</th>\n",
       "      <th>NEW_FAMILY_SIZE_6</th>\n",
       "      <th>NEW_FAMILY_SIZE_7</th>\n",
       "      <th>NEW_FAMILY_SIZE_8</th>\n",
       "      <th>NEW_FAMILY_SIZE_11</th>\n",
       "      <th>NEW_AGE_CAT_mature</th>\n",
       "      <th>NEW_AGE_CAT_senior</th>\n",
       "      <th>NEW_AGE_CAT_young</th>\n",
       "      <th>NEW_SEX_CAT_maturefemale</th>\n",
       "      <th>NEW_SEX_CAT_maturemale</th>\n",
       "      <th>NEW_SEX_CAT_seniorfemale</th>\n",
       "      <th>NEW_SEX_CAT_seniormale</th>\n",
       "      <th>NEW_SEX_CAT_youngfemale</th>\n",
       "      <th>NEW_SEX_CAT_youngmale</th>\n",
       "    </tr>\n",
       "  </thead>\n",
       "  <tbody>\n",
       "    <tr>\n",
       "      <th>0</th>\n",
       "      <td>1</td>\n",
       "      <td>0</td>\n",
       "      <td>1</td>\n",
       "      <td>-0.561</td>\n",
       "      <td>-0.821</td>\n",
       "      <td>0</td>\n",
       "      <td>-0.437</td>\n",
       "      <td>0</td>\n",
       "      <td>0.066</td>\n",
       "      <td>0</td>\n",
       "      <td>0</td>\n",
       "      <td>0</td>\n",
       "      <td>1</td>\n",
       "      <td>0</td>\n",
       "      <td>1</td>\n",
       "      <td>0</td>\n",
       "      <td>0</td>\n",
       "      <td>0</td>\n",
       "      <td>0</td>\n",
       "      <td>0</td>\n",
       "      <td>1</td>\n",
       "      <td>0</td>\n",
       "      <td>0</td>\n",
       "      <td>0</td>\n",
       "      <td>0</td>\n",
       "      <td>0</td>\n",
       "      <td>0</td>\n",
       "      <td>0</td>\n",
       "      <td>0</td>\n",
       "      <td>1</td>\n",
       "      <td>0</td>\n",
       "      <td>1</td>\n",
       "      <td>0</td>\n",
       "      <td>0</td>\n",
       "      <td>0</td>\n",
       "      <td>0</td>\n",
       "      <td>0</td>\n",
       "      <td>0</td>\n",
       "      <td>0</td>\n",
       "      <td>0</td>\n",
       "      <td>1</td>\n",
       "      <td>0</td>\n",
       "      <td>0</td>\n",
       "      <td>0</td>\n",
       "      <td>1</td>\n",
       "      <td>0</td>\n",
       "      <td>0</td>\n",
       "      <td>0</td>\n",
       "      <td>0</td>\n",
       "      <td>0</td>\n",
       "      <td>0</td>\n",
       "      <td>0</td>\n",
       "      <td>1</td>\n",
       "      <td>0</td>\n",
       "      <td>0</td>\n",
       "      <td>0</td>\n",
       "      <td>1</td>\n",
       "      <td>0</td>\n",
       "      <td>0</td>\n",
       "      <td>0</td>\n",
       "      <td>0</td>\n",
       "    </tr>\n",
       "    <tr>\n",
       "      <th>1</th>\n",
       "      <td>2</td>\n",
       "      <td>1</td>\n",
       "      <td>0</td>\n",
       "      <td>0.663</td>\n",
       "      <td>2.032</td>\n",
       "      <td>1</td>\n",
       "      <td>2.248</td>\n",
       "      <td>0</td>\n",
       "      <td>-0.790</td>\n",
       "      <td>0</td>\n",
       "      <td>1</td>\n",
       "      <td>0</td>\n",
       "      <td>0</td>\n",
       "      <td>0</td>\n",
       "      <td>1</td>\n",
       "      <td>0</td>\n",
       "      <td>0</td>\n",
       "      <td>0</td>\n",
       "      <td>0</td>\n",
       "      <td>0</td>\n",
       "      <td>1</td>\n",
       "      <td>0</td>\n",
       "      <td>0</td>\n",
       "      <td>0</td>\n",
       "      <td>0</td>\n",
       "      <td>0</td>\n",
       "      <td>0</td>\n",
       "      <td>1</td>\n",
       "      <td>0</td>\n",
       "      <td>0</td>\n",
       "      <td>0</td>\n",
       "      <td>0</td>\n",
       "      <td>0</td>\n",
       "      <td>0</td>\n",
       "      <td>1</td>\n",
       "      <td>0</td>\n",
       "      <td>0</td>\n",
       "      <td>0</td>\n",
       "      <td>0</td>\n",
       "      <td>0</td>\n",
       "      <td>0</td>\n",
       "      <td>1</td>\n",
       "      <td>0</td>\n",
       "      <td>0</td>\n",
       "      <td>1</td>\n",
       "      <td>0</td>\n",
       "      <td>0</td>\n",
       "      <td>0</td>\n",
       "      <td>0</td>\n",
       "      <td>0</td>\n",
       "      <td>0</td>\n",
       "      <td>0</td>\n",
       "      <td>1</td>\n",
       "      <td>0</td>\n",
       "      <td>0</td>\n",
       "      <td>1</td>\n",
       "      <td>0</td>\n",
       "      <td>0</td>\n",
       "      <td>0</td>\n",
       "      <td>0</td>\n",
       "      <td>0</td>\n",
       "    </tr>\n",
       "    <tr>\n",
       "      <th>2</th>\n",
       "      <td>3</td>\n",
       "      <td>1</td>\n",
       "      <td>0</td>\n",
       "      <td>-0.255</td>\n",
       "      <td>-0.788</td>\n",
       "      <td>0</td>\n",
       "      <td>-0.559</td>\n",
       "      <td>0</td>\n",
       "      <td>0.434</td>\n",
       "      <td>1</td>\n",
       "      <td>0</td>\n",
       "      <td>0</td>\n",
       "      <td>1</td>\n",
       "      <td>1</td>\n",
       "      <td>0</td>\n",
       "      <td>0</td>\n",
       "      <td>0</td>\n",
       "      <td>0</td>\n",
       "      <td>0</td>\n",
       "      <td>0</td>\n",
       "      <td>1</td>\n",
       "      <td>0</td>\n",
       "      <td>0</td>\n",
       "      <td>0</td>\n",
       "      <td>0</td>\n",
       "      <td>0</td>\n",
       "      <td>0</td>\n",
       "      <td>0</td>\n",
       "      <td>0</td>\n",
       "      <td>1</td>\n",
       "      <td>1</td>\n",
       "      <td>0</td>\n",
       "      <td>0</td>\n",
       "      <td>0</td>\n",
       "      <td>0</td>\n",
       "      <td>0</td>\n",
       "      <td>0</td>\n",
       "      <td>0</td>\n",
       "      <td>0</td>\n",
       "      <td>1</td>\n",
       "      <td>0</td>\n",
       "      <td>0</td>\n",
       "      <td>0</td>\n",
       "      <td>1</td>\n",
       "      <td>0</td>\n",
       "      <td>0</td>\n",
       "      <td>0</td>\n",
       "      <td>0</td>\n",
       "      <td>0</td>\n",
       "      <td>0</td>\n",
       "      <td>0</td>\n",
       "      <td>0</td>\n",
       "      <td>1</td>\n",
       "      <td>0</td>\n",
       "      <td>0</td>\n",
       "      <td>1</td>\n",
       "      <td>0</td>\n",
       "      <td>0</td>\n",
       "      <td>0</td>\n",
       "      <td>0</td>\n",
       "      <td>0</td>\n",
       "    </tr>\n",
       "    <tr>\n",
       "      <th>3</th>\n",
       "      <td>4</td>\n",
       "      <td>1</td>\n",
       "      <td>0</td>\n",
       "      <td>0.434</td>\n",
       "      <td>1.419</td>\n",
       "      <td>1</td>\n",
       "      <td>2.126</td>\n",
       "      <td>0</td>\n",
       "      <td>-0.882</td>\n",
       "      <td>0</td>\n",
       "      <td>1</td>\n",
       "      <td>0</td>\n",
       "      <td>0</td>\n",
       "      <td>0</td>\n",
       "      <td>1</td>\n",
       "      <td>0</td>\n",
       "      <td>0</td>\n",
       "      <td>0</td>\n",
       "      <td>0</td>\n",
       "      <td>0</td>\n",
       "      <td>1</td>\n",
       "      <td>0</td>\n",
       "      <td>0</td>\n",
       "      <td>0</td>\n",
       "      <td>0</td>\n",
       "      <td>0</td>\n",
       "      <td>0</td>\n",
       "      <td>0</td>\n",
       "      <td>0</td>\n",
       "      <td>1</td>\n",
       "      <td>0</td>\n",
       "      <td>0</td>\n",
       "      <td>0</td>\n",
       "      <td>0</td>\n",
       "      <td>1</td>\n",
       "      <td>0</td>\n",
       "      <td>0</td>\n",
       "      <td>0</td>\n",
       "      <td>0</td>\n",
       "      <td>0</td>\n",
       "      <td>0</td>\n",
       "      <td>1</td>\n",
       "      <td>0</td>\n",
       "      <td>0</td>\n",
       "      <td>1</td>\n",
       "      <td>0</td>\n",
       "      <td>0</td>\n",
       "      <td>0</td>\n",
       "      <td>0</td>\n",
       "      <td>0</td>\n",
       "      <td>0</td>\n",
       "      <td>0</td>\n",
       "      <td>1</td>\n",
       "      <td>0</td>\n",
       "      <td>0</td>\n",
       "      <td>1</td>\n",
       "      <td>0</td>\n",
       "      <td>0</td>\n",
       "      <td>0</td>\n",
       "      <td>0</td>\n",
       "      <td>0</td>\n",
       "    </tr>\n",
       "    <tr>\n",
       "      <th>4</th>\n",
       "      <td>5</td>\n",
       "      <td>0</td>\n",
       "      <td>1</td>\n",
       "      <td>0.434</td>\n",
       "      <td>-0.781</td>\n",
       "      <td>0</td>\n",
       "      <td>-0.315</td>\n",
       "      <td>0</td>\n",
       "      <td>1.260</td>\n",
       "      <td>1</td>\n",
       "      <td>0</td>\n",
       "      <td>0</td>\n",
       "      <td>1</td>\n",
       "      <td>1</td>\n",
       "      <td>0</td>\n",
       "      <td>0</td>\n",
       "      <td>0</td>\n",
       "      <td>0</td>\n",
       "      <td>0</td>\n",
       "      <td>0</td>\n",
       "      <td>1</td>\n",
       "      <td>0</td>\n",
       "      <td>0</td>\n",
       "      <td>0</td>\n",
       "      <td>0</td>\n",
       "      <td>0</td>\n",
       "      <td>0</td>\n",
       "      <td>0</td>\n",
       "      <td>0</td>\n",
       "      <td>1</td>\n",
       "      <td>0</td>\n",
       "      <td>1</td>\n",
       "      <td>0</td>\n",
       "      <td>0</td>\n",
       "      <td>0</td>\n",
       "      <td>0</td>\n",
       "      <td>0</td>\n",
       "      <td>0</td>\n",
       "      <td>0</td>\n",
       "      <td>0</td>\n",
       "      <td>1</td>\n",
       "      <td>0</td>\n",
       "      <td>0</td>\n",
       "      <td>1</td>\n",
       "      <td>0</td>\n",
       "      <td>0</td>\n",
       "      <td>0</td>\n",
       "      <td>0</td>\n",
       "      <td>0</td>\n",
       "      <td>0</td>\n",
       "      <td>0</td>\n",
       "      <td>0</td>\n",
       "      <td>1</td>\n",
       "      <td>0</td>\n",
       "      <td>0</td>\n",
       "      <td>0</td>\n",
       "      <td>1</td>\n",
       "      <td>0</td>\n",
       "      <td>0</td>\n",
       "      <td>0</td>\n",
       "      <td>0</td>\n",
       "    </tr>\n",
       "  </tbody>\n",
       "</table>\n",
       "</div>"
      ],
      "text/plain": [
       "   PASSENGERID  SURVIVED  SEX    AGE   FARE  NEW_CABIN_BOOL  NEW_NAME_COUNT  NEW_NAME_DR  NEW_AGE_PCLASS  NEW_IS_ALONE  PCLASS_1  PCLASS_2  PCLASS_3  SIBSP_0  SIBSP_1  SIBSP_2  SIBSP_3  SIBSP_4  SIBSP_5  SIBSP_8  PARCH_0  PARCH_1  PARCH_2  PARCH_3  PARCH_4  PARCH_5  PARCH_6  EMBARKED_C  EMBARKED_Q  EMBARKED_S  NEW_NAME_WORD_COUNT_3  NEW_NAME_WORD_COUNT_4  NEW_NAME_WORD_COUNT_5  NEW_NAME_WORD_COUNT_6  NEW_NAME_WORD_COUNT_7  NEW_NAME_WORD_COUNT_8  NEW_NAME_WORD_COUNT_9  NEW_NAME_WORD_COUNT_14  \\\n",
       "0            1         0    1 -0.561 -0.821               0          -0.437            0           0.066             0         0         0         1        0        1        0        0        0        0        0        1        0        0        0        0        0        0           0           0           1                      0                      1                      0                      0                      0                      0                      0                       0   \n",
       "1            2         1    0  0.663  2.032               1           2.248            0          -0.790             0         1         0         0        0        1        0        0        0        0        0        1        0        0        0        0        0        0           1           0           0                      0                      0                      0                      0                      1                      0                      0                       0   \n",
       "2            3         1    0 -0.255 -0.788               0          -0.559            0           0.434             1         0         0         1        1        0        0        0        0        0        0        1        0        0        0        0        0        0           0           0           1                      1                      0                      0                      0                      0                      0                      0                       0   \n",
       "3            4         1    0  0.434  1.419               1           2.126            0          -0.882             0         1         0         0        0        1        0        0        0        0        0        1        0        0        0        0        0        0           0           0           1                      0                      0                      0                      0                      1                      0                      0                       0   \n",
       "4            5         0    1  0.434 -0.781               0          -0.315            0           1.260             1         0         0         1        1        0        0        0        0        0        0        1        0        0        0        0        0        0           0           0           1                      0                      1                      0                      0                      0                      0                      0                       0   \n",
       "\n",
       "   NEW_TITLE_Master  NEW_TITLE_Miss  NEW_TITLE_Mr  NEW_TITLE_Mrs  NEW_TITLE_Rare  NEW_FAMILY_SIZE_1  NEW_FAMILY_SIZE_2  NEW_FAMILY_SIZE_3  NEW_FAMILY_SIZE_4  NEW_FAMILY_SIZE_5  NEW_FAMILY_SIZE_6  NEW_FAMILY_SIZE_7  NEW_FAMILY_SIZE_8  NEW_FAMILY_SIZE_11  NEW_AGE_CAT_mature  NEW_AGE_CAT_senior  NEW_AGE_CAT_young  NEW_SEX_CAT_maturefemale  NEW_SEX_CAT_maturemale  NEW_SEX_CAT_seniorfemale  NEW_SEX_CAT_seniormale  NEW_SEX_CAT_youngfemale  NEW_SEX_CAT_youngmale  \n",
       "0                 0               0             1              0               0                  0                  1                  0                  0                  0                  0                  0                  0                   0                   1                   0                  0                         0                       1                         0                       0                        0                      0  \n",
       "1                 0               0             0              1               0                  0                  1                  0                  0                  0                  0                  0                  0                   0                   1                   0                  0                         1                       0                         0                       0                        0                      0  \n",
       "2                 0               1             0              0               0                  1                  0                  0                  0                  0                  0                  0                  0                   0                   1                   0                  0                         1                       0                         0                       0                        0                      0  \n",
       "3                 0               0             0              1               0                  0                  1                  0                  0                  0                  0                  0                  0                   0                   1                   0                  0                         1                       0                         0                       0                        0                      0  \n",
       "4                 0               0             1              0               0                  1                  0                  0                  0                  0                  0                  0                  0                   0                   1                   0                  0                         0                       1                         0                       0                        0                      0  "
      ]
     },
     "execution_count": 58,
     "metadata": {},
     "output_type": "execute_result"
    }
   ],
   "source": [
    "df.head()"
   ]
  },
  {
   "cell_type": "code",
   "execution_count": 63,
   "metadata": {
    "pycharm": {
     "name": "#%%\n"
    }
   },
   "outputs": [
    {
     "data": {
      "text/plain": [
       "(891, 61)"
      ]
     },
     "execution_count": 63,
     "metadata": {},
     "output_type": "execute_result"
    }
   ],
   "source": [
    "df.shape"
   ]
  },
  {
   "cell_type": "markdown",
   "metadata": {
    "pycharm": {
     "name": "#%% md\n"
    }
   },
   "source": [
    "## 5.10 Modelling"
   ]
  },
  {
   "cell_type": "code",
   "execution_count": 59,
   "metadata": {
    "pycharm": {
     "name": "#%%\n"
    }
   },
   "outputs": [],
   "source": [
    "y = df[\"SURVIVED\"]\n",
    "X = df.drop([\"PASSENGERID\", \"SURVIVED\"], axis=1)\n",
    "\n",
    "X_train, X_test, y_train, y_test = train_test_split(X, y, test_size=0.30, random_state=17)"
   ]
  },
  {
   "cell_type": "code",
   "execution_count": 60,
   "metadata": {
    "pycharm": {
     "name": "#%%\n"
    }
   },
   "outputs": [],
   "source": [
    "rf_model = RandomForestClassifier(random_state=46).fit(X_train, y_train)\n",
    "y_pred = rf_model.predict(X_test)\n",
    "auc_after_feature_engineering = accuracy_score(y_pred, y_test)"
   ]
  },
  {
   "cell_type": "code",
   "execution_count": 61,
   "metadata": {
    "pycharm": {
     "name": "#%%\n"
    }
   },
   "outputs": [
    {
     "name": "stdout",
     "output_type": "stream",
     "text": [
      "AUC Score After Feature Engineering=80.597%\n"
     ]
    }
   ],
   "source": [
    "print('AUC Score After Feature Engineering={:.3f}%'.format((auc_after_feature_engineering)*100))"
   ]
  },
  {
   "cell_type": "markdown",
   "metadata": {
    "pycharm": {
     "name": "#%% md\n"
    }
   },
   "source": [
    "### 5.10.1 The score to be obtained without any action"
   ]
  },
  {
   "cell_type": "code",
   "execution_count": 62,
   "metadata": {
    "pycharm": {
     "name": "#%%\n"
    }
   },
   "outputs": [],
   "source": [
    "dff = load_titanic()\n",
    "dff.dropna(inplace=True) # Random Forest doesn't work for NaN values in this dataset.\n",
    "dff = pd.get_dummies(dff, columns=[\"Sex\", \"Embarked\"], drop_first=True) # Random Forest doesn't work without feature engineering in this dataset.\n",
    "y = dff[\"Survived\"]\n",
    "X = dff.drop([\"PassengerId\", \"Survived\", \"Name\", \"Ticket\", \"Cabin\"], axis=1)\n",
    "X_train, X_test, y_train, y_test = train_test_split(X, y, test_size=0.30, random_state=17)\n",
    "rf_model = RandomForestClassifier(random_state=46).fit(X_train, y_train)\n",
    "y_pred = rf_model.predict(X_test)\n",
    "\n",
    "auc_without_any_action = accuracy_score(y_pred, y_test)\n"
   ]
  },
  {
   "cell_type": "code",
   "execution_count": 63,
   "metadata": {
    "pycharm": {
     "name": "#%%\n"
    }
   },
   "outputs": [
    {
     "name": "stdout",
     "output_type": "stream",
     "text": [
      "AUC Score Without Any Action=70.909%\n"
     ]
    }
   ],
   "source": [
    "print('AUC Score Without Any Action={:.3f}%'.format((auc_without_any_action)*100))"
   ]
  },
  {
   "cell_type": "markdown",
   "metadata": {
    "pycharm": {
     "name": "#%% md\n"
    }
   },
   "source": [
    "### 5.10.2 What about the variables we just produced?"
   ]
  },
  {
   "cell_type": "code",
   "execution_count": 64,
   "metadata": {
    "pycharm": {
     "name": "#%%\n"
    }
   },
   "outputs": [],
   "source": [
    "def plot_importance(model, features, num=len(X), save=False):\n",
    "    feature_imp = pd.DataFrame({'Value': model.feature_importances_, 'Feature': features.columns})\n",
    "    plt.figure(figsize=(10, 10))\n",
    "    sns.set(font_scale=1)\n",
    "    sns.barplot(x=\"Value\", y=\"Feature\", data=feature_imp.sort_values(by=\"Value\",\n",
    "                                                                      ascending=False)[0:num])\n",
    "    plt.title('Features')\n",
    "    plt.tight_layout()\n",
    "    plt.show()\n",
    "    if save:\n",
    "        plt.savefig('importances.png')\n"
   ]
  },
  {
   "cell_type": "code",
   "execution_count": 67,
   "metadata": {
    "pycharm": {
     "name": "#%%\n"
    }
   },
   "outputs": [
    {
     "data": {
      "text/plain": [
       "0.8059701492537313"
      ]
     },
     "execution_count": 67,
     "metadata": {},
     "output_type": "execute_result"
    }
   ],
   "source": [
    "y = df[\"SURVIVED\"]\n",
    "X = df.drop([\"PASSENGERID\", \"SURVIVED\"], axis=1)\n",
    "\n",
    "X_train, X_test, y_train, y_test = train_test_split(X, y, test_size=0.30, random_state=17)\n",
    "\n",
    "rf_model = RandomForestClassifier(random_state=46).fit(X_train, y_train)\n",
    "y_pred = rf_model.predict(X_test)\n",
    "accuracy_score(y_pred, y_test)"
   ]
  },
  {
   "cell_type": "code",
   "execution_count": 68,
   "metadata": {
    "pycharm": {
     "name": "#%%\n"
    }
   },
   "outputs": [
    {
     "data": {
      "image/png": "[encoded data removed]",
      "text/plain": [
       "<Figure size 720x720 with 1 Axes>"
      ]
     },
     "metadata": {},
     "output_type": "display_data"
    }
   ],
   "source": [
    "plot_importance(rf_model, X_train)"
   ]
  }
 ],
 "metadata": {
  "kernelspec": {
   "display_name": "Python 3.9.7 ('python39')",
   "language": "python",
   "name": "python3"
  },
  "language_info": {
   "codemirror_mode": {
    "name": "ipython",
    "version": 3
   },
   "file_extension": ".py",
   "mimetype": "text/x-python",
   "name": "python",
   "nbconvert_exporter": "python",
   "pygments_lexer": "ipython3",
   "version": "3.9.7"
  },
  "vscode": {
   "interpreter": {
    "hash": "dc4b3c05902c10370de471fcddb26262fd84af011c6feaac4fb5a6964f823446"
   }
  }
 },
 "nbformat": 4,
 "nbformat_minor": 0
}
