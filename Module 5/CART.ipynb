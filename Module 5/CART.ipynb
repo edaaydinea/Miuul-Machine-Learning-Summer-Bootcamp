{
 "cells": [
  {
   "cell_type": "markdown",
   "metadata": {},
   "source": [
    "# CART (Classification & Regression Tree)\n",
    "\n",
    "*Author: Eda AYDIN*\n",
    "\n",
    "Table of Contents\n",
    "\n",
    "1. [CART](#cart)\n",
    "2. [CART Library Institutions](#cart-library-institutions)\n",
    "3. [Modelling](#modelling)\n",
    "4. [Hyperparameter Optimization](#hyperparameter-optimization)\n",
    "5. [Final Model](#final-model)\n",
    "6. [Feature Importance](#feature-importance)\n",
    "7. [Analyzing Model Complexity with Learning Curves](#analyzing-model-complexity-with-learning-curves)\n",
    "8. [Visualizing the Decision Tree](#visualizing-the-decision-tree)\n",
    "9. [Extracting Decision Rules](#extracting-decision-rules)\n",
    "10. [Extracting Python/SQL/Excel Codes of Decision Rules](#extracting-pythonsqlexcel-codes-of-decision-rules)\n",
    "11. [Prediction using Python Codes](#prediction-using-python-codes)\n",
    "12. [Saving and Loading Model](#saving-and-loading-model)"
   ]
  },
  {
   "cell_type": "markdown",
   "metadata": {},
   "source": [
    "## CART\n",
    "\n",
    "- Amaç veri seti içerisindeki karmaşık yapıları basit karar yapılarına dönüştürmektir.\n",
    "- Heterojen veri setleri belirlenmiş bir hedef değişkene göre homojen alt gruplara ayrılır.\n",
    "\n",
    "-----\n",
    "\n",
    "- The aim is to transform the complex structures in the data set into simple decision structures.\n",
    "- Heterogeneous data sets are divided into homogeneous subgroups according to a defined target variable."
   ]
  },
  {
   "cell_type": "markdown",
   "metadata": {},
   "source": [
    "## CART Library Institutions\n",
    "\n",
    "![Cart 1 ](cart1.jpg)\n",
    "\n",
    "![Cart 2](cart2.jpg)"
   ]
  },
  {
   "cell_type": "markdown",
   "metadata": {},
   "source": [
    "$$RSS(SSE) : \\sum_{j=1}^{J}\\sum_{i\\in R_j}^{}(y_i - \\hat{y}_{R_j})^2$$\n",
    "\n",
    "$R_j$ : bölge / yaprak / kutu"
   ]
  },
  {
   "cell_type": "markdown",
   "metadata": {},
   "source": [
    "*Ayrım noktası nasıl belirlenir?*\n",
    "\n",
    "- Belirlenen bağımsız değişken küçükten büyüğe doğru sıralanır. \n",
    "- Her defasından ayrım noktasının bulunduğu yer birer birer artarak devam eder. (Excel tablosu için konuşuyorum)\n",
    "- Ardından her ayrım noktası sonucunda yukarıda hata ifadesinin sayısal bir karşılığı elde edilecektir. \n",
    "- Bu ifadeler arasında en küçük hata değerine sahip olan ayrım noktası ağacın karar noktasıdır.\n",
    "\n",
    "*Yukarıdaki ayrım noktasını bulma işlemini bir değişken için yaptık, peki ya 10 ya da daha fazla bağımsız değişken olsa, o zaman nasıl ilerleyeceğiz?*\n",
    "\n",
    "- Aynı işlemi tüm bağımsız değişkenler için yapacağız.\n",
    "- Bunun neticesinde en düşük hatayı veren değişken, en önemli değişken olup, en tepede yer alacaktır.\n",
    "\n",
    "-----\n",
    "\n",
    "*How is the split point determined?*\n",
    "\n",
    "- The specified argument is ordered from smallest to largest.\n",
    "- Each time, the location of the separation point continues to increase one by one. (I'm talking for the Excel spreadsheet)\n",
    "- Then, a numerical equivalent of the above error expression will be obtained as a result of each split point.\n",
    "- The split point with the smallest error value among these expressions is the decision point of the tree.\n",
    "\n",
    "*We did the above splitting point for one variable, but what if there are 10 or more independent variables, then how do we proceed?*\n",
    "\n",
    "- We will do the same for all arguments.\n",
    "- As a result, the variable with the lowest error will be the most important variable and will be at the top."
   ]
  },
  {
   "cell_type": "markdown",
   "metadata": {},
   "source": [
    "***Gini***:\n",
    "\n",
    "$$\\mathcal{L}_g(\\mathcal{N}_m)=\\sum_{k=1}^{K}\\hat{P}_{mk}(1-\\hat{P}_{mk})$$\n",
    "\n",
    "- İlgili düğümde, gözlemler arasındaki benzerlik ne kadar yüksekse, gini değeri de o kadar düşük olacaktır.\n",
    "----\n",
    "- The higher the similarity between the observations at that node, the lower the gini value will be.\n",
    "\n",
    "***Entropi***:\n",
    "\n",
    "$$\\mathcal{L}_E(\\mathcal{N}_m)=-\\sum_{k=1}^{K}\\hat{P}_{mk}\\,log\\hat{P}_{mk}\\cdot$$\n",
    "\n",
    "- Ne kadar düşükse, o kadar iyidir.\n",
    "- Entropi çeşitlilik, varyans demektir. Çeşitlilik ne kadar düşükse, o kadar iyidir.\n",
    "----\n",
    "- The lower it is, the better.\n",
    "- Entropy means diversity, variance. The lower the variety, the better.\n",
    "\n",
    "***The weighted loss***:\n",
    "\n",
    "$$\\mathcal{L}(\\mathcal{S}_m) = f_L\\cdot \\mathcal{L}(C_{m}^{L}) + f_R \\cdot\\mathcal{L}(C_{m}^{R})\\cdot$$"
   ]
  },
  {
   "cell_type": "markdown",
   "metadata": {},
   "source": [
    "*Ne kadar bölmeliyiz?Terminal node, Leaf node içerisinde overfitting olayın düşmeden kaç tane gözlem bırakmalıyım?*\n",
    "\n",
    "- Gini değeri ağırlıklı ortalama değerinden düşükse, bölmeyi bırakabilirsin.\n",
    "- Aksi takdirde, bölme işlemi devam edecektir.\n",
    "\n",
    "----\n",
    "\n",
    "*How much should we divide? How many observations should I leave before the overfitting event drops in the terminal node, Leaf node?*\n",
    "\n",
    "- If the Gini value is less than the weighted average, you can drop the split.\n",
    "- Otherwise, the splitting process will continue.\n",
    "\n",
    "![Calculation of Gini, Entropy](gini_entropi.png)"
   ]
  },
  {
   "cell_type": "code",
   "execution_count": 1,
   "metadata": {},
   "outputs": [
    {
     "name": "stderr",
     "output_type": "stream",
     "text": [
      "c:\\Users\\choon\\anaconda3\\envs\\python39\\lib\\site-packages\\numpy\\_distributor_init.py:30: UserWarning: loaded more than 1 DLL from .libs:\n",
      "c:\\Users\\choon\\anaconda3\\envs\\python39\\lib\\site-packages\\numpy\\.libs\\libopenblas.EL2C6PLE4ZYW3ECEVIV3OXXGRN2NRFM2.gfortran-win_amd64.dll\n",
      "c:\\Users\\choon\\anaconda3\\envs\\python39\\lib\\site-packages\\numpy\\.libs\\libopenblas.XWYDX2IKJW2NMTWSFYNGFUWKQU3LYTCZ.gfortran-win_amd64.dll\n",
      "  warnings.warn(\"loaded more than 1 DLL from .libs:\"\n"
     ]
    }
   ],
   "source": [
    "import warnings\n",
    "import joblib\n",
    "import pydotplus\n",
    "import numpy as np\n",
    "import pandas as pd\n",
    "import seaborn as sns\n",
    "from matplotlib import pyplot as plt\n",
    "from sklearn.tree import DecisionTreeClassifier, export_graphviz, export_text\n",
    "from sklearn.metrics import classification_report,roc_auc_score\n",
    "from sklearn.model_selection import train_test_split,GridSearchCV, cross_validate, validation_curve\n",
    "from skompiler import skompile\n",
    "import graphviz"
   ]
  },
  {
   "cell_type": "code",
   "execution_count": 2,
   "metadata": {},
   "outputs": [],
   "source": [
    "pd.set_option(\"display.max_columns\",None)\n",
    "pd.set_option(\"display.width\",500)\n",
    "\n",
    "warnings.simplefilter(action=\"ignore\",category=Warning)"
   ]
  },
  {
   "cell_type": "markdown",
   "metadata": {},
   "source": [
    "## Modelling"
   ]
  },
  {
   "cell_type": "markdown",
   "metadata": {},
   "source": [
    "### Modeling using CART"
   ]
  },
  {
   "cell_type": "code",
   "execution_count": 3,
   "metadata": {},
   "outputs": [
    {
     "data": {
      "text/html": [
       "<div>\n",
       "<style scoped>\n",
       "    .dataframe tbody tr th:only-of-type {\n",
       "        vertical-align: middle;\n",
       "    }\n",
       "\n",
       "    .dataframe tbody tr th {\n",
       "        vertical-align: top;\n",
       "    }\n",
       "\n",
       "    .dataframe thead th {\n",
       "        text-align: right;\n",
       "    }\n",
       "</style>\n",
       "<table border=\"1\" class=\"dataframe\">\n",
       "  <thead>\n",
       "    <tr style=\"text-align: right;\">\n",
       "      <th></th>\n",
       "      <th>Pregnancies</th>\n",
       "      <th>Glucose</th>\n",
       "      <th>BloodPressure</th>\n",
       "      <th>SkinThickness</th>\n",
       "      <th>Insulin</th>\n",
       "      <th>BMI</th>\n",
       "      <th>DiabetesPedigreeFunction</th>\n",
       "      <th>Age</th>\n",
       "      <th>Outcome</th>\n",
       "    </tr>\n",
       "  </thead>\n",
       "  <tbody>\n",
       "    <tr>\n",
       "      <th>0</th>\n",
       "      <td>6</td>\n",
       "      <td>148</td>\n",
       "      <td>72</td>\n",
       "      <td>35</td>\n",
       "      <td>0</td>\n",
       "      <td>33.6</td>\n",
       "      <td>0.627</td>\n",
       "      <td>50</td>\n",
       "      <td>1</td>\n",
       "    </tr>\n",
       "    <tr>\n",
       "      <th>1</th>\n",
       "      <td>1</td>\n",
       "      <td>85</td>\n",
       "      <td>66</td>\n",
       "      <td>29</td>\n",
       "      <td>0</td>\n",
       "      <td>26.6</td>\n",
       "      <td>0.351</td>\n",
       "      <td>31</td>\n",
       "      <td>0</td>\n",
       "    </tr>\n",
       "    <tr>\n",
       "      <th>2</th>\n",
       "      <td>8</td>\n",
       "      <td>183</td>\n",
       "      <td>64</td>\n",
       "      <td>0</td>\n",
       "      <td>0</td>\n",
       "      <td>23.3</td>\n",
       "      <td>0.672</td>\n",
       "      <td>32</td>\n",
       "      <td>1</td>\n",
       "    </tr>\n",
       "    <tr>\n",
       "      <th>3</th>\n",
       "      <td>1</td>\n",
       "      <td>89</td>\n",
       "      <td>66</td>\n",
       "      <td>23</td>\n",
       "      <td>94</td>\n",
       "      <td>28.1</td>\n",
       "      <td>0.167</td>\n",
       "      <td>21</td>\n",
       "      <td>0</td>\n",
       "    </tr>\n",
       "    <tr>\n",
       "      <th>4</th>\n",
       "      <td>0</td>\n",
       "      <td>137</td>\n",
       "      <td>40</td>\n",
       "      <td>35</td>\n",
       "      <td>168</td>\n",
       "      <td>43.1</td>\n",
       "      <td>2.288</td>\n",
       "      <td>33</td>\n",
       "      <td>1</td>\n",
       "    </tr>\n",
       "  </tbody>\n",
       "</table>\n",
       "</div>"
      ],
      "text/plain": [
       "   Pregnancies  Glucose  BloodPressure  SkinThickness  Insulin   BMI  DiabetesPedigreeFunction  Age  Outcome\n",
       "0            6      148             72             35        0  33.6                     0.627   50        1\n",
       "1            1       85             66             29        0  26.6                     0.351   31        0\n",
       "2            8      183             64              0        0  23.3                     0.672   32        1\n",
       "3            1       89             66             23       94  28.1                     0.167   21        0\n",
       "4            0      137             40             35      168  43.1                     2.288   33        1"
      ]
     },
     "execution_count": 3,
     "metadata": {},
     "output_type": "execute_result"
    }
   ],
   "source": [
    "df = pd.read_csv(\"datasets/diabetes.csv\")\n",
    "df.head()"
   ]
  },
  {
   "cell_type": "code",
   "execution_count": 4,
   "metadata": {},
   "outputs": [],
   "source": [
    "y = df[\"Outcome\"]\n",
    "X = df.drop([\"Outcome\"],axis=1)"
   ]
  },
  {
   "cell_type": "code",
   "execution_count": 5,
   "metadata": {},
   "outputs": [],
   "source": [
    "cart_model = DecisionTreeClassifier(random_state=1).fit(X,y)"
   ]
  },
  {
   "cell_type": "code",
   "execution_count": 6,
   "metadata": {},
   "outputs": [],
   "source": [
    "# y_pred for confusion matrix\n",
    "y_pred = cart_model.predict(X)"
   ]
  },
  {
   "cell_type": "code",
   "execution_count": 7,
   "metadata": {},
   "outputs": [],
   "source": [
    "# y_prob for AUC\n",
    "y_prob = cart_model.predict_proba(X)[:,1]"
   ]
  },
  {
   "cell_type": "code",
   "execution_count": 8,
   "metadata": {},
   "outputs": [
    {
     "name": "stdout",
     "output_type": "stream",
     "text": [
      "              precision    recall  f1-score   support\n",
      "\n",
      "           0       1.00      1.00      1.00       500\n",
      "           1       1.00      1.00      1.00       268\n",
      "\n",
      "    accuracy                           1.00       768\n",
      "   macro avg       1.00      1.00      1.00       768\n",
      "weighted avg       1.00      1.00      1.00       768\n",
      "\n"
     ]
    }
   ],
   "source": [
    "print(classification_report(y,y_pred))"
   ]
  },
  {
   "cell_type": "code",
   "execution_count": 9,
   "metadata": {},
   "outputs": [
    {
     "data": {
      "text/plain": [
       "1.0"
      ]
     },
     "execution_count": 9,
     "metadata": {},
     "output_type": "execute_result"
    }
   ],
   "source": [
    "roc_auc_score(y, y_prob)"
   ]
  },
  {
   "cell_type": "markdown",
   "metadata": {},
   "source": [
    "### Model Evaluation with Holdout Method"
   ]
  },
  {
   "cell_type": "code",
   "execution_count": 10,
   "metadata": {},
   "outputs": [],
   "source": [
    "X_train, X_test, y_train, y_test = train_test_split(X,y,test_size=0.30,random_state=45)"
   ]
  },
  {
   "cell_type": "code",
   "execution_count": 11,
   "metadata": {},
   "outputs": [],
   "source": [
    "cart_model = DecisionTreeClassifier(random_state=17).fit(X_train,y_train)"
   ]
  },
  {
   "cell_type": "code",
   "execution_count": 12,
   "metadata": {},
   "outputs": [],
   "source": [
    "# Train Error\n",
    "y_pred = cart_model.predict(X_train)\n",
    "y_prob = cart_model.predict_proba(X_train)[:, 1]"
   ]
  },
  {
   "cell_type": "code",
   "execution_count": 13,
   "metadata": {},
   "outputs": [
    {
     "name": "stdout",
     "output_type": "stream",
     "text": [
      "              precision    recall  f1-score   support\n",
      "\n",
      "           0       1.00      1.00      1.00       346\n",
      "           1       1.00      1.00      1.00       191\n",
      "\n",
      "    accuracy                           1.00       537\n",
      "   macro avg       1.00      1.00      1.00       537\n",
      "weighted avg       1.00      1.00      1.00       537\n",
      "\n"
     ]
    }
   ],
   "source": [
    "print(classification_report(y_train,y_pred))"
   ]
  },
  {
   "cell_type": "code",
   "execution_count": 14,
   "metadata": {},
   "outputs": [
    {
     "data": {
      "text/plain": [
       "1.0"
      ]
     },
     "execution_count": 14,
     "metadata": {},
     "output_type": "execute_result"
    }
   ],
   "source": [
    "roc_auc_score(y_train, y_prob)"
   ]
  },
  {
   "cell_type": "code",
   "execution_count": 15,
   "metadata": {},
   "outputs": [],
   "source": [
    "# Test Error\n",
    "y_pred = cart_model.predict(X_test)\n",
    "y_prob = cart_model.predict_proba(X_test)[:, 1]"
   ]
  },
  {
   "cell_type": "code",
   "execution_count": 16,
   "metadata": {},
   "outputs": [
    {
     "name": "stdout",
     "output_type": "stream",
     "text": [
      "              precision    recall  f1-score   support\n",
      "\n",
      "           0       0.77      0.75      0.76       154\n",
      "           1       0.53      0.56      0.54        77\n",
      "\n",
      "    accuracy                           0.69       231\n",
      "   macro avg       0.65      0.66      0.65       231\n",
      "weighted avg       0.69      0.69      0.69       231\n",
      "\n"
     ]
    }
   ],
   "source": [
    "print(classification_report(y_test, y_pred))"
   ]
  },
  {
   "cell_type": "code",
   "execution_count": 17,
   "metadata": {},
   "outputs": [
    {
     "data": {
      "text/plain": [
       "0.6558441558441559"
      ]
     },
     "execution_count": 17,
     "metadata": {},
     "output_type": "execute_result"
    }
   ],
   "source": [
    "roc_auc_score(y_test, y_prob)"
   ]
  },
  {
   "cell_type": "markdown",
   "metadata": {},
   "source": [
    "Train verisinde hatanın olmaması, test verisinde hata çıkması, modelin overfitting ettiği anlamına gelir.\n",
    "\n",
    "If there is no error in the train data and there is an error in the test data, it means that the model is overfitting."
   ]
  },
  {
   "cell_type": "markdown",
   "metadata": {},
   "source": [
    "### Model Evalaution with K-Cross Validate"
   ]
  },
  {
   "cell_type": "code",
   "execution_count": 18,
   "metadata": {},
   "outputs": [],
   "source": [
    "cart_model = DecisionTreeClassifier(random_state=17).fit(X,y)"
   ]
  },
  {
   "cell_type": "code",
   "execution_count": 19,
   "metadata": {},
   "outputs": [],
   "source": [
    "cv_results = cross_validate(estimator=cart_model,\n",
    "                            X=X,\n",
    "                            y=y,\n",
    "                            scoring=[\"accuracy\",\"f1\",\"roc_auc\"])"
   ]
  },
  {
   "cell_type": "code",
   "execution_count": 20,
   "metadata": {},
   "outputs": [
    {
     "data": {
      "text/plain": [
       "0.7058568882098294"
      ]
     },
     "execution_count": 20,
     "metadata": {},
     "output_type": "execute_result"
    }
   ],
   "source": [
    "cv_results['test_accuracy'].mean()"
   ]
  },
  {
   "cell_type": "code",
   "execution_count": 21,
   "metadata": {},
   "outputs": [
    {
     "data": {
      "text/plain": [
       "0.5710621194523633"
      ]
     },
     "execution_count": 21,
     "metadata": {},
     "output_type": "execute_result"
    }
   ],
   "source": [
    "cv_results['test_f1'].mean()"
   ]
  },
  {
   "cell_type": "code",
   "execution_count": 22,
   "metadata": {},
   "outputs": [
    {
     "data": {
      "text/plain": [
       "0.6719440950384347"
      ]
     },
     "execution_count": 22,
     "metadata": {},
     "output_type": "execute_result"
    }
   ],
   "source": [
    "cv_results['test_roc_auc'].mean()"
   ]
  },
  {
   "cell_type": "markdown",
   "metadata": {},
   "source": [
    "## Hyperparameter Optimization"
   ]
  },
  {
   "cell_type": "code",
   "execution_count": 23,
   "metadata": {},
   "outputs": [
    {
     "data": {
      "text/plain": [
       "{'ccp_alpha': 0.0,\n",
       " 'class_weight': None,\n",
       " 'criterion': 'gini',\n",
       " 'max_depth': None,\n",
       " 'max_features': None,\n",
       " 'max_leaf_nodes': None,\n",
       " 'min_impurity_decrease': 0.0,\n",
       " 'min_samples_leaf': 1,\n",
       " 'min_samples_split': 2,\n",
       " 'min_weight_fraction_leaf': 0.0,\n",
       " 'random_state': 17,\n",
       " 'splitter': 'best'}"
      ]
     },
     "execution_count": 23,
     "metadata": {},
     "output_type": "execute_result"
    }
   ],
   "source": [
    "cart_model.get_params()"
   ]
  },
  {
   "cell_type": "code",
   "execution_count": 24,
   "metadata": {},
   "outputs": [],
   "source": [
    "cart_params = {\"max_depth\":range(1,11),\n",
    "               \"min_samples_split\":range(2,20)}"
   ]
  },
  {
   "cell_type": "code",
   "execution_count": 25,
   "metadata": {},
   "outputs": [
    {
     "name": "stdout",
     "output_type": "stream",
     "text": [
      "Fitting 5 folds for each of 180 candidates, totalling 900 fits\n"
     ]
    }
   ],
   "source": [
    "cart_best_grid = GridSearchCV(estimator=cart_model,\n",
    "                              param_grid=cart_params,\n",
    "                              cv=5,\n",
    "                              n_jobs=1,\n",
    "                              verbose=1).fit(X,y)"
   ]
  },
  {
   "cell_type": "code",
   "execution_count": 26,
   "metadata": {},
   "outputs": [
    {
     "data": {
      "text/plain": [
       "{'max_depth': 5, 'min_samples_split': 4}"
      ]
     },
     "execution_count": 26,
     "metadata": {},
     "output_type": "execute_result"
    }
   ],
   "source": [
    "cart_best_grid.best_params_"
   ]
  },
  {
   "cell_type": "code",
   "execution_count": 27,
   "metadata": {},
   "outputs": [
    {
     "data": {
      "text/plain": [
       "0.7500806383159324"
      ]
     },
     "execution_count": 27,
     "metadata": {},
     "output_type": "execute_result"
    }
   ],
   "source": [
    "cart_best_grid.best_score_"
   ]
  },
  {
   "cell_type": "code",
   "execution_count": 28,
   "metadata": {},
   "outputs": [],
   "source": [
    "random = X.sample(1, random_state=45)"
   ]
  },
  {
   "cell_type": "code",
   "execution_count": 29,
   "metadata": {},
   "outputs": [
    {
     "data": {
      "text/plain": [
       "array([1], dtype=int64)"
      ]
     },
     "execution_count": 29,
     "metadata": {},
     "output_type": "execute_result"
    }
   ],
   "source": [
    "cart_best_grid.predict(random)"
   ]
  },
  {
   "cell_type": "markdown",
   "metadata": {},
   "source": [
    "## Final Model"
   ]
  },
  {
   "cell_type": "code",
   "execution_count": 30,
   "metadata": {},
   "outputs": [
    {
     "data": {
      "text/plain": [
       "{'ccp_alpha': 0.0,\n",
       " 'class_weight': None,\n",
       " 'criterion': 'gini',\n",
       " 'max_depth': 5,\n",
       " 'max_features': None,\n",
       " 'max_leaf_nodes': None,\n",
       " 'min_impurity_decrease': 0.0,\n",
       " 'min_samples_leaf': 1,\n",
       " 'min_samples_split': 4,\n",
       " 'min_weight_fraction_leaf': 0.0,\n",
       " 'random_state': 17,\n",
       " 'splitter': 'best'}"
      ]
     },
     "execution_count": 30,
     "metadata": {},
     "output_type": "execute_result"
    }
   ],
   "source": [
    "cart_final = DecisionTreeClassifier(**cart_best_grid.best_params_,\n",
    "                                    random_state=17).fit(X,y)\n",
    "cart_final.get_params()"
   ]
  },
  {
   "cell_type": "code",
   "execution_count": 31,
   "metadata": {},
   "outputs": [],
   "source": [
    "cart_final = cart_model.set_params(**cart_best_grid.best_params_).fit(X,y)"
   ]
  },
  {
   "cell_type": "code",
   "execution_count": 32,
   "metadata": {},
   "outputs": [],
   "source": [
    "cv_results = cross_validate(estimator=cart_final,\n",
    "                            X=X,\n",
    "                            y=y,\n",
    "                            cv=5,\n",
    "                            scoring=[\"accuracy\",\"f1\",\"roc_auc\"])"
   ]
  },
  {
   "cell_type": "code",
   "execution_count": 33,
   "metadata": {},
   "outputs": [
    {
     "data": {
      "text/plain": [
       "0.7500806383159324"
      ]
     },
     "execution_count": 33,
     "metadata": {},
     "output_type": "execute_result"
    }
   ],
   "source": [
    "cv_results[\"test_accuracy\"].mean()"
   ]
  },
  {
   "cell_type": "code",
   "execution_count": 34,
   "metadata": {},
   "outputs": [
    {
     "data": {
      "text/plain": [
       "0.614625004082526"
      ]
     },
     "execution_count": 34,
     "metadata": {},
     "output_type": "execute_result"
    }
   ],
   "source": [
    "cv_results['test_f1'].mean()"
   ]
  },
  {
   "cell_type": "code",
   "execution_count": 35,
   "metadata": {},
   "outputs": [
    {
     "data": {
      "text/plain": [
       "0.797796645702306"
      ]
     },
     "execution_count": 35,
     "metadata": {},
     "output_type": "execute_result"
    }
   ],
   "source": [
    "cv_results['test_roc_auc'].mean()"
   ]
  },
  {
   "cell_type": "markdown",
   "metadata": {},
   "source": [
    "## Feature Importance"
   ]
  },
  {
   "cell_type": "code",
   "execution_count": 36,
   "metadata": {},
   "outputs": [
    {
     "data": {
      "text/plain": [
       "array([0.01129738, 0.49448119, 0.05065617, 0.        , 0.01497644,\n",
       "       0.22221379, 0.06819923, 0.13817579])"
      ]
     },
     "execution_count": 36,
     "metadata": {},
     "output_type": "execute_result"
    }
   ],
   "source": [
    "cart_final.feature_importances_"
   ]
  },
  {
   "cell_type": "code",
   "execution_count": 37,
   "metadata": {},
   "outputs": [],
   "source": [
    "def plot_importance(model, features, num = len(X), save = False):\n",
    "    feature_imp = pd.DataFrame({\"Value\":model.feature_importances_,\n",
    "                                \"Feature\":features.columns})\n",
    "    plt.figure(figsize=(10,10))\n",
    "    sns.set(font_scale=1)\n",
    "    sns.barplot(x=\"Value\",y = \"Feature\", data = feature_imp.sort_values(by=\"Value\",\n",
    "                                                                        ascending = False)[0:num])\n",
    "    plt.title(\"Features\")\n",
    "    plt.tight_layout()\n",
    "    if save :\n",
    "        plt.savefig(\"Feature Importance for {}.png\".format(type(model).__name__))\n",
    "    plt.show()"
   ]
  },
  {
   "cell_type": "code",
   "execution_count": 38,
   "metadata": {},
   "outputs": [
    {
     "data": {
      "image/png": "[encoded data removed]",
      "text/plain": [
       "<Figure size 720x720 with 1 Axes>"
      ]
     },
     "metadata": {
      "needs_background": "light"
     },
     "output_type": "display_data"
    }
   ],
   "source": [
    "plot_importance(model= cart_model,\n",
    "                features = X,\n",
    "                num = len(X),\n",
    "                save=True)"
   ]
  },
  {
   "cell_type": "markdown",
   "metadata": {},
   "source": [
    "## Analyzing Model Complexity with Learning Curves"
   ]
  },
  {
   "cell_type": "code",
   "execution_count": 39,
   "metadata": {},
   "outputs": [],
   "source": [
    "train_score,test_score = validation_curve(estimator=cart_final,\n",
    "                                          X=X,\n",
    "                                          y=y,\n",
    "                                          param_name=\"max_depth\",\n",
    "                                          param_range=range(1,11),\n",
    "                                          scoring=\"roc_auc\",\n",
    "                                          cv=10)"
   ]
  },
  {
   "cell_type": "code",
   "execution_count": 40,
   "metadata": {},
   "outputs": [],
   "source": [
    "mean_train_score = np.mean(train_score,axis=1)\n",
    "mean_test_score = np.mean(test_score,axis=1)"
   ]
  },
  {
   "cell_type": "code",
   "execution_count": 41,
   "metadata": {},
   "outputs": [
    {
     "data": {
      "image/png": "[encoded data removed]",
      "text/plain": [
       "<Figure size 432x288 with 1 Axes>"
      ]
     },
     "metadata": {},
     "output_type": "display_data"
    }
   ],
   "source": [
    "plt.plot(range(1, 11), mean_train_score,\n",
    "         label=\"Training Score\", color='b')\n",
    "plt.plot(range(1, 11), mean_test_score,\n",
    "         label=\"Validation Score\", color='g')\n",
    "\n",
    "plt.title(\"Validation Curve for CART\")\n",
    "plt.xlabel(\"Number of max_depth\")\n",
    "plt.ylabel(\"AUC\")\n",
    "plt.tight_layout()\n",
    "plt.legend(loc='best')\n",
    "plt.savefig(\"Validation Curve for CART.png\")\n",
    "plt.show()"
   ]
  },
  {
   "cell_type": "code",
   "execution_count": 42,
   "metadata": {},
   "outputs": [],
   "source": [
    "def val_curve_params(model, X, y, param_name, param_range, scoring=\"roc_auc\", cv=10):\n",
    "    train_score, test_score = validation_curve(\n",
    "        model, X=X, y=y, param_name=param_name, param_range=param_range, scoring=scoring, cv=cv)\n",
    "\n",
    "    mean_train_score = np.mean(train_score, axis=1)\n",
    "    mean_test_score = np.mean(test_score, axis=1)\n",
    "\n",
    "    plt.plot(param_range, mean_train_score,\n",
    "             label=\"Training Score\", color='b')\n",
    "\n",
    "    plt.plot(param_range, mean_test_score,\n",
    "             label=\"Validation Score\", color='g')\n",
    "\n",
    "    plt.title(f\"Validation Curve for {type(model).__name__}\")\n",
    "    plt.xlabel(f\"Number of {param_name}\")\n",
    "    plt.ylabel(f\"{scoring}\")\n",
    "    plt.tight_layout()\n",
    "    plt.legend(loc='best')\n",
    "    plt.savefig(\"{} - {} Graph\".format(param_name,scoring))\n",
    "    plt.show(block=True)"
   ]
  },
  {
   "cell_type": "code",
   "execution_count": 43,
   "metadata": {},
   "outputs": [
    {
     "data": {
      "image/png": "[encoded data removed]",
      "text/plain": [
       "<Figure size 432x288 with 1 Axes>"
      ]
     },
     "metadata": {},
     "output_type": "display_data"
    }
   ],
   "source": [
    "val_curve_params(cart_final, X, y, \"max_depth\", range(1, 11), scoring=\"f1\")"
   ]
  },
  {
   "cell_type": "code",
   "execution_count": 44,
   "metadata": {},
   "outputs": [],
   "source": [
    "cart_val_params = [[\"max_depth\", range(1, 11)], [\"min_samples_split\", range(2, 20)]]"
   ]
  },
  {
   "cell_type": "code",
   "execution_count": 45,
   "metadata": {},
   "outputs": [
    {
     "data": {
      "image/png": "[encoded data removed]",
      "text/plain": [
       "<Figure size 432x288 with 1 Axes>"
      ]
     },
     "metadata": {},
     "output_type": "display_data"
    },
    {
     "data": {
      "image/png": "[encoded data removed]",
      "text/plain": [
       "<Figure size 432x288 with 1 Axes>"
      ]
     },
     "metadata": {},
     "output_type": "display_data"
    }
   ],
   "source": [
    "for i in range(len(cart_val_params)):\n",
    "    val_curve_params(cart_model, X, y, cart_val_params[i][0], cart_val_params[i][1])"
   ]
  },
  {
   "cell_type": "markdown",
   "metadata": {},
   "source": [
    "## Visualizing the Decision Tree"
   ]
  },
  {
   "cell_type": "code",
   "execution_count": 46,
   "metadata": {},
   "outputs": [],
   "source": [
    "def tree_graph(model, col_names, file_name):\n",
    "    tree_str = export_graphviz(model,\n",
    "                               feature_names=col_names,\n",
    "                               filled = True,\n",
    "                               out_file=None)\n",
    "    graph = pydotplus.graph_from_dot_data(tree_str)\n",
    "    graph.write_png(file_name)"
   ]
  },
  {
   "cell_type": "code",
   "execution_count": 47,
   "metadata": {},
   "outputs": [],
   "source": [
    "tree_graph(model=cart_final,\n",
    "           col_names = X.columns,\n",
    "           file_name = \"cart_final.png\")"
   ]
  },
  {
   "cell_type": "code",
   "execution_count": 48,
   "metadata": {},
   "outputs": [
    {
     "data": {
      "text/plain": [
       "{'ccp_alpha': 0.0,\n",
       " 'class_weight': None,\n",
       " 'criterion': 'gini',\n",
       " 'max_depth': 5,\n",
       " 'max_features': None,\n",
       " 'max_leaf_nodes': None,\n",
       " 'min_impurity_decrease': 0.0,\n",
       " 'min_samples_leaf': 1,\n",
       " 'min_samples_split': 4,\n",
       " 'min_weight_fraction_leaf': 0.0,\n",
       " 'random_state': 17,\n",
       " 'splitter': 'best'}"
      ]
     },
     "execution_count": 48,
     "metadata": {},
     "output_type": "execute_result"
    }
   ],
   "source": [
    "cart_final.get_params()"
   ]
  },
  {
   "cell_type": "markdown",
   "metadata": {},
   "source": [
    "## Extracting Decision Rules"
   ]
  },
  {
   "cell_type": "code",
   "execution_count": 49,
   "metadata": {},
   "outputs": [
    {
     "name": "stdout",
     "output_type": "stream",
     "text": [
      "|--- Glucose <= 127.50\n",
      "|   |--- Age <= 28.50\n",
      "|   |   |--- BMI <= 45.40\n",
      "|   |   |   |--- BMI <= 30.95\n",
      "|   |   |   |   |--- Pregnancies <= 7.50\n",
      "|   |   |   |   |   |--- class: 0\n",
      "|   |   |   |   |--- Pregnancies >  7.50\n",
      "|   |   |   |   |   |--- class: 1\n",
      "|   |   |   |--- BMI >  30.95\n",
      "|   |   |   |   |--- DiabetesPedigreeFunction <= 0.50\n",
      "|   |   |   |   |   |--- class: 0\n",
      "|   |   |   |   |--- DiabetesPedigreeFunction >  0.50\n",
      "|   |   |   |   |   |--- class: 0\n",
      "|   |   |--- BMI >  45.40\n",
      "|   |   |   |--- BloodPressure <= 99.00\n",
      "|   |   |   |   |--- class: 1\n",
      "|   |   |   |--- BloodPressure >  99.00\n",
      "|   |   |   |   |--- class: 0\n",
      "|   |--- Age >  28.50\n",
      "|   |   |--- BMI <= 26.35\n",
      "|   |   |   |--- BMI <= 9.65\n",
      "|   |   |   |   |--- class: 1\n",
      "|   |   |   |--- BMI >  9.65\n",
      "|   |   |   |   |--- class: 0\n",
      "|   |   |--- BMI >  26.35\n",
      "|   |   |   |--- Glucose <= 99.50\n",
      "|   |   |   |   |--- Glucose <= 28.50\n",
      "|   |   |   |   |   |--- class: 1\n",
      "|   |   |   |   |--- Glucose >  28.50\n",
      "|   |   |   |   |   |--- class: 0\n",
      "|   |   |   |--- Glucose >  99.50\n",
      "|   |   |   |   |--- DiabetesPedigreeFunction <= 0.56\n",
      "|   |   |   |   |   |--- class: 0\n",
      "|   |   |   |   |--- DiabetesPedigreeFunction >  0.56\n",
      "|   |   |   |   |   |--- class: 1\n",
      "|--- Glucose >  127.50\n",
      "|   |--- BMI <= 29.95\n",
      "|   |   |--- Glucose <= 145.50\n",
      "|   |   |   |--- Insulin <= 132.50\n",
      "|   |   |   |   |--- BMI <= 28.15\n",
      "|   |   |   |   |   |--- class: 0\n",
      "|   |   |   |   |--- BMI >  28.15\n",
      "|   |   |   |   |   |--- class: 1\n",
      "|   |   |   |--- Insulin >  132.50\n",
      "|   |   |   |   |--- class: 0\n",
      "|   |   |--- Glucose >  145.50\n",
      "|   |   |   |--- Age <= 25.50\n",
      "|   |   |   |   |--- class: 0\n",
      "|   |   |   |--- Age >  25.50\n",
      "|   |   |   |   |--- Age <= 61.00\n",
      "|   |   |   |   |   |--- class: 1\n",
      "|   |   |   |   |--- Age >  61.00\n",
      "|   |   |   |   |   |--- class: 0\n",
      "|   |--- BMI >  29.95\n",
      "|   |   |--- Glucose <= 157.50\n",
      "|   |   |   |--- Age <= 30.50\n",
      "|   |   |   |   |--- BloodPressure <= 61.00\n",
      "|   |   |   |   |   |--- class: 1\n",
      "|   |   |   |   |--- BloodPressure >  61.00\n",
      "|   |   |   |   |   |--- class: 0\n",
      "|   |   |   |--- Age >  30.50\n",
      "|   |   |   |   |--- DiabetesPedigreeFunction <= 0.43\n",
      "|   |   |   |   |   |--- class: 1\n",
      "|   |   |   |   |--- DiabetesPedigreeFunction >  0.43\n",
      "|   |   |   |   |   |--- class: 1\n",
      "|   |   |--- Glucose >  157.50\n",
      "|   |   |   |--- Insulin <= 629.50\n",
      "|   |   |   |   |--- DiabetesPedigreeFunction <= 0.30\n",
      "|   |   |   |   |   |--- class: 1\n",
      "|   |   |   |   |--- DiabetesPedigreeFunction >  0.30\n",
      "|   |   |   |   |   |--- class: 1\n",
      "|   |   |   |--- Insulin >  629.50\n",
      "|   |   |   |   |--- class: 0\n",
      "\n"
     ]
    }
   ],
   "source": [
    "tree_rules = export_text(decision_tree=cart_final,\n",
    "                         feature_names=list(X.columns))\n",
    "print(tree_rules)"
   ]
  },
  {
   "cell_type": "markdown",
   "metadata": {},
   "source": [
    "## Extracting Python/SQL/Excel Codes of Decision Rules"
   ]
  },
  {
   "cell_type": "code",
   "execution_count": 50,
   "metadata": {},
   "outputs": [
    {
     "name": "stdout",
     "output_type": "stream",
     "text": [
      "(((((0 if x[0] <= 7.5 else 1) if x[5] <= 30.949999809265137 else 0 if x[6] <=\n",
      "    0.5005000084638596 else 0) if x[5] <= 45.39999961853027 else 1 if x[2] <=\n",
      "    99.0 else 0) if x[7] <= 28.5 else (1 if x[5] <= 9.649999618530273 else \n",
      "    0) if x[5] <= 26.350000381469727 else (1 if x[1] <= 28.5 else 0) if x[1\n",
      "    ] <= 99.5 else 0 if x[6] <= 0.5609999895095825 else 1) if x[1] <= 127.5\n",
      "     else (((0 if x[5] <= 28.149999618530273 else 1) if x[4] <= 132.5 else \n",
      "    0) if x[1] <= 145.5 else 0 if x[7] <= 25.5 else 1 if x[7] <= 61.0 else \n",
      "    0) if x[5] <= 29.949999809265137 else ((1 if x[2] <= 61.0 else 0) if x[\n",
      "    7] <= 30.5 else 1 if x[6] <= 0.4294999986886978 else 1) if x[1] <= \n",
      "    157.5 else (1 if x[6] <= 0.3004999905824661 else 1) if x[4] <= 629.5 else 0\n",
      "    )\n",
      "\n"
     ]
    }
   ],
   "source": [
    "print(skompile(cart_final.predict).to('python/code'))"
   ]
  },
  {
   "cell_type": "code",
   "execution_count": 51,
   "metadata": {},
   "outputs": [
    {
     "name": "stdout",
     "output_type": "stream",
     "text": [
      "SELECT CASE WHEN (x2 <= 127.5) THEN CASE WHEN (x8 <= 28.5) THEN CASE WHEN (x6 <= 45.39999961853027) THEN CASE WHEN (x6 <= 30.949999809265137) THEN CASE WHEN (x1 <= 7.5) THEN 0 ELSE 1 END ELSE 0 END ELSE CASE WHEN (x3 <= 99.0) THEN 1 ELSE 0 END END ELSE CASE WHEN (x6 <= 26.350000381469727) THEN CASE WHEN (x6 <= 9.649999618530273) THEN 1 ELSE 0 END ELSE CASE WHEN (x2 <= 99.5) THEN CASE WHEN (x2 <= 28.5) THEN 1 ELSE 0 END ELSE CASE WHEN (x7 <= 0.5609999895095825) THEN 0 ELSE 1 END END END END ELSE CASE WHEN (x6 <= 29.949999809265137) THEN CASE WHEN (x2 <= 145.5) THEN CASE WHEN (x5 <= 132.5) THEN CASE WHEN (x6 <= 28.149999618530273) THEN 0 ELSE 1 END ELSE 0 END ELSE CASE WHEN (x8 <= 25.5) THEN 0 ELSE CASE WHEN (x8 <= 61.0) THEN 1 ELSE 0 END END END ELSE CASE WHEN (x2 <= 157.5) THEN CASE WHEN (x8 <= 30.5) THEN CASE WHEN (x3 <= 61.0) THEN 1 ELSE 0 END ELSE 1 END ELSE CASE WHEN (x5 <= 629.5) THEN 1 ELSE 0 END END END END AS y \n",
      "FROM data\n"
     ]
    }
   ],
   "source": [
    "print(skompile(cart_final.predict).to('sqlalchemy/sqlite'))"
   ]
  },
  {
   "cell_type": "code",
   "execution_count": 52,
   "metadata": {},
   "outputs": [
    {
     "name": "stdout",
     "output_type": "stream",
     "text": [
      "A1=IF((x2<=127.5),IF((x ...418 chars skipped... ((x5<=629.5),1,0))))\n"
     ]
    }
   ],
   "source": [
    "print(skompile(cart_final.predict).to('excel'))"
   ]
  },
  {
   "cell_type": "markdown",
   "metadata": {},
   "source": [
    "## Prediction using Python Codes"
   ]
  },
  {
   "cell_type": "code",
   "execution_count": 53,
   "metadata": {},
   "outputs": [],
   "source": [
    "def predict_with_rules(x):\n",
    "    return ((((((0 if x[6] <= 0.671999990940094 else 1 if x[6] <= 0.6864999830722809 else\n",
    "        0) if x[0] <= 7.5 else 1) if x[5] <= 30.949999809265137 else ((1 if x[5\n",
    "        ] <= 32.45000076293945 else 1 if x[3] <= 10.5 else 0) if x[2] <= 53.0 else\n",
    "        ((0 if x[1] <= 111.5 else 0 if x[2] <= 72.0 else 1 if x[3] <= 31.0 else\n",
    "        0) if x[2] <= 82.5 else 1) if x[4] <= 36.5 else 0) if x[6] <=\n",
    "        0.5005000084638596 else (0 if x[1] <= 88.5 else (((0 if x[0] <= 1.0 else\n",
    "        1) if x[1] <= 98.5 else 1) if x[6] <= 0.9269999861717224 else 0) if x[1\n",
    "        ] <= 116.0 else 0 if x[4] <= 166.0 else 1) if x[2] <= 69.0 else ((0 if\n",
    "        x[2] <= 79.0 else 0 if x[1] <= 104.5 else 1) if x[3] <= 5.5 else 0) if\n",
    "        x[6] <= 1.098000019788742 else 1) if x[5] <= 45.39999961853027 else 0 if\n",
    "        x[7] <= 22.5 else 1) if x[7] <= 28.5 else (1 if x[5] <=\n",
    "        9.649999618530273 else 0) if x[5] <= 26.350000381469727 else (1 if x[1] <=\n",
    "        28.5 else ((0 if x[0] <= 11.5 else 1 if x[5] <= 31.25 else 0) if x[1] <=\n",
    "        94.5 else (1 if x[5] <= 36.19999885559082 else 0) if x[1] <= 97.5 else\n",
    "        0) if x[6] <= 0.7960000038146973 else 0 if x[0] <= 3.0 else (1 if x[6] <=\n",
    "        0.9614999890327454 else 0) if x[3] <= 20.0 else 1) if x[1] <= 99.5 else\n",
    "        ((1 if x[5] <= 27.649999618530273 else 0 if x[0] <= 5.5 else (((1 if x[\n",
    "        0] <= 7.0 else 0) if x[1] <= 103.5 else 0) if x[1] <= 118.5 else 1) if\n",
    "        x[0] <= 9.0 else 0) if x[6] <= 0.19999999552965164 else ((0 if x[5] <=\n",
    "        36.14999961853027 else 1) if x[1] <= 113.0 else 1) if x[0] <= 1.5 else\n",
    "        (1 if x[6] <= 0.3620000034570694 else 1 if x[5] <= 30.050000190734863 else\n",
    "        0) if x[2] <= 67.0 else (((0 if x[6] <= 0.2524999976158142 else 1) if x\n",
    "        [1] <= 120.0 else 1 if x[6] <= 0.23899999260902405 else 1 if x[7] <=\n",
    "        30.5 else 0) if x[2] <= 83.0 else 0) if x[5] <= 34.45000076293945 else\n",
    "        1 if x[1] <= 101.0 else 0 if x[5] <= 43.10000038146973 else 1) if x[6] <=\n",
    "        0.5609999895095825 else ((0 if x[7] <= 34.5 else 1 if x[5] <=\n",
    "        33.14999961853027 else 0) if x[4] <= 120.5 else (1 if x[3] <= 47.5 else\n",
    "        0) if x[4] <= 225.0 else 0) if x[0] <= 6.5 else 1) if x[1] <= 127.5 else\n",
    "        (((((1 if x[1] <= 129.5 else ((1 if x[6] <= 0.5444999933242798 else 0) if\n",
    "        x[2] <= 56.0 else 0) if x[2] <= 71.0 else 1) if x[2] <= 73.0 else 0) if\n",
    "        x[5] <= 28.149999618530273 else (1 if x[1] <= 135.0 else 0) if x[3] <=\n",
    "        21.0 else 1) if x[4] <= 132.5 else 0) if x[1] <= 145.5 else 0 if x[7] <=\n",
    "        25.5 else ((0 if x[1] <= 151.0 else 1) if x[5] <= 27.09999942779541 else\n",
    "        ((1 if x[0] <= 6.5 else 0) if x[6] <= 0.3974999934434891 else 0) if x[2\n",
    "        ] <= 82.0 else 0) if x[7] <= 61.0 else 0) if x[5] <= 29.949999809265137\n",
    "         else ((1 if x[2] <= 61.0 else (((((0 if x[6] <= 0.18299999833106995 else\n",
    "        1) if x[0] <= 0.5 else 1 if x[5] <= 32.45000076293945 else 0) if x[2] <=\n",
    "        73.0 else 0) if x[0] <= 4.5 else 1 if x[6] <= 0.6169999837875366 else 0\n",
    "        ) if x[6] <= 1.1414999961853027 else 1) if x[5] <= 41.79999923706055 else\n",
    "        1 if x[6] <= 0.37299999594688416 else 1 if x[1] <= 142.5 else 0) if x[7\n",
    "        ] <= 30.5 else (((1 if x[6] <= 0.13649999350309372 else 0 if x[5] <=\n",
    "        32.45000076293945 else 1 if x[5] <= 33.05000114440918 else (0 if x[6] <=\n",
    "        0.25599999725818634 else (0 if x[1] <= 130.5 else 1) if x[0] <= 8.5 else\n",
    "        0) if x[0] <= 13.5 else 1) if x[2] <= 92.0 else 1) if x[5] <=\n",
    "        45.54999923706055 else 1) if x[6] <= 0.4294999986886978 else (1 if x[5] <=\n",
    "        40.05000114440918 else 0 if x[5] <= 40.89999961853027 else 1) if x[4] <=\n",
    "        333.5 else 1 if x[2] <= 64.0 else 0) if x[1] <= 157.5 else ((((1 if x[7\n",
    "        ] <= 25.5 else 0 if x[4] <= 87.5 else 1 if x[5] <= 45.60000038146973 else\n",
    "        0) if x[7] <= 37.5 else 1 if x[7] <= 56.5 else 0 if x[6] <=\n",
    "        0.22100000083446503 else 1) if x[6] <= 0.28849999606609344 else 0) if x\n",
    "        [6] <= 0.3004999905824661 else 1 if x[7] <= 44.0 else (0 if x[7] <=\n",
    "        51.0 else 1 if x[6] <= 1.1565000414848328 else 0) if x[0] <= 6.5 else 1\n",
    "        ) if x[4] <= 629.5 else 1 if x[6] <= 0.4124999940395355 else 0)"
   ]
  },
  {
   "cell_type": "code",
   "execution_count": 54,
   "metadata": {},
   "outputs": [
    {
     "data": {
      "text/plain": [
       "Index(['Pregnancies', 'Glucose', 'BloodPressure', 'SkinThickness', 'Insulin', 'BMI', 'DiabetesPedigreeFunction', 'Age'], dtype='object')"
      ]
     },
     "execution_count": 54,
     "metadata": {},
     "output_type": "execute_result"
    }
   ],
   "source": [
    "X.columns"
   ]
  },
  {
   "cell_type": "code",
   "execution_count": 55,
   "metadata": {},
   "outputs": [],
   "source": [
    "x = [12, 13, 20, 23, 4, 55, 12, 7]"
   ]
  },
  {
   "cell_type": "code",
   "execution_count": 56,
   "metadata": {},
   "outputs": [
    {
     "data": {
      "text/plain": [
       "0"
      ]
     },
     "execution_count": 56,
     "metadata": {},
     "output_type": "execute_result"
    }
   ],
   "source": [
    "predict_with_rules(x)"
   ]
  },
  {
   "cell_type": "code",
   "execution_count": 57,
   "metadata": {},
   "outputs": [],
   "source": [
    "x = [6, 148, 70, 35, 0, 30, 0.62, 50]"
   ]
  },
  {
   "cell_type": "code",
   "execution_count": 58,
   "metadata": {},
   "outputs": [
    {
     "data": {
      "text/plain": [
       "1"
      ]
     },
     "execution_count": 58,
     "metadata": {},
     "output_type": "execute_result"
    }
   ],
   "source": [
    "predict_with_rules(x)"
   ]
  },
  {
   "cell_type": "markdown",
   "metadata": {},
   "source": [
    "## Saving and Loading Model"
   ]
  },
  {
   "cell_type": "code",
   "execution_count": 59,
   "metadata": {},
   "outputs": [
    {
     "data": {
      "text/plain": [
       "['cart_final.pkl']"
      ]
     },
     "execution_count": 59,
     "metadata": {},
     "output_type": "execute_result"
    }
   ],
   "source": [
    "joblib.dump(cart_final, \"cart_final.pkl\")"
   ]
  },
  {
   "cell_type": "code",
   "execution_count": 60,
   "metadata": {},
   "outputs": [],
   "source": [
    "cart_model_from_disc = joblib.load(\"cart_final.pkl\")"
   ]
  },
  {
   "cell_type": "code",
   "execution_count": 61,
   "metadata": {},
   "outputs": [],
   "source": [
    "x = [12, 13, 20, 23, 4, 55, 12, 7]"
   ]
  },
  {
   "cell_type": "code",
   "execution_count": 62,
   "metadata": {},
   "outputs": [
    {
     "data": {
      "text/plain": [
       "array([1], dtype=int64)"
      ]
     },
     "execution_count": 62,
     "metadata": {},
     "output_type": "execute_result"
    }
   ],
   "source": [
    "cart_model_from_disc.predict(pd.DataFrame(x).T)"
   ]
  }
 ],
 "metadata": {
  "kernelspec": {
   "display_name": "Python 3.9.12 ('python39')",
   "language": "python",
   "name": "python3"
  },
  "language_info": {
   "codemirror_mode": {
    "name": "ipython",
    "version": 3
   },
   "file_extension": ".py",
   "mimetype": "text/x-python",
   "name": "python",
   "nbconvert_exporter": "python",
   "pygments_lexer": "ipython3",
   "version": "3.9.12"
  },
  "orig_nbformat": 4,
  "vscode": {
   "interpreter": {
    "hash": "dc4b3c05902c10370de471fcddb26262fd84af011c6feaac4fb5a6964f823446"
   }
  }
 },
 "nbformat": 4,
 "nbformat_minor": 2
}
