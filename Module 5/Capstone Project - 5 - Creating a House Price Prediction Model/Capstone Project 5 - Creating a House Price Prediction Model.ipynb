{
 "cells": [
  {
   "cell_type": "markdown",
   "metadata": {
    "pycharm": {
     "name": "#%% md\n"
    }
   },
   "source": [
    "# Capstone Project 5 - Creating a House Price Prediction Model\n",
    "\n",
    "*Author: Eda AYDIN*\n",
    "\n"
   ]
  },
  {
   "cell_type": "markdown",
   "source": [
    "Table of Contents\n",
    "\n",
    "- [Business Problem](#business-problem)\n",
    "- [Dataset History](#dataset-history)\n",
    "- [Installation of Libraries](#installation-of-libraries)\n",
    "- [Exploratory Data Analysis](#exploratory-data-analysis)\n",
    "  - [Examine the overall picture](#examine-the-overall-picture)\n",
    "  - [Capture the numerical and categorical variables](#capture-the-numerical-and-categorical-variables)\n",
    "  - [Analyze the numerical and categorical variables](#analyze-the-numerical-and-categorical-variables)\n",
    "\t- [Analysis of Categorical Variables](#analysis-of-categorical-variables)\n",
    "\t- [Analysis of Numerical Variables](#analysis-of-numerical-variables)\n",
    "\t- [Analysis of Dependent Variables (Y)](#analysis-of-dependent-variables-y)\n",
    "  - [Correlation Analysis](#correlation-analysis)\n",
    "  - [Analysis of Outliers](#analysis-of-outliers)\n",
    "  - [Missing Values Analysis](#missing-values-analysis)\n",
    "- [Feature Engineering](#feature-engineering)\n",
    "  - [Rare Analysis](#rare-analysis)\n",
    "  - [Feature Extraction](#feature-extraction)\n",
    "  - [Encoding](#encoding)\n",
    "    - [Label Encoding](#label-encoding)\n",
    "    - [One-Hot Encoding](#one---hot-encoding)\n",
    "- [Modeling](#modeling)"
   ],
   "metadata": {
    "collapsed": false,
    "pycharm": {
     "name": "#%% md\n"
    }
   }
  },
  {
   "cell_type": "markdown",
   "source": [
    "## Business Problem\n",
    "\n",
    "Ask a home buyer to describe their dream house, and they probably won't begin with the height of the basement ceiling or the proximity o east-west railroad. But this playground competition's dataset proves that much more influences price negotiations than the number of bedrooms or a white-picket fence.\n"
   ],
   "metadata": {
    "collapsed": false,
    "pycharm": {
     "name": "#%% md\n"
    }
   }
  },
  {
   "cell_type": "markdown",
   "source": [
    "## Dataset History \n",
    "\n",
    "\n",
    "With 79 explonatory variables describing (almost) every aspect of residential homes in Ames, Iowa, this competition challenges you to predict the final of each home. \n",
    "\n",
    "\n",
    "<table>\n",
    "<tbody>\n",
    "<tr>\n",
    "<td width=\"125\">\n",
    "<p><strong>Features</strong></p>\n",
    "</td>\n",
    "<td width=\"470\">\n",
    "<p>Explanation</p>\n",
    "</td>\n",
    "</tr>\n",
    "<tr>\n",
    "<td width=\"125\">\n",
    "<p><strong>SalePrice </strong></p>\n",
    "</td>\n",
    "<td width=\"470\">\n",
    "<p>the property's sale price in dollars. This is the target variable that you're trying to predict.</p>\n",
    "</td>\n",
    "</tr>\n",
    "<tr>\n",
    "<td width=\"125\">\n",
    "<p><strong>MSSubClass</strong></p>\n",
    "</td>\n",
    "<td width=\"470\">\n",
    "<p>The building class</p>\n",
    "</td>\n",
    "</tr>\n",
    "<tr>\n",
    "<td width=\"125\">\n",
    "<p><strong>MSZoning</strong></p>\n",
    "</td>\n",
    "<td width=\"470\">\n",
    "<p>The general zoning classification</p>\n",
    "</td>\n",
    "</tr>\n",
    "<tr>\n",
    "<td width=\"125\">\n",
    "<p><strong>LotFrontage</strong></p>\n",
    "</td>\n",
    "<td width=\"470\">\n",
    "<p>Linear feet of street connected to property</p>\n",
    "</td>\n",
    "</tr>\n",
    "<tr>\n",
    "<td width=\"125\">\n",
    "<p><strong>LotArea</strong></p>\n",
    "</td>\n",
    "<td width=\"470\">\n",
    "<p>Lot size in square feet</p>\n",
    "</td>\n",
    "</tr>\n",
    "<tr>\n",
    "<td width=\"125\">\n",
    "<p><strong>Street</strong></p>\n",
    "</td>\n",
    "<td width=\"470\">\n",
    "<p>Type of road access</p>\n",
    "</td>\n",
    "</tr>\n",
    "<tr>\n",
    "<td width=\"125\">\n",
    "<p><strong>Alley</strong></p>\n",
    "</td>\n",
    "<td width=\"470\">\n",
    "<p>Type of alley access</p>\n",
    "</td>\n",
    "</tr>\n",
    "<tr>\n",
    "<td width=\"125\">\n",
    "<p><strong>LotShape</strong></p>\n",
    "</td>\n",
    "<td width=\"470\">\n",
    "<p>The general shape of property</p>\n",
    "</td>\n",
    "</tr>\n",
    "<tr>\n",
    "<td width=\"125\">\n",
    "<p><strong>LandContour</strong></p>\n",
    "</td>\n",
    "<td width=\"470\">\n",
    "<p>The flatness of the property</p>\n",
    "</td>\n",
    "</tr>\n",
    "<tr>\n",
    "<td width=\"125\">\n",
    "<p><strong>Utilities</strong></p>\n",
    "</td>\n",
    "<td width=\"470\">\n",
    "<p>Type of utilities available</p>\n",
    "</td>\n",
    "</tr>\n",
    "<tr>\n",
    "<td width=\"125\">\n",
    "<p><strong>LotConfig</strong></p>\n",
    "</td>\n",
    "<td width=\"470\">\n",
    "<p>Lot configuration</p>\n",
    "</td>\n",
    "</tr>\n",
    "<tr>\n",
    "<td width=\"125\">\n",
    "<p><strong>LandSlope</strong></p>\n",
    "</td>\n",
    "<td width=\"470\">\n",
    "<p>Slope of property</p>\n",
    "</td>\n",
    "</tr>\n",
    "<tr>\n",
    "<td width=\"125\">\n",
    "<p><strong>Neighborhood</strong></p>\n",
    "</td>\n",
    "<td width=\"470\">\n",
    "<p>Physical locations within Ames city limits</p>\n",
    "</td>\n",
    "</tr>\n",
    "<tr>\n",
    "<td width=\"125\">\n",
    "<p><strong>Condition1</strong></p>\n",
    "</td>\n",
    "<td width=\"470\">\n",
    "<p>Proximity to main road or railroad</p>\n",
    "</td>\n",
    "</tr>\n",
    "<tr>\n",
    "<td width=\"125\">\n",
    "<p><strong>Condition2</strong></p>\n",
    "</td>\n",
    "<td width=\"470\">\n",
    "<p>Proximity to main road or railroad (if a second is present)</p>\n",
    "</td>\n",
    "</tr>\n",
    "<tr>\n",
    "<td width=\"125\">\n",
    "<p><strong>BldgType</strong></p>\n",
    "</td>\n",
    "<td width=\"470\">\n",
    "<p>Type of dwelling</p>\n",
    "</td>\n",
    "</tr>\n",
    "<tr>\n",
    "<td width=\"125\">\n",
    "<p><strong>HouseStyle</strong></p>\n",
    "</td>\n",
    "<td width=\"470\">\n",
    "<p>Style of dwelling</p>\n",
    "</td>\n",
    "</tr>\n",
    "<tr>\n",
    "<td width=\"125\">\n",
    "<p><strong>OverallQual</strong></p>\n",
    "</td>\n",
    "<td width=\"470\">\n",
    "<p>Overall material and finish quality</p>\n",
    "</td>\n",
    "</tr>\n",
    "<tr>\n",
    "<td width=\"125\">\n",
    "<p><strong>OverallCond</strong></p>\n",
    "</td>\n",
    "<td width=\"470\">\n",
    "<p>Overall condition rating</p>\n",
    "</td>\n",
    "</tr>\n",
    "<tr>\n",
    "<td width=\"125\">\n",
    "<p><strong>YearBuilt</strong></p>\n",
    "</td>\n",
    "<td width=\"470\">\n",
    "<p>Original construction date</p>\n",
    "</td>\n",
    "</tr>\n",
    "<tr>\n",
    "<td width=\"125\">\n",
    "<p><strong>YearRemodAdd</strong></p>\n",
    "</td>\n",
    "<td width=\"470\">\n",
    "<p>Remodel date</p>\n",
    "</td>\n",
    "</tr>\n",
    "<tr>\n",
    "<td width=\"125\">\n",
    "<p><strong>RoofStyle</strong></p>\n",
    "</td>\n",
    "<td width=\"470\">\n",
    "<p>Type of roof</p>\n",
    "</td>\n",
    "</tr>\n",
    "<tr>\n",
    "<td width=\"125\">\n",
    "<p><strong>RoofMatl</strong></p>\n",
    "</td>\n",
    "<td width=\"470\">\n",
    "<p>Roof material</p>\n",
    "</td>\n",
    "</tr>\n",
    "<tr>\n",
    "<td width=\"125\">\n",
    "<p><strong>Exterior1st</strong></p>\n",
    "</td>\n",
    "<td width=\"470\">\n",
    "<p>Exterior covering on house</p>\n",
    "</td>\n",
    "</tr>\n",
    "<tr>\n",
    "<td width=\"125\">\n",
    "<p><strong>Exterior2nd</strong></p>\n",
    "</td>\n",
    "<td width=\"470\">\n",
    "<p>Exterior covering on house (if more than one material)</p>\n",
    "</td>\n",
    "</tr>\n",
    "<tr>\n",
    "<td width=\"125\">\n",
    "<p><strong>MasVnrType</strong></p>\n",
    "</td>\n",
    "<td width=\"470\">\n",
    "<p>Masonry veneer type</p>\n",
    "</td>\n",
    "</tr>\n",
    "<tr>\n",
    "<td width=\"125\">\n",
    "<p><strong>MasVnrArea</strong></p>\n",
    "</td>\n",
    "<td width=\"470\">\n",
    "<p>Masonry veneer area in square feet</p>\n",
    "</td>\n",
    "</tr>\n",
    "<tr>\n",
    "<td width=\"125\">\n",
    "<p><strong>ExterQual</strong></p>\n",
    "</td>\n",
    "<td width=\"470\">\n",
    "<p>Exterior material quality</p>\n",
    "</td>\n",
    "</tr>\n",
    "<tr>\n",
    "<td width=\"125\">\n",
    "<p><strong>ExterCond</strong></p>\n",
    "</td>\n",
    "<td width=\"470\">\n",
    "<p>The present condition of the material on the exterior</p>\n",
    "</td>\n",
    "</tr>\n",
    "<tr>\n",
    "<td width=\"125\">\n",
    "<p><strong>Foundation</strong></p>\n",
    "</td>\n",
    "<td width=\"470\">\n",
    "<p>Type of foundation</p>\n",
    "</td>\n",
    "</tr>\n",
    "<tr>\n",
    "<td width=\"125\">\n",
    "<p><strong>BsmtQual</strong></p>\n",
    "</td>\n",
    "<td width=\"470\">\n",
    "<p>Height of the basement</p>\n",
    "</td>\n",
    "</tr>\n",
    "<tr>\n",
    "<td width=\"125\">\n",
    "<p><strong>BsmtCond</strong></p>\n",
    "</td>\n",
    "<td width=\"470\">\n",
    "<p>The general condition of the basement</p>\n",
    "</td>\n",
    "</tr>\n",
    "<tr>\n",
    "<td width=\"125\">\n",
    "<p><strong>BsmtExposure</strong></p>\n",
    "</td>\n",
    "<td width=\"470\">\n",
    "<p>Walkout or garden-level basement walls</p>\n",
    "</td>\n",
    "</tr>\n",
    "<tr>\n",
    "<td width=\"125\">\n",
    "<p><strong>BsmtFinType1</strong></p>\n",
    "</td>\n",
    "<td width=\"470\">\n",
    "<p>Quality of basement finished area</p>\n",
    "</td>\n",
    "</tr>\n",
    "<tr>\n",
    "<td width=\"125\">\n",
    "<p><strong>BsmtFinSF1</strong></p>\n",
    "</td>\n",
    "<td width=\"470\">\n",
    "<p>Type 1 finished square feet</p>\n",
    "</td>\n",
    "</tr>\n",
    "<tr>\n",
    "<td width=\"125\">\n",
    "<p><strong>BsmtFinType2</strong></p>\n",
    "</td>\n",
    "<td width=\"470\">\n",
    "<p>Quality of second finished area (if present)</p>\n",
    "</td>\n",
    "</tr>\n",
    "<tr>\n",
    "<td width=\"125\">\n",
    "<p><strong>BsmtFinSF2</strong></p>\n",
    "</td>\n",
    "<td width=\"470\">\n",
    "<p>Type 2 finished square feet</p>\n",
    "</td>\n",
    "</tr>\n",
    "<tr>\n",
    "<td width=\"125\">\n",
    "<p><strong>BsmtUnfSF</strong></p>\n",
    "</td>\n",
    "<td width=\"470\">\n",
    "<p>Unfinished square feet of basement area</p>\n",
    "</td>\n",
    "</tr>\n",
    "<tr>\n",
    "<td width=\"125\">\n",
    "<p><strong>TotalBsmtSF</strong></p>\n",
    "</td>\n",
    "<td width=\"470\">\n",
    "<p>Total square feet of basement area</p>\n",
    "</td>\n",
    "</tr>\n",
    "<tr>\n",
    "<td width=\"125\">\n",
    "<p><strong>Heating</strong></p>\n",
    "</td>\n",
    "<td width=\"470\">\n",
    "<p>Type of heating</p>\n",
    "</td>\n",
    "</tr>\n",
    "<tr>\n",
    "<td width=\"125\">\n",
    "<p><strong>HeatingQC</strong></p>\n",
    "</td>\n",
    "<td width=\"470\">\n",
    "<p>Heating quality and condition</p>\n",
    "</td>\n",
    "</tr>\n",
    "<tr>\n",
    "<td width=\"125\">\n",
    "<p><strong>CentralAir</strong></p>\n",
    "</td>\n",
    "<td width=\"470\">\n",
    "<p>Central air conditioning</p>\n",
    "</td>\n",
    "</tr>\n",
    "<tr>\n",
    "<td width=\"125\">\n",
    "<p><strong>Electrical</strong></p>\n",
    "</td>\n",
    "<td width=\"470\">\n",
    "<p>Electrical system</p>\n",
    "</td>\n",
    "</tr>\n",
    "<tr>\n",
    "<td width=\"125\">\n",
    "<p><strong>1stFlrSF</strong></p>\n",
    "</td>\n",
    "<td width=\"470\">\n",
    "<p>First Floor square feet</p>\n",
    "</td>\n",
    "</tr>\n",
    "<tr>\n",
    "<td width=\"125\">\n",
    "<p><strong>2ndFlrSF</strong></p>\n",
    "</td>\n",
    "<td width=\"470\">\n",
    "<p>Second-floor square feet</p>\n",
    "</td>\n",
    "</tr>\n",
    "<tr>\n",
    "<td width=\"125\">\n",
    "<p><strong>LowQualFinSF</strong></p>\n",
    "</td>\n",
    "<td width=\"470\">\n",
    "<p>Low-quality finished square feet (all floors)</p>\n",
    "</td>\n",
    "</tr>\n",
    "<tr>\n",
    "<td width=\"125\">\n",
    "<p><strong>GrLivArea</strong></p>\n",
    "</td>\n",
    "<td width=\"470\">\n",
    "<p>Above grade (ground) living area square feet</p>\n",
    "</td>\n",
    "</tr>\n",
    "<tr>\n",
    "<td width=\"125\">\n",
    "<p><strong>BsmtFullBath</strong></p>\n",
    "</td>\n",
    "<td width=\"470\">\n",
    "<p>Basement full bathrooms</p>\n",
    "</td>\n",
    "</tr>\n",
    "<tr>\n",
    "<td width=\"125\">\n",
    "<p><strong>BsmtHalfBath</strong></p>\n",
    "</td>\n",
    "<td width=\"470\">\n",
    "<p>Basement half bathrooms</p>\n",
    "</td>\n",
    "</tr>\n",
    "<tr>\n",
    "<td width=\"125\">\n",
    "<p><strong>FullBath</strong></p>\n",
    "</td>\n",
    "<td width=\"470\">\n",
    "<p>Full bathrooms above grade</p>\n",
    "</td>\n",
    "</tr>\n",
    "<tr>\n",
    "<td width=\"125\">\n",
    "<p><strong>HalfBath</strong></p>\n",
    "</td>\n",
    "<td width=\"470\">\n",
    "<p>Half baths above grade</p>\n",
    "</td>\n",
    "</tr>\n",
    "<tr>\n",
    "<td width=\"125\">\n",
    "<p><strong>Bedroom</strong></p>\n",
    "</td>\n",
    "<td width=\"470\">\n",
    "<p>Number of bedrooms above basement level</p>\n",
    "</td>\n",
    "</tr>\n",
    "<tr>\n",
    "<td width=\"125\">\n",
    "<p><strong>Kitchen</strong></p>\n",
    "</td>\n",
    "<td width=\"470\">\n",
    "<p>Number of kitchens</p>\n",
    "</td>\n",
    "</tr>\n",
    "<tr>\n",
    "<td width=\"125\">\n",
    "<p><strong>KitchenQual</strong></p>\n",
    "</td>\n",
    "<td width=\"470\">\n",
    "<p>Kitchen quality</p>\n",
    "</td>\n",
    "</tr>\n",
    "<tr>\n",
    "<td width=\"125\">\n",
    "<p><strong>TotRmsAbvGrd</strong></p>\n",
    "</td>\n",
    "<td width=\"470\">\n",
    "<p>Total rooms above grade (does not include bathrooms)</p>\n",
    "</td>\n",
    "</tr>\n",
    "<tr>\n",
    "<td width=\"125\">\n",
    "<p><strong>Functional</strong></p>\n",
    "</td>\n",
    "<td width=\"470\">\n",
    "<p>Home functionality rating</p>\n",
    "</td>\n",
    "</tr>\n",
    "<tr>\n",
    "<td width=\"125\">\n",
    "<p><strong>Fireplaces</strong></p>\n",
    "</td>\n",
    "<td width=\"470\">\n",
    "<p>Number of fireplaces</p>\n",
    "</td>\n",
    "</tr>\n",
    "<tr>\n",
    "<td width=\"125\">\n",
    "<p><strong>FireplaceQu</strong></p>\n",
    "</td>\n",
    "<td width=\"470\">\n",
    "<p>Fireplace quality</p>\n",
    "</td>\n",
    "</tr>\n",
    "<tr>\n",
    "<td width=\"125\">\n",
    "<p><strong>GarageType</strong></p>\n",
    "</td>\n",
    "<td width=\"470\">\n",
    "<p>Garage location</p>\n",
    "</td>\n",
    "</tr>\n",
    "<tr>\n",
    "<td width=\"125\">\n",
    "<p><strong>GarageYrBlt</strong></p>\n",
    "</td>\n",
    "<td width=\"470\">\n",
    "<p>Year garage was built</p>\n",
    "</td>\n",
    "</tr>\n",
    "<tr>\n",
    "<td width=\"125\">\n",
    "<p><strong>GarageFinish</strong></p>\n",
    "</td>\n",
    "<td width=\"470\">\n",
    "<p>The interior finish of the garage</p>\n",
    "</td>\n",
    "</tr>\n",
    "<tr>\n",
    "<td width=\"125\">\n",
    "<p><strong>GarageCars</strong></p>\n",
    "</td>\n",
    "<td width=\"470\">\n",
    "<p>Size of garage in car capacity</p>\n",
    "</td>\n",
    "</tr>\n",
    "<tr>\n",
    "<td width=\"125\">\n",
    "<p><strong>GarageArea</strong></p>\n",
    "</td>\n",
    "<td width=\"470\">\n",
    "<p>Size of garage in square feet</p>\n",
    "</td>\n",
    "</tr>\n",
    "<tr>\n",
    "<td width=\"125\">\n",
    "<p><strong>GarageQual</strong></p>\n",
    "</td>\n",
    "<td width=\"470\">\n",
    "<p>Garage quality</p>\n",
    "</td>\n",
    "</tr>\n",
    "<tr>\n",
    "<td width=\"125\">\n",
    "<p><strong>GarageCond</strong></p>\n",
    "</td>\n",
    "<td width=\"470\">\n",
    "<p>Garage condition</p>\n",
    "</td>\n",
    "</tr>\n",
    "<tr>\n",
    "<td width=\"125\">\n",
    "<p><strong>PavedDrive</strong></p>\n",
    "</td>\n",
    "<td width=\"470\">\n",
    "<p>Paved driveway</p>\n",
    "</td>\n",
    "</tr>\n",
    "<tr>\n",
    "<td width=\"125\">\n",
    "<p><strong>WoodDeckSF</strong></p>\n",
    "</td>\n",
    "<td width=\"470\">\n",
    "<p>Wood deck area in square feet</p>\n",
    "</td>\n",
    "</tr>\n",
    "<tr>\n",
    "<td width=\"125\">\n",
    "<p><strong>OpenPorchSF</strong></p>\n",
    "</td>\n",
    "<td width=\"470\">\n",
    "<p>Open porch area in square feet</p>\n",
    "</td>\n",
    "</tr>\n",
    "<tr>\n",
    "<td width=\"125\">\n",
    "<p><strong>EnclosedPorch</strong></p>\n",
    "</td>\n",
    "<td width=\"470\">\n",
    "<p>Enclosed porch area in square feet</p>\n",
    "</td>\n",
    "</tr>\n",
    "<tr>\n",
    "<td width=\"125\">\n",
    "<p><strong>3SsnPorch</strong></p>\n",
    "</td>\n",
    "<td width=\"470\">\n",
    "<p>Three-season porch area in square feet</p>\n",
    "</td>\n",
    "</tr>\n",
    "<tr>\n",
    "<td width=\"125\">\n",
    "<p><strong>ScreenPorch</strong></p>\n",
    "</td>\n",
    "<td width=\"470\">\n",
    "<p>Screen porch area in square feet</p>\n",
    "</td>\n",
    "</tr>\n",
    "<tr>\n",
    "<td width=\"125\">\n",
    "<p><strong>PoolArea</strong></p>\n",
    "</td>\n",
    "<td width=\"470\">\n",
    "<p>The pool area in square feet</p>\n",
    "</td>\n",
    "</tr>\n",
    "<tr>\n",
    "<td width=\"125\">\n",
    "<p><strong>PoolQC</strong></p>\n",
    "</td>\n",
    "<td width=\"470\">\n",
    "<p>Pool quality</p>\n",
    "</td>\n",
    "</tr>\n",
    "<tr>\n",
    "<td width=\"125\">\n",
    "<p><strong>Fence</strong></p>\n",
    "</td>\n",
    "<td width=\"470\">\n",
    "<p>Fence quality</p>\n",
    "</td>\n",
    "</tr>\n",
    "<tr>\n",
    "<td width=\"125\">\n",
    "<p><strong>MiscFeature</strong></p>\n",
    "</td>\n",
    "<td width=\"470\">\n",
    "<p>Miscellaneous feature not covered in other categories</p>\n",
    "</td>\n",
    "</tr>\n",
    "<tr>\n",
    "<td width=\"125\">\n",
    "<p><strong>MiscVal</strong></p>\n",
    "</td>\n",
    "<td width=\"470\">\n",
    "<p>$Value of miscellaneous feature</p>\n",
    "</td>\n",
    "</tr>\n",
    "<tr>\n",
    "<td width=\"125\">\n",
    "<p><strong>MoSold</strong></p>\n",
    "</td>\n",
    "<td width=\"470\">\n",
    "<p>Month Sold</p>\n",
    "</td>\n",
    "</tr>\n",
    "<tr>\n",
    "<td width=\"125\">\n",
    "<p><strong>YrSold</strong></p>\n",
    "</td>\n",
    "<td width=\"470\">\n",
    "<p>Year Sold</p>\n",
    "</td>\n",
    "</tr>\n",
    "<tr>\n",
    "<td width=\"125\">\n",
    "<p><strong>SaleType</strong></p>\n",
    "</td>\n",
    "<td width=\"470\">\n",
    "<p>Type of sale</p>\n",
    "</td>\n",
    "</tr>\n",
    "<tr>\n",
    "<td width=\"125\">\n",
    "<p><strong>SaleCondition</strong></p>\n",
    "</td>\n",
    "<td width=\"470\">\n",
    "<p>Condition of sale</p>\n",
    "</td>\n",
    "</tr>\n",
    "</tbody>\n",
    "</table>\n",
    "<p>&nbsp;</p>"
   ],
   "metadata": {
    "collapsed": false,
    "pycharm": {
     "name": "#%% md\n"
    }
   }
  },
  {
   "cell_type": "markdown",
   "source": [
    "## Installation of Libraries"
   ],
   "metadata": {
    "collapsed": false,
    "pycharm": {
     "name": "#%% md\n"
    }
   }
  },
  {
   "cell_type": "code",
   "execution_count": null,
   "outputs": [],
   "source": [
    "import matplotlib.mlab as mlab\n",
    "# Base\n",
    "import numpy as np\n",
    "import pandas as pd\n",
    "import seaborn as sns\n",
    "import seaborn as sns\n",
    "import sklearn\n",
    "import torch\n",
    "import xgboost\n",
    "from lightgbm import LGBMRegressor\n",
    "from matplotlib import pyplot as plt\n",
    "# Data Preprocessing\n",
    "from sklearn import preprocessing\n",
    "from sklearn.ensemble import RandomForestRegressor, GradientBoostingRegressor\n",
    "from sklearn.exceptions import ConvergenceWarning\n",
    "# Modeling\n",
    "from sklearn.linear_model import LinearRegression, Ridge, Lasso, ElasticNet\n",
    "from sklearn.metrics import mean_squared_error\n",
    "# Model Tuning\n",
    "from sklearn.model_selection import GridSearchCV, cross_val_score\n",
    "from sklearn.model_selection import train_test_split, GridSearchCV, cross_val_score\n",
    "from sklearn.neighbors import KNeighborsRegressor\n",
    "from sklearn.neighbors import LocalOutlierFactor\n",
    "from sklearn.neural_network import MLPRegressor\n",
    "from sklearn.svm import SVR\n",
    "from sklearn.tree import DecisionTreeRegressor\n",
    "from xgboost import XGBRegressor\n"
   ],
   "metadata": {
    "collapsed": false,
    "pycharm": {
     "name": "#%%\n"
    }
   }
  },
  {
   "cell_type": "code",
   "execution_count": null,
   "outputs": [],
   "source": [
    "# Warnings\n",
    "import warnings\n",
    "\n",
    "warnings.filterwarnings(\"ignore\", category=DeprecationWarning)\n",
    "warnings.filterwarnings(\"ignore\", category=FutureWarning)"
   ],
   "metadata": {
    "collapsed": false,
    "pycharm": {
     "name": "#%%\n"
    }
   }
  },
  {
   "cell_type": "code",
   "execution_count": null,
   "outputs": [],
   "source": [
    "pd.set_option(\"display.max_columns\", None)\n",
    "pd.set_option(\"display.width\", None)\n",
    "pd.set_option(\"display.float_format\", lambda x: '%.3f' % x)"
   ],
   "metadata": {
    "collapsed": false,
    "pycharm": {
     "name": "#%%\n"
    }
   }
  },
  {
   "cell_type": "markdown",
   "source": [
    "## Exploratory Data Analysis"
   ],
   "metadata": {
    "collapsed": false,
    "pycharm": {
     "name": "#%% md\n"
    }
   }
  },
  {
   "cell_type": "markdown",
   "source": [
    "### Examine the overall picture"
   ],
   "metadata": {
    "collapsed": false,
    "pycharm": {
     "name": "#%% md\n"
    }
   }
  },
  {
   "cell_type": "code",
   "execution_count": null,
   "outputs": [],
   "source": [
    "df_train = pd.read_csv(\"datasets/train.csv\")\n",
    "df_test = pd.read_csv(\"datasets/test.csv\")"
   ],
   "metadata": {
    "collapsed": false,
    "pycharm": {
     "name": "#%%\n"
    }
   }
  },
  {
   "cell_type": "code",
   "execution_count": null,
   "outputs": [],
   "source": [
    "df_train.head()"
   ],
   "metadata": {
    "collapsed": false,
    "pycharm": {
     "name": "#%%\n"
    }
   }
  },
  {
   "cell_type": "code",
   "execution_count": null,
   "outputs": [],
   "source": [
    "df_test.head()"
   ],
   "metadata": {
    "collapsed": false,
    "pycharm": {
     "name": "#%%\n"
    }
   }
  },
  {
   "cell_type": "code",
   "execution_count": null,
   "outputs": [],
   "source": [
    "df_train.shape, df_test.shape"
   ],
   "metadata": {
    "collapsed": false,
    "pycharm": {
     "name": "#%%\n"
    }
   }
  },
  {
   "cell_type": "markdown",
   "source": [
    "Append test dataset to train dataset\n",
    "\n",
    "- If one of the data sets we have had the information of the houses and the other only the IDs and Sales amounts, we would have to merge these two data sets with a merge. However, at the moment, we use the append function because we want to combine the structure of both our data sets to bring one under the other."
   ],
   "metadata": {
    "collapsed": false,
    "pycharm": {
     "name": "#%% md\n"
    }
   }
  },
  {
   "cell_type": "code",
   "execution_count": null,
   "outputs": [],
   "source": [
    "df = df_train.append(df_test).reset_index(drop=True)\n",
    "df.shape"
   ],
   "metadata": {
    "collapsed": false,
    "pycharm": {
     "name": "#%%\n"
    }
   }
  },
  {
   "cell_type": "markdown",
   "source": [
    "There was no SalePrice column in the test data set we combined, we assign NaN to these values, how can we look if we want to recheck how many there are?"
   ],
   "metadata": {
    "collapsed": false,
    "pycharm": {
     "name": "#%% md\n"
    }
   }
  },
  {
   "cell_type": "code",
   "execution_count": null,
   "outputs": [],
   "source": [
    "df.value_counts(np.where(df[\"SalePrice\"] > 0, \"1\", \"0\"))"
   ],
   "metadata": {
    "collapsed": false,
    "pycharm": {
     "name": "#%%\n"
    }
   }
  },
  {
   "cell_type": "markdown",
   "source": [
    "### Capture the numerical and categorical variables"
   ],
   "metadata": {
    "collapsed": false,
    "pycharm": {
     "name": "#%% md\n"
    }
   }
  },
  {
   "cell_type": "code",
   "execution_count": null,
   "outputs": [],
   "source": [
    "def grab_col_names(dataframe, categorical_threshold=10, cardinal_threshold=20):\n",
    "    \"\"\"\n",
    "    It gives the names of categorical, numerical and categorical but cardinal,nominal variables in the data set.\n",
    "    Note: Categorical variables but numerical variables are also included in categorical variables.\n",
    "\n",
    "    Parameters\n",
    "    ----------\n",
    "    dataframe : dataframe\n",
    "        The dataframe from which variables names are to be retrieved.\n",
    "    categorical_threshold : int, optional\n",
    "        class threshold for numeric but categorical variables\n",
    "    cardinal_threshold : int, optional\n",
    "        Class threshold for categorical but cardinal variables\n",
    "\n",
    "    Returns\n",
    "    -------\n",
    "        categorical_cols : list\n",
    "            Categorical variable list\n",
    "        numerical_cols : list\n",
    "            Numerical variable list\n",
    "        cardinal_cols : list\n",
    "            Categorical looking cardinal variable list\n",
    "\n",
    "    Examples\n",
    "    -------\n",
    "        import seaborn as sns\n",
    "        df = sns.load_titanic_dataset(\"iris\")\n",
    "        print(grab_col_names(df))\n",
    "\n",
    "    Notes\n",
    "    -------\n",
    "        categorical_cols + numerical_cols + cardinal_cols = total number of variables.\n",
    "        nominal_cols is inside categorical_cols\n",
    "        The sum of the 3 returned lists equals the total number of variables: categorical_cols + cardinal_cols = number of variables\n",
    "\n",
    "    \"\"\"\n",
    "\n",
    "    categorical_cols = [col for col in dataframe.columns if dataframe[col].dtypes == \"O\"]\n",
    "    nominal_cols = [col for col in dataframe.columns if\n",
    "                    dataframe[col].nunique() < categorical_threshold and dataframe[col].dtypes != \"O\"]\n",
    "    cardinal_cols = [col for col in dataframe.columns if\n",
    "                     dataframe[col].nunique() > cardinal_threshold and dataframe[col].dtypes == \"O\"]\n",
    "    categorical_cols = categorical_cols + nominal_cols\n",
    "    categorical_cols = [col for col in categorical_cols if col not in cardinal_cols]\n",
    "\n",
    "    # numerical_cols\n",
    "    numerical_cols = [col for col in dataframe.columns if dataframe[col].dtypes != \"O\"]\n",
    "    numerical_cols = [col for col in numerical_cols if col not in categorical_cols]\n",
    "\n",
    "    print(f\"Observations: {dataframe.shape[0]}\")\n",
    "    print(f\"Variables: {dataframe.shape[1]}\")\n",
    "    print(f'categorical_cols: {len(categorical_cols)}')\n",
    "    print(f'numerical_cols: {len(numerical_cols)}')\n",
    "    print(f'cardinal_cols: {len(cardinal_cols)}')\n",
    "    print(f'nominal_cols: {len(nominal_cols)}')\n",
    "    return categorical_cols, numerical_cols, cardinal_cols, nominal_cols"
   ],
   "metadata": {
    "collapsed": false,
    "pycharm": {
     "name": "#%%\n"
    }
   }
  },
  {
   "cell_type": "code",
   "execution_count": null,
   "outputs": [],
   "source": [
    "categorical_cols, numerical_cols, cardinal_cols, nominal_cols = grab_col_names(df)"
   ],
   "metadata": {
    "collapsed": false,
    "pycharm": {
     "name": "#%%\n"
    }
   }
  },
  {
   "cell_type": "code",
   "execution_count": null,
   "outputs": [],
   "source": [
    "print(\"Categorical column names: {}\".format(categorical_cols))\n",
    "print(\"Numerical column names: {}\".format(numerical_cols))\n",
    "print(\"Cardinal column names: {}\".format(cardinal_cols))\n",
    "print(\"Nominal column names: {}\".format(nominal_cols))"
   ],
   "metadata": {
    "collapsed": false,
    "pycharm": {
     "name": "#%%\n"
    }
   }
  },
  {
   "cell_type": "markdown",
   "source": [
    "### Analyze the numerical and categorical variables"
   ],
   "metadata": {
    "collapsed": false,
    "pycharm": {
     "name": "#%% md\n"
    }
   }
  },
  {
   "cell_type": "markdown",
   "source": [
    "#### Analysis of Categorical Variables"
   ],
   "metadata": {
    "collapsed": false,
    "pycharm": {
     "name": "#%% md\n"
    }
   }
  },
  {
   "cell_type": "code",
   "execution_count": null,
   "outputs": [],
   "source": [
    "def cat_summary(dataframe, col_name, plot=False):\n",
    "    print(pd.DataFrame({col_name: dataframe[col_name].value_counts(),\n",
    "                        \"Ratio\": 100 * dataframe[col_name].value_counts() / len(dataframe)}))\n",
    "    print(\"########################################## \\n\")\n",
    "\n",
    "    if plot:\n",
    "        sns.countplot(x=dataframe[col_name], data=dataframe)\n",
    "        plt.title(\"{} Count Graph.png\".format(col_name.capitalize()))\n",
    "        plt.savefig(\"{} Count Graph.png\".format(col_name.capitalize()))\n",
    "        plt.show(block=True)"
   ],
   "metadata": {
    "collapsed": false,
    "pycharm": {
     "name": "#%%\n"
    }
   }
  },
  {
   "cell_type": "code",
   "execution_count": null,
   "outputs": [],
   "source": [
    "for col in categorical_cols:\n",
    "    cat_summary(df, col, True)"
   ],
   "metadata": {
    "collapsed": false,
    "pycharm": {
     "name": "#%%\n"
    }
   }
  },
  {
   "cell_type": "markdown",
   "source": [
    "#### Analysis of Numerical Variables"
   ],
   "metadata": {
    "collapsed": false,
    "pycharm": {
     "name": "#%% md\n"
    }
   }
  },
  {
   "cell_type": "code",
   "execution_count": null,
   "outputs": [],
   "source": [
    "df[numerical_cols].describe([0.05, 0.1, 0.25, 0.5, 0.75, 0.95, 0.99]).T"
   ],
   "metadata": {
    "collapsed": false,
    "pycharm": {
     "name": "#%%\n"
    }
   }
  },
  {
   "cell_type": "code",
   "execution_count": null,
   "outputs": [],
   "source": [
    "def num_summary(dataframe, col_name, plot=False):\n",
    "    quantiles = [0.05, 0.10, 0.20, 0.30, 0.40, 0.50, 0.60, 0.70, 0.80, 0.90, 0.95, 0.99]\n",
    "    print(dataframe[col_name].describe(quantiles).T)\n",
    "\n",
    "    if plot:\n",
    "        dataframe[col_name].hist()\n",
    "        plt.xlabel(col_name)\n",
    "        plt.title(\"{} Histogram Graph.png\".format(col_name.capitalize()))\n",
    "        plt.savefig(\"{} Histogram Graph.png\".format(col_name.capitalize()))\n",
    "        plt.show(block=True)"
   ],
   "metadata": {
    "collapsed": false,
    "pycharm": {
     "name": "#%%\n"
    }
   }
  },
  {
   "cell_type": "code",
   "execution_count": null,
   "outputs": [],
   "source": [
    "for col in numerical_cols:\n",
    "    num_summary(df, col, True)"
   ],
   "metadata": {
    "collapsed": false,
    "pycharm": {
     "name": "#%%\n"
    }
   }
  },
  {
   "cell_type": "markdown",
   "source": [
    "#### Analysis of Dependent Variables (Y)"
   ],
   "metadata": {
    "collapsed": false,
    "pycharm": {
     "name": "#%% md\n"
    }
   }
  },
  {
   "cell_type": "code",
   "execution_count": null,
   "outputs": [],
   "source": [
    "df[\"SalePrice\"].describe([0.05, 0.1, 0.25, 0.5, 0.75, 0.8, 0.9, 0.95, 0.99]).T"
   ],
   "metadata": {
    "collapsed": false,
    "pycharm": {
     "name": "#%%\n"
    }
   }
  },
  {
   "cell_type": "code",
   "execution_count": null,
   "outputs": [],
   "source": [
    "sns.set(rc={'figure.figsize': (6, 6)})\n",
    "df[\"SalePrice\"].hist(bins=100)\n",
    "plt.show()"
   ],
   "metadata": {
    "collapsed": false,
    "pycharm": {
     "name": "#%%\n"
    }
   }
  },
  {
   "cell_type": "code",
   "execution_count": null,
   "outputs": [],
   "source": [
    "df = df.loc[~(df.SalePrice > 600000),]\n",
    "df[\"SalePrice\"].hist(bins=100)\n",
    "plt.show()"
   ],
   "metadata": {
    "collapsed": false,
    "pycharm": {
     "name": "#%%\n"
    }
   }
  },
  {
   "cell_type": "markdown",
   "source": [
    "#### Analysis of the Logarithm of Dependent Variable"
   ],
   "metadata": {
    "collapsed": false,
    "pycharm": {
     "name": "#%% md\n"
    }
   }
  },
  {
   "cell_type": "code",
   "execution_count": null,
   "outputs": [],
   "source": [
    "print(\"Skew: %f\" % df['SalePrice'].skew())"
   ],
   "metadata": {
    "collapsed": false,
    "pycharm": {
     "name": "#%%\n"
    }
   }
  },
  {
   "cell_type": "code",
   "execution_count": null,
   "outputs": [],
   "source": [
    "np.log1p(df['SalePrice']).hist(bins=50)\n",
    "plt.show()"
   ],
   "metadata": {
    "collapsed": false,
    "pycharm": {
     "name": "#%%\n"
    }
   }
  },
  {
   "cell_type": "code",
   "execution_count": null,
   "outputs": [],
   "source": [
    "print(\"Skew: %f\" % np.log1p(df['SalePrice']).skew())"
   ],
   "metadata": {
    "collapsed": false,
    "pycharm": {
     "name": "#%%\n"
    }
   }
  },
  {
   "cell_type": "code",
   "execution_count": null,
   "outputs": [],
   "source": [
    "df.head()"
   ],
   "metadata": {
    "collapsed": false,
    "pycharm": {
     "name": "#%%\n"
    }
   }
  },
  {
   "cell_type": "markdown",
   "source": [
    "### Correlation Analysis"
   ],
   "metadata": {
    "collapsed": false,
    "pycharm": {
     "name": "#%% md\n"
    }
   }
  },
  {
   "cell_type": "code",
   "execution_count": null,
   "outputs": [],
   "source": [
    "corr = df[numerical_cols].corr()\n",
    "\n",
    "sns.set(rc={'figure.figsize': (12, 12)})\n",
    "sns.heatmap(corr, cmap=\"RdPu\")\n",
    "plt.show(block=True)"
   ],
   "metadata": {
    "collapsed": false,
    "pycharm": {
     "name": "#%%\n"
    }
   }
  },
  {
   "cell_type": "code",
   "execution_count": null,
   "outputs": [],
   "source": [
    "def high_correlated_cols(dataframe, plot=False, corr_th=0.70):\n",
    "    corr = dataframe.corr()\n",
    "    cor_matrix = corr.abs()\n",
    "    upper_triangle_matrix = cor_matrix.where(np.triu(np.ones(cor_matrix.shape), k=1).astype(np.bool))\n",
    "    drop_list = [col for col in upper_triangle_matrix.columns if any(upper_triangle_matrix[col] > corr_th)]\n",
    "    if plot:\n",
    "        import seaborn as sns\n",
    "        import matplotlib.pyplot as plt\n",
    "        sns.set(rc={'figure.figsize': (15, 15)})\n",
    "        sns.heatmap(corr, cmap=\"RdBu\")\n",
    "        plt.show()\n",
    "    return drop_list\n",
    "\n",
    "\n",
    "high_correlated_cols(df, plot=True)"
   ],
   "metadata": {
    "collapsed": false,
    "pycharm": {
     "name": "#%%\n"
    }
   }
  },
  {
   "cell_type": "markdown",
   "source": [
    "### Analysis of Outliers"
   ],
   "metadata": {
    "collapsed": false,
    "pycharm": {
     "name": "#%% md\n"
    }
   }
  },
  {
   "cell_type": "code",
   "execution_count": null,
   "outputs": [],
   "source": [
    "def outlier_thresholds(dataframe, col_name, q1=0.25, q3=0.75):\n",
    "    quartile1 = dataframe[col_name].quantile(q1)\n",
    "    quartile3 = dataframe[col_name].quantile(q3)\n",
    "    interquartile_range = quartile3 - quartile1\n",
    "    up_limit = quartile3 + (1.5 * interquartile_range)\n",
    "    low_limit = quartile1 - (1.5 * interquartile_range)\n",
    "    return low_limit, up_limit"
   ],
   "metadata": {
    "collapsed": false,
    "pycharm": {
     "name": "#%%\n"
    }
   }
  },
  {
   "cell_type": "code",
   "execution_count": null,
   "outputs": [],
   "source": [
    "def check_outlier(dataframe, col_name):\n",
    "    low_limit, up_limit = outlier_thresholds(dataframe, col_name)\n",
    "    if dataframe[(dataframe[col_name] > up_limit) | (dataframe[col_name] < low_limit)].any(axis=None):\n",
    "        return True\n",
    "    else:\n",
    "        return False"
   ],
   "metadata": {
    "collapsed": false,
    "pycharm": {
     "name": "#%%\n"
    }
   }
  },
  {
   "cell_type": "code",
   "execution_count": null,
   "outputs": [],
   "source": [
    "def replace_with_thresholds(dataframe, variable):\n",
    "    low_limit, up_limit = outlier_thresholds(dataframe, variable)\n",
    "    dataframe.loc[(dataframe[variable] < low_limit), variable] = low_limit\n",
    "    dataframe.loc[(dataframe[variable] > up_limit), variable] = up_limit"
   ],
   "metadata": {
    "collapsed": false,
    "pycharm": {
     "name": "#%%\n"
    }
   }
  },
  {
   "cell_type": "code",
   "execution_count": null,
   "outputs": [],
   "source": [
    "for col in numerical_cols:\n",
    "    if col != \"SalePrice\":\n",
    "        print(col, check_outlier(df, col))"
   ],
   "metadata": {
    "collapsed": false,
    "pycharm": {
     "name": "#%%\n"
    }
   }
  },
  {
   "cell_type": "code",
   "execution_count": null,
   "outputs": [],
   "source": [
    "for col in numerical_cols:\n",
    "    if col != \"SalePrice\":\n",
    "        replace_with_thresholds(df, col)"
   ],
   "metadata": {
    "collapsed": false,
    "pycharm": {
     "name": "#%%\n"
    }
   }
  },
  {
   "cell_type": "markdown",
   "source": [
    "### Missing Values Analysis"
   ],
   "metadata": {
    "collapsed": false,
    "pycharm": {
     "name": "#%% md\n"
    }
   }
  },
  {
   "cell_type": "code",
   "execution_count": null,
   "outputs": [],
   "source": [
    "df.isnull().sum()"
   ],
   "metadata": {
    "collapsed": false,
    "pycharm": {
     "name": "#%%\n"
    }
   }
  },
  {
   "cell_type": "code",
   "execution_count": null,
   "outputs": [],
   "source": [
    "def missing_values_table(dataframe, na_name=False):\n",
    "    # Column Names with Missing Values\n",
    "    na_columns = [col for col in dataframe.columns if dataframe[col].isnull().sum() > 0]\n",
    "\n",
    "    # Number of Missing Values of One Column\n",
    "    number_of_missing_values = dataframe[na_columns].isnull().sum().sort_values(ascending=False)\n",
    "\n",
    "    # Percentage Distribution of Missing Data\n",
    "    percentage_ratio = (dataframe[na_columns].isnull().sum() / dataframe.shape[0] * 100).sort_values(ascending=False)\n",
    "\n",
    "    # Dataframe with Missing Data\n",
    "    missing_df = pd.concat([number_of_missing_values, np.round(percentage_ratio, 2)], axis=1,\n",
    "                           keys=['number_of_missing_values', 'percentage_ratio'])\n",
    "\n",
    "    print(missing_df, end=\"\\n\")\n",
    "\n",
    "    if na_name:\n",
    "        return na_columns"
   ],
   "metadata": {
    "collapsed": false,
    "pycharm": {
     "name": "#%%\n"
    }
   }
  },
  {
   "cell_type": "code",
   "execution_count": null,
   "outputs": [],
   "source": [
    "na_columns = missing_values_table(df, na_name=True)"
   ],
   "metadata": {
    "collapsed": false,
    "pycharm": {
     "name": "#%%\n"
    }
   }
  },
  {
   "cell_type": "markdown",
   "source": [
    "Empty values in some variables indicate that the house does not have that property.\n"
   ],
   "metadata": {
    "collapsed": false,
    "pycharm": {
     "name": "#%% md\n"
    }
   }
  },
  {
   "cell_type": "code",
   "execution_count": null,
   "outputs": [],
   "source": [
    "no_cols = [\"Alley\", \"BsmtQual\", \"BsmtCond\", \"BsmtExposure\", \"BsmtFinType1\", \"BsmtFinType2\", \"FireplaceQu\",\n",
    "           \"GarageType\", \"GarageFinish\", \"GarageQual\", \"GarageCond\", \"PoolQC\", \"Fence\", \"MiscFeature\"]\n",
    "\n",
    "# Filling the gaps in the columns with the expression \"no\"\n",
    "for col in no_cols:\n",
    "    df[col].fillna(\"No\", inplace=True)\n",
    "\n",
    "missing_values_table(df)"
   ],
   "metadata": {
    "collapsed": false,
    "pycharm": {
     "name": "#%%\n"
    }
   }
  },
  {
   "cell_type": "code",
   "execution_count": null,
   "outputs": [],
   "source": [
    "df.shape"
   ],
   "metadata": {
    "collapsed": false,
    "pycharm": {
     "name": "#%%\n"
    }
   }
  },
  {
   "cell_type": "code",
   "execution_count": null,
   "outputs": [],
   "source": [
    "# This function allows you to fill the missing values with median or mean.\n",
    "def quick_missing_imp(data, num_method=\"median\", cat_length=20, target=\"SalePrice\"):\n",
    "    variables_with_na = [col for col in data.columns if\n",
    "                         data[col].isnull().sum() > 0]  # Variables with missing value are listed\n",
    "\n",
    "    temp_target = data[target]\n",
    "\n",
    "    print(\"# BEFORE\")\n",
    "    print(data[variables_with_na].isnull().sum(), \"\\n\\n\")  # Number of Missing Values of Variables Before Application\n",
    "\n",
    "    # Variable object and number of classes if cat_length is equal or below fill the empty values with mode\n",
    "    data = data.apply(lambda x: x.fillna(x.mode()[0]) if (x.dtype == \"O\" and len(x.unique()) <= cat_length) else x,\n",
    "                      axis=0)\n",
    "\n",
    "    # Num_method Mean is the empty values of non -object variables are filled with average\n",
    "    if num_method == \"mean\":\n",
    "        data = data.apply(lambda x: x.fillna(x.mean()) if x.dtype != \"O\" else x, axis=0)\n",
    "    # Num_method Median is filled with average empty values of non -object variables\n",
    "    elif num_method == \"median\":\n",
    "        data = data.apply(lambda x: x.fillna(x.median()) if x.dtype != \"O\" else x, axis=0)\n",
    "    data[target] = temp_target\n",
    "\n",
    "    print(\"# AFTER \\n Imputation method is 'MODE' for categorical variables!\")\n",
    "    print(\" Imputation method is '\" + num_method.upper() + \"' for numeric variables! \\n\")\n",
    "    print(data[variables_with_na].isnull().sum(), \"\\n\\n\")\n",
    "\n",
    "    return data\n",
    "\n",
    "\n",
    "df = quick_missing_imp(df, num_method=\"median\", cat_length=17)"
   ],
   "metadata": {
    "collapsed": false,
    "pycharm": {
     "name": "#%%\n"
    }
   }
  },
  {
   "cell_type": "markdown",
   "source": [
    "## Feature Engineering"
   ],
   "metadata": {
    "collapsed": false,
    "pycharm": {
     "name": "#%% md\n"
    }
   }
  },
  {
   "cell_type": "markdown",
   "metadata": {
    "pycharm": {
     "name": "#%% md\n"
    }
   },
   "source": [
    "#### Rare Analysis"
   ]
  },
  {
   "cell_type": "markdown",
   "metadata": {
    "pycharm": {
     "name": "#%% md\n"
    }
   },
   "source": [
    "**Rare to do:** MSZoning, LotShape, ExterCond, GarageQual, BsmtFinType2 , Condition1 , BldgType \n",
    "\n",
    "**Those who except:** Street, Alley, LandContour, Utilities, LandSlope, Condition2, Heating, CentralAir, Functional, PoolQC, MiscFeature, Neighborhood, KitchenAbvGr"
   ]
  },
  {
   "cell_type": "code",
   "execution_count": 39,
   "metadata": {
    "pycharm": {
     "name": "#%%\n"
    }
   },
   "outputs": [
    {
     "name": "stdout",
     "output_type": "stream",
     "text": [
      "MSZoning : 5\n",
      "         COUNT  RATIO  TARGET_MEAN\n",
      "C (all)     25  0.009    74528.000\n",
      "FV         139  0.048   214014.062\n",
      "RH          26  0.009   131558.375\n",
      "RL        2265  0.777   189285.172\n",
      "RM         460  0.158   126316.830\n",
      "\n",
      "\n",
      "Street : 2\n",
      "      COUNT  RATIO  TARGET_MEAN\n",
      "Grvl     12  0.004   130190.500\n",
      "Pave   2903  0.996   179742.859\n",
      "\n",
      "\n",
      "Alley : 3\n",
      "      COUNT  RATIO  TARGET_MEAN\n",
      "Grvl    120  0.041   122219.080\n",
      "No     2717  0.932   181984.843\n",
      "Pave     78  0.027   168000.585\n",
      "\n",
      "\n",
      "LotShape : 4\n",
      "     COUNT  RATIO  TARGET_MEAN\n",
      "IR1    964  0.331   202117.810\n",
      "IR2     76  0.026   239833.366\n",
      "IR3     16  0.005   216036.500\n",
      "Reg   1859  0.638   164754.818\n",
      "\n",
      "\n",
      "LandContour : 4\n",
      "     COUNT  RATIO  TARGET_MEAN\n",
      "Bnk    117  0.040   143104.079\n",
      "HLS    120  0.041   231533.940\n",
      "Low     60  0.021   203661.111\n",
      "Lvl   2618  0.898   178641.343\n",
      "\n",
      "\n",
      "Utilities : 2\n",
      "        COUNT  RATIO  TARGET_MEAN\n",
      "AllPub   2914  1.000   179567.553\n",
      "NoSeWa      1  0.000   137500.000\n",
      "\n",
      "\n",
      "LotConfig : 5\n",
      "         COUNT  RATIO  TARGET_MEAN\n",
      "Corner     509  0.175   177268.050\n",
      "CulDSac    175  0.060   219541.226\n",
      "FR2         85  0.029   177934.574\n",
      "FR3         14  0.005   208475.000\n",
      "Inside    2132  0.731   176524.423\n",
      "\n",
      "\n",
      "LandSlope : 3\n",
      "     COUNT  RATIO  TARGET_MEAN\n",
      "Gtl   2774  0.952   178493.208\n",
      "Mod    125  0.043   196734.138\n",
      "Sev     16  0.005   204379.231\n",
      "\n",
      "\n",
      "Condition1 : 9\n",
      "        COUNT  RATIO  TARGET_MEAN\n",
      "Artery     92  0.032   135091.667\n",
      "Feedr     164  0.056   142475.481\n",
      "Norm     2507  0.860   182904.190\n",
      "PosA       20  0.007   225875.000\n",
      "PosN       39  0.013   215184.211\n",
      "RRAe       28  0.010   138400.000\n",
      "RRAn       50  0.017   184396.615\n",
      "RRNe        6  0.002   190750.000\n",
      "RRNn        9  0.003   212400.000\n",
      "\n",
      "\n",
      "Condition2 : 8\n",
      "        COUNT  RATIO  TARGET_MEAN\n",
      "Artery      5  0.002   106500.000\n",
      "Feedr      13  0.004   121166.667\n",
      "Norm     2885  0.990   179773.167\n",
      "PosA        4  0.001   325000.000\n",
      "PosN        4  0.001   284875.000\n",
      "RRAe        1  0.000   190000.000\n",
      "RRAn        1  0.000   136905.000\n",
      "RRNn        2  0.001    96750.000\n",
      "\n",
      "\n",
      "BldgType : 5\n",
      "        COUNT  RATIO  TARGET_MEAN\n",
      "1Fam     2421  0.831   184124.332\n",
      "2fmCon     62  0.021   128432.258\n",
      "Duplex    109  0.037   133541.077\n",
      "Twnhs      96  0.033   135911.628\n",
      "TwnhsE    227  0.078   181959.342\n",
      "\n",
      "\n",
      "HouseStyle : 8\n",
      "        COUNT  RATIO  TARGET_MEAN\n",
      "1.5Fin    314  0.108   143116.740\n",
      "1.5Unf     19  0.007   110150.000\n",
      "1Story   1470  0.504   175384.552\n",
      "2.5Fin      8  0.003   220000.000\n",
      "2.5Unf     24  0.008   157354.545\n",
      "2Story    869  0.298   206669.762\n",
      "SFoyer     83  0.028   135074.486\n",
      "SLvl      128  0.044   166703.385\n",
      "\n",
      "\n",
      "RoofStyle : 6\n",
      "         COUNT  RATIO  TARGET_MEAN\n",
      "Flat        20  0.007   194690.000\n",
      "Gable     2309  0.792   170972.100\n",
      "Gambrel     22  0.008   148909.091\n",
      "Hip        548  0.188   214194.862\n",
      "Mansard     11  0.004   180568.429\n",
      "Shed         5  0.002   225000.000\n",
      "\n",
      "\n",
      "RoofMatl : 8\n",
      "         COUNT  RATIO  TARGET_MEAN\n",
      "ClyTile      1  0.000   160000.000\n",
      "CompShg   2873  0.986   178795.820\n",
      "Membran      1  0.000   241500.000\n",
      "Metal        1  0.000   180000.000\n",
      "Roll         1  0.000   137000.000\n",
      "Tar&Grv     23  0.008   185406.364\n",
      "WdShake      9  0.003   241400.000\n",
      "WdShngl      6  0.002   317300.000\n",
      "\n",
      "\n",
      "Exterior1st : 15\n",
      "         COUNT  RATIO  TARGET_MEAN\n",
      "AsbShng     44  0.015   107385.550\n",
      "AsphShn      2  0.001   100000.000\n",
      "BrkComm      6  0.002    71000.000\n",
      "BrkFace     87  0.030   194573.000\n",
      "CBlock       2  0.001   105000.000\n",
      "CemntBd    126  0.043   231690.656\n",
      "HdBoard    440  0.151   158287.245\n",
      "ImStucc      1  0.000   262000.000\n",
      "MetalSd    450  0.154   149422.177\n",
      "Plywood    221  0.076   175942.380\n",
      "Stone        2  0.001   258500.000\n",
      "Stucco      43  0.015   162990.000\n",
      "VinylSd   1025  0.352   212958.730\n",
      "Wd Sdng    410  0.141   146938.434\n",
      "WdShing     56  0.019   150655.077\n",
      "\n",
      "\n",
      "Exterior2nd : 16\n",
      "         COUNT  RATIO  TARGET_MEAN\n",
      "AsbShng     38  0.013   114060.550\n",
      "AsphShn      4  0.001   138000.000\n",
      "Brk Cmn     22  0.008   126714.286\n",
      "BrkFace     47  0.016   195818.000\n",
      "CBlock       3  0.001   105000.000\n",
      "CmentBd    126  0.043   230093.833\n",
      "HdBoard    404  0.139   162565.580\n",
      "ImStucc     14  0.005   197300.000\n",
      "MetalSd    447  0.153   149803.173\n",
      "Other        1  0.000   319000.000\n",
      "Plywood    270  0.093   168112.387\n",
      "Stone        6  0.002   158224.800\n",
      "Stucco      47  0.016   155905.154\n",
      "VinylSd   1014  0.348   213642.750\n",
      "Wd Sdng    391  0.134   148386.066\n",
      "Wd Shng     81  0.028   161328.947\n",
      "\n",
      "\n",
      "MasVnrType : 4\n",
      "         COUNT  RATIO  TARGET_MEAN\n",
      "BrkCmn      25  0.009   146318.067\n",
      "BrkFace    877  0.301   202500.865\n",
      "None      1765  0.605   156283.109\n",
      "Stone      248  0.085   262858.638\n",
      "\n",
      "\n",
      "ExterQual : 4\n",
      "    COUNT  RATIO  TARGET_MEAN\n",
      "Ex    105  0.036   354722.260\n",
      "Fa     35  0.012    87985.214\n",
      "Gd    977  0.335   229767.805\n",
      "TA   1798  0.617   144341.313\n",
      "\n",
      "\n",
      "ExterCond : 5\n",
      "    COUNT  RATIO  TARGET_MEAN\n",
      "Ex     12  0.004   201333.333\n",
      "Fa     67  0.023   102595.143\n",
      "Gd    298  0.102   165752.034\n",
      "Po      3  0.001    76500.000\n",
      "TA   2535  0.870   182815.543\n",
      "\n",
      "\n",
      "Foundation : 6\n",
      "        COUNT  RATIO  TARGET_MEAN\n",
      "BrkTil    311  0.107   132291.075\n",
      "CBlock   1235  0.424   149805.715\n",
      "PConc    1304  0.447   222375.488\n",
      "Slab       49  0.017   107365.625\n",
      "Stone      11  0.004   165959.167\n",
      "Wood        5  0.002   185666.667\n",
      "\n",
      "\n",
      "BsmtQual : 5\n",
      "    COUNT  RATIO  TARGET_MEAN\n",
      "Ex    254  0.087   314831.701\n",
      "Fa     88  0.030   115692.029\n",
      "Gd   1209  0.415   202688.479\n",
      "No     81  0.028   105652.892\n",
      "TA   1283  0.440   140759.818\n",
      "\n",
      "\n",
      "BsmtCond : 5\n",
      "    COUNT  RATIO  TARGET_MEAN\n",
      "Fa    104  0.036   121809.533\n",
      "Gd    122  0.042   213599.908\n",
      "No     82  0.028   105652.892\n",
      "Po      5  0.002    64000.000\n",
      "TA   2602  0.893   182100.772\n",
      "\n",
      "\n",
      "BsmtExposure : 4\n",
      "    COUNT  RATIO  TARGET_MEAN\n",
      "Av    417  0.143   204196.345\n",
      "Gd    273  0.094   248387.611\n",
      "Mn    239  0.082   192789.658\n",
      "No   1986  0.681   163439.248\n",
      "\n",
      "\n",
      "BsmtFinType1 : 7\n",
      "     COUNT  RATIO  TARGET_MEAN\n",
      "ALQ    429  0.147   161573.068\n",
      "BLQ    269  0.092   149493.655\n",
      "GLQ    845  0.290   231077.966\n",
      "LwQ    154  0.053   151852.703\n",
      "No      79  0.027   105652.892\n",
      "Rec    288  0.099   146889.248\n",
      "Unf    851  0.292   170670.577\n",
      "\n",
      "\n",
      "BsmtFinType2 : 7\n",
      "     COUNT  RATIO  TARGET_MEAN\n",
      "ALQ     52  0.018   209942.105\n",
      "BLQ     68  0.023   151101.000\n",
      "GLQ     34  0.012   180982.143\n",
      "LwQ     87  0.030   164364.130\n",
      "No      80  0.027   110346.237\n",
      "Rec    105  0.036   164917.130\n",
      "Unf   2489  0.854   183098.941\n",
      "\n",
      "\n",
      "Heating : 6\n",
      "       COUNT  RATIO  TARGET_MEAN\n",
      "Floor      1  0.000    72500.000\n",
      "GasA    2870  0.985   180610.681\n",
      "GasW      27  0.009   166632.167\n",
      "Grav       9  0.003    75271.429\n",
      "OthW       2  0.001   125750.000\n",
      "Wall       6  0.002    92100.000\n",
      "\n",
      "\n",
      "HeatingQC : 5\n",
      "    COUNT  RATIO  TARGET_MEAN\n",
      "Ex   1489  0.511   212367.619\n",
      "Fa     92  0.032   123919.490\n",
      "Gd    474  0.163   156858.871\n",
      "Po      3  0.001    87000.000\n",
      "TA    857  0.294   142362.876\n",
      "\n",
      "\n",
      "CentralAir : 2\n",
      "   COUNT  RATIO  TARGET_MEAN\n",
      "N    196  0.067   105264.074\n",
      "Y   2719  0.933   184723.146\n",
      "\n",
      "\n",
      "Electrical : 5\n",
      "       COUNT  RATIO  TARGET_MEAN\n",
      "FuseA    188  0.064   122196.894\n",
      "FuseF     50  0.017   107675.444\n",
      "FuseP      8  0.003    97333.333\n",
      "Mix        1  0.000    67000.000\n",
      "SBrkr   2668  0.915   185315.961\n",
      "\n",
      "\n",
      "KitchenQual : 4\n",
      "    COUNT  RATIO  TARGET_MEAN\n",
      "Ex    202  0.069   316946.495\n",
      "Fa     70  0.024   105565.205\n",
      "Gd   1150  0.395   211410.239\n",
      "TA   1493  0.512   139962.512\n",
      "\n",
      "\n",
      "Functional : 7\n",
      "      COUNT  RATIO  TARGET_MEAN\n",
      "Maj1     19  0.007   153948.143\n",
      "Maj2      9  0.003    85800.000\n",
      "Min1     65  0.022   146385.484\n",
      "Min2     70  0.024   144240.647\n",
      "Mod      35  0.012   168393.333\n",
      "Sev       2  0.001   129000.000\n",
      "Typ    2715  0.931   181952.052\n",
      "\n",
      "\n",
      "FireplaceQu : 6\n",
      "    COUNT  RATIO  TARGET_MEAN\n",
      "Ex     42  0.014   319569.565\n",
      "Fa     74  0.025   167298.485\n",
      "Gd    743  0.255   225334.778\n",
      "No   1420  0.487   141331.483\n",
      "Po     46  0.016   129764.150\n",
      "TA    590  0.202   202641.325\n",
      "\n",
      "\n",
      "GarageType : 7\n",
      "         COUNT  RATIO  TARGET_MEAN\n",
      "2Types      23  0.008   151283.333\n",
      "Attchd    1719  0.590   200669.693\n",
      "Basment     36  0.012   160570.684\n",
      "BuiltIn    186  0.064   254751.739\n",
      "CarPort     15  0.005   109962.111\n",
      "Detchd     779  0.267   134091.163\n",
      "No         157  0.054   103317.284\n",
      "\n",
      "\n",
      "GarageFinish : 4\n",
      "     COUNT  RATIO  TARGET_MEAN\n",
      "Fin    715  0.245   234947.960\n",
      "No     159  0.055   103317.284\n",
      "RFn    811  0.278   202068.870\n",
      "Unf   1230  0.422   142156.423\n",
      "\n",
      "\n",
      "GarageQual : 6\n",
      "    COUNT  RATIO  TARGET_MEAN\n",
      "Ex      3  0.001   241000.000\n",
      "Fa    124  0.043   123573.354\n",
      "Gd     24  0.008   215860.714\n",
      "No    159  0.055   103317.284\n",
      "Po      5  0.002   100166.667\n",
      "TA   2600  0.892   185969.792\n",
      "\n",
      "\n",
      "GarageCond : 6\n",
      "    COUNT  RATIO  TARGET_MEAN\n",
      "Ex      3  0.001   124000.000\n",
      "Fa     74  0.025   114654.029\n",
      "Gd     15  0.005   179930.000\n",
      "No    159  0.055   103317.284\n",
      "Po     14  0.005   108500.000\n",
      "TA   2650  0.909   186384.136\n",
      "\n",
      "\n",
      "PavedDrive : 3\n",
      "   COUNT  RATIO  TARGET_MEAN\n",
      "N    216  0.074   115039.122\n",
      "P     62  0.021   132330.000\n",
      "Y   2637  0.905   184943.763\n",
      "\n",
      "\n",
      "PoolQC : 4\n",
      "    COUNT  RATIO  TARGET_MEAN\n",
      "Ex      3  0.001   235000.000\n",
      "Fa      2  0.001   215500.000\n",
      "Gd      4  0.001   201990.000\n",
      "No   2906  0.997   179404.358\n",
      "\n",
      "\n",
      "Fence : 5\n",
      "       COUNT  RATIO  TARGET_MEAN\n",
      "GdPrv    118  0.040   178927.458\n",
      "GdWo     112  0.038   140379.315\n",
      "MnPrv    328  0.113   144928.981\n",
      "MnWw      12  0.004   134286.364\n",
      "No      2345  0.804   186381.815\n",
      "\n",
      "\n",
      "MiscFeature : 5\n",
      "      COUNT  RATIO  TARGET_MEAN\n",
      "Gar2      5  0.002   170750.000\n",
      "No     2810  0.964   180613.835\n",
      "Othr      4  0.001    94000.000\n",
      "Shed     95  0.033   151187.612\n",
      "TenC      1  0.000   250000.000\n",
      "\n",
      "\n",
      "SaleType : 9\n",
      "       COUNT  RATIO  TARGET_MEAN\n",
      "COD       87  0.030   143973.256\n",
      "CWD       12  0.004   210600.000\n",
      "Con        5  0.002   269600.000\n",
      "ConLD     26  0.009   138780.889\n",
      "ConLI      9  0.003   200390.000\n",
      "ConLw      8  0.003   143700.000\n",
      "New      238  0.082   272162.678\n",
      "Oth        7  0.002   119850.000\n",
      "WD      2523  0.866   172132.221\n",
      "\n",
      "\n",
      "SaleCondition : 6\n",
      "         COUNT  RATIO  TARGET_MEAN\n",
      "Abnorml    189  0.065   140541.890\n",
      "AdjLand     12  0.004   104125.000\n",
      "Alloca      24  0.008   167377.417\n",
      "Family      46  0.016   149600.000\n",
      "Normal    2400  0.823   174341.354\n",
      "Partial    244  0.084   269554.935\n",
      "\n",
      "\n",
      "OverallCond : 9\n",
      "   COUNT  RATIO  TARGET_MEAN\n",
      "1      7  0.002    61000.000\n",
      "2     10  0.003   141986.400\n",
      "3     50  0.017   101929.400\n",
      "4    101  0.035   120438.439\n",
      "5   1642  0.563   201469.389\n",
      "6    530  0.182   151567.016\n",
      "7    390  0.134   158145.488\n",
      "8    144  0.049   155651.736\n",
      "9     41  0.014   216004.545\n",
      "\n",
      "\n",
      "BsmtFullBath : 4\n",
      "       COUNT  RATIO  TARGET_MEAN\n",
      "0.000   1706  0.585   164832.192\n",
      "1.000   1169  0.401   200174.050\n",
      "2.000     38  0.013   213063.067\n",
      "3.000      2  0.001   179000.000\n",
      "\n",
      "\n",
      "BsmtHalfBath : 3\n",
      "       COUNT  RATIO  TARGET_MEAN\n",
      "0.000   2741  0.940   180184.537\n",
      "1.000    170  0.058   168770.253\n",
      "2.000      4  0.001   160850.500\n",
      "\n",
      "\n",
      "FullBath : 5\n",
      "   COUNT  RATIO  TARGET_MEAN\n",
      "0     12  0.004   165200.889\n",
      "1   1309  0.449   134751.440\n",
      "2   1529  0.525   212490.077\n",
      "3     61  0.021   311771.867\n",
      "4      4  0.001          NaN\n",
      "\n",
      "\n",
      "HalfBath : 3\n",
      "   COUNT  RATIO  TARGET_MEAN\n",
      "0   1834  0.629   162534.885\n",
      "1   1056  0.362   209170.606\n",
      "2     25  0.009   162028.917\n",
      "\n",
      "\n",
      "BedroomAbvGr : 8\n",
      "   COUNT  RATIO  TARGET_MEAN\n",
      "0      8  0.003   221493.167\n",
      "1    103  0.035   173162.420\n",
      "2    741  0.254   156927.465\n",
      "3   1596  0.548   181056.871\n",
      "4    397  0.136   213451.081\n",
      "5     48  0.016   180819.048\n",
      "6     21  0.007   143779.000\n",
      "8      1  0.000   200000.000\n",
      "\n",
      "\n",
      "KitchenAbvGr : 4\n",
      "   COUNT  RATIO  TARGET_MEAN\n",
      "0      3  0.001   127500.000\n",
      "1   2781  0.954   181945.633\n",
      "2    129  0.044   131096.154\n",
      "3      2  0.001   109500.000\n",
      "\n",
      "\n",
      "Fireplaces : 5\n",
      "   COUNT  RATIO  TARGET_MEAN\n",
      "0   1420  0.487   141331.483\n",
      "1   1267  0.435   211207.305\n",
      "2    216  0.074   228178.795\n",
      "3     11  0.004   252000.000\n",
      "4      1  0.000          NaN\n",
      "\n",
      "\n",
      "GarageCars : 6\n",
      "       COUNT  RATIO  TARGET_MEAN\n",
      "0.000    157  0.054   103317.284\n",
      "1.000    776  0.266   128116.688\n",
      "2.000   1595  0.547   183851.664\n",
      "3.000    370  0.127   301172.209\n",
      "4.000     16  0.005   192655.800\n",
      "5.000      1  0.000          NaN\n",
      "\n",
      "\n",
      "YrSold : 5\n",
      "      COUNT  RATIO  TARGET_MEAN\n",
      "2006    618  0.212   181135.879\n",
      "2007    690  0.237   182613.997\n",
      "2008    622  0.213   177360.839\n",
      "2009    647  0.222   179432.104\n",
      "2010    338  0.116   174897.908\n",
      "\n",
      "\n"
     ]
    }
   ],
   "source": [
    "def rare_analyser(dataframe, target, cat_cols):\n",
    "    for col in cat_cols:\n",
    "        print(col, \":\", len(dataframe[col].value_counts()))\n",
    "        print(pd.DataFrame({\"COUNT\": dataframe[col].value_counts(),\n",
    "                            \"RATIO\": dataframe[col].value_counts() / len(dataframe),\n",
    "                            \"TARGET_MEAN\": dataframe.groupby(col)[target].mean()}), end=\"\\n\\n\\n\")\n",
    "\n",
    "\n",
    "rare_analyser(df, \"SalePrice\", categorical_cols)"
   ]
  },
  {
   "cell_type": "markdown",
   "metadata": {
    "pycharm": {
     "name": "#%% md\n"
    }
   },
   "source": [
    "#### Feature Extraction"
   ]
  },
  {
   "cell_type": "markdown",
   "metadata": {
    "pycharm": {
     "name": "#%% md\n"
    }
   },
   "source": [
    "*Mszoning* variable\n",
    "\n",
    "- Indicates the zone of the living space.Since the Residential High Group is low, we can combine it with Residential Medium.\n",
    "- Since the number of the other two groups is low, we can bring together to make it more meaningful."
   ]
  },
  {
   "cell_type": "code",
   "execution_count": 40,
   "metadata": {
    "pycharm": {
     "name": "#%%\n"
    }
   },
   "outputs": [
    {
     "data": {
      "text/plain": [
       "RL         2265\n",
       "RM          460\n",
       "FV          139\n",
       "RH           26\n",
       "C (all)      25\n",
       "Name: MSZoning, dtype: int64"
      ]
     },
     "execution_count": 40,
     "metadata": {},
     "output_type": "execute_result"
    }
   ],
   "source": [
    "df[\"MSZoning\"].value_counts()"
   ]
  },
  {
   "cell_type": "code",
   "execution_count": 41,
   "metadata": {
    "pycharm": {
     "name": "#%%\n"
    }
   },
   "outputs": [
    {
     "data": {
      "text/plain": [
       "RL              2265\n",
       "RM               486\n",
       "FV + C (all)     164\n",
       "Name: MSZoning, dtype: int64"
      ]
     },
     "execution_count": 41,
     "metadata": {},
     "output_type": "execute_result"
    }
   ],
   "source": [
    "df.loc[(df[\"MSZoning\"] == \"RH\"), \"MSZoning\"] = \"RM\"\n",
    "df.loc[(df[\"MSZoning\"] == \"FV\"), \"MSZoning\"] = \"FV + C (all)\"\n",
    "df.loc[(df[\"MSZoning\"] == \"C (all)\"), \"MSZoning\"] = \"FV + C (all)\"\n",
    "df[\"MSZoning\"].value_counts()"
   ]
  },
  {
   "cell_type": "markdown",
   "metadata": {
    "pycharm": {
     "name": "#%% md\n"
    }
   },
   "source": [
    "*Lot Area* variable\n",
    "\n",
    "Shows the ft2 of the house.There is a value up to 200k, but since the majority is sub -values, we can group it so that it can make sense for us."
   ]
  },
  {
   "cell_type": "code",
   "execution_count": 42,
   "metadata": {
    "pycharm": {
     "name": "#%%\n"
    }
   },
   "outputs": [
    {
     "data": {
      "image/png": "[encoded data removed]",
      "text/plain": [
       "<Figure size 360x360 with 1 Axes>"
      ]
     },
     "metadata": {},
     "output_type": "display_data"
    }
   ],
   "source": [
    "sns.set(rc={'figure.figsize': (5, 5)})\n",
    "bins = 50\n",
    "plt.hist(df[\"LotArea\"], bins, alpha=0.5, density=True)\n",
    "plt.show()"
   ]
  },
  {
   "cell_type": "code",
   "execution_count": 43,
   "metadata": {
    "pycharm": {
     "name": "#%%\n"
    }
   },
   "outputs": [
    {
     "data": {
      "text/plain": [
       "17675.25"
      ]
     },
     "execution_count": 43,
     "metadata": {},
     "output_type": "execute_result"
    }
   ],
   "source": [
    "df[\"LotArea\"].max()"
   ]
  },
  {
   "cell_type": "code",
   "execution_count": 44,
   "metadata": {
    "pycharm": {
     "name": "#%%\n"
    }
   },
   "outputs": [
    {
     "data": {
      "text/plain": [
       "17675.25"
      ]
     },
     "execution_count": 44,
     "metadata": {},
     "output_type": "execute_result"
    }
   ],
   "source": [
    "df[\"LotArea\"].max()"
   ]
  },
  {
   "cell_type": "code",
   "execution_count": 45,
   "metadata": {
    "pycharm": {
     "name": "#%%\n"
    }
   },
   "outputs": [],
   "source": [
    "New_LotArea = pd.Series([\"Studio\", \"Small\", \"Middle\", \"Large\", \"Dublex\", \"Luxury\"], dtype=\"category\")\n",
    "df[\"New_LotArea\"] = New_LotArea\n",
    "df.loc[(df[\"LotArea\"] <= 2000), \"New_LotArea\"] = New_LotArea[0]\n",
    "df.loc[(df[\"LotArea\"] > 2000) & (df[\"LotArea\"] <= 4000), \"New_LotArea\"] = New_LotArea[1]\n",
    "df.loc[(df[\"LotArea\"] > 4000) & (df[\"LotArea\"] <= 6000), \"New_LotArea\"] = New_LotArea[2]\n",
    "df.loc[(df[\"LotArea\"] > 6000) & (df[\"LotArea\"] <= 8000), \"New_LotArea\"] = New_LotArea[3]\n",
    "df.loc[(df[\"LotArea\"] > 10000) & (df[\"LotArea\"] <= 12000), \"New_LotArea\"] = New_LotArea[4]\n",
    "df.loc[df[\"LotArea\"] > 12000, \"New_LotArea\"] = New_LotArea[5]"
   ]
  },
  {
   "cell_type": "code",
   "execution_count": 46,
   "metadata": {
    "pycharm": {
     "name": "#%%\n"
    }
   },
   "outputs": [
    {
     "data": {
      "text/plain": [
       "Luxury    620\n",
       "Dublex    594\n",
       "Large     463\n",
       "Middle    216\n",
       "Small     157\n",
       "Studio     58\n",
       "Name: New_LotArea, dtype: int64"
      ]
     },
     "execution_count": 46,
     "metadata": {},
     "output_type": "execute_result"
    }
   ],
   "source": [
    "df[\"New_LotArea\"].value_counts()"
   ]
  },
  {
   "cell_type": "markdown",
   "metadata": {
    "pycharm": {
     "name": "#%% md\n"
    }
   },
   "source": [
    "*LotShape* variable\n",
    "\n",
    "Shows the general form of the property.Since there are 4 groups, it is enough for us to have two groups as Reg and IR.\n",
    "  * Regular\n",
    "  * IR1 SLIGHTLY irregular\n",
    "  * IR2 MODERATELY IRREGULAR\n",
    "  * IR3 IRregular"
   ]
  },
  {
   "cell_type": "code",
   "execution_count": 47,
   "metadata": {
    "pycharm": {
     "name": "#%%\n"
    }
   },
   "outputs": [
    {
     "data": {
      "text/plain": [
       "Reg    1859\n",
       "IR1     964\n",
       "IR2      76\n",
       "IR3      16\n",
       "Name: LotShape, dtype: int64"
      ]
     },
     "execution_count": 47,
     "metadata": {},
     "output_type": "execute_result"
    }
   ],
   "source": [
    "df[\"LotShape\"].value_counts()"
   ]
  },
  {
   "cell_type": "code",
   "execution_count": 48,
   "metadata": {
    "pycharm": {
     "name": "#%%\n"
    }
   },
   "outputs": [],
   "source": [
    "df.loc[(df[\"LotShape\"] == \"IR1\"), \"LotShape\"] = \"IR\"\n",
    "df.loc[(df[\"LotShape\"] == \"IR2\"), \"LotShape\"] = \"IR\"\n",
    "df.loc[(df[\"LotShape\"] == \"IR3\"), \"LotShape\"] = \"IR\""
   ]
  },
  {
   "cell_type": "code",
   "execution_count": 49,
   "metadata": {
    "pycharm": {
     "name": "#%%\n"
    }
   },
   "outputs": [
    {
     "data": {
      "text/plain": [
       "Reg    1859\n",
       "IR     1056\n",
       "Name: LotShape, dtype: int64"
      ]
     },
     "execution_count": 49,
     "metadata": {},
     "output_type": "execute_result"
    }
   ],
   "source": [
    "df[\"LotShape\"].value_counts()"
   ]
  },
  {
   "cell_type": "markdown",
   "metadata": {
    "pycharm": {
     "name": "#%% md\n"
    }
   },
   "source": [
    "*Extercond:* variable\n",
    "\n",
    "It gives the status of the material on the exterior.\n",
    "  * EX Excellent\n",
    "  * GD Good\n",
    "  * Ta average/typical\n",
    "  * FA Fair\n",
    "  * Poor"
   ]
  },
  {
   "cell_type": "code",
   "execution_count": 50,
   "metadata": {
    "pycharm": {
     "name": "#%%\n"
    }
   },
   "outputs": [
    {
     "data": {
      "text/plain": [
       "TA    2535\n",
       "Gd     298\n",
       "Fa      67\n",
       "Ex      12\n",
       "Po       3\n",
       "Name: ExterCond, dtype: int64"
      ]
     },
     "execution_count": 50,
     "metadata": {},
     "output_type": "execute_result"
    }
   ],
   "source": [
    "df[\"ExterCond\"].value_counts()"
   ]
  },
  {
   "cell_type": "code",
   "execution_count": 51,
   "metadata": {
    "pycharm": {
     "name": "#%%\n"
    }
   },
   "outputs": [
    {
     "data": {
      "text/plain": [
       "TA      2535\n",
       "ExGd     310\n",
       "FaPo      70\n",
       "Name: ExterCond, dtype: int64"
      ]
     },
     "execution_count": 51,
     "metadata": {},
     "output_type": "execute_result"
    }
   ],
   "source": [
    "df[\"ExterCond\"] = np.where(df.ExterCond.isin([\"Fa\", \"Po\"]), \"FaPo\", df[\"ExterCond\"])\n",
    "df[\"ExterCond\"] = np.where(df.ExterCond.isin([\"Ex\", \"Gd\"]), \"ExGd\", df[\"ExterCond\"])\n",
    "df['ExterCond'].value_counts()"
   ]
  },
  {
   "cell_type": "markdown",
   "metadata": {
    "pycharm": {
     "name": "#%% md\n"
    }
   },
   "source": [
    "*Garagequal* variable\n",
    "\n",
    "It shows the quality of the garage.\n",
    "  *     Ex\tExcellent\n",
    "  *     Gd\tGood\n",
    "  *     TA\tTypical/Average\n",
    "  *     Fa\tFair\n",
    "  *     Po\tPoor\n",
    "  *     NA\tNo Garage"
   ]
  },
  {
   "cell_type": "code",
   "execution_count": 52,
   "metadata": {
    "pycharm": {
     "name": "#%%\n"
    }
   },
   "outputs": [
    {
     "data": {
      "text/plain": [
       "TA    2600\n",
       "No     159\n",
       "Fa     124\n",
       "Gd      24\n",
       "Po       5\n",
       "Ex       3\n",
       "Name: GarageQual, dtype: int64"
      ]
     },
     "execution_count": 52,
     "metadata": {},
     "output_type": "execute_result"
    }
   ],
   "source": [
    "df['GarageQual'].value_counts()"
   ]
  },
  {
   "cell_type": "code",
   "execution_count": 53,
   "metadata": {
    "pycharm": {
     "name": "#%%\n"
    }
   },
   "outputs": [
    {
     "data": {
      "text/plain": [
       "ExGd    2627\n",
       "No       159\n",
       "FaPo     129\n",
       "Name: GarageQual, dtype: int64"
      ]
     },
     "execution_count": 53,
     "metadata": {},
     "output_type": "execute_result"
    }
   ],
   "source": [
    "df[\"GarageQual\"] = np.where(df.GarageQual.isin([\"Fa\", \"Po\"]), \"FaPo\", df[\"GarageQual\"])\n",
    "df[\"GarageQual\"] = np.where(df.GarageQual.isin([\"Ex\", \"Gd\"]), \"ExGd\", df[\"GarageQual\"])\n",
    "df[\"GarageQual\"] = np.where(df.GarageQual.isin([\"ExGd\", \"TA\"]), \"ExGd\", df[\"GarageQual\"])\n",
    "df['GarageQual'].value_counts()"
   ]
  },
  {
   "cell_type": "markdown",
   "metadata": {
    "pycharm": {
     "name": "#%% md\n"
    }
   },
   "source": [
    "*BsmtFinType1 and  BsmtFinType2* varriables\n",
    "\n",
    "The quality of the finished part of the first and second basement\n",
    "\n",
    "  *     GLQ\tGood Living Quarters\n",
    "  *     ALQ\tAverage Living Quarters\n",
    "  *     BLQ\tBelow Average Living Quarters\t\n",
    "  *     Rec\tAverage Rec Room\n",
    "  *     LwQ\tLow Quality\n",
    "  *     Unf\tUnfinshed\n",
    "  *     NA\tNo Basement"
   ]
  },
  {
   "cell_type": "code",
   "execution_count": 54,
   "metadata": {
    "pycharm": {
     "name": "#%%\n"
    }
   },
   "outputs": [
    {
     "data": {
      "text/plain": [
       "Unf    851\n",
       "GLQ    845\n",
       "ALQ    429\n",
       "Rec    288\n",
       "BLQ    269\n",
       "LwQ    154\n",
       "No      79\n",
       "Name: BsmtFinType1, dtype: int64"
      ]
     },
     "execution_count": 54,
     "metadata": {},
     "output_type": "execute_result"
    }
   ],
   "source": [
    "df['BsmtFinType1'].value_counts()"
   ]
  },
  {
   "cell_type": "code",
   "execution_count": 55,
   "metadata": {
    "pycharm": {
     "name": "#%%\n"
    }
   },
   "outputs": [
    {
     "data": {
      "text/plain": [
       "Unf    2489\n",
       "Rec     105\n",
       "LwQ      87\n",
       "No       80\n",
       "BLQ      68\n",
       "ALQ      52\n",
       "GLQ      34\n",
       "Name: BsmtFinType2, dtype: int64"
      ]
     },
     "execution_count": 55,
     "metadata": {},
     "output_type": "execute_result"
    }
   ],
   "source": [
    "df['BsmtFinType2'].value_counts()"
   ]
  },
  {
   "cell_type": "code",
   "execution_count": 56,
   "metadata": {
    "pycharm": {
     "name": "#%%\n"
    }
   },
   "outputs": [
    {
     "data": {
      "text/plain": [
       "RareExcellent    1274\n",
       "Unf               851\n",
       "RareGood          711\n",
       "No                 79\n",
       "Name: BsmtFinType1, dtype: int64"
      ]
     },
     "execution_count": 56,
     "metadata": {},
     "output_type": "execute_result"
    }
   ],
   "source": [
    "df[\"BsmtFinType1\"] = np.where(df.BsmtFinType1.isin([\"GLQ\", \"ALQ\"]), \"RareExcellent\", df[\"BsmtFinType1\"])\n",
    "df[\"BsmtFinType1\"] = np.where(df.BsmtFinType1.isin([\"BLQ\", \"LwQ\", \"Rec\"]), \"RareGood\", df[\"BsmtFinType1\"])\n",
    "df[\"BsmtFinType2\"] = np.where(df.BsmtFinType2.isin([\"GLQ\", \"ALQ\"]), \"RareExcellent\", df[\"BsmtFinType2\"])\n",
    "df[\"BsmtFinType2\"] = np.where(df.BsmtFinType2.isin([\"BLQ\", \"LwQ\", \"Rec\"]), \"RareGood\", df[\"BsmtFinType2\"])\n",
    "df['BsmtFinType1'].value_counts()"
   ]
  },
  {
   "cell_type": "code",
   "execution_count": 57,
   "metadata": {
    "pycharm": {
     "name": "#%%\n"
    }
   },
   "outputs": [
    {
     "data": {
      "text/plain": [
       "Unf              2489\n",
       "RareGood          260\n",
       "RareExcellent      86\n",
       "No                 80\n",
       "Name: BsmtFinType2, dtype: int64"
      ]
     },
     "execution_count": 57,
     "metadata": {},
     "output_type": "execute_result"
    }
   ],
   "source": [
    "df['BsmtFinType2'].value_counts()"
   ]
  },
  {
   "cell_type": "markdown",
   "metadata": {
    "pycharm": {
     "name": "#%% md\n"
    }
   },
   "source": [
    "*Condition1* variable\n",
    "\n",
    "It shows its proximity to the main road or railway.We can make a group of adjacent ones, a normal group and others are distant.\n",
    "\n",
    "   *    Artery\tAdjacent to arterial street\n",
    "   *    Feedr\tAdjacent to feeder street\t\n",
    "   *    Norm\tNormal\t\n",
    "   *    RRNn\tWithin 200' of North-South Railroad\n",
    "   *    RRAn\tAdjacent to North-South Railroad\n",
    "   *    PosN\tNear positive off-site feature--park, greenbelt, etc.\n",
    "   *    PosA\tAdjacent to postive off-site feature\n",
    "   *    RRNe\tWithin 200' of East-West Railroad\n",
    "   *    RRAe\tAdjacent to East-West Railroad"
   ]
  },
  {
   "cell_type": "code",
   "execution_count": null,
   "metadata": {
    "pycharm": {
     "name": "#%%\n"
    }
   },
   "outputs": [],
   "source": [
    "df['Condition1'].value_counts()"
   ]
  },
  {
   "cell_type": "code",
   "execution_count": 58,
   "metadata": {
    "pycharm": {
     "name": "#%%\n"
    }
   },
   "outputs": [
    {
     "data": {
      "text/plain": [
       "NormalCondition      2507\n",
       "AdjacentCondition     354\n",
       "WithinCondition        54\n",
       "Name: Condition1, dtype: int64"
      ]
     },
     "execution_count": 58,
     "metadata": {},
     "output_type": "execute_result"
    }
   ],
   "source": [
    "df.loc[(df[\"Condition1\"] == \"Feedr\") | (df[\"Condition1\"] == \"Artery\") | (df[\"Condition1\"] == \"RRAn\") | (\n",
    "        df[\"Condition1\"] == \"PosA\") | (df[\"Condition1\"] == \"RRAe\"), \"Condition1\"] = \"AdjacentCondition\"\n",
    "df.loc[(df[\"Condition1\"] == \"RRNn\") | (df[\"Condition1\"] == \"PosN\") | (\n",
    "        df[\"Condition1\"] == \"RRNe\"), \"Condition1\"] = \"WithinCondition\"\n",
    "df.loc[(df[\"Condition1\"] == \"Norm\"), \"Condition1\"] = \"NormalCondition\"\n",
    "df['Condition1'].value_counts()"
   ]
  },
  {
   "cell_type": "markdown",
   "metadata": {
    "pycharm": {
     "name": "#%% md\n"
    }
   },
   "source": [
    "*Condition2* variable\n",
    "\n",
    "If there is the second way, it shows it, but the diversity of the groups is very low and it is preferred to be removed from the data set."
   ]
  },
  {
   "cell_type": "code",
   "execution_count": 59,
   "metadata": {
    "pycharm": {
     "name": "#%%\n"
    }
   },
   "outputs": [
    {
     "data": {
      "text/plain": [
       "Norm      2885\n",
       "Feedr       13\n",
       "Artery       5\n",
       "PosN         4\n",
       "PosA         4\n",
       "RRNn         2\n",
       "RRAn         1\n",
       "RRAe         1\n",
       "Name: Condition2, dtype: int64"
      ]
     },
     "execution_count": 59,
     "metadata": {},
     "output_type": "execute_result"
    }
   ],
   "source": [
    "df['Condition2'].value_counts()"
   ]
  },
  {
   "cell_type": "code",
   "execution_count": 60,
   "metadata": {
    "pycharm": {
     "name": "#%%\n"
    }
   },
   "outputs": [],
   "source": [
    "df.drop('Condition2', axis=1, inplace=True)"
   ]
  },
  {
   "cell_type": "markdown",
   "metadata": {
    "pycharm": {
     "name": "#%% md\n"
    }
   },
   "source": [
    "*BldgType* variable\n",
    "\n",
    "Gives the type of building\n",
    "\n",
    "  *     1Fam\tSingle-family Detached\t-> Tek aile\n",
    "  *     2FmCon\tTwo-family Conversion; originally built as one-family dwelling -> Aslında tek aile\n",
    "  *     Duplx\tDuplex\n",
    "  *     TwnhsE\tTownhouse End Unit\n",
    "  *     TwnhsI\tTownhouse Inside Unit"
   ]
  },
  {
   "cell_type": "code",
   "execution_count": 61,
   "metadata": {
    "pycharm": {
     "name": "#%%\n"
    }
   },
   "outputs": [
    {
     "data": {
      "text/plain": [
       "1Fam      2421\n",
       "TwnhsE     227\n",
       "Duplex     109\n",
       "Twnhs       96\n",
       "2fmCon      62\n",
       "Name: BldgType, dtype: int64"
      ]
     },
     "execution_count": 61,
     "metadata": {},
     "output_type": "execute_result"
    }
   ],
   "source": [
    "df['BldgType'].value_counts()"
   ]
  },
  {
   "cell_type": "code",
   "execution_count": 62,
   "metadata": {
    "pycharm": {
     "name": "#%%\n"
    }
   },
   "outputs": [
    {
     "data": {
      "text/plain": [
       "Normal    2483\n",
       "Big        432\n",
       "Name: BldgType, dtype: int64"
      ]
     },
     "execution_count": 62,
     "metadata": {},
     "output_type": "execute_result"
    }
   ],
   "source": [
    "df[\"BldgType\"] = np.where(df.BldgType.isin([\"1Fam\", \"2fmCon\"]), \"Normal\", df[\"BldgType\"])\n",
    "df[\"BldgType\"] = np.where(df.BldgType.isin([\"TwnhsE\", \"Twnhs\", \"Duplex\"]), \"Big\", df[\"BldgType\"])\n",
    "df['BldgType'].value_counts()"
   ]
  },
  {
   "cell_type": "markdown",
   "metadata": {
    "pycharm": {
     "name": "#%% md\n"
    }
   },
   "source": [
    "*TotalQual* variable\n",
    "\n",
    "Let's create a total quality indicator variable with variables showing quality"
   ]
  },
  {
   "cell_type": "code",
   "execution_count": 63,
   "metadata": {
    "pycharm": {
     "name": "#%%\n"
    }
   },
   "outputs": [],
   "source": [
    "df[\"TotalQual\"] = df[[\"OverallQual\", \"OverallCond\", \"ExterQual\", \"ExterCond\", \"BsmtCond\", \"BsmtFinType1\",\n",
    "                      \"BsmtFinType2\", \"HeatingQC\", \"KitchenQual\", \"Functional\", \"FireplaceQu\", \"GarageQual\",\n",
    "                      \"GarageCond\", \"Fence\"]].sum(axis=1)\n"
   ]
  },
  {
   "cell_type": "markdown",
   "metadata": {
    "pycharm": {
     "name": "#%% md\n"
    }
   },
   "source": [
    "*Overall* variable\n",
    "\n",
    "Let's create a variable from the general situation of the house and the quality of the materials used."
   ]
  },
  {
   "cell_type": "code",
   "execution_count": 65,
   "metadata": {
    "pycharm": {
     "name": "#%%\n"
    }
   },
   "outputs": [],
   "source": [
    "df[\"Overall\"] = df[[\"OverallQual\", \"OverallCond\"]].sum(axis=1)"
   ]
  },
  {
   "cell_type": "markdown",
   "metadata": {
    "pycharm": {
     "name": "#%% md\n"
    }
   },
   "source": [
    "*NEW_TotalFlrSF* variable\n",
    "\n",
    "The surface area covered by the house in total"
   ]
  },
  {
   "cell_type": "code",
   "execution_count": 66,
   "metadata": {
    "pycharm": {
     "name": "#%%\n"
    }
   },
   "outputs": [],
   "source": [
    "df[\"NEW_TotalFlrSF\"] = df[\"1stFlrSF\"] + df[\"2ndFlrSF\"]"
   ]
  },
  {
   "cell_type": "markdown",
   "metadata": {
    "pycharm": {
     "name": "#%% md\n"
    }
   },
   "source": [
    "*NEW_TotalBsmtFin* variable\n",
    "\n",
    "Completed total basement area"
   ]
  },
  {
   "cell_type": "code",
   "execution_count": 67,
   "metadata": {
    "pycharm": {
     "name": "#%%\n"
    }
   },
   "outputs": [],
   "source": [
    "df[\"NEW_TotalBsmtFin\"] = df.BsmtFinSF1 + df.BsmtFinSF2"
   ]
  },
  {
   "cell_type": "markdown",
   "metadata": {
    "pycharm": {
     "name": "#%% md\n"
    }
   },
   "source": [
    "NEW_PorchArea variable\n",
    "\n",
    "Total area outside the house"
   ]
  },
  {
   "cell_type": "code",
   "execution_count": 68,
   "metadata": {
    "pycharm": {
     "name": "#%%\n"
    }
   },
   "outputs": [],
   "source": [
    "df[\"NEW_PorchArea\"] = df.OpenPorchSF + df.EnclosedPorch + df.ScreenPorch + df[\"3SsnPorch\"] + df.WoodDeckSF"
   ]
  },
  {
   "cell_type": "markdown",
   "metadata": {
    "pycharm": {
     "name": "#%% md\n"
    }
   },
   "source": [
    "*NEW_TotalHouseArea* variable\n",
    "\n",
    "Total area of the house"
   ]
  },
  {
   "cell_type": "code",
   "execution_count": 69,
   "metadata": {
    "pycharm": {
     "name": "#%%\n"
    }
   },
   "outputs": [],
   "source": [
    "df[\"NEW_TotalHouseArea\"] = df.NEW_TotalFlrSF + df.TotalBsmtSF"
   ]
  },
  {
   "cell_type": "markdown",
   "metadata": {
    "pycharm": {
     "name": "#%% md\n"
    }
   },
   "source": [
    "*NEW_TotalSqFeet* variable\n",
    "\n",
    "The total of the house covered ft2"
   ]
  },
  {
   "cell_type": "code",
   "execution_count": 70,
   "metadata": {
    "pycharm": {
     "name": "#%%\n"
    }
   },
   "outputs": [],
   "source": [
    "df[\"NEW_TotalSqFeet\"] = df.GrLivArea + df.TotalBsmtSF"
   ]
  },
  {
   "cell_type": "markdown",
   "metadata": {
    "pycharm": {
     "name": "#%% md\n"
    }
   },
   "source": [
    "*NEW_TotalFullBath* ve *NEW_TotalHalfBath* variables\n",
    "\n",
    "Total half and full bathroom numbers in the house"
   ]
  },
  {
   "cell_type": "code",
   "execution_count": 71,
   "metadata": {
    "pycharm": {
     "name": "#%%\n"
    }
   },
   "outputs": [],
   "source": [
    "df[\"NEW_TotalFullBath\"] = df.BsmtFullBath + df.FullBath\n",
    "df[\"NEW_TotalHalfBath\"] = df.BsmtHalfBath + df.HalfBath"
   ]
  },
  {
   "cell_type": "markdown",
   "metadata": {
    "pycharm": {
     "name": "#%% md\n"
    }
   },
   "source": [
    "*NEW_TotalBath* variable\n",
    "\n",
    "Refers to the total number of bathrooms in the house"
   ]
  },
  {
   "cell_type": "code",
   "execution_count": 73,
   "metadata": {
    "pycharm": {
     "name": "#%%\n"
    }
   },
   "outputs": [],
   "source": [
    "df[\"NEW_TotalBath\"] = df[\"NEW_TotalFullBath\"] + (df[\"NEW_TotalHalfBath\"] * 0.5)"
   ]
  },
  {
   "cell_type": "markdown",
   "metadata": {
    "pycharm": {
     "name": "#%% md\n"
    }
   },
   "source": [
    "*Lot Ratio* variables\n",
    "\n",
    "The area, the total home area and how much of the land area covered"
   ]
  },
  {
   "cell_type": "code",
   "execution_count": 74,
   "metadata": {
    "pycharm": {
     "name": "#%%\n"
    }
   },
   "outputs": [],
   "source": [
    "df[\"NEW_LotRatio\"] = df.GrLivArea / df.LotArea\n",
    "\n",
    "df[\"NEW_RatioArea\"] = df.NEW_TotalHouseArea / df.LotArea\n",
    "\n",
    "df[\"NEW_GarageLotRatio\"] = df.GarageArea / df.LotArea"
   ]
  },
  {
   "cell_type": "markdown",
   "metadata": {
    "pycharm": {
     "name": "#%% md\n"
    }
   },
   "source": [
    "*Differences Between Dates* variables\n",
    "\n",
    "Variables such as the difference between the restoration and the year of construction, the difference between the construction year of the garage and the year of construction of the house"
   ]
  },
  {
   "cell_type": "code",
   "execution_count": 75,
   "metadata": {
    "pycharm": {
     "name": "#%%\n"
    }
   },
   "outputs": [],
   "source": [
    "df[\"NEW_Restoration\"] = df.YearRemodAdd - df.YearBuilt\n",
    "\n",
    "df[\"NEW_HouseAge\"] = df.YrSold - df.YearBuilt\n",
    "\n",
    "df[\"NEW_RestorationAge\"] = df.YrSold - df.YearRemodAdd\n",
    "\n",
    "df[\"NEW_GarageAge\"] = df.GarageYrBlt - df.YearBuilt\n",
    "\n",
    "df[\"NEW_GarageRestorationAge\"] = np.abs(df.GarageYrBlt - df.YearRemodAdd)\n",
    "\n",
    "df[\"NEW_GarageSold\"] = df.YrSold - df.GarageYrBlt"
   ]
  },
  {
   "cell_type": "code",
   "execution_count": 76,
   "metadata": {
    "pycharm": {
     "name": "#%%\n"
    }
   },
   "outputs": [
    {
     "data": {
      "text/html": [
       "<div>\n",
       "<style scoped>\n",
       "    .dataframe tbody tr th:only-of-type {\n",
       "        vertical-align: middle;\n",
       "    }\n",
       "\n",
       "    .dataframe tbody tr th {\n",
       "        vertical-align: top;\n",
       "    }\n",
       "\n",
       "    .dataframe thead th {\n",
       "        text-align: right;\n",
       "    }\n",
       "</style>\n",
       "<table border=\"1\" class=\"dataframe\">\n",
       "  <thead>\n",
       "    <tr style=\"text-align: right;\">\n",
       "      <th></th>\n",
       "      <th>Id</th>\n",
       "      <th>MSSubClass</th>\n",
       "      <th>MSZoning</th>\n",
       "      <th>LotFrontage</th>\n",
       "      <th>LotArea</th>\n",
       "      <th>Street</th>\n",
       "      <th>Alley</th>\n",
       "      <th>LotShape</th>\n",
       "      <th>LandContour</th>\n",
       "      <th>Utilities</th>\n",
       "      <th>LotConfig</th>\n",
       "      <th>LandSlope</th>\n",
       "      <th>Neighborhood</th>\n",
       "      <th>Condition1</th>\n",
       "      <th>BldgType</th>\n",
       "      <th>HouseStyle</th>\n",
       "      <th>OverallQual</th>\n",
       "      <th>OverallCond</th>\n",
       "      <th>YearBuilt</th>\n",
       "      <th>YearRemodAdd</th>\n",
       "      <th>RoofStyle</th>\n",
       "      <th>RoofMatl</th>\n",
       "      <th>Exterior1st</th>\n",
       "      <th>Exterior2nd</th>\n",
       "      <th>MasVnrType</th>\n",
       "      <th>MasVnrArea</th>\n",
       "      <th>ExterQual</th>\n",
       "      <th>ExterCond</th>\n",
       "      <th>Foundation</th>\n",
       "      <th>BsmtQual</th>\n",
       "      <th>BsmtCond</th>\n",
       "      <th>BsmtExposure</th>\n",
       "      <th>BsmtFinType1</th>\n",
       "      <th>BsmtFinSF1</th>\n",
       "      <th>BsmtFinType2</th>\n",
       "      <th>BsmtFinSF2</th>\n",
       "      <th>BsmtUnfSF</th>\n",
       "      <th>TotalBsmtSF</th>\n",
       "      <th>Heating</th>\n",
       "      <th>HeatingQC</th>\n",
       "      <th>CentralAir</th>\n",
       "      <th>Electrical</th>\n",
       "      <th>1stFlrSF</th>\n",
       "      <th>2ndFlrSF</th>\n",
       "      <th>LowQualFinSF</th>\n",
       "      <th>GrLivArea</th>\n",
       "      <th>BsmtFullBath</th>\n",
       "      <th>BsmtHalfBath</th>\n",
       "      <th>FullBath</th>\n",
       "      <th>HalfBath</th>\n",
       "      <th>BedroomAbvGr</th>\n",
       "      <th>KitchenAbvGr</th>\n",
       "      <th>KitchenQual</th>\n",
       "      <th>TotRmsAbvGrd</th>\n",
       "      <th>Functional</th>\n",
       "      <th>Fireplaces</th>\n",
       "      <th>FireplaceQu</th>\n",
       "      <th>GarageType</th>\n",
       "      <th>GarageYrBlt</th>\n",
       "      <th>GarageFinish</th>\n",
       "      <th>GarageCars</th>\n",
       "      <th>GarageArea</th>\n",
       "      <th>GarageQual</th>\n",
       "      <th>GarageCond</th>\n",
       "      <th>PavedDrive</th>\n",
       "      <th>WoodDeckSF</th>\n",
       "      <th>OpenPorchSF</th>\n",
       "      <th>EnclosedPorch</th>\n",
       "      <th>3SsnPorch</th>\n",
       "      <th>ScreenPorch</th>\n",
       "      <th>PoolArea</th>\n",
       "      <th>PoolQC</th>\n",
       "      <th>Fence</th>\n",
       "      <th>MiscFeature</th>\n",
       "      <th>MiscVal</th>\n",
       "      <th>MoSold</th>\n",
       "      <th>YrSold</th>\n",
       "      <th>SaleType</th>\n",
       "      <th>SaleCondition</th>\n",
       "      <th>SalePrice</th>\n",
       "      <th>New_LotArea</th>\n",
       "      <th>TotalQual</th>\n",
       "      <th>Overall</th>\n",
       "      <th>NEW_TotalFlrSF</th>\n",
       "      <th>NEW_TotalBsmtFin</th>\n",
       "      <th>NEW_PorchArea</th>\n",
       "      <th>NEW_TotalHouseArea</th>\n",
       "      <th>NEW_TotalSqFeet</th>\n",
       "      <th>NEW_TotalFullBath</th>\n",
       "      <th>NEW_TotalHalfBath</th>\n",
       "      <th>NEW_TotalBath</th>\n",
       "      <th>NEW_LotRatio</th>\n",
       "      <th>NEW_RatioArea</th>\n",
       "      <th>NEW_GarageLotRatio</th>\n",
       "      <th>NEW_Restoration</th>\n",
       "      <th>NEW_HouseAge</th>\n",
       "      <th>NEW_RestorationAge</th>\n",
       "      <th>NEW_GarageAge</th>\n",
       "      <th>NEW_GarageRestorationAge</th>\n",
       "      <th>NEW_GarageSold</th>\n",
       "    </tr>\n",
       "  </thead>\n",
       "  <tbody>\n",
       "    <tr>\n",
       "      <th>0</th>\n",
       "      <td>1.000</td>\n",
       "      <td>60</td>\n",
       "      <td>RL</td>\n",
       "      <td>65.000</td>\n",
       "      <td>8450.000</td>\n",
       "      <td>Pave</td>\n",
       "      <td>No</td>\n",
       "      <td>Reg</td>\n",
       "      <td>Lvl</td>\n",
       "      <td>AllPub</td>\n",
       "      <td>Inside</td>\n",
       "      <td>Gtl</td>\n",
       "      <td>CollgCr</td>\n",
       "      <td>NormalCondition</td>\n",
       "      <td>Normal</td>\n",
       "      <td>2Story</td>\n",
       "      <td>7</td>\n",
       "      <td>5</td>\n",
       "      <td>2003</td>\n",
       "      <td>2003.000</td>\n",
       "      <td>Gable</td>\n",
       "      <td>CompShg</td>\n",
       "      <td>VinylSd</td>\n",
       "      <td>VinylSd</td>\n",
       "      <td>BrkFace</td>\n",
       "      <td>196.000</td>\n",
       "      <td>Gd</td>\n",
       "      <td>TA</td>\n",
       "      <td>PConc</td>\n",
       "      <td>Gd</td>\n",
       "      <td>TA</td>\n",
       "      <td>No</td>\n",
       "      <td>RareExcellent</td>\n",
       "      <td>706.000</td>\n",
       "      <td>Unf</td>\n",
       "      <td>0.000</td>\n",
       "      <td>150.000</td>\n",
       "      <td>856.000</td>\n",
       "      <td>GasA</td>\n",
       "      <td>Ex</td>\n",
       "      <td>Y</td>\n",
       "      <td>SBrkr</td>\n",
       "      <td>856.000</td>\n",
       "      <td>854</td>\n",
       "      <td>0</td>\n",
       "      <td>1710</td>\n",
       "      <td>1.000</td>\n",
       "      <td>0.000</td>\n",
       "      <td>2</td>\n",
       "      <td>1</td>\n",
       "      <td>3</td>\n",
       "      <td>1</td>\n",
       "      <td>Gd</td>\n",
       "      <td>8</td>\n",
       "      <td>Typ</td>\n",
       "      <td>0</td>\n",
       "      <td>No</td>\n",
       "      <td>Attchd</td>\n",
       "      <td>2003.000</td>\n",
       "      <td>RFn</td>\n",
       "      <td>2.000</td>\n",
       "      <td>548.000</td>\n",
       "      <td>ExGd</td>\n",
       "      <td>TA</td>\n",
       "      <td>Y</td>\n",
       "      <td>0</td>\n",
       "      <td>61</td>\n",
       "      <td>0</td>\n",
       "      <td>0</td>\n",
       "      <td>0</td>\n",
       "      <td>0</td>\n",
       "      <td>No</td>\n",
       "      <td>No</td>\n",
       "      <td>No</td>\n",
       "      <td>0</td>\n",
       "      <td>2</td>\n",
       "      <td>2008</td>\n",
       "      <td>WD</td>\n",
       "      <td>Normal</td>\n",
       "      <td>208500.000</td>\n",
       "      <td>Studio</td>\n",
       "      <td>12</td>\n",
       "      <td>12</td>\n",
       "      <td>1710.000</td>\n",
       "      <td>706.000</td>\n",
       "      <td>61</td>\n",
       "      <td>2566.000</td>\n",
       "      <td>2566.000</td>\n",
       "      <td>3.000</td>\n",
       "      <td>1.000</td>\n",
       "      <td>3.500</td>\n",
       "      <td>0.202</td>\n",
       "      <td>0.304</td>\n",
       "      <td>0.065</td>\n",
       "      <td>0.000</td>\n",
       "      <td>5</td>\n",
       "      <td>5.000</td>\n",
       "      <td>0.000</td>\n",
       "      <td>0.000</td>\n",
       "      <td>5.000</td>\n",
       "    </tr>\n",
       "    <tr>\n",
       "      <th>1</th>\n",
       "      <td>2.000</td>\n",
       "      <td>20</td>\n",
       "      <td>RL</td>\n",
       "      <td>80.000</td>\n",
       "      <td>9600.000</td>\n",
       "      <td>Pave</td>\n",
       "      <td>No</td>\n",
       "      <td>Reg</td>\n",
       "      <td>Lvl</td>\n",
       "      <td>AllPub</td>\n",
       "      <td>FR2</td>\n",
       "      <td>Gtl</td>\n",
       "      <td>Veenker</td>\n",
       "      <td>AdjacentCondition</td>\n",
       "      <td>Normal</td>\n",
       "      <td>1Story</td>\n",
       "      <td>6</td>\n",
       "      <td>8</td>\n",
       "      <td>1976</td>\n",
       "      <td>1976.000</td>\n",
       "      <td>Gable</td>\n",
       "      <td>CompShg</td>\n",
       "      <td>MetalSd</td>\n",
       "      <td>MetalSd</td>\n",
       "      <td>None</td>\n",
       "      <td>0.000</td>\n",
       "      <td>TA</td>\n",
       "      <td>TA</td>\n",
       "      <td>CBlock</td>\n",
       "      <td>Gd</td>\n",
       "      <td>TA</td>\n",
       "      <td>Gd</td>\n",
       "      <td>RareExcellent</td>\n",
       "      <td>978.000</td>\n",
       "      <td>Unf</td>\n",
       "      <td>0.000</td>\n",
       "      <td>284.000</td>\n",
       "      <td>1262.000</td>\n",
       "      <td>GasA</td>\n",
       "      <td>Ex</td>\n",
       "      <td>Y</td>\n",
       "      <td>SBrkr</td>\n",
       "      <td>1262.000</td>\n",
       "      <td>0</td>\n",
       "      <td>0</td>\n",
       "      <td>1262</td>\n",
       "      <td>0.000</td>\n",
       "      <td>1.000</td>\n",
       "      <td>2</td>\n",
       "      <td>0</td>\n",
       "      <td>3</td>\n",
       "      <td>1</td>\n",
       "      <td>TA</td>\n",
       "      <td>6</td>\n",
       "      <td>Typ</td>\n",
       "      <td>1</td>\n",
       "      <td>TA</td>\n",
       "      <td>Attchd</td>\n",
       "      <td>1976.000</td>\n",
       "      <td>RFn</td>\n",
       "      <td>2.000</td>\n",
       "      <td>460.000</td>\n",
       "      <td>ExGd</td>\n",
       "      <td>TA</td>\n",
       "      <td>Y</td>\n",
       "      <td>298</td>\n",
       "      <td>0</td>\n",
       "      <td>0</td>\n",
       "      <td>0</td>\n",
       "      <td>0</td>\n",
       "      <td>0</td>\n",
       "      <td>No</td>\n",
       "      <td>No</td>\n",
       "      <td>No</td>\n",
       "      <td>0</td>\n",
       "      <td>5</td>\n",
       "      <td>2007</td>\n",
       "      <td>WD</td>\n",
       "      <td>Normal</td>\n",
       "      <td>181500.000</td>\n",
       "      <td>Small</td>\n",
       "      <td>14</td>\n",
       "      <td>14</td>\n",
       "      <td>1262.000</td>\n",
       "      <td>978.000</td>\n",
       "      <td>298</td>\n",
       "      <td>2524.000</td>\n",
       "      <td>2524.000</td>\n",
       "      <td>2.000</td>\n",
       "      <td>1.000</td>\n",
       "      <td>2.500</td>\n",
       "      <td>0.131</td>\n",
       "      <td>0.263</td>\n",
       "      <td>0.048</td>\n",
       "      <td>0.000</td>\n",
       "      <td>31</td>\n",
       "      <td>31.000</td>\n",
       "      <td>0.000</td>\n",
       "      <td>0.000</td>\n",
       "      <td>31.000</td>\n",
       "    </tr>\n",
       "    <tr>\n",
       "      <th>2</th>\n",
       "      <td>3.000</td>\n",
       "      <td>60</td>\n",
       "      <td>RL</td>\n",
       "      <td>68.000</td>\n",
       "      <td>11250.000</td>\n",
       "      <td>Pave</td>\n",
       "      <td>No</td>\n",
       "      <td>IR</td>\n",
       "      <td>Lvl</td>\n",
       "      <td>AllPub</td>\n",
       "      <td>Inside</td>\n",
       "      <td>Gtl</td>\n",
       "      <td>CollgCr</td>\n",
       "      <td>NormalCondition</td>\n",
       "      <td>Normal</td>\n",
       "      <td>2Story</td>\n",
       "      <td>7</td>\n",
       "      <td>5</td>\n",
       "      <td>2001</td>\n",
       "      <td>2002.000</td>\n",
       "      <td>Gable</td>\n",
       "      <td>CompShg</td>\n",
       "      <td>VinylSd</td>\n",
       "      <td>VinylSd</td>\n",
       "      <td>BrkFace</td>\n",
       "      <td>162.000</td>\n",
       "      <td>Gd</td>\n",
       "      <td>TA</td>\n",
       "      <td>PConc</td>\n",
       "      <td>Gd</td>\n",
       "      <td>TA</td>\n",
       "      <td>Mn</td>\n",
       "      <td>RareExcellent</td>\n",
       "      <td>486.000</td>\n",
       "      <td>Unf</td>\n",
       "      <td>0.000</td>\n",
       "      <td>434.000</td>\n",
       "      <td>920.000</td>\n",
       "      <td>GasA</td>\n",
       "      <td>Ex</td>\n",
       "      <td>Y</td>\n",
       "      <td>SBrkr</td>\n",
       "      <td>920.000</td>\n",
       "      <td>866</td>\n",
       "      <td>0</td>\n",
       "      <td>1786</td>\n",
       "      <td>1.000</td>\n",
       "      <td>0.000</td>\n",
       "      <td>2</td>\n",
       "      <td>1</td>\n",
       "      <td>3</td>\n",
       "      <td>1</td>\n",
       "      <td>Gd</td>\n",
       "      <td>6</td>\n",
       "      <td>Typ</td>\n",
       "      <td>1</td>\n",
       "      <td>TA</td>\n",
       "      <td>Attchd</td>\n",
       "      <td>2001.000</td>\n",
       "      <td>RFn</td>\n",
       "      <td>2.000</td>\n",
       "      <td>608.000</td>\n",
       "      <td>ExGd</td>\n",
       "      <td>TA</td>\n",
       "      <td>Y</td>\n",
       "      <td>0</td>\n",
       "      <td>42</td>\n",
       "      <td>0</td>\n",
       "      <td>0</td>\n",
       "      <td>0</td>\n",
       "      <td>0</td>\n",
       "      <td>No</td>\n",
       "      <td>No</td>\n",
       "      <td>No</td>\n",
       "      <td>0</td>\n",
       "      <td>9</td>\n",
       "      <td>2008</td>\n",
       "      <td>WD</td>\n",
       "      <td>Normal</td>\n",
       "      <td>223500.000</td>\n",
       "      <td>Dublex</td>\n",
       "      <td>12</td>\n",
       "      <td>12</td>\n",
       "      <td>1786.000</td>\n",
       "      <td>486.000</td>\n",
       "      <td>42</td>\n",
       "      <td>2706.000</td>\n",
       "      <td>2706.000</td>\n",
       "      <td>3.000</td>\n",
       "      <td>1.000</td>\n",
       "      <td>3.500</td>\n",
       "      <td>0.159</td>\n",
       "      <td>0.241</td>\n",
       "      <td>0.054</td>\n",
       "      <td>1.000</td>\n",
       "      <td>7</td>\n",
       "      <td>6.000</td>\n",
       "      <td>0.000</td>\n",
       "      <td>1.000</td>\n",
       "      <td>7.000</td>\n",
       "    </tr>\n",
       "    <tr>\n",
       "      <th>3</th>\n",
       "      <td>4.000</td>\n",
       "      <td>70</td>\n",
       "      <td>RL</td>\n",
       "      <td>60.000</td>\n",
       "      <td>9550.000</td>\n",
       "      <td>Pave</td>\n",
       "      <td>No</td>\n",
       "      <td>IR</td>\n",
       "      <td>Lvl</td>\n",
       "      <td>AllPub</td>\n",
       "      <td>Corner</td>\n",
       "      <td>Gtl</td>\n",
       "      <td>Crawfor</td>\n",
       "      <td>NormalCondition</td>\n",
       "      <td>Normal</td>\n",
       "      <td>2Story</td>\n",
       "      <td>7</td>\n",
       "      <td>5</td>\n",
       "      <td>1915</td>\n",
       "      <td>1970.000</td>\n",
       "      <td>Gable</td>\n",
       "      <td>CompShg</td>\n",
       "      <td>Wd Sdng</td>\n",
       "      <td>Wd Shng</td>\n",
       "      <td>None</td>\n",
       "      <td>0.000</td>\n",
       "      <td>TA</td>\n",
       "      <td>TA</td>\n",
       "      <td>BrkTil</td>\n",
       "      <td>TA</td>\n",
       "      <td>Gd</td>\n",
       "      <td>No</td>\n",
       "      <td>RareExcellent</td>\n",
       "      <td>216.000</td>\n",
       "      <td>Unf</td>\n",
       "      <td>0.000</td>\n",
       "      <td>540.000</td>\n",
       "      <td>756.000</td>\n",
       "      <td>GasA</td>\n",
       "      <td>Gd</td>\n",
       "      <td>Y</td>\n",
       "      <td>SBrkr</td>\n",
       "      <td>961.000</td>\n",
       "      <td>756</td>\n",
       "      <td>0</td>\n",
       "      <td>1717</td>\n",
       "      <td>1.000</td>\n",
       "      <td>0.000</td>\n",
       "      <td>1</td>\n",
       "      <td>0</td>\n",
       "      <td>3</td>\n",
       "      <td>1</td>\n",
       "      <td>Gd</td>\n",
       "      <td>7</td>\n",
       "      <td>Typ</td>\n",
       "      <td>1</td>\n",
       "      <td>Gd</td>\n",
       "      <td>Detchd</td>\n",
       "      <td>1998.000</td>\n",
       "      <td>Unf</td>\n",
       "      <td>3.000</td>\n",
       "      <td>642.000</td>\n",
       "      <td>ExGd</td>\n",
       "      <td>TA</td>\n",
       "      <td>Y</td>\n",
       "      <td>0</td>\n",
       "      <td>35</td>\n",
       "      <td>0</td>\n",
       "      <td>0</td>\n",
       "      <td>0</td>\n",
       "      <td>0</td>\n",
       "      <td>No</td>\n",
       "      <td>No</td>\n",
       "      <td>No</td>\n",
       "      <td>0</td>\n",
       "      <td>2</td>\n",
       "      <td>2006</td>\n",
       "      <td>WD</td>\n",
       "      <td>Abnorml</td>\n",
       "      <td>140000.000</td>\n",
       "      <td>Large</td>\n",
       "      <td>12</td>\n",
       "      <td>12</td>\n",
       "      <td>1717.000</td>\n",
       "      <td>216.000</td>\n",
       "      <td>35</td>\n",
       "      <td>2473.000</td>\n",
       "      <td>2473.000</td>\n",
       "      <td>2.000</td>\n",
       "      <td>0.000</td>\n",
       "      <td>2.000</td>\n",
       "      <td>0.180</td>\n",
       "      <td>0.259</td>\n",
       "      <td>0.067</td>\n",
       "      <td>55.000</td>\n",
       "      <td>91</td>\n",
       "      <td>36.000</td>\n",
       "      <td>83.000</td>\n",
       "      <td>28.000</td>\n",
       "      <td>8.000</td>\n",
       "    </tr>\n",
       "    <tr>\n",
       "      <th>4</th>\n",
       "      <td>5.000</td>\n",
       "      <td>60</td>\n",
       "      <td>RL</td>\n",
       "      <td>84.000</td>\n",
       "      <td>14260.000</td>\n",
       "      <td>Pave</td>\n",
       "      <td>No</td>\n",
       "      <td>IR</td>\n",
       "      <td>Lvl</td>\n",
       "      <td>AllPub</td>\n",
       "      <td>FR2</td>\n",
       "      <td>Gtl</td>\n",
       "      <td>NoRidge</td>\n",
       "      <td>NormalCondition</td>\n",
       "      <td>Normal</td>\n",
       "      <td>2Story</td>\n",
       "      <td>8</td>\n",
       "      <td>5</td>\n",
       "      <td>2000</td>\n",
       "      <td>2000.000</td>\n",
       "      <td>Gable</td>\n",
       "      <td>CompShg</td>\n",
       "      <td>VinylSd</td>\n",
       "      <td>VinylSd</td>\n",
       "      <td>BrkFace</td>\n",
       "      <td>350.000</td>\n",
       "      <td>Gd</td>\n",
       "      <td>TA</td>\n",
       "      <td>PConc</td>\n",
       "      <td>Gd</td>\n",
       "      <td>TA</td>\n",
       "      <td>Av</td>\n",
       "      <td>RareExcellent</td>\n",
       "      <td>655.000</td>\n",
       "      <td>Unf</td>\n",
       "      <td>0.000</td>\n",
       "      <td>490.000</td>\n",
       "      <td>1145.000</td>\n",
       "      <td>GasA</td>\n",
       "      <td>Ex</td>\n",
       "      <td>Y</td>\n",
       "      <td>SBrkr</td>\n",
       "      <td>1145.000</td>\n",
       "      <td>1053</td>\n",
       "      <td>0</td>\n",
       "      <td>2198</td>\n",
       "      <td>1.000</td>\n",
       "      <td>0.000</td>\n",
       "      <td>2</td>\n",
       "      <td>1</td>\n",
       "      <td>4</td>\n",
       "      <td>1</td>\n",
       "      <td>Gd</td>\n",
       "      <td>9</td>\n",
       "      <td>Typ</td>\n",
       "      <td>1</td>\n",
       "      <td>TA</td>\n",
       "      <td>Attchd</td>\n",
       "      <td>2000.000</td>\n",
       "      <td>RFn</td>\n",
       "      <td>3.000</td>\n",
       "      <td>836.000</td>\n",
       "      <td>ExGd</td>\n",
       "      <td>TA</td>\n",
       "      <td>Y</td>\n",
       "      <td>192</td>\n",
       "      <td>84</td>\n",
       "      <td>0</td>\n",
       "      <td>0</td>\n",
       "      <td>0</td>\n",
       "      <td>0</td>\n",
       "      <td>No</td>\n",
       "      <td>No</td>\n",
       "      <td>No</td>\n",
       "      <td>0</td>\n",
       "      <td>12</td>\n",
       "      <td>2008</td>\n",
       "      <td>WD</td>\n",
       "      <td>Normal</td>\n",
       "      <td>250000.000</td>\n",
       "      <td>Luxury</td>\n",
       "      <td>13</td>\n",
       "      <td>13</td>\n",
       "      <td>2198.000</td>\n",
       "      <td>655.000</td>\n",
       "      <td>276</td>\n",
       "      <td>3343.000</td>\n",
       "      <td>3343.000</td>\n",
       "      <td>3.000</td>\n",
       "      <td>1.000</td>\n",
       "      <td>3.500</td>\n",
       "      <td>0.154</td>\n",
       "      <td>0.234</td>\n",
       "      <td>0.059</td>\n",
       "      <td>0.000</td>\n",
       "      <td>8</td>\n",
       "      <td>8.000</td>\n",
       "      <td>0.000</td>\n",
       "      <td>0.000</td>\n",
       "      <td>8.000</td>\n",
       "    </tr>\n",
       "  </tbody>\n",
       "</table>\n",
       "</div>"
      ],
      "text/plain": [
       "     Id  MSSubClass MSZoning  LotFrontage   LotArea Street Alley LotShape  \\\n",
       "0 1.000          60       RL       65.000  8450.000   Pave    No      Reg   \n",
       "1 2.000          20       RL       80.000  9600.000   Pave    No      Reg   \n",
       "2 3.000          60       RL       68.000 11250.000   Pave    No       IR   \n",
       "3 4.000          70       RL       60.000  9550.000   Pave    No       IR   \n",
       "4 5.000          60       RL       84.000 14260.000   Pave    No       IR   \n",
       "\n",
       "  LandContour Utilities LotConfig LandSlope Neighborhood         Condition1  \\\n",
       "0         Lvl    AllPub    Inside       Gtl      CollgCr    NormalCondition   \n",
       "1         Lvl    AllPub       FR2       Gtl      Veenker  AdjacentCondition   \n",
       "2         Lvl    AllPub    Inside       Gtl      CollgCr    NormalCondition   \n",
       "3         Lvl    AllPub    Corner       Gtl      Crawfor    NormalCondition   \n",
       "4         Lvl    AllPub       FR2       Gtl      NoRidge    NormalCondition   \n",
       "\n",
       "  BldgType HouseStyle  OverallQual  OverallCond  YearBuilt  YearRemodAdd  \\\n",
       "0   Normal     2Story            7            5       2003      2003.000   \n",
       "1   Normal     1Story            6            8       1976      1976.000   \n",
       "2   Normal     2Story            7            5       2001      2002.000   \n",
       "3   Normal     2Story            7            5       1915      1970.000   \n",
       "4   Normal     2Story            8            5       2000      2000.000   \n",
       "\n",
       "  RoofStyle RoofMatl Exterior1st Exterior2nd MasVnrType  MasVnrArea ExterQual  \\\n",
       "0     Gable  CompShg     VinylSd     VinylSd    BrkFace     196.000        Gd   \n",
       "1     Gable  CompShg     MetalSd     MetalSd       None       0.000        TA   \n",
       "2     Gable  CompShg     VinylSd     VinylSd    BrkFace     162.000        Gd   \n",
       "3     Gable  CompShg     Wd Sdng     Wd Shng       None       0.000        TA   \n",
       "4     Gable  CompShg     VinylSd     VinylSd    BrkFace     350.000        Gd   \n",
       "\n",
       "  ExterCond Foundation BsmtQual BsmtCond BsmtExposure   BsmtFinType1  \\\n",
       "0        TA      PConc       Gd       TA           No  RareExcellent   \n",
       "1        TA     CBlock       Gd       TA           Gd  RareExcellent   \n",
       "2        TA      PConc       Gd       TA           Mn  RareExcellent   \n",
       "3        TA     BrkTil       TA       Gd           No  RareExcellent   \n",
       "4        TA      PConc       Gd       TA           Av  RareExcellent   \n",
       "\n",
       "   BsmtFinSF1 BsmtFinType2  BsmtFinSF2  BsmtUnfSF  TotalBsmtSF Heating  \\\n",
       "0     706.000          Unf       0.000    150.000      856.000    GasA   \n",
       "1     978.000          Unf       0.000    284.000     1262.000    GasA   \n",
       "2     486.000          Unf       0.000    434.000      920.000    GasA   \n",
       "3     216.000          Unf       0.000    540.000      756.000    GasA   \n",
       "4     655.000          Unf       0.000    490.000     1145.000    GasA   \n",
       "\n",
       "  HeatingQC CentralAir Electrical  1stFlrSF  2ndFlrSF  LowQualFinSF  \\\n",
       "0        Ex          Y      SBrkr   856.000       854             0   \n",
       "1        Ex          Y      SBrkr  1262.000         0             0   \n",
       "2        Ex          Y      SBrkr   920.000       866             0   \n",
       "3        Gd          Y      SBrkr   961.000       756             0   \n",
       "4        Ex          Y      SBrkr  1145.000      1053             0   \n",
       "\n",
       "   GrLivArea  BsmtFullBath  BsmtHalfBath  FullBath  HalfBath  BedroomAbvGr  \\\n",
       "0       1710         1.000         0.000         2         1             3   \n",
       "1       1262         0.000         1.000         2         0             3   \n",
       "2       1786         1.000         0.000         2         1             3   \n",
       "3       1717         1.000         0.000         1         0             3   \n",
       "4       2198         1.000         0.000         2         1             4   \n",
       "\n",
       "   KitchenAbvGr KitchenQual  TotRmsAbvGrd Functional  Fireplaces FireplaceQu  \\\n",
       "0             1          Gd             8        Typ           0          No   \n",
       "1             1          TA             6        Typ           1          TA   \n",
       "2             1          Gd             6        Typ           1          TA   \n",
       "3             1          Gd             7        Typ           1          Gd   \n",
       "4             1          Gd             9        Typ           1          TA   \n",
       "\n",
       "  GarageType  GarageYrBlt GarageFinish  GarageCars  GarageArea GarageQual  \\\n",
       "0     Attchd     2003.000          RFn       2.000     548.000       ExGd   \n",
       "1     Attchd     1976.000          RFn       2.000     460.000       ExGd   \n",
       "2     Attchd     2001.000          RFn       2.000     608.000       ExGd   \n",
       "3     Detchd     1998.000          Unf       3.000     642.000       ExGd   \n",
       "4     Attchd     2000.000          RFn       3.000     836.000       ExGd   \n",
       "\n",
       "  GarageCond PavedDrive  WoodDeckSF  OpenPorchSF  EnclosedPorch  3SsnPorch  \\\n",
       "0         TA          Y           0           61              0          0   \n",
       "1         TA          Y         298            0              0          0   \n",
       "2         TA          Y           0           42              0          0   \n",
       "3         TA          Y           0           35              0          0   \n",
       "4         TA          Y         192           84              0          0   \n",
       "\n",
       "   ScreenPorch  PoolArea PoolQC Fence MiscFeature  MiscVal  MoSold  YrSold  \\\n",
       "0            0         0     No    No          No        0       2    2008   \n",
       "1            0         0     No    No          No        0       5    2007   \n",
       "2            0         0     No    No          No        0       9    2008   \n",
       "3            0         0     No    No          No        0       2    2006   \n",
       "4            0         0     No    No          No        0      12    2008   \n",
       "\n",
       "  SaleType SaleCondition  SalePrice New_LotArea  TotalQual  Overall  \\\n",
       "0       WD        Normal 208500.000      Studio         12       12   \n",
       "1       WD        Normal 181500.000       Small         14       14   \n",
       "2       WD        Normal 223500.000      Dublex         12       12   \n",
       "3       WD       Abnorml 140000.000       Large         12       12   \n",
       "4       WD        Normal 250000.000      Luxury         13       13   \n",
       "\n",
       "   NEW_TotalFlrSF  NEW_TotalBsmtFin  NEW_PorchArea  NEW_TotalHouseArea  \\\n",
       "0        1710.000           706.000             61            2566.000   \n",
       "1        1262.000           978.000            298            2524.000   \n",
       "2        1786.000           486.000             42            2706.000   \n",
       "3        1717.000           216.000             35            2473.000   \n",
       "4        2198.000           655.000            276            3343.000   \n",
       "\n",
       "   NEW_TotalSqFeet  NEW_TotalFullBath  NEW_TotalHalfBath  NEW_TotalBath  \\\n",
       "0         2566.000              3.000              1.000          3.500   \n",
       "1         2524.000              2.000              1.000          2.500   \n",
       "2         2706.000              3.000              1.000          3.500   \n",
       "3         2473.000              2.000              0.000          2.000   \n",
       "4         3343.000              3.000              1.000          3.500   \n",
       "\n",
       "   NEW_LotRatio  NEW_RatioArea  NEW_GarageLotRatio  NEW_Restoration  \\\n",
       "0         0.202          0.304               0.065            0.000   \n",
       "1         0.131          0.263               0.048            0.000   \n",
       "2         0.159          0.241               0.054            1.000   \n",
       "3         0.180          0.259               0.067           55.000   \n",
       "4         0.154          0.234               0.059            0.000   \n",
       "\n",
       "   NEW_HouseAge  NEW_RestorationAge  NEW_GarageAge  NEW_GarageRestorationAge  \\\n",
       "0             5               5.000          0.000                     0.000   \n",
       "1            31              31.000          0.000                     0.000   \n",
       "2             7               6.000          0.000                     1.000   \n",
       "3            91              36.000         83.000                    28.000   \n",
       "4             8               8.000          0.000                     0.000   \n",
       "\n",
       "   NEW_GarageSold  \n",
       "0           5.000  \n",
       "1          31.000  \n",
       "2           7.000  \n",
       "3           8.000  \n",
       "4           8.000  "
      ]
     },
     "execution_count": 76,
     "metadata": {},
     "output_type": "execute_result"
    }
   ],
   "source": [
    "df.head()"
   ]
  },
  {
   "cell_type": "markdown",
   "metadata": {
    "pycharm": {
     "name": "#%% md\n"
    }
   },
   "source": [
    "When we do rare analysis above, let's remove the variables that we see unnecessary in the data set from the data set."
   ]
  },
  {
   "cell_type": "code",
   "execution_count": 77,
   "metadata": {
    "pycharm": {
     "name": "#%%\n"
    }
   },
   "outputs": [],
   "source": [
    "drop_list = [\"Street\", \"Alley\", \"LandContour\", \"Utilities\", \"LandSlope\", \"Heating\", \"PoolQC\", \"MiscFeature\",\n",
    "             \"Neighborhood\", \"KitchenAbvGr\", \"CentralAir\", \"Functional\"]\n",
    "\n",
    "# drop_list'teki değişkenlerin düşürülmesi\n",
    "df.drop(drop_list, axis=1, inplace=True)"
   ]
  },
  {
   "cell_type": "markdown",
   "metadata": {
    "pycharm": {
     "name": "#%% md\n"
    }
   },
   "source": [
    "####  Encoding"
   ]
  },
  {
   "cell_type": "code",
   "execution_count": 78,
   "metadata": {
    "pycharm": {
     "name": "#%%\n"
    }
   },
   "outputs": [
    {
     "name": "stdout",
     "output_type": "stream",
     "text": [
      "Observations: 2915\n",
      "Variables: 88\n",
      "categorical_cols: 52\n",
      "numerical_cols: 36\n",
      "cardinal_cols: 0\n",
      "nominal_cols: 21\n"
     ]
    }
   ],
   "source": [
    "categorical_cols, numerical_cols, cardinal_cols, nominal_cols = grab_col_names(df)"
   ]
  },
  {
   "cell_type": "markdown",
   "metadata": {
    "pycharm": {
     "name": "#%% md\n"
    }
   },
   "source": [
    "##### Label Encoding"
   ]
  },
  {
   "cell_type": "code",
   "execution_count": 79,
   "metadata": {
    "pycharm": {
     "name": "#%%\n"
    }
   },
   "outputs": [],
   "source": [
    "def label_encoder(dataframe, binary_col):\n",
    "    labelencoder = preprocessing.LabelEncoder()\n",
    "    dataframe[binary_col] = labelencoder.fit_transform(dataframe[binary_col])\n",
    "    return dataframe\n",
    "\n",
    "\n",
    "binary_cols = [col for col in df.columns if df[col].dtypes == \"O\"\n",
    "               and len(df[col].unique()) == 2]\n",
    "\n",
    "for col in binary_cols:\n",
    "    label_encoder(df, col)"
   ]
  },
  {
   "cell_type": "markdown",
   "metadata": {
    "pycharm": {
     "name": "#%% md\n"
    }
   },
   "source": [
    "##### One - Hot Encoding"
   ]
  },
  {
   "cell_type": "code",
   "execution_count": 81,
   "metadata": {
    "pycharm": {
     "name": "#%%\n"
    }
   },
   "outputs": [],
   "source": [
    "def one_hot_encoder(dataframe, categorical_cols, drop_first=False):\n",
    "    dataframe = pd.get_dummies(dataframe, columns=categorical_cols, drop_first=drop_first)\n",
    "    return dataframe\n",
    "\n",
    "\n",
    "df = one_hot_encoder(df, categorical_cols, drop_first=True)"
   ]
  },
  {
   "cell_type": "markdown",
   "metadata": {
    "pycharm": {
     "name": "#%% md\n"
    }
   },
   "source": [
    "### Modeling"
   ]
  },
  {
   "cell_type": "code",
   "execution_count": 82,
   "metadata": {
    "pycharm": {
     "name": "#%%\n"
    }
   },
   "outputs": [
    {
     "name": "stdout",
     "output_type": "stream",
     "text": [
      "           number_of_missing_values  percentage_ratio\n",
      "SalePrice                      1459            50.050\n"
     ]
    }
   ],
   "source": [
    "missing_values_table(df)"
   ]
  },
  {
   "cell_type": "code",
   "execution_count": 83,
   "metadata": {
    "pycharm": {
     "name": "#%%\n"
    }
   },
   "outputs": [],
   "source": [
    "# Realization of log transformation\n",
    "train_df = df[df['SalePrice'].notnull()]\n",
    "test_df = df[df['SalePrice'].isnull()].drop(\"SalePrice\", axis=1)\n",
    "\n",
    "y = np.log1p(df[df['SalePrice'].notnull()]['SalePrice'])\n",
    "X = train_df.drop([\"Id\", \"SalePrice\"], axis=1)"
   ]
  },
  {
   "cell_type": "code",
   "execution_count": 88,
   "metadata": {
    "pycharm": {
     "name": "#%%\n"
    }
   },
   "outputs": [
    {
     "name": "stdout",
     "output_type": "stream",
     "text": [
      "RMSE: 0.1559 (LR) \n",
      "RMSE: 0.1412 (Ridge) \n",
      "RMSE: 0.1749 (Lasso) \n",
      "RMSE: 0.1681 (ElasticNet) \n",
      "RMSE: 0.211 (KNN) \n",
      "RMSE: 0.2012 (CART) \n",
      "RMSE: 0.1385 (RF) \n",
      "RMSE: 0.194 (SVR) \n",
      "RMSE: 0.1331 (GBM) \n",
      "RMSE: 0.1489 (XGBoost) \n",
      "RMSE: 0.1324 (LightGBM) \n"
     ]
    }
   ],
   "source": [
    "# Division of data as training and test data\n",
    "X_train, X_test, y_train, y_test = train_test_split(X, y, test_size=0.20, random_state=17)\n",
    "\n",
    "models = [('LR', LinearRegression()),\n",
    "          (\"Ridge\", Ridge()),\n",
    "          (\"Lasso\", Lasso()),\n",
    "          (\"ElasticNet\", ElasticNet()),\n",
    "          ('KNN', KNeighborsRegressor()),\n",
    "          ('CART', DecisionTreeRegressor()),\n",
    "          ('RF', RandomForestRegressor()),\n",
    "          ('SVR', SVR()),\n",
    "          ('GBM', GradientBoostingRegressor()),\n",
    "          (\"XGBoost\", XGBRegressor(objective='reg:squarederror')),\n",
    "          (\"LightGBM\", LGBMRegressor())]\n",
    "# (\"CatBoost\", CatBoostRegressor(verbose=False))]\n",
    "\n",
    "for name, regressor in models:\n",
    "    rmse = np.mean(np.sqrt(-cross_val_score(regressor, X, y, cv=5, scoring=\"neg_mean_squared_error\")))\n",
    "    print(f\"RMSE: {round(rmse, 4)} ({name}) \")"
   ]
  },
  {
   "cell_type": "code",
   "execution_count": 89,
   "metadata": {
    "pycharm": {
     "name": "#%%\n"
    }
   },
   "outputs": [
    {
     "name": "stdout",
     "output_type": "stream",
     "text": [
      "Fitting 3 folds for each of 81 candidates, totalling 243 fits\n"
     ]
    }
   ],
   "source": [
    "xgboost_model = XGBRegressor(objective='reg:squarederror')\n",
    "\n",
    "rmse = np.mean(np.sqrt(-cross_val_score(xgboost_model,\n",
    "                                        X, y, cv=5, scoring=\"neg_mean_squared_error\")))\n",
    "\n",
    "xgboost_params = {\"learning_rate\": [0.1, 0.01, 0.03],\n",
    "                  \"max_depth\": [5, 6, 8],\n",
    "                  \"n_estimators\": [100, 200, 300],\n",
    "                  \"colsample_bytree\": [0.5, 0.8, 1]}\n",
    "\n",
    "xgboost_gs_best = GridSearchCV(xgboost_model,\n",
    "                               xgboost_params,\n",
    "                               cv=3,\n",
    "                               n_jobs=-1,\n",
    "                               verbose=True).fit(X_train, y_train)"
   ]
  },
  {
   "cell_type": "code",
   "execution_count": 90,
   "metadata": {
    "pycharm": {
     "name": "#%%\n"
    }
   },
   "outputs": [
    {
     "data": {
      "text/plain": [
       "{'colsample_bytree': 0.5,\n",
       " 'learning_rate': 0.03,\n",
       " 'max_depth': 6,\n",
       " 'n_estimators': 300}"
      ]
     },
     "execution_count": 90,
     "metadata": {},
     "output_type": "execute_result"
    }
   ],
   "source": [
    "xgboost_gs_best.best_params_"
   ]
  },
  {
   "cell_type": "code",
   "execution_count": 91,
   "metadata": {
    "pycharm": {
     "name": "#%%\n"
    }
   },
   "outputs": [],
   "source": [
    "final_model = xgboost_model.set_params(**xgboost_gs_best.best_params_).fit(X, y)\n",
    "\n",
    "rmse = np.mean(np.sqrt(-cross_val_score(final_model, X, y, cv=5, scoring=\"neg_mean_squared_error\")))\n"
   ]
  },
  {
   "cell_type": "code",
   "execution_count": 92,
   "metadata": {
    "pycharm": {
     "name": "#%%\n"
    }
   },
   "outputs": [
    {
     "data": {
      "text/plain": [
       "0.1316"
      ]
     },
     "execution_count": 92,
     "metadata": {},
     "output_type": "execute_result"
    }
   ],
   "source": [
    "round(rmse, 4)"
   ]
  },
  {
   "cell_type": "markdown",
   "metadata": {
    "pycharm": {
     "name": "#%% md\n"
    }
   },
   "source": [
    "### Testing the model on test data"
   ]
  },
  {
   "cell_type": "code",
   "execution_count": 93,
   "metadata": {
    "pycharm": {
     "name": "#%%\n"
    }
   },
   "outputs": [
    {
     "data": {
      "text/plain": [
       "28372.06586062332"
      ]
     },
     "execution_count": 93,
     "metadata": {},
     "output_type": "execute_result"
    }
   ],
   "source": [
    "xgboost_tuned = XGBRegressor(objective='reg:squarederror', **xgboost_gs_best.best_params_).fit(X_train, y_train)\n",
    "y_pred = xgboost_tuned.predict(X_test)\n",
    "\n",
    "# Return of the inverse (Inverse) of the log transformation\n",
    "new_y = np.expm1(y_pred)\n",
    "new_y_test = np.expm1(y_test)\n",
    "\n",
    "np.sqrt(mean_squared_error(new_y_test, new_y))\n",
    "\n",
    "# RMSE : 23535.96597150668"
   ]
  },
  {
   "cell_type": "code",
   "execution_count": 94,
   "metadata": {
    "pycharm": {
     "name": "#%%\n"
    }
   },
   "outputs": [
    {
     "data": {
      "text/plain": [
       "179538.66002747254"
      ]
     },
     "execution_count": 94,
     "metadata": {},
     "output_type": "execute_result"
    }
   ],
   "source": [
    "df['SalePrice'].mean()"
   ]
  },
  {
   "cell_type": "code",
   "execution_count": 95,
   "metadata": {
    "pycharm": {
     "name": "#%%\n"
    }
   },
   "outputs": [
    {
     "data": {
      "text/html": [
       "<div>\n",
       "<style scoped>\n",
       "    .dataframe tbody tr th:only-of-type {\n",
       "        vertical-align: middle;\n",
       "    }\n",
       "\n",
       "    .dataframe tbody tr th {\n",
       "        vertical-align: top;\n",
       "    }\n",
       "\n",
       "    .dataframe thead th {\n",
       "        text-align: right;\n",
       "    }\n",
       "</style>\n",
       "<table border=\"1\" class=\"dataframe\">\n",
       "  <thead>\n",
       "    <tr style=\"text-align: right;\">\n",
       "      <th></th>\n",
       "      <th>Id</th>\n",
       "      <th>MSSubClass</th>\n",
       "      <th>LotFrontage</th>\n",
       "      <th>LotArea</th>\n",
       "      <th>YearBuilt</th>\n",
       "      <th>YearRemodAdd</th>\n",
       "      <th>MasVnrArea</th>\n",
       "      <th>BsmtFinSF1</th>\n",
       "      <th>BsmtUnfSF</th>\n",
       "      <th>TotalBsmtSF</th>\n",
       "      <th>1stFlrSF</th>\n",
       "      <th>2ndFlrSF</th>\n",
       "      <th>GrLivArea</th>\n",
       "      <th>GarageYrBlt</th>\n",
       "      <th>GarageArea</th>\n",
       "      <th>WoodDeckSF</th>\n",
       "      <th>OpenPorchSF</th>\n",
       "      <th>MoSold</th>\n",
       "      <th>TotalQual</th>\n",
       "      <th>Overall</th>\n",
       "      <th>NEW_TotalFlrSF</th>\n",
       "      <th>NEW_TotalBsmtFin</th>\n",
       "      <th>NEW_PorchArea</th>\n",
       "      <th>NEW_TotalHouseArea</th>\n",
       "      <th>NEW_TotalSqFeet</th>\n",
       "      <th>NEW_TotalBath</th>\n",
       "      <th>NEW_LotRatio</th>\n",
       "      <th>NEW_RatioArea</th>\n",
       "      <th>NEW_GarageLotRatio</th>\n",
       "      <th>NEW_Restoration</th>\n",
       "      <th>NEW_HouseAge</th>\n",
       "      <th>NEW_RestorationAge</th>\n",
       "      <th>NEW_GarageAge</th>\n",
       "      <th>NEW_GarageRestorationAge</th>\n",
       "      <th>NEW_GarageSold</th>\n",
       "      <th>MSZoning_RL</th>\n",
       "      <th>MSZoning_RM</th>\n",
       "      <th>LotShape_1</th>\n",
       "      <th>LotConfig_CulDSac</th>\n",
       "      <th>LotConfig_FR2</th>\n",
       "      <th>LotConfig_FR3</th>\n",
       "      <th>LotConfig_Inside</th>\n",
       "      <th>Condition1_NormalCondition</th>\n",
       "      <th>Condition1_WithinCondition</th>\n",
       "      <th>BldgType_1</th>\n",
       "      <th>HouseStyle_1.5Unf</th>\n",
       "      <th>HouseStyle_1Story</th>\n",
       "      <th>HouseStyle_2.5Fin</th>\n",
       "      <th>HouseStyle_2.5Unf</th>\n",
       "      <th>HouseStyle_2Story</th>\n",
       "      <th>HouseStyle_SFoyer</th>\n",
       "      <th>HouseStyle_SLvl</th>\n",
       "      <th>RoofStyle_Gable</th>\n",
       "      <th>RoofStyle_Gambrel</th>\n",
       "      <th>RoofStyle_Hip</th>\n",
       "      <th>RoofStyle_Mansard</th>\n",
       "      <th>RoofStyle_Shed</th>\n",
       "      <th>RoofMatl_CompShg</th>\n",
       "      <th>RoofMatl_Membran</th>\n",
       "      <th>RoofMatl_Metal</th>\n",
       "      <th>RoofMatl_Roll</th>\n",
       "      <th>RoofMatl_Tar&amp;Grv</th>\n",
       "      <th>RoofMatl_WdShake</th>\n",
       "      <th>RoofMatl_WdShngl</th>\n",
       "      <th>Exterior1st_AsphShn</th>\n",
       "      <th>Exterior1st_BrkComm</th>\n",
       "      <th>Exterior1st_BrkFace</th>\n",
       "      <th>Exterior1st_CBlock</th>\n",
       "      <th>Exterior1st_CemntBd</th>\n",
       "      <th>Exterior1st_HdBoard</th>\n",
       "      <th>Exterior1st_ImStucc</th>\n",
       "      <th>Exterior1st_MetalSd</th>\n",
       "      <th>Exterior1st_Plywood</th>\n",
       "      <th>Exterior1st_Stone</th>\n",
       "      <th>Exterior1st_Stucco</th>\n",
       "      <th>Exterior1st_VinylSd</th>\n",
       "      <th>Exterior1st_Wd Sdng</th>\n",
       "      <th>Exterior1st_WdShing</th>\n",
       "      <th>Exterior2nd_AsphShn</th>\n",
       "      <th>Exterior2nd_Brk Cmn</th>\n",
       "      <th>Exterior2nd_BrkFace</th>\n",
       "      <th>Exterior2nd_CBlock</th>\n",
       "      <th>Exterior2nd_CmentBd</th>\n",
       "      <th>Exterior2nd_HdBoard</th>\n",
       "      <th>Exterior2nd_ImStucc</th>\n",
       "      <th>Exterior2nd_MetalSd</th>\n",
       "      <th>Exterior2nd_Other</th>\n",
       "      <th>Exterior2nd_Plywood</th>\n",
       "      <th>Exterior2nd_Stone</th>\n",
       "      <th>Exterior2nd_Stucco</th>\n",
       "      <th>Exterior2nd_VinylSd</th>\n",
       "      <th>Exterior2nd_Wd Sdng</th>\n",
       "      <th>Exterior2nd_Wd Shng</th>\n",
       "      <th>MasVnrType_BrkFace</th>\n",
       "      <th>MasVnrType_None</th>\n",
       "      <th>MasVnrType_Stone</th>\n",
       "      <th>ExterQual_Fa</th>\n",
       "      <th>ExterQual_Gd</th>\n",
       "      <th>ExterQual_TA</th>\n",
       "      <th>ExterCond_FaPo</th>\n",
       "      <th>ExterCond_TA</th>\n",
       "      <th>Foundation_CBlock</th>\n",
       "      <th>Foundation_PConc</th>\n",
       "      <th>Foundation_Slab</th>\n",
       "      <th>Foundation_Stone</th>\n",
       "      <th>Foundation_Wood</th>\n",
       "      <th>BsmtQual_Fa</th>\n",
       "      <th>BsmtQual_Gd</th>\n",
       "      <th>BsmtQual_No</th>\n",
       "      <th>BsmtQual_TA</th>\n",
       "      <th>BsmtCond_Gd</th>\n",
       "      <th>BsmtCond_No</th>\n",
       "      <th>BsmtCond_Po</th>\n",
       "      <th>BsmtCond_TA</th>\n",
       "      <th>BsmtExposure_Gd</th>\n",
       "      <th>BsmtExposure_Mn</th>\n",
       "      <th>BsmtExposure_No</th>\n",
       "      <th>BsmtFinType1_RareExcellent</th>\n",
       "      <th>BsmtFinType1_RareGood</th>\n",
       "      <th>BsmtFinType1_Unf</th>\n",
       "      <th>BsmtFinType2_RareExcellent</th>\n",
       "      <th>BsmtFinType2_RareGood</th>\n",
       "      <th>BsmtFinType2_Unf</th>\n",
       "      <th>HeatingQC_Fa</th>\n",
       "      <th>HeatingQC_Gd</th>\n",
       "      <th>HeatingQC_Po</th>\n",
       "      <th>HeatingQC_TA</th>\n",
       "      <th>Electrical_FuseF</th>\n",
       "      <th>Electrical_FuseP</th>\n",
       "      <th>Electrical_Mix</th>\n",
       "      <th>Electrical_SBrkr</th>\n",
       "      <th>KitchenQual_Fa</th>\n",
       "      <th>KitchenQual_Gd</th>\n",
       "      <th>KitchenQual_TA</th>\n",
       "      <th>FireplaceQu_Fa</th>\n",
       "      <th>FireplaceQu_Gd</th>\n",
       "      <th>FireplaceQu_No</th>\n",
       "      <th>FireplaceQu_Po</th>\n",
       "      <th>FireplaceQu_TA</th>\n",
       "      <th>GarageType_Attchd</th>\n",
       "      <th>GarageType_Basment</th>\n",
       "      <th>GarageType_BuiltIn</th>\n",
       "      <th>GarageType_CarPort</th>\n",
       "      <th>GarageType_Detchd</th>\n",
       "      <th>GarageType_No</th>\n",
       "      <th>GarageFinish_No</th>\n",
       "      <th>GarageFinish_RFn</th>\n",
       "      <th>GarageFinish_Unf</th>\n",
       "      <th>GarageQual_FaPo</th>\n",
       "      <th>GarageQual_No</th>\n",
       "      <th>GarageCond_Fa</th>\n",
       "      <th>GarageCond_Gd</th>\n",
       "      <th>GarageCond_No</th>\n",
       "      <th>GarageCond_Po</th>\n",
       "      <th>GarageCond_TA</th>\n",
       "      <th>PavedDrive_P</th>\n",
       "      <th>PavedDrive_Y</th>\n",
       "      <th>Fence_GdWo</th>\n",
       "      <th>Fence_MnPrv</th>\n",
       "      <th>Fence_MnWw</th>\n",
       "      <th>Fence_No</th>\n",
       "      <th>SaleType_CWD</th>\n",
       "      <th>SaleType_Con</th>\n",
       "      <th>SaleType_ConLD</th>\n",
       "      <th>SaleType_ConLI</th>\n",
       "      <th>SaleType_ConLw</th>\n",
       "      <th>SaleType_New</th>\n",
       "      <th>SaleType_Oth</th>\n",
       "      <th>SaleType_WD</th>\n",
       "      <th>SaleCondition_AdjLand</th>\n",
       "      <th>SaleCondition_Alloca</th>\n",
       "      <th>SaleCondition_Family</th>\n",
       "      <th>SaleCondition_Normal</th>\n",
       "      <th>SaleCondition_Partial</th>\n",
       "      <th>OverallQual_3</th>\n",
       "      <th>OverallQual_4</th>\n",
       "      <th>OverallQual_5</th>\n",
       "      <th>OverallQual_6</th>\n",
       "      <th>OverallQual_7</th>\n",
       "      <th>OverallQual_8</th>\n",
       "      <th>OverallQual_9</th>\n",
       "      <th>OverallQual_10</th>\n",
       "      <th>OverallCond_2</th>\n",
       "      <th>OverallCond_3</th>\n",
       "      <th>OverallCond_4</th>\n",
       "      <th>OverallCond_5</th>\n",
       "      <th>OverallCond_6</th>\n",
       "      <th>OverallCond_7</th>\n",
       "      <th>OverallCond_8</th>\n",
       "      <th>OverallCond_9</th>\n",
       "      <th>BsmtFullBath_1.0</th>\n",
       "      <th>BsmtFullBath_2.0</th>\n",
       "      <th>BsmtFullBath_3.0</th>\n",
       "      <th>BsmtHalfBath_1.0</th>\n",
       "      <th>BsmtHalfBath_2.0</th>\n",
       "      <th>FullBath_1</th>\n",
       "      <th>FullBath_2</th>\n",
       "      <th>FullBath_3</th>\n",
       "      <th>FullBath_4</th>\n",
       "      <th>HalfBath_1</th>\n",
       "      <th>HalfBath_2</th>\n",
       "      <th>BedroomAbvGr_1</th>\n",
       "      <th>BedroomAbvGr_2</th>\n",
       "      <th>BedroomAbvGr_3</th>\n",
       "      <th>BedroomAbvGr_4</th>\n",
       "      <th>BedroomAbvGr_5</th>\n",
       "      <th>BedroomAbvGr_6</th>\n",
       "      <th>BedroomAbvGr_8</th>\n",
       "      <th>TotRmsAbvGrd_3</th>\n",
       "      <th>TotRmsAbvGrd_4</th>\n",
       "      <th>TotRmsAbvGrd_5</th>\n",
       "      <th>TotRmsAbvGrd_6</th>\n",
       "      <th>TotRmsAbvGrd_7</th>\n",
       "      <th>TotRmsAbvGrd_8</th>\n",
       "      <th>TotRmsAbvGrd_9</th>\n",
       "      <th>TotRmsAbvGrd_10</th>\n",
       "      <th>Fireplaces_1</th>\n",
       "      <th>Fireplaces_2</th>\n",
       "      <th>Fireplaces_3</th>\n",
       "      <th>Fireplaces_4</th>\n",
       "      <th>GarageCars_1.0</th>\n",
       "      <th>GarageCars_2.0</th>\n",
       "      <th>GarageCars_3.0</th>\n",
       "      <th>GarageCars_4.0</th>\n",
       "      <th>GarageCars_5.0</th>\n",
       "      <th>YrSold_2007</th>\n",
       "      <th>YrSold_2008</th>\n",
       "      <th>YrSold_2009</th>\n",
       "      <th>YrSold_2010</th>\n",
       "      <th>New_LotArea_Large</th>\n",
       "      <th>New_LotArea_Luxury</th>\n",
       "      <th>New_LotArea_Middle</th>\n",
       "      <th>New_LotArea_Small</th>\n",
       "      <th>New_LotArea_Studio</th>\n",
       "      <th>NEW_TotalFullBath_1.0</th>\n",
       "      <th>NEW_TotalFullBath_2.0</th>\n",
       "      <th>NEW_TotalFullBath_3.0</th>\n",
       "      <th>NEW_TotalFullBath_4.0</th>\n",
       "      <th>NEW_TotalFullBath_6.0</th>\n",
       "      <th>NEW_TotalHalfBath_1.0</th>\n",
       "      <th>NEW_TotalHalfBath_2.0</th>\n",
       "      <th>NEW_TotalHalfBath_3.0</th>\n",
       "      <th>NEW_TotalHalfBath_4.0</th>\n",
       "    </tr>\n",
       "  </thead>\n",
       "  <tbody>\n",
       "    <tr>\n",
       "      <th>1460</th>\n",
       "      <td>1461.000</td>\n",
       "      <td>20</td>\n",
       "      <td>80.000</td>\n",
       "      <td>11622.000</td>\n",
       "      <td>1961</td>\n",
       "      <td>1961.000</td>\n",
       "      <td>0.000</td>\n",
       "      <td>468.000</td>\n",
       "      <td>270.000</td>\n",
       "      <td>882.000</td>\n",
       "      <td>896.000</td>\n",
       "      <td>0</td>\n",
       "      <td>896</td>\n",
       "      <td>1961.000</td>\n",
       "      <td>730.000</td>\n",
       "      <td>140</td>\n",
       "      <td>0</td>\n",
       "      <td>6</td>\n",
       "      <td>11</td>\n",
       "      <td>11</td>\n",
       "      <td>896.000</td>\n",
       "      <td>468.000</td>\n",
       "      <td>140</td>\n",
       "      <td>1778.000</td>\n",
       "      <td>1778.000</td>\n",
       "      <td>1.000</td>\n",
       "      <td>0.077</td>\n",
       "      <td>0.153</td>\n",
       "      <td>0.063</td>\n",
       "      <td>0.000</td>\n",
       "      <td>49</td>\n",
       "      <td>49.000</td>\n",
       "      <td>0.000</td>\n",
       "      <td>0.000</td>\n",
       "      <td>49.000</td>\n",
       "      <td>0</td>\n",
       "      <td>1</td>\n",
       "      <td>1</td>\n",
       "      <td>0</td>\n",
       "      <td>0</td>\n",
       "      <td>0</td>\n",
       "      <td>1</td>\n",
       "      <td>0</td>\n",
       "      <td>0</td>\n",
       "      <td>1</td>\n",
       "      <td>0</td>\n",
       "      <td>1</td>\n",
       "      <td>0</td>\n",
       "      <td>0</td>\n",
       "      <td>0</td>\n",
       "      <td>0</td>\n",
       "      <td>0</td>\n",
       "      <td>1</td>\n",
       "      <td>0</td>\n",
       "      <td>0</td>\n",
       "      <td>0</td>\n",
       "      <td>0</td>\n",
       "      <td>1</td>\n",
       "      <td>0</td>\n",
       "      <td>0</td>\n",
       "      <td>0</td>\n",
       "      <td>0</td>\n",
       "      <td>0</td>\n",
       "      <td>0</td>\n",
       "      <td>0</td>\n",
       "      <td>0</td>\n",
       "      <td>0</td>\n",
       "      <td>0</td>\n",
       "      <td>0</td>\n",
       "      <td>0</td>\n",
       "      <td>0</td>\n",
       "      <td>0</td>\n",
       "      <td>0</td>\n",
       "      <td>0</td>\n",
       "      <td>0</td>\n",
       "      <td>1</td>\n",
       "      <td>0</td>\n",
       "      <td>0</td>\n",
       "      <td>0</td>\n",
       "      <td>0</td>\n",
       "      <td>0</td>\n",
       "      <td>0</td>\n",
       "      <td>0</td>\n",
       "      <td>0</td>\n",
       "      <td>0</td>\n",
       "      <td>0</td>\n",
       "      <td>0</td>\n",
       "      <td>0</td>\n",
       "      <td>0</td>\n",
       "      <td>0</td>\n",
       "      <td>1</td>\n",
       "      <td>0</td>\n",
       "      <td>0</td>\n",
       "      <td>0</td>\n",
       "      <td>1</td>\n",
       "      <td>0</td>\n",
       "      <td>0</td>\n",
       "      <td>0</td>\n",
       "      <td>1</td>\n",
       "      <td>0</td>\n",
       "      <td>1</td>\n",
       "      <td>1</td>\n",
       "      <td>0</td>\n",
       "      <td>0</td>\n",
       "      <td>0</td>\n",
       "      <td>0</td>\n",
       "      <td>0</td>\n",
       "      <td>0</td>\n",
       "      <td>0</td>\n",
       "      <td>1</td>\n",
       "      <td>0</td>\n",
       "      <td>0</td>\n",
       "      <td>0</td>\n",
       "      <td>1</td>\n",
       "      <td>0</td>\n",
       "      <td>0</td>\n",
       "      <td>1</td>\n",
       "      <td>0</td>\n",
       "      <td>1</td>\n",
       "      <td>0</td>\n",
       "      <td>0</td>\n",
       "      <td>1</td>\n",
       "      <td>0</td>\n",
       "      <td>0</td>\n",
       "      <td>0</td>\n",
       "      <td>0</td>\n",
       "      <td>1</td>\n",
       "      <td>0</td>\n",
       "      <td>0</td>\n",
       "      <td>0</td>\n",
       "      <td>1</td>\n",
       "      <td>0</td>\n",
       "      <td>0</td>\n",
       "      <td>1</td>\n",
       "      <td>0</td>\n",
       "      <td>0</td>\n",
       "      <td>1</td>\n",
       "      <td>0</td>\n",
       "      <td>0</td>\n",
       "      <td>1</td>\n",
       "      <td>0</td>\n",
       "      <td>0</td>\n",
       "      <td>0</td>\n",
       "      <td>0</td>\n",
       "      <td>0</td>\n",
       "      <td>0</td>\n",
       "      <td>0</td>\n",
       "      <td>1</td>\n",
       "      <td>0</td>\n",
       "      <td>0</td>\n",
       "      <td>0</td>\n",
       "      <td>0</td>\n",
       "      <td>0</td>\n",
       "      <td>0</td>\n",
       "      <td>1</td>\n",
       "      <td>0</td>\n",
       "      <td>1</td>\n",
       "      <td>0</td>\n",
       "      <td>1</td>\n",
       "      <td>0</td>\n",
       "      <td>0</td>\n",
       "      <td>0</td>\n",
       "      <td>0</td>\n",
       "      <td>0</td>\n",
       "      <td>0</td>\n",
       "      <td>0</td>\n",
       "      <td>0</td>\n",
       "      <td>0</td>\n",
       "      <td>1</td>\n",
       "      <td>0</td>\n",
       "      <td>0</td>\n",
       "      <td>0</td>\n",
       "      <td>1</td>\n",
       "      <td>0</td>\n",
       "      <td>0</td>\n",
       "      <td>0</td>\n",
       "      <td>1</td>\n",
       "      <td>0</td>\n",
       "      <td>0</td>\n",
       "      <td>0</td>\n",
       "      <td>0</td>\n",
       "      <td>0</td>\n",
       "      <td>0</td>\n",
       "      <td>0</td>\n",
       "      <td>0</td>\n",
       "      <td>0</td>\n",
       "      <td>1</td>\n",
       "      <td>0</td>\n",
       "      <td>0</td>\n",
       "      <td>0</td>\n",
       "      <td>0</td>\n",
       "      <td>0</td>\n",
       "      <td>0</td>\n",
       "      <td>0</td>\n",
       "      <td>0</td>\n",
       "      <td>1</td>\n",
       "      <td>0</td>\n",
       "      <td>0</td>\n",
       "      <td>0</td>\n",
       "      <td>0</td>\n",
       "      <td>0</td>\n",
       "      <td>0</td>\n",
       "      <td>1</td>\n",
       "      <td>0</td>\n",
       "      <td>0</td>\n",
       "      <td>0</td>\n",
       "      <td>0</td>\n",
       "      <td>0</td>\n",
       "      <td>0</td>\n",
       "      <td>0</td>\n",
       "      <td>1</td>\n",
       "      <td>0</td>\n",
       "      <td>0</td>\n",
       "      <td>0</td>\n",
       "      <td>0</td>\n",
       "      <td>0</td>\n",
       "      <td>0</td>\n",
       "      <td>0</td>\n",
       "      <td>0</td>\n",
       "      <td>0</td>\n",
       "      <td>1</td>\n",
       "      <td>0</td>\n",
       "      <td>0</td>\n",
       "      <td>0</td>\n",
       "      <td>0</td>\n",
       "      <td>0</td>\n",
       "      <td>0</td>\n",
       "      <td>0</td>\n",
       "      <td>1</td>\n",
       "      <td>0</td>\n",
       "      <td>0</td>\n",
       "      <td>0</td>\n",
       "      <td>0</td>\n",
       "      <td>0</td>\n",
       "      <td>1</td>\n",
       "      <td>0</td>\n",
       "      <td>0</td>\n",
       "      <td>0</td>\n",
       "      <td>0</td>\n",
       "      <td>0</td>\n",
       "      <td>0</td>\n",
       "      <td>0</td>\n",
       "      <td>0</td>\n",
       "    </tr>\n",
       "    <tr>\n",
       "      <th>1461</th>\n",
       "      <td>1462.000</td>\n",
       "      <td>20</td>\n",
       "      <td>81.000</td>\n",
       "      <td>14267.000</td>\n",
       "      <td>1958</td>\n",
       "      <td>1958.000</td>\n",
       "      <td>108.000</td>\n",
       "      <td>923.000</td>\n",
       "      <td>406.000</td>\n",
       "      <td>1329.000</td>\n",
       "      <td>1329.000</td>\n",
       "      <td>0</td>\n",
       "      <td>1329</td>\n",
       "      <td>1958.000</td>\n",
       "      <td>312.000</td>\n",
       "      <td>393</td>\n",
       "      <td>36</td>\n",
       "      <td>6</td>\n",
       "      <td>12</td>\n",
       "      <td>12</td>\n",
       "      <td>1329.000</td>\n",
       "      <td>923.000</td>\n",
       "      <td>429</td>\n",
       "      <td>2658.000</td>\n",
       "      <td>2658.000</td>\n",
       "      <td>1.500</td>\n",
       "      <td>0.093</td>\n",
       "      <td>0.186</td>\n",
       "      <td>0.022</td>\n",
       "      <td>0.000</td>\n",
       "      <td>52</td>\n",
       "      <td>52.000</td>\n",
       "      <td>0.000</td>\n",
       "      <td>0.000</td>\n",
       "      <td>52.000</td>\n",
       "      <td>1</td>\n",
       "      <td>0</td>\n",
       "      <td>0</td>\n",
       "      <td>0</td>\n",
       "      <td>0</td>\n",
       "      <td>0</td>\n",
       "      <td>0</td>\n",
       "      <td>1</td>\n",
       "      <td>0</td>\n",
       "      <td>1</td>\n",
       "      <td>0</td>\n",
       "      <td>1</td>\n",
       "      <td>0</td>\n",
       "      <td>0</td>\n",
       "      <td>0</td>\n",
       "      <td>0</td>\n",
       "      <td>0</td>\n",
       "      <td>0</td>\n",
       "      <td>0</td>\n",
       "      <td>1</td>\n",
       "      <td>0</td>\n",
       "      <td>0</td>\n",
       "      <td>1</td>\n",
       "      <td>0</td>\n",
       "      <td>0</td>\n",
       "      <td>0</td>\n",
       "      <td>0</td>\n",
       "      <td>0</td>\n",
       "      <td>0</td>\n",
       "      <td>0</td>\n",
       "      <td>0</td>\n",
       "      <td>0</td>\n",
       "      <td>0</td>\n",
       "      <td>0</td>\n",
       "      <td>0</td>\n",
       "      <td>0</td>\n",
       "      <td>0</td>\n",
       "      <td>0</td>\n",
       "      <td>0</td>\n",
       "      <td>0</td>\n",
       "      <td>0</td>\n",
       "      <td>1</td>\n",
       "      <td>0</td>\n",
       "      <td>0</td>\n",
       "      <td>0</td>\n",
       "      <td>0</td>\n",
       "      <td>0</td>\n",
       "      <td>0</td>\n",
       "      <td>0</td>\n",
       "      <td>0</td>\n",
       "      <td>0</td>\n",
       "      <td>0</td>\n",
       "      <td>0</td>\n",
       "      <td>0</td>\n",
       "      <td>0</td>\n",
       "      <td>0</td>\n",
       "      <td>1</td>\n",
       "      <td>0</td>\n",
       "      <td>1</td>\n",
       "      <td>0</td>\n",
       "      <td>0</td>\n",
       "      <td>0</td>\n",
       "      <td>0</td>\n",
       "      <td>1</td>\n",
       "      <td>0</td>\n",
       "      <td>1</td>\n",
       "      <td>1</td>\n",
       "      <td>0</td>\n",
       "      <td>0</td>\n",
       "      <td>0</td>\n",
       "      <td>0</td>\n",
       "      <td>0</td>\n",
       "      <td>0</td>\n",
       "      <td>0</td>\n",
       "      <td>1</td>\n",
       "      <td>0</td>\n",
       "      <td>0</td>\n",
       "      <td>0</td>\n",
       "      <td>1</td>\n",
       "      <td>0</td>\n",
       "      <td>0</td>\n",
       "      <td>1</td>\n",
       "      <td>1</td>\n",
       "      <td>0</td>\n",
       "      <td>0</td>\n",
       "      <td>0</td>\n",
       "      <td>0</td>\n",
       "      <td>1</td>\n",
       "      <td>0</td>\n",
       "      <td>0</td>\n",
       "      <td>0</td>\n",
       "      <td>1</td>\n",
       "      <td>0</td>\n",
       "      <td>0</td>\n",
       "      <td>0</td>\n",
       "      <td>1</td>\n",
       "      <td>0</td>\n",
       "      <td>1</td>\n",
       "      <td>0</td>\n",
       "      <td>0</td>\n",
       "      <td>0</td>\n",
       "      <td>1</td>\n",
       "      <td>0</td>\n",
       "      <td>0</td>\n",
       "      <td>1</td>\n",
       "      <td>0</td>\n",
       "      <td>0</td>\n",
       "      <td>0</td>\n",
       "      <td>0</td>\n",
       "      <td>0</td>\n",
       "      <td>0</td>\n",
       "      <td>0</td>\n",
       "      <td>1</td>\n",
       "      <td>0</td>\n",
       "      <td>0</td>\n",
       "      <td>0</td>\n",
       "      <td>0</td>\n",
       "      <td>0</td>\n",
       "      <td>0</td>\n",
       "      <td>1</td>\n",
       "      <td>0</td>\n",
       "      <td>1</td>\n",
       "      <td>0</td>\n",
       "      <td>0</td>\n",
       "      <td>0</td>\n",
       "      <td>1</td>\n",
       "      <td>0</td>\n",
       "      <td>0</td>\n",
       "      <td>0</td>\n",
       "      <td>0</td>\n",
       "      <td>0</td>\n",
       "      <td>0</td>\n",
       "      <td>0</td>\n",
       "      <td>1</td>\n",
       "      <td>0</td>\n",
       "      <td>0</td>\n",
       "      <td>0</td>\n",
       "      <td>1</td>\n",
       "      <td>0</td>\n",
       "      <td>0</td>\n",
       "      <td>0</td>\n",
       "      <td>0</td>\n",
       "      <td>1</td>\n",
       "      <td>0</td>\n",
       "      <td>0</td>\n",
       "      <td>0</td>\n",
       "      <td>0</td>\n",
       "      <td>0</td>\n",
       "      <td>0</td>\n",
       "      <td>0</td>\n",
       "      <td>0</td>\n",
       "      <td>1</td>\n",
       "      <td>0</td>\n",
       "      <td>0</td>\n",
       "      <td>0</td>\n",
       "      <td>0</td>\n",
       "      <td>0</td>\n",
       "      <td>0</td>\n",
       "      <td>0</td>\n",
       "      <td>0</td>\n",
       "      <td>1</td>\n",
       "      <td>0</td>\n",
       "      <td>0</td>\n",
       "      <td>0</td>\n",
       "      <td>1</td>\n",
       "      <td>0</td>\n",
       "      <td>0</td>\n",
       "      <td>0</td>\n",
       "      <td>1</td>\n",
       "      <td>0</td>\n",
       "      <td>0</td>\n",
       "      <td>0</td>\n",
       "      <td>0</td>\n",
       "      <td>0</td>\n",
       "      <td>0</td>\n",
       "      <td>0</td>\n",
       "      <td>1</td>\n",
       "      <td>0</td>\n",
       "      <td>0</td>\n",
       "      <td>0</td>\n",
       "      <td>0</td>\n",
       "      <td>0</td>\n",
       "      <td>0</td>\n",
       "      <td>0</td>\n",
       "      <td>0</td>\n",
       "      <td>1</td>\n",
       "      <td>0</td>\n",
       "      <td>0</td>\n",
       "      <td>0</td>\n",
       "      <td>0</td>\n",
       "      <td>0</td>\n",
       "      <td>0</td>\n",
       "      <td>0</td>\n",
       "      <td>1</td>\n",
       "      <td>0</td>\n",
       "      <td>1</td>\n",
       "      <td>0</td>\n",
       "      <td>0</td>\n",
       "      <td>0</td>\n",
       "      <td>1</td>\n",
       "      <td>0</td>\n",
       "      <td>0</td>\n",
       "      <td>0</td>\n",
       "      <td>0</td>\n",
       "      <td>1</td>\n",
       "      <td>0</td>\n",
       "      <td>0</td>\n",
       "      <td>0</td>\n",
       "    </tr>\n",
       "    <tr>\n",
       "      <th>1462</th>\n",
       "      <td>1463.000</td>\n",
       "      <td>60</td>\n",
       "      <td>74.000</td>\n",
       "      <td>13830.000</td>\n",
       "      <td>1997</td>\n",
       "      <td>1998.000</td>\n",
       "      <td>0.000</td>\n",
       "      <td>791.000</td>\n",
       "      <td>137.000</td>\n",
       "      <td>928.000</td>\n",
       "      <td>928.000</td>\n",
       "      <td>701</td>\n",
       "      <td>1629</td>\n",
       "      <td>1997.000</td>\n",
       "      <td>482.000</td>\n",
       "      <td>212</td>\n",
       "      <td>34</td>\n",
       "      <td>3</td>\n",
       "      <td>10</td>\n",
       "      <td>10</td>\n",
       "      <td>1629.000</td>\n",
       "      <td>791.000</td>\n",
       "      <td>246</td>\n",
       "      <td>2557.000</td>\n",
       "      <td>2557.000</td>\n",
       "      <td>2.500</td>\n",
       "      <td>0.118</td>\n",
       "      <td>0.185</td>\n",
       "      <td>0.035</td>\n",
       "      <td>1.000</td>\n",
       "      <td>13</td>\n",
       "      <td>12.000</td>\n",
       "      <td>0.000</td>\n",
       "      <td>1.000</td>\n",
       "      <td>13.000</td>\n",
       "      <td>1</td>\n",
       "      <td>0</td>\n",
       "      <td>0</td>\n",
       "      <td>0</td>\n",
       "      <td>0</td>\n",
       "      <td>0</td>\n",
       "      <td>1</td>\n",
       "      <td>1</td>\n",
       "      <td>0</td>\n",
       "      <td>1</td>\n",
       "      <td>0</td>\n",
       "      <td>0</td>\n",
       "      <td>0</td>\n",
       "      <td>0</td>\n",
       "      <td>1</td>\n",
       "      <td>0</td>\n",
       "      <td>0</td>\n",
       "      <td>1</td>\n",
       "      <td>0</td>\n",
       "      <td>0</td>\n",
       "      <td>0</td>\n",
       "      <td>0</td>\n",
       "      <td>1</td>\n",
       "      <td>0</td>\n",
       "      <td>0</td>\n",
       "      <td>0</td>\n",
       "      <td>0</td>\n",
       "      <td>0</td>\n",
       "      <td>0</td>\n",
       "      <td>0</td>\n",
       "      <td>0</td>\n",
       "      <td>0</td>\n",
       "      <td>0</td>\n",
       "      <td>0</td>\n",
       "      <td>0</td>\n",
       "      <td>0</td>\n",
       "      <td>0</td>\n",
       "      <td>0</td>\n",
       "      <td>0</td>\n",
       "      <td>0</td>\n",
       "      <td>1</td>\n",
       "      <td>0</td>\n",
       "      <td>0</td>\n",
       "      <td>0</td>\n",
       "      <td>0</td>\n",
       "      <td>0</td>\n",
       "      <td>0</td>\n",
       "      <td>0</td>\n",
       "      <td>0</td>\n",
       "      <td>0</td>\n",
       "      <td>0</td>\n",
       "      <td>0</td>\n",
       "      <td>0</td>\n",
       "      <td>0</td>\n",
       "      <td>0</td>\n",
       "      <td>1</td>\n",
       "      <td>0</td>\n",
       "      <td>0</td>\n",
       "      <td>0</td>\n",
       "      <td>1</td>\n",
       "      <td>0</td>\n",
       "      <td>0</td>\n",
       "      <td>0</td>\n",
       "      <td>1</td>\n",
       "      <td>0</td>\n",
       "      <td>1</td>\n",
       "      <td>0</td>\n",
       "      <td>1</td>\n",
       "      <td>0</td>\n",
       "      <td>0</td>\n",
       "      <td>0</td>\n",
       "      <td>0</td>\n",
       "      <td>1</td>\n",
       "      <td>0</td>\n",
       "      <td>0</td>\n",
       "      <td>0</td>\n",
       "      <td>0</td>\n",
       "      <td>0</td>\n",
       "      <td>1</td>\n",
       "      <td>0</td>\n",
       "      <td>0</td>\n",
       "      <td>1</td>\n",
       "      <td>1</td>\n",
       "      <td>0</td>\n",
       "      <td>0</td>\n",
       "      <td>0</td>\n",
       "      <td>0</td>\n",
       "      <td>1</td>\n",
       "      <td>0</td>\n",
       "      <td>1</td>\n",
       "      <td>0</td>\n",
       "      <td>0</td>\n",
       "      <td>0</td>\n",
       "      <td>0</td>\n",
       "      <td>0</td>\n",
       "      <td>1</td>\n",
       "      <td>0</td>\n",
       "      <td>0</td>\n",
       "      <td>1</td>\n",
       "      <td>0</td>\n",
       "      <td>0</td>\n",
       "      <td>0</td>\n",
       "      <td>0</td>\n",
       "      <td>1</td>\n",
       "      <td>1</td>\n",
       "      <td>0</td>\n",
       "      <td>0</td>\n",
       "      <td>0</td>\n",
       "      <td>0</td>\n",
       "      <td>0</td>\n",
       "      <td>0</td>\n",
       "      <td>0</td>\n",
       "      <td>0</td>\n",
       "      <td>0</td>\n",
       "      <td>0</td>\n",
       "      <td>0</td>\n",
       "      <td>0</td>\n",
       "      <td>0</td>\n",
       "      <td>0</td>\n",
       "      <td>1</td>\n",
       "      <td>0</td>\n",
       "      <td>1</td>\n",
       "      <td>0</td>\n",
       "      <td>1</td>\n",
       "      <td>0</td>\n",
       "      <td>0</td>\n",
       "      <td>0</td>\n",
       "      <td>0</td>\n",
       "      <td>0</td>\n",
       "      <td>0</td>\n",
       "      <td>0</td>\n",
       "      <td>0</td>\n",
       "      <td>0</td>\n",
       "      <td>1</td>\n",
       "      <td>0</td>\n",
       "      <td>0</td>\n",
       "      <td>0</td>\n",
       "      <td>1</td>\n",
       "      <td>0</td>\n",
       "      <td>0</td>\n",
       "      <td>0</td>\n",
       "      <td>1</td>\n",
       "      <td>0</td>\n",
       "      <td>0</td>\n",
       "      <td>0</td>\n",
       "      <td>0</td>\n",
       "      <td>0</td>\n",
       "      <td>0</td>\n",
       "      <td>0</td>\n",
       "      <td>0</td>\n",
       "      <td>1</td>\n",
       "      <td>0</td>\n",
       "      <td>0</td>\n",
       "      <td>0</td>\n",
       "      <td>0</td>\n",
       "      <td>0</td>\n",
       "      <td>0</td>\n",
       "      <td>0</td>\n",
       "      <td>0</td>\n",
       "      <td>0</td>\n",
       "      <td>0</td>\n",
       "      <td>1</td>\n",
       "      <td>0</td>\n",
       "      <td>0</td>\n",
       "      <td>1</td>\n",
       "      <td>0</td>\n",
       "      <td>0</td>\n",
       "      <td>0</td>\n",
       "      <td>1</td>\n",
       "      <td>0</td>\n",
       "      <td>0</td>\n",
       "      <td>0</td>\n",
       "      <td>0</td>\n",
       "      <td>0</td>\n",
       "      <td>0</td>\n",
       "      <td>0</td>\n",
       "      <td>1</td>\n",
       "      <td>0</td>\n",
       "      <td>0</td>\n",
       "      <td>0</td>\n",
       "      <td>0</td>\n",
       "      <td>1</td>\n",
       "      <td>0</td>\n",
       "      <td>0</td>\n",
       "      <td>0</td>\n",
       "      <td>0</td>\n",
       "      <td>1</td>\n",
       "      <td>0</td>\n",
       "      <td>0</td>\n",
       "      <td>0</td>\n",
       "      <td>0</td>\n",
       "      <td>0</td>\n",
       "      <td>0</td>\n",
       "      <td>1</td>\n",
       "      <td>0</td>\n",
       "      <td>1</td>\n",
       "      <td>0</td>\n",
       "      <td>0</td>\n",
       "      <td>0</td>\n",
       "      <td>0</td>\n",
       "      <td>1</td>\n",
       "      <td>0</td>\n",
       "      <td>0</td>\n",
       "      <td>0</td>\n",
       "      <td>1</td>\n",
       "      <td>0</td>\n",
       "      <td>0</td>\n",
       "      <td>0</td>\n",
       "    </tr>\n",
       "    <tr>\n",
       "      <th>1463</th>\n",
       "      <td>1464.000</td>\n",
       "      <td>60</td>\n",
       "      <td>78.000</td>\n",
       "      <td>9978.000</td>\n",
       "      <td>1998</td>\n",
       "      <td>1998.000</td>\n",
       "      <td>20.000</td>\n",
       "      <td>602.000</td>\n",
       "      <td>324.000</td>\n",
       "      <td>926.000</td>\n",
       "      <td>926.000</td>\n",
       "      <td>678</td>\n",
       "      <td>1604</td>\n",
       "      <td>1998.000</td>\n",
       "      <td>470.000</td>\n",
       "      <td>360</td>\n",
       "      <td>36</td>\n",
       "      <td>6</td>\n",
       "      <td>12</td>\n",
       "      <td>12</td>\n",
       "      <td>1604.000</td>\n",
       "      <td>602.000</td>\n",
       "      <td>396</td>\n",
       "      <td>2530.000</td>\n",
       "      <td>2530.000</td>\n",
       "      <td>2.500</td>\n",
       "      <td>0.161</td>\n",
       "      <td>0.254</td>\n",
       "      <td>0.047</td>\n",
       "      <td>0.000</td>\n",
       "      <td>12</td>\n",
       "      <td>12.000</td>\n",
       "      <td>0.000</td>\n",
       "      <td>0.000</td>\n",
       "      <td>12.000</td>\n",
       "      <td>1</td>\n",
       "      <td>0</td>\n",
       "      <td>0</td>\n",
       "      <td>0</td>\n",
       "      <td>0</td>\n",
       "      <td>0</td>\n",
       "      <td>1</td>\n",
       "      <td>1</td>\n",
       "      <td>0</td>\n",
       "      <td>1</td>\n",
       "      <td>0</td>\n",
       "      <td>0</td>\n",
       "      <td>0</td>\n",
       "      <td>0</td>\n",
       "      <td>1</td>\n",
       "      <td>0</td>\n",
       "      <td>0</td>\n",
       "      <td>1</td>\n",
       "      <td>0</td>\n",
       "      <td>0</td>\n",
       "      <td>0</td>\n",
       "      <td>0</td>\n",
       "      <td>1</td>\n",
       "      <td>0</td>\n",
       "      <td>0</td>\n",
       "      <td>0</td>\n",
       "      <td>0</td>\n",
       "      <td>0</td>\n",
       "      <td>0</td>\n",
       "      <td>0</td>\n",
       "      <td>0</td>\n",
       "      <td>0</td>\n",
       "      <td>0</td>\n",
       "      <td>0</td>\n",
       "      <td>0</td>\n",
       "      <td>0</td>\n",
       "      <td>0</td>\n",
       "      <td>0</td>\n",
       "      <td>0</td>\n",
       "      <td>0</td>\n",
       "      <td>1</td>\n",
       "      <td>0</td>\n",
       "      <td>0</td>\n",
       "      <td>0</td>\n",
       "      <td>0</td>\n",
       "      <td>0</td>\n",
       "      <td>0</td>\n",
       "      <td>0</td>\n",
       "      <td>0</td>\n",
       "      <td>0</td>\n",
       "      <td>0</td>\n",
       "      <td>0</td>\n",
       "      <td>0</td>\n",
       "      <td>0</td>\n",
       "      <td>0</td>\n",
       "      <td>1</td>\n",
       "      <td>0</td>\n",
       "      <td>0</td>\n",
       "      <td>1</td>\n",
       "      <td>0</td>\n",
       "      <td>0</td>\n",
       "      <td>0</td>\n",
       "      <td>0</td>\n",
       "      <td>1</td>\n",
       "      <td>0</td>\n",
       "      <td>1</td>\n",
       "      <td>0</td>\n",
       "      <td>1</td>\n",
       "      <td>0</td>\n",
       "      <td>0</td>\n",
       "      <td>0</td>\n",
       "      <td>0</td>\n",
       "      <td>0</td>\n",
       "      <td>0</td>\n",
       "      <td>1</td>\n",
       "      <td>0</td>\n",
       "      <td>0</td>\n",
       "      <td>0</td>\n",
       "      <td>1</td>\n",
       "      <td>0</td>\n",
       "      <td>0</td>\n",
       "      <td>1</td>\n",
       "      <td>1</td>\n",
       "      <td>0</td>\n",
       "      <td>0</td>\n",
       "      <td>0</td>\n",
       "      <td>0</td>\n",
       "      <td>1</td>\n",
       "      <td>0</td>\n",
       "      <td>0</td>\n",
       "      <td>0</td>\n",
       "      <td>0</td>\n",
       "      <td>0</td>\n",
       "      <td>0</td>\n",
       "      <td>0</td>\n",
       "      <td>1</td>\n",
       "      <td>0</td>\n",
       "      <td>1</td>\n",
       "      <td>0</td>\n",
       "      <td>0</td>\n",
       "      <td>1</td>\n",
       "      <td>0</td>\n",
       "      <td>0</td>\n",
       "      <td>0</td>\n",
       "      <td>1</td>\n",
       "      <td>0</td>\n",
       "      <td>0</td>\n",
       "      <td>0</td>\n",
       "      <td>0</td>\n",
       "      <td>0</td>\n",
       "      <td>0</td>\n",
       "      <td>0</td>\n",
       "      <td>0</td>\n",
       "      <td>0</td>\n",
       "      <td>0</td>\n",
       "      <td>0</td>\n",
       "      <td>0</td>\n",
       "      <td>0</td>\n",
       "      <td>0</td>\n",
       "      <td>1</td>\n",
       "      <td>0</td>\n",
       "      <td>1</td>\n",
       "      <td>0</td>\n",
       "      <td>0</td>\n",
       "      <td>0</td>\n",
       "      <td>1</td>\n",
       "      <td>0</td>\n",
       "      <td>0</td>\n",
       "      <td>0</td>\n",
       "      <td>0</td>\n",
       "      <td>0</td>\n",
       "      <td>0</td>\n",
       "      <td>0</td>\n",
       "      <td>1</td>\n",
       "      <td>0</td>\n",
       "      <td>0</td>\n",
       "      <td>0</td>\n",
       "      <td>1</td>\n",
       "      <td>0</td>\n",
       "      <td>0</td>\n",
       "      <td>0</td>\n",
       "      <td>0</td>\n",
       "      <td>1</td>\n",
       "      <td>0</td>\n",
       "      <td>0</td>\n",
       "      <td>0</td>\n",
       "      <td>0</td>\n",
       "      <td>0</td>\n",
       "      <td>0</td>\n",
       "      <td>0</td>\n",
       "      <td>0</td>\n",
       "      <td>1</td>\n",
       "      <td>0</td>\n",
       "      <td>0</td>\n",
       "      <td>0</td>\n",
       "      <td>0</td>\n",
       "      <td>0</td>\n",
       "      <td>0</td>\n",
       "      <td>0</td>\n",
       "      <td>0</td>\n",
       "      <td>0</td>\n",
       "      <td>1</td>\n",
       "      <td>0</td>\n",
       "      <td>0</td>\n",
       "      <td>1</td>\n",
       "      <td>0</td>\n",
       "      <td>0</td>\n",
       "      <td>0</td>\n",
       "      <td>1</td>\n",
       "      <td>0</td>\n",
       "      <td>0</td>\n",
       "      <td>0</td>\n",
       "      <td>0</td>\n",
       "      <td>0</td>\n",
       "      <td>0</td>\n",
       "      <td>0</td>\n",
       "      <td>0</td>\n",
       "      <td>1</td>\n",
       "      <td>0</td>\n",
       "      <td>0</td>\n",
       "      <td>0</td>\n",
       "      <td>1</td>\n",
       "      <td>0</td>\n",
       "      <td>0</td>\n",
       "      <td>0</td>\n",
       "      <td>0</td>\n",
       "      <td>1</td>\n",
       "      <td>0</td>\n",
       "      <td>0</td>\n",
       "      <td>0</td>\n",
       "      <td>0</td>\n",
       "      <td>0</td>\n",
       "      <td>0</td>\n",
       "      <td>1</td>\n",
       "      <td>0</td>\n",
       "      <td>0</td>\n",
       "      <td>0</td>\n",
       "      <td>0</td>\n",
       "      <td>0</td>\n",
       "      <td>0</td>\n",
       "      <td>1</td>\n",
       "      <td>0</td>\n",
       "      <td>0</td>\n",
       "      <td>0</td>\n",
       "      <td>1</td>\n",
       "      <td>0</td>\n",
       "      <td>0</td>\n",
       "      <td>0</td>\n",
       "    </tr>\n",
       "    <tr>\n",
       "      <th>1464</th>\n",
       "      <td>1465.000</td>\n",
       "      <td>120</td>\n",
       "      <td>43.000</td>\n",
       "      <td>5005.000</td>\n",
       "      <td>1992</td>\n",
       "      <td>1992.000</td>\n",
       "      <td>0.000</td>\n",
       "      <td>263.000</td>\n",
       "      <td>1017.000</td>\n",
       "      <td>1280.000</td>\n",
       "      <td>1280.000</td>\n",
       "      <td>0</td>\n",
       "      <td>1280</td>\n",
       "      <td>1992.000</td>\n",
       "      <td>506.000</td>\n",
       "      <td>0</td>\n",
       "      <td>82</td>\n",
       "      <td>1</td>\n",
       "      <td>13</td>\n",
       "      <td>13</td>\n",
       "      <td>1280.000</td>\n",
       "      <td>263.000</td>\n",
       "      <td>82</td>\n",
       "      <td>2560.000</td>\n",
       "      <td>2560.000</td>\n",
       "      <td>2.000</td>\n",
       "      <td>0.256</td>\n",
       "      <td>0.511</td>\n",
       "      <td>0.101</td>\n",
       "      <td>0.000</td>\n",
       "      <td>18</td>\n",
       "      <td>18.000</td>\n",
       "      <td>0.000</td>\n",
       "      <td>0.000</td>\n",
       "      <td>18.000</td>\n",
       "      <td>1</td>\n",
       "      <td>0</td>\n",
       "      <td>0</td>\n",
       "      <td>0</td>\n",
       "      <td>0</td>\n",
       "      <td>0</td>\n",
       "      <td>1</td>\n",
       "      <td>1</td>\n",
       "      <td>0</td>\n",
       "      <td>0</td>\n",
       "      <td>0</td>\n",
       "      <td>1</td>\n",
       "      <td>0</td>\n",
       "      <td>0</td>\n",
       "      <td>0</td>\n",
       "      <td>0</td>\n",
       "      <td>0</td>\n",
       "      <td>1</td>\n",
       "      <td>0</td>\n",
       "      <td>0</td>\n",
       "      <td>0</td>\n",
       "      <td>0</td>\n",
       "      <td>1</td>\n",
       "      <td>0</td>\n",
       "      <td>0</td>\n",
       "      <td>0</td>\n",
       "      <td>0</td>\n",
       "      <td>0</td>\n",
       "      <td>0</td>\n",
       "      <td>0</td>\n",
       "      <td>0</td>\n",
       "      <td>0</td>\n",
       "      <td>0</td>\n",
       "      <td>0</td>\n",
       "      <td>1</td>\n",
       "      <td>0</td>\n",
       "      <td>0</td>\n",
       "      <td>0</td>\n",
       "      <td>0</td>\n",
       "      <td>0</td>\n",
       "      <td>0</td>\n",
       "      <td>0</td>\n",
       "      <td>0</td>\n",
       "      <td>0</td>\n",
       "      <td>0</td>\n",
       "      <td>0</td>\n",
       "      <td>0</td>\n",
       "      <td>0</td>\n",
       "      <td>1</td>\n",
       "      <td>0</td>\n",
       "      <td>0</td>\n",
       "      <td>0</td>\n",
       "      <td>0</td>\n",
       "      <td>0</td>\n",
       "      <td>0</td>\n",
       "      <td>0</td>\n",
       "      <td>0</td>\n",
       "      <td>0</td>\n",
       "      <td>0</td>\n",
       "      <td>1</td>\n",
       "      <td>0</td>\n",
       "      <td>0</td>\n",
       "      <td>1</td>\n",
       "      <td>0</td>\n",
       "      <td>0</td>\n",
       "      <td>1</td>\n",
       "      <td>0</td>\n",
       "      <td>1</td>\n",
       "      <td>0</td>\n",
       "      <td>0</td>\n",
       "      <td>0</td>\n",
       "      <td>0</td>\n",
       "      <td>1</td>\n",
       "      <td>0</td>\n",
       "      <td>0</td>\n",
       "      <td>0</td>\n",
       "      <td>0</td>\n",
       "      <td>0</td>\n",
       "      <td>1</td>\n",
       "      <td>0</td>\n",
       "      <td>0</td>\n",
       "      <td>1</td>\n",
       "      <td>1</td>\n",
       "      <td>0</td>\n",
       "      <td>0</td>\n",
       "      <td>0</td>\n",
       "      <td>0</td>\n",
       "      <td>1</td>\n",
       "      <td>0</td>\n",
       "      <td>0</td>\n",
       "      <td>0</td>\n",
       "      <td>0</td>\n",
       "      <td>0</td>\n",
       "      <td>0</td>\n",
       "      <td>0</td>\n",
       "      <td>1</td>\n",
       "      <td>0</td>\n",
       "      <td>1</td>\n",
       "      <td>0</td>\n",
       "      <td>0</td>\n",
       "      <td>0</td>\n",
       "      <td>1</td>\n",
       "      <td>0</td>\n",
       "      <td>0</td>\n",
       "      <td>1</td>\n",
       "      <td>0</td>\n",
       "      <td>0</td>\n",
       "      <td>0</td>\n",
       "      <td>0</td>\n",
       "      <td>0</td>\n",
       "      <td>0</td>\n",
       "      <td>1</td>\n",
       "      <td>0</td>\n",
       "      <td>0</td>\n",
       "      <td>0</td>\n",
       "      <td>0</td>\n",
       "      <td>0</td>\n",
       "      <td>0</td>\n",
       "      <td>0</td>\n",
       "      <td>1</td>\n",
       "      <td>0</td>\n",
       "      <td>1</td>\n",
       "      <td>0</td>\n",
       "      <td>0</td>\n",
       "      <td>0</td>\n",
       "      <td>1</td>\n",
       "      <td>0</td>\n",
       "      <td>0</td>\n",
       "      <td>0</td>\n",
       "      <td>0</td>\n",
       "      <td>0</td>\n",
       "      <td>0</td>\n",
       "      <td>0</td>\n",
       "      <td>1</td>\n",
       "      <td>0</td>\n",
       "      <td>0</td>\n",
       "      <td>0</td>\n",
       "      <td>1</td>\n",
       "      <td>0</td>\n",
       "      <td>0</td>\n",
       "      <td>0</td>\n",
       "      <td>0</td>\n",
       "      <td>0</td>\n",
       "      <td>0</td>\n",
       "      <td>1</td>\n",
       "      <td>0</td>\n",
       "      <td>0</td>\n",
       "      <td>0</td>\n",
       "      <td>0</td>\n",
       "      <td>0</td>\n",
       "      <td>1</td>\n",
       "      <td>0</td>\n",
       "      <td>0</td>\n",
       "      <td>0</td>\n",
       "      <td>0</td>\n",
       "      <td>0</td>\n",
       "      <td>0</td>\n",
       "      <td>0</td>\n",
       "      <td>0</td>\n",
       "      <td>0</td>\n",
       "      <td>0</td>\n",
       "      <td>1</td>\n",
       "      <td>0</td>\n",
       "      <td>0</td>\n",
       "      <td>0</td>\n",
       "      <td>0</td>\n",
       "      <td>0</td>\n",
       "      <td>1</td>\n",
       "      <td>0</td>\n",
       "      <td>0</td>\n",
       "      <td>0</td>\n",
       "      <td>0</td>\n",
       "      <td>0</td>\n",
       "      <td>0</td>\n",
       "      <td>0</td>\n",
       "      <td>1</td>\n",
       "      <td>0</td>\n",
       "      <td>0</td>\n",
       "      <td>0</td>\n",
       "      <td>0</td>\n",
       "      <td>0</td>\n",
       "      <td>0</td>\n",
       "      <td>0</td>\n",
       "      <td>0</td>\n",
       "      <td>0</td>\n",
       "      <td>0</td>\n",
       "      <td>1</td>\n",
       "      <td>0</td>\n",
       "      <td>0</td>\n",
       "      <td>0</td>\n",
       "      <td>0</td>\n",
       "      <td>0</td>\n",
       "      <td>0</td>\n",
       "      <td>1</td>\n",
       "      <td>0</td>\n",
       "      <td>0</td>\n",
       "      <td>1</td>\n",
       "      <td>0</td>\n",
       "      <td>0</td>\n",
       "      <td>0</td>\n",
       "      <td>1</td>\n",
       "      <td>0</td>\n",
       "      <td>0</td>\n",
       "      <td>0</td>\n",
       "      <td>0</td>\n",
       "      <td>0</td>\n",
       "      <td>0</td>\n",
       "      <td>0</td>\n",
       "    </tr>\n",
       "  </tbody>\n",
       "</table>\n",
       "</div>"
      ],
      "text/plain": [
       "           Id  MSSubClass  LotFrontage   LotArea  YearBuilt  YearRemodAdd  \\\n",
       "1460 1461.000          20       80.000 11622.000       1961      1961.000   \n",
       "1461 1462.000          20       81.000 14267.000       1958      1958.000   \n",
       "1462 1463.000          60       74.000 13830.000       1997      1998.000   \n",
       "1463 1464.000          60       78.000  9978.000       1998      1998.000   \n",
       "1464 1465.000         120       43.000  5005.000       1992      1992.000   \n",
       "\n",
       "      MasVnrArea  BsmtFinSF1  BsmtUnfSF  TotalBsmtSF  1stFlrSF  2ndFlrSF  \\\n",
       "1460       0.000     468.000    270.000      882.000   896.000         0   \n",
       "1461     108.000     923.000    406.000     1329.000  1329.000         0   \n",
       "1462       0.000     791.000    137.000      928.000   928.000       701   \n",
       "1463      20.000     602.000    324.000      926.000   926.000       678   \n",
       "1464       0.000     263.000   1017.000     1280.000  1280.000         0   \n",
       "\n",
       "      GrLivArea  GarageYrBlt  GarageArea  WoodDeckSF  OpenPorchSF  MoSold  \\\n",
       "1460        896     1961.000     730.000         140            0       6   \n",
       "1461       1329     1958.000     312.000         393           36       6   \n",
       "1462       1629     1997.000     482.000         212           34       3   \n",
       "1463       1604     1998.000     470.000         360           36       6   \n",
       "1464       1280     1992.000     506.000           0           82       1   \n",
       "\n",
       "      TotalQual  Overall  NEW_TotalFlrSF  NEW_TotalBsmtFin  NEW_PorchArea  \\\n",
       "1460         11       11         896.000           468.000            140   \n",
       "1461         12       12        1329.000           923.000            429   \n",
       "1462         10       10        1629.000           791.000            246   \n",
       "1463         12       12        1604.000           602.000            396   \n",
       "1464         13       13        1280.000           263.000             82   \n",
       "\n",
       "      NEW_TotalHouseArea  NEW_TotalSqFeet  NEW_TotalBath  NEW_LotRatio  \\\n",
       "1460            1778.000         1778.000          1.000         0.077   \n",
       "1461            2658.000         2658.000          1.500         0.093   \n",
       "1462            2557.000         2557.000          2.500         0.118   \n",
       "1463            2530.000         2530.000          2.500         0.161   \n",
       "1464            2560.000         2560.000          2.000         0.256   \n",
       "\n",
       "      NEW_RatioArea  NEW_GarageLotRatio  NEW_Restoration  NEW_HouseAge  \\\n",
       "1460          0.153               0.063            0.000            49   \n",
       "1461          0.186               0.022            0.000            52   \n",
       "1462          0.185               0.035            1.000            13   \n",
       "1463          0.254               0.047            0.000            12   \n",
       "1464          0.511               0.101            0.000            18   \n",
       "\n",
       "      NEW_RestorationAge  NEW_GarageAge  NEW_GarageRestorationAge  \\\n",
       "1460              49.000          0.000                     0.000   \n",
       "1461              52.000          0.000                     0.000   \n",
       "1462              12.000          0.000                     1.000   \n",
       "1463              12.000          0.000                     0.000   \n",
       "1464              18.000          0.000                     0.000   \n",
       "\n",
       "      NEW_GarageSold  MSZoning_RL  MSZoning_RM  LotShape_1  LotConfig_CulDSac  \\\n",
       "1460          49.000            0            1           1                  0   \n",
       "1461          52.000            1            0           0                  0   \n",
       "1462          13.000            1            0           0                  0   \n",
       "1463          12.000            1            0           0                  0   \n",
       "1464          18.000            1            0           0                  0   \n",
       "\n",
       "      LotConfig_FR2  LotConfig_FR3  LotConfig_Inside  \\\n",
       "1460              0              0                 1   \n",
       "1461              0              0                 0   \n",
       "1462              0              0                 1   \n",
       "1463              0              0                 1   \n",
       "1464              0              0                 1   \n",
       "\n",
       "      Condition1_NormalCondition  Condition1_WithinCondition  BldgType_1  \\\n",
       "1460                           0                           0           1   \n",
       "1461                           1                           0           1   \n",
       "1462                           1                           0           1   \n",
       "1463                           1                           0           1   \n",
       "1464                           1                           0           0   \n",
       "\n",
       "      HouseStyle_1.5Unf  HouseStyle_1Story  HouseStyle_2.5Fin  \\\n",
       "1460                  0                  1                  0   \n",
       "1461                  0                  1                  0   \n",
       "1462                  0                  0                  0   \n",
       "1463                  0                  0                  0   \n",
       "1464                  0                  1                  0   \n",
       "\n",
       "      HouseStyle_2.5Unf  HouseStyle_2Story  HouseStyle_SFoyer  \\\n",
       "1460                  0                  0                  0   \n",
       "1461                  0                  0                  0   \n",
       "1462                  0                  1                  0   \n",
       "1463                  0                  1                  0   \n",
       "1464                  0                  0                  0   \n",
       "\n",
       "      HouseStyle_SLvl  RoofStyle_Gable  RoofStyle_Gambrel  RoofStyle_Hip  \\\n",
       "1460                0                1                  0              0   \n",
       "1461                0                0                  0              1   \n",
       "1462                0                1                  0              0   \n",
       "1463                0                1                  0              0   \n",
       "1464                0                1                  0              0   \n",
       "\n",
       "      RoofStyle_Mansard  RoofStyle_Shed  RoofMatl_CompShg  RoofMatl_Membran  \\\n",
       "1460                  0               0                 1                 0   \n",
       "1461                  0               0                 1                 0   \n",
       "1462                  0               0                 1                 0   \n",
       "1463                  0               0                 1                 0   \n",
       "1464                  0               0                 1                 0   \n",
       "\n",
       "      RoofMatl_Metal  RoofMatl_Roll  RoofMatl_Tar&Grv  RoofMatl_WdShake  \\\n",
       "1460               0              0                 0                 0   \n",
       "1461               0              0                 0                 0   \n",
       "1462               0              0                 0                 0   \n",
       "1463               0              0                 0                 0   \n",
       "1464               0              0                 0                 0   \n",
       "\n",
       "      RoofMatl_WdShngl  Exterior1st_AsphShn  Exterior1st_BrkComm  \\\n",
       "1460                 0                    0                    0   \n",
       "1461                 0                    0                    0   \n",
       "1462                 0                    0                    0   \n",
       "1463                 0                    0                    0   \n",
       "1464                 0                    0                    0   \n",
       "\n",
       "      Exterior1st_BrkFace  Exterior1st_CBlock  Exterior1st_CemntBd  \\\n",
       "1460                    0                   0                    0   \n",
       "1461                    0                   0                    0   \n",
       "1462                    0                   0                    0   \n",
       "1463                    0                   0                    0   \n",
       "1464                    0                   0                    0   \n",
       "\n",
       "      Exterior1st_HdBoard  Exterior1st_ImStucc  Exterior1st_MetalSd  \\\n",
       "1460                    0                    0                    0   \n",
       "1461                    0                    0                    0   \n",
       "1462                    0                    0                    0   \n",
       "1463                    0                    0                    0   \n",
       "1464                    1                    0                    0   \n",
       "\n",
       "      Exterior1st_Plywood  Exterior1st_Stone  Exterior1st_Stucco  \\\n",
       "1460                    0                  0                   0   \n",
       "1461                    0                  0                   0   \n",
       "1462                    0                  0                   0   \n",
       "1463                    0                  0                   0   \n",
       "1464                    0                  0                   0   \n",
       "\n",
       "      Exterior1st_VinylSd  Exterior1st_Wd Sdng  Exterior1st_WdShing  \\\n",
       "1460                    1                    0                    0   \n",
       "1461                    0                    1                    0   \n",
       "1462                    1                    0                    0   \n",
       "1463                    1                    0                    0   \n",
       "1464                    0                    0                    0   \n",
       "\n",
       "      Exterior2nd_AsphShn  Exterior2nd_Brk Cmn  Exterior2nd_BrkFace  \\\n",
       "1460                    0                    0                    0   \n",
       "1461                    0                    0                    0   \n",
       "1462                    0                    0                    0   \n",
       "1463                    0                    0                    0   \n",
       "1464                    0                    0                    0   \n",
       "\n",
       "      Exterior2nd_CBlock  Exterior2nd_CmentBd  Exterior2nd_HdBoard  \\\n",
       "1460                   0                    0                    0   \n",
       "1461                   0                    0                    0   \n",
       "1462                   0                    0                    0   \n",
       "1463                   0                    0                    0   \n",
       "1464                   0                    0                    1   \n",
       "\n",
       "      Exterior2nd_ImStucc  Exterior2nd_MetalSd  Exterior2nd_Other  \\\n",
       "1460                    0                    0                  0   \n",
       "1461                    0                    0                  0   \n",
       "1462                    0                    0                  0   \n",
       "1463                    0                    0                  0   \n",
       "1464                    0                    0                  0   \n",
       "\n",
       "      Exterior2nd_Plywood  Exterior2nd_Stone  Exterior2nd_Stucco  \\\n",
       "1460                    0                  0                   0   \n",
       "1461                    0                  0                   0   \n",
       "1462                    0                  0                   0   \n",
       "1463                    0                  0                   0   \n",
       "1464                    0                  0                   0   \n",
       "\n",
       "      Exterior2nd_VinylSd  Exterior2nd_Wd Sdng  Exterior2nd_Wd Shng  \\\n",
       "1460                    1                    0                    0   \n",
       "1461                    0                    1                    0   \n",
       "1462                    1                    0                    0   \n",
       "1463                    1                    0                    0   \n",
       "1464                    0                    0                    0   \n",
       "\n",
       "      MasVnrType_BrkFace  MasVnrType_None  MasVnrType_Stone  ExterQual_Fa  \\\n",
       "1460                   0                1                 0             0   \n",
       "1461                   1                0                 0             0   \n",
       "1462                   0                1                 0             0   \n",
       "1463                   1                0                 0             0   \n",
       "1464                   0                1                 0             0   \n",
       "\n",
       "      ExterQual_Gd  ExterQual_TA  ExterCond_FaPo  ExterCond_TA  \\\n",
       "1460             0             1               0             1   \n",
       "1461             0             1               0             1   \n",
       "1462             0             1               0             1   \n",
       "1463             0             1               0             1   \n",
       "1464             1             0               0             1   \n",
       "\n",
       "      Foundation_CBlock  Foundation_PConc  Foundation_Slab  Foundation_Stone  \\\n",
       "1460                  1                 0                0                 0   \n",
       "1461                  1                 0                0                 0   \n",
       "1462                  0                 1                0                 0   \n",
       "1463                  0                 1                0                 0   \n",
       "1464                  0                 1                0                 0   \n",
       "\n",
       "      Foundation_Wood  BsmtQual_Fa  BsmtQual_Gd  BsmtQual_No  BsmtQual_TA  \\\n",
       "1460                0            0            0            0            1   \n",
       "1461                0            0            0            0            1   \n",
       "1462                0            0            1            0            0   \n",
       "1463                0            0            0            0            1   \n",
       "1464                0            0            1            0            0   \n",
       "\n",
       "      BsmtCond_Gd  BsmtCond_No  BsmtCond_Po  BsmtCond_TA  BsmtExposure_Gd  \\\n",
       "1460            0            0            0            1                0   \n",
       "1461            0            0            0            1                0   \n",
       "1462            0            0            0            1                0   \n",
       "1463            0            0            0            1                0   \n",
       "1464            0            0            0            1                0   \n",
       "\n",
       "      BsmtExposure_Mn  BsmtExposure_No  BsmtFinType1_RareExcellent  \\\n",
       "1460                0                1                           0   \n",
       "1461                0                1                           1   \n",
       "1462                0                1                           1   \n",
       "1463                0                1                           1   \n",
       "1464                0                1                           1   \n",
       "\n",
       "      BsmtFinType1_RareGood  BsmtFinType1_Unf  BsmtFinType2_RareExcellent  \\\n",
       "1460                      1                 0                           0   \n",
       "1461                      0                 0                           0   \n",
       "1462                      0                 0                           0   \n",
       "1463                      0                 0                           0   \n",
       "1464                      0                 0                           0   \n",
       "\n",
       "      BsmtFinType2_RareGood  BsmtFinType2_Unf  HeatingQC_Fa  HeatingQC_Gd  \\\n",
       "1460                      1                 0             0             0   \n",
       "1461                      0                 1             0             0   \n",
       "1462                      0                 1             0             1   \n",
       "1463                      0                 1             0             0   \n",
       "1464                      0                 1             0             0   \n",
       "\n",
       "      HeatingQC_Po  HeatingQC_TA  Electrical_FuseF  Electrical_FuseP  \\\n",
       "1460             0             1                 0                 0   \n",
       "1461             0             1                 0                 0   \n",
       "1462             0             0                 0                 0   \n",
       "1463             0             0                 0                 0   \n",
       "1464             0             0                 0                 0   \n",
       "\n",
       "      Electrical_Mix  Electrical_SBrkr  KitchenQual_Fa  KitchenQual_Gd  \\\n",
       "1460               0                 1               0               0   \n",
       "1461               0                 1               0               1   \n",
       "1462               0                 1               0               0   \n",
       "1463               0                 1               0               1   \n",
       "1464               0                 1               0               1   \n",
       "\n",
       "      KitchenQual_TA  FireplaceQu_Fa  FireplaceQu_Gd  FireplaceQu_No  \\\n",
       "1460               1               0               0               1   \n",
       "1461               0               0               0               1   \n",
       "1462               1               0               0               0   \n",
       "1463               0               0               1               0   \n",
       "1464               0               0               0               1   \n",
       "\n",
       "      FireplaceQu_Po  FireplaceQu_TA  GarageType_Attchd  GarageType_Basment  \\\n",
       "1460               0               0                  1                   0   \n",
       "1461               0               0                  1                   0   \n",
       "1462               0               1                  1                   0   \n",
       "1463               0               0                  1                   0   \n",
       "1464               0               0                  1                   0   \n",
       "\n",
       "      GarageType_BuiltIn  GarageType_CarPort  GarageType_Detchd  \\\n",
       "1460                   0                   0                  0   \n",
       "1461                   0                   0                  0   \n",
       "1462                   0                   0                  0   \n",
       "1463                   0                   0                  0   \n",
       "1464                   0                   0                  0   \n",
       "\n",
       "      GarageType_No  GarageFinish_No  GarageFinish_RFn  GarageFinish_Unf  \\\n",
       "1460              0                0                 0                 1   \n",
       "1461              0                0                 0                 1   \n",
       "1462              0                0                 0                 0   \n",
       "1463              0                0                 0                 0   \n",
       "1464              0                0                 1                 0   \n",
       "\n",
       "      GarageQual_FaPo  GarageQual_No  GarageCond_Fa  GarageCond_Gd  \\\n",
       "1460                0              0              0              0   \n",
       "1461                0              0              0              0   \n",
       "1462                0              0              0              0   \n",
       "1463                0              0              0              0   \n",
       "1464                0              0              0              0   \n",
       "\n",
       "      GarageCond_No  GarageCond_Po  GarageCond_TA  PavedDrive_P  PavedDrive_Y  \\\n",
       "1460              0              0              1             0             1   \n",
       "1461              0              0              1             0             1   \n",
       "1462              0              0              1             0             1   \n",
       "1463              0              0              1             0             1   \n",
       "1464              0              0              1             0             1   \n",
       "\n",
       "      Fence_GdWo  Fence_MnPrv  Fence_MnWw  Fence_No  SaleType_CWD  \\\n",
       "1460           0            1           0         0             0   \n",
       "1461           0            0           0         1             0   \n",
       "1462           0            1           0         0             0   \n",
       "1463           0            0           0         1             0   \n",
       "1464           0            0           0         1             0   \n",
       "\n",
       "      SaleType_Con  SaleType_ConLD  SaleType_ConLI  SaleType_ConLw  \\\n",
       "1460             0               0               0               0   \n",
       "1461             0               0               0               0   \n",
       "1462             0               0               0               0   \n",
       "1463             0               0               0               0   \n",
       "1464             0               0               0               0   \n",
       "\n",
       "      SaleType_New  SaleType_Oth  SaleType_WD  SaleCondition_AdjLand  \\\n",
       "1460             0             0            1                      0   \n",
       "1461             0             0            1                      0   \n",
       "1462             0             0            1                      0   \n",
       "1463             0             0            1                      0   \n",
       "1464             0             0            1                      0   \n",
       "\n",
       "      SaleCondition_Alloca  SaleCondition_Family  SaleCondition_Normal  \\\n",
       "1460                     0                     0                     1   \n",
       "1461                     0                     0                     1   \n",
       "1462                     0                     0                     1   \n",
       "1463                     0                     0                     1   \n",
       "1464                     0                     0                     1   \n",
       "\n",
       "      SaleCondition_Partial  OverallQual_3  OverallQual_4  OverallQual_5  \\\n",
       "1460                      0              0              0              1   \n",
       "1461                      0              0              0              0   \n",
       "1462                      0              0              0              1   \n",
       "1463                      0              0              0              0   \n",
       "1464                      0              0              0              0   \n",
       "\n",
       "      OverallQual_6  OverallQual_7  OverallQual_8  OverallQual_9  \\\n",
       "1460              0              0              0              0   \n",
       "1461              1              0              0              0   \n",
       "1462              0              0              0              0   \n",
       "1463              1              0              0              0   \n",
       "1464              0              0              1              0   \n",
       "\n",
       "      OverallQual_10  OverallCond_2  OverallCond_3  OverallCond_4  \\\n",
       "1460               0              0              0              0   \n",
       "1461               0              0              0              0   \n",
       "1462               0              0              0              0   \n",
       "1463               0              0              0              0   \n",
       "1464               0              0              0              0   \n",
       "\n",
       "      OverallCond_5  OverallCond_6  OverallCond_7  OverallCond_8  \\\n",
       "1460              0              1              0              0   \n",
       "1461              0              1              0              0   \n",
       "1462              1              0              0              0   \n",
       "1463              0              1              0              0   \n",
       "1464              1              0              0              0   \n",
       "\n",
       "      OverallCond_9  BsmtFullBath_1.0  BsmtFullBath_2.0  BsmtFullBath_3.0  \\\n",
       "1460              0                 0                 0                 0   \n",
       "1461              0                 0                 0                 0   \n",
       "1462              0                 0                 0                 0   \n",
       "1463              0                 0                 0                 0   \n",
       "1464              0                 0                 0                 0   \n",
       "\n",
       "      BsmtHalfBath_1.0  BsmtHalfBath_2.0  FullBath_1  FullBath_2  FullBath_3  \\\n",
       "1460                 0                 0           1           0           0   \n",
       "1461                 0                 0           1           0           0   \n",
       "1462                 0                 0           0           1           0   \n",
       "1463                 0                 0           0           1           0   \n",
       "1464                 0                 0           0           1           0   \n",
       "\n",
       "      FullBath_4  HalfBath_1  HalfBath_2  BedroomAbvGr_1  BedroomAbvGr_2  \\\n",
       "1460           0           0           0               0               1   \n",
       "1461           0           1           0               0               0   \n",
       "1462           0           1           0               0               0   \n",
       "1463           0           1           0               0               0   \n",
       "1464           0           0           0               0               1   \n",
       "\n",
       "      BedroomAbvGr_3  BedroomAbvGr_4  BedroomAbvGr_5  BedroomAbvGr_6  \\\n",
       "1460               0               0               0               0   \n",
       "1461               1               0               0               0   \n",
       "1462               1               0               0               0   \n",
       "1463               1               0               0               0   \n",
       "1464               0               0               0               0   \n",
       "\n",
       "      BedroomAbvGr_8  TotRmsAbvGrd_3  TotRmsAbvGrd_4  TotRmsAbvGrd_5  \\\n",
       "1460               0               0               0               1   \n",
       "1461               0               0               0               0   \n",
       "1462               0               0               0               0   \n",
       "1463               0               0               0               0   \n",
       "1464               0               0               0               1   \n",
       "\n",
       "      TotRmsAbvGrd_6  TotRmsAbvGrd_7  TotRmsAbvGrd_8  TotRmsAbvGrd_9  \\\n",
       "1460               0               0               0               0   \n",
       "1461               1               0               0               0   \n",
       "1462               1               0               0               0   \n",
       "1463               0               1               0               0   \n",
       "1464               0               0               0               0   \n",
       "\n",
       "      TotRmsAbvGrd_10  Fireplaces_1  Fireplaces_2  Fireplaces_3  Fireplaces_4  \\\n",
       "1460                0             0             0             0             0   \n",
       "1461                0             0             0             0             0   \n",
       "1462                0             1             0             0             0   \n",
       "1463                0             1             0             0             0   \n",
       "1464                0             0             0             0             0   \n",
       "\n",
       "      GarageCars_1.0  GarageCars_2.0  GarageCars_3.0  GarageCars_4.0  \\\n",
       "1460               1               0               0               0   \n",
       "1461               1               0               0               0   \n",
       "1462               0               1               0               0   \n",
       "1463               0               1               0               0   \n",
       "1464               0               1               0               0   \n",
       "\n",
       "      GarageCars_5.0  YrSold_2007  YrSold_2008  YrSold_2009  YrSold_2010  \\\n",
       "1460               0            0            0            0            1   \n",
       "1461               0            0            0            0            1   \n",
       "1462               0            0            0            0            1   \n",
       "1463               0            0            0            0            1   \n",
       "1464               0            0            0            0            1   \n",
       "\n",
       "      New_LotArea_Large  New_LotArea_Luxury  New_LotArea_Middle  \\\n",
       "1460                  0                   0                   0   \n",
       "1461                  0                   1                   0   \n",
       "1462                  0                   1                   0   \n",
       "1463                  0                   0                   0   \n",
       "1464                  0                   0                   1   \n",
       "\n",
       "      New_LotArea_Small  New_LotArea_Studio  NEW_TotalFullBath_1.0  \\\n",
       "1460                  0                   0                      1   \n",
       "1461                  0                   0                      1   \n",
       "1462                  0                   0                      0   \n",
       "1463                  0                   0                      0   \n",
       "1464                  0                   0                      0   \n",
       "\n",
       "      NEW_TotalFullBath_2.0  NEW_TotalFullBath_3.0  NEW_TotalFullBath_4.0  \\\n",
       "1460                      0                      0                      0   \n",
       "1461                      0                      0                      0   \n",
       "1462                      1                      0                      0   \n",
       "1463                      1                      0                      0   \n",
       "1464                      1                      0                      0   \n",
       "\n",
       "      NEW_TotalFullBath_6.0  NEW_TotalHalfBath_1.0  NEW_TotalHalfBath_2.0  \\\n",
       "1460                      0                      0                      0   \n",
       "1461                      0                      1                      0   \n",
       "1462                      0                      1                      0   \n",
       "1463                      0                      1                      0   \n",
       "1464                      0                      0                      0   \n",
       "\n",
       "      NEW_TotalHalfBath_3.0  NEW_TotalHalfBath_4.0  \n",
       "1460                      0                      0  \n",
       "1461                      0                      0  \n",
       "1462                      0                      0  \n",
       "1463                      0                      0  \n",
       "1464                      0                      0  "
      ]
     },
     "execution_count": 95,
     "metadata": {},
     "output_type": "execute_result"
    }
   ],
   "source": [
    "test_df.head()"
   ]
  },
  {
   "cell_type": "code",
   "execution_count": 96,
   "metadata": {
    "pycharm": {
     "name": "#%%\n"
    }
   },
   "outputs": [],
   "source": [
    "submission_df = pd.DataFrame()\n",
    "submission_df['Id'] = test_df[\"Id\"].astype(\"Int32\")\n",
    "\n",
    "y_pred_sub = xgboost_tuned.predict(test_df.drop(\"Id\", axis=1))\n",
    "\n",
    "y_pred_sub = np.expm1(y_pred_sub)\n",
    "\n",
    "submission_df['SalePrice'] = y_pred_sub\n",
    "\n",
    "submission_df.to_csv(\"datasets/sample_submission.csv\", index=False)"
   ]
  }
 ],
 "metadata": {
  "kernelspec": {
   "display_name": "Python 3.9.12 ('python39')",
   "language": "python",
   "name": "python3"
  },
  "language_info": {
   "codemirror_mode": {
    "name": "ipython",
    "version": 3
   },
   "file_extension": ".py",
   "mimetype": "text/x-python",
   "name": "python",
   "nbconvert_exporter": "python",
   "pygments_lexer": "ipython3",
   "version": "3.9.12"
  },
  "orig_nbformat": 4,
  "vscode": {
   "interpreter": {
    "hash": "2495b32cb5ee53b4d154158c75172eb0cee9954f9785268b3902b95c6ffc55b5"
   }
  }
 },
 "nbformat": 4,
 "nbformat_minor": 2
}