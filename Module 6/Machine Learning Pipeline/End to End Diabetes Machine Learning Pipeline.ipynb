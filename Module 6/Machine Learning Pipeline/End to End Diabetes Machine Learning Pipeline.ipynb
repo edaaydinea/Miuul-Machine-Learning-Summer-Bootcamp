{
 "cells": [
  {
   "cell_type": "markdown",
   "metadata": {},
   "source": [
    "# End-to-End Diabetes Machine Learning Pipeline \n",
    "\n",
    "*Author: Eda AYDIN*"
   ]
  },
  {
   "cell_type": "markdown",
   "metadata": {},
   "source": [
    "## Table of Contents\n",
    "\n",
    "- [Import Libraries](#import-libraries)\n",
    "- [Exploratory Data Analysis](#exploratory-data-analysis)\n",
    "- [Data Preprocessing & Feature Engineering](#data-preprocessing--feature-engineering)\n",
    "- [Base Models](#base-models)\n",
    "- [Automated Hyperparamater Optimization](#automated-hyperparamater-optimization)\n",
    "- [Stacking & Ensemble Optimization](#stacking--ensemble-learning)\n",
    "- [Prediction for a New Observation](#prediction-for-a-new-observation)\n",
    "- [Pipeline Main Function](#pipeline-main-function)\n",
    "- [Prediction](#prediction)"
   ]
  },
  {
   "cell_type": "markdown",
   "metadata": {},
   "source": [
    "## Import Libraries"
   ]
  },
  {
   "cell_type": "code",
   "execution_count": 1,
   "metadata": {},
   "outputs": [],
   "source": [
    "import warnings\n",
    "warnings.filterwarnings(\"ignore\")"
   ]
  },
  {
   "cell_type": "code",
   "execution_count": 2,
   "metadata": {},
   "outputs": [],
   "source": [
    "import joblib\n",
    "import pandas as pd\n",
    "import seaborn as sns\n",
    "import matplotlib.pyplot as plt\n",
    "from sklearn.ensemble import RandomForestClassifier, GradientBoostingClassifier, VotingClassifier, AdaBoostClassifier\n",
    "from sklearn.linear_model import LogisticRegression\n",
    "from sklearn.model_selection import cross_validate,GridSearchCV\n",
    "from sklearn.neighbors import KNeighborsClassifier\n",
    "from sklearn.svm import SVC\n",
    "from sklearn.tree import DecisionTreeClassifier\n",
    "from sklearn.preprocessing import StandardScaler\n",
    "from xgboost import XGBClassifier\n",
    "from lightgbm import LGBMClassifier\n",
    "from catboost import CatBoostClassifier"
   ]
  },
  {
   "cell_type": "code",
   "execution_count": 3,
   "metadata": {},
   "outputs": [],
   "source": [
    "pd.set_option('display.max_columns', None)\n",
    "pd.set_option('display.width', None)"
   ]
  },
  {
   "cell_type": "markdown",
   "metadata": {},
   "source": [
    "## Exploratory Data Analysis"
   ]
  },
  {
   "cell_type": "code",
   "execution_count": 4,
   "metadata": {},
   "outputs": [],
   "source": [
    "def check_df(dataframe, head=5):\n",
    "    print(\"##################### Shape #####################\")\n",
    "    print(dataframe.shape)\n",
    "    print(\"\\n\")\n",
    "    print(\"##################### Types #####################\")\n",
    "    print(dataframe.dtypes)\n",
    "    print(\"\\n\")\n",
    "    print(\"##################### Head #####################\")\n",
    "    print(dataframe.head(head))\n",
    "    print(\"\\n\")\n",
    "    print(\"##################### Tail #####################\")\n",
    "    print(dataframe.tail(head))\n",
    "    print(\"\\n\")\n",
    "    print(\"##################### NA #####################\")\n",
    "    print(dataframe.isnull().sum())\n",
    "    print(\"\\n\")\n",
    "    print(\"##################### Quantiles #####################\")\n",
    "    print(dataframe.quantile([0, 0.05, 0.50, 0.95, 0.99, 1]).T)"
   ]
  },
  {
   "cell_type": "code",
   "execution_count": 5,
   "metadata": {},
   "outputs": [],
   "source": [
    "def cat_summary(dataframe, col_name, plot=False):\n",
    "    \"\"\"\n",
    "    It gives summary of categorical columns with a plot.\n",
    "\n",
    "    Args:\n",
    "        dataframe (dataframe): The dataframe from which variables names are to be retrieved.\n",
    "        col_name (string): The column names from which features names are to be retrieved\n",
    "        plot (bool, optional): Plot and save the figure of the specified column. Defaults to False.\n",
    "    \"\"\"\n",
    "    print(pd.DataFrame({col_name: dataframe[col_name].value_counts(),\n",
    "                        \"Ratio\": 100 * dataframe[col_name].value_counts() / len(dataframe)}))\n",
    "    print(\"########################################## \\n\")\n",
    "\n",
    "    if plot:\n",
    "        sns.countplot(x=dataframe[col_name], data=dataframe)\n",
    "        plt.title(\"{} Count Graph.png\".format(col_name.capitalize()))\n",
    "        plt.savefig(\"{} Count Graph.png\".format(col_name.capitalize()))\n",
    "        plt.show(block=True)"
   ]
  },
  {
   "cell_type": "code",
   "execution_count": 6,
   "metadata": {},
   "outputs": [],
   "source": [
    "def num_summary(dataframe, col_name, plot=False):\n",
    "    \"\"\"\n",
    "    It gives the summary of numerical columns with a plot.\n",
    "    \n",
    "    Args:\n",
    "        dataframe (dataframe): The dataframe from which variables names are to be retrieved.\n",
    "        col_name (string): The column names from which features names are to be retrieved\n",
    "        plot (bool, optional): Plot and save the figure of the specified column. Defaults to False.\n",
    "\n",
    "    \"\"\"\n",
    "    quantiles = [0.05, 0.10, 0.20, 0.30, 0.40, 0.50, 0.60, 0.70, 0.80, 0.90, 0.95, 0.99]\n",
    "    print(dataframe[col_name].describe(quantiles).T)\n",
    "\n",
    "    if plot:\n",
    "        dataframe[col_name].hist()\n",
    "        plt.xlabel(col_name)\n",
    "        plt.title(\"{} Histogram Graph.png\".format(col_name.capitalize()))\n",
    "        plt.savefig(\"{} Histogram Graph.png\".format(col_name.capitalize()))\n",
    "        plt.show(block=True)"
   ]
  },
  {
   "cell_type": "code",
   "execution_count": 7,
   "metadata": {},
   "outputs": [],
   "source": [
    "def target_summary_with_categorical_data(dataframe, target, categorical_col):\n",
    "    \"\"\"\n",
    "    It gives the summary of specified categorical column name according to target column.\n",
    "\n",
    "    Args:\n",
    "        dataframe (dataframe): The dataframe from which variables names are to be retrieved.\n",
    "        target (string): The target column name are to be retrieved. \n",
    "        categorical_col (string): The categorical column names are to be retrieved.\n",
    "    \"\"\"\n",
    "    print(pd.DataFrame({\"TARGET_MEAN\": dataframe.groupby(categorical_col)[target].mean()}), end=\"\\n\\n\\n\")"
   ]
  },
  {
   "cell_type": "code",
   "execution_count": 8,
   "metadata": {},
   "outputs": [],
   "source": [
    "def target_summary_with_numerical_data(dataframe, target, numerical_col):\n",
    "    \"\"\"\n",
    "    It gives the summary of specified numerical column name according to target column.\n",
    "\n",
    "    Args:\n",
    "        dataframe (dataframe): The dataframe from which variables names are to be retrieved.\n",
    "        target (string): The target column name are to be retrieved. \n",
    "        categorical_col (string): The numerical column names are to be retrieved.\n",
    "    \"\"\"\n",
    "    print(dataframe.groupby(target).agg({numerical_col: \"mean\"}), end=\"\\n\\n\\n\")"
   ]
  },
  {
   "cell_type": "code",
   "execution_count": 9,
   "metadata": {},
   "outputs": [],
   "source": [
    "def correlation_matrix(df, cols):\n",
    "    \"\"\"\n",
    "    It gives the correlation of numerical variables with each other.\n",
    "\n",
    "    Args:\n",
    "        df (dataframe): The dataframe from which variables names are to be retrieved.\n",
    "        cols (list): The column name list are to be retrieved.\n",
    "    \"\"\"\n",
    "    fig = plt.gcf()\n",
    "    fig.set_size_inches(10,8)\n",
    "    plt.xticks(fontsize=10)\n",
    "    plt.yticks(fontsize = 10)\n",
    "    fig = sns.heatmap(df[cols].corr(), annot=True, linewidths=0.5,\n",
    "                      annot_kws={\"size\":12},linecolor=\"w\",\n",
    "                      cmap=\"RdBu\")\n",
    "    plt.savefig(\"Correlation Matrix.png\")\n",
    "    plt.show(block=True)"
   ]
  },
  {
   "cell_type": "code",
   "execution_count": 10,
   "metadata": {},
   "outputs": [],
   "source": [
    "def grab_col_names(dataframe, categorical_threshold=10, cardinal_threshold=20):\n",
    "    \"\"\"\n",
    "    It gives the names of categorical, numerical and categorical but cardinal,nominal variables in the data set.\n",
    "    Note: Categorical variables but numerical variables are also included in categorical variables.\n",
    "\n",
    "    Parameters\n",
    "    ----------\n",
    "    dataframe : dataframe\n",
    "        The dataframe from which variables names are to be retrieved.\n",
    "    categorical_threshold : int, optional\n",
    "        class threshold for numeric but categorical variables\n",
    "    cardinal_threshold : int, optional\n",
    "        Class threshold for categorical but cardinal variables\n",
    "\n",
    "    Returns\n",
    "    -------\n",
    "        categorical_cols : list\n",
    "            Categorical variable list\n",
    "        numerical_cols : list\n",
    "            Numerical variable list\n",
    "        cardinal_cols : list\n",
    "            Categorical looking cardinal variable list\n",
    "\n",
    "    Examples\n",
    "    -------\n",
    "        import seaborn as sns\n",
    "        df = sns.load_titanic_dataset(\"iris\")\n",
    "        print(grab_col_names(df))\n",
    "\n",
    "    Notes\n",
    "    -------\n",
    "        categorical_cols + numerical_cols + cardinal_cols = total number of variables.\n",
    "        nominal_cols is inside categorical_cols\n",
    "        The sum of the 3 returned lists equals the total number of variables: categorical_cols + cardinal_cols = number of variables\n",
    "\n",
    "    \"\"\"\n",
    "\n",
    "    categorical_cols = [col for col in dataframe.columns if dataframe[col].dtypes == \"O\"]\n",
    "    nominal_cols = [col for col in dataframe.columns if\n",
    "                    dataframe[col].nunique() < categorical_threshold and dataframe[col].dtypes != \"O\"]\n",
    "    cardinal_cols = [col for col in dataframe.columns if\n",
    "                     dataframe[col].nunique() > cardinal_threshold and dataframe[col].dtypes == \"O\"]\n",
    "    categorical_cols = categorical_cols + nominal_cols\n",
    "    categorical_cols = [col for col in categorical_cols if col not in cardinal_cols]\n",
    "\n",
    "    # numerical_cols\n",
    "    numerical_cols = [col for col in dataframe.columns if dataframe[col].dtypes != \"O\"]\n",
    "    numerical_cols = [col for col in numerical_cols if col not in categorical_cols]\n",
    "\n",
    "    print(f\"Observations: {dataframe.shape[0]}\")\n",
    "    print(f\"Variables: {dataframe.shape[1]}\")\n",
    "    print(f'categorical_cols: {len(categorical_cols)}')\n",
    "    print(f'numerical_cols: {len(numerical_cols)}')\n",
    "    print(f'cardinal_cols: {len(cardinal_cols)}')\n",
    "    print(f'nominal_cols: {len(nominal_cols)}')\n",
    "    return categorical_cols, numerical_cols, cardinal_cols, nominal_cols"
   ]
  },
  {
   "cell_type": "code",
   "execution_count": 11,
   "metadata": {},
   "outputs": [],
   "source": [
    "df = pd.read_csv(\"datasets/diabetes.csv\")"
   ]
  },
  {
   "cell_type": "code",
   "execution_count": 12,
   "metadata": {},
   "outputs": [
    {
     "name": "stdout",
     "output_type": "stream",
     "text": [
      "##################### Shape #####################\n",
      "(768, 9)\n",
      "\n",
      "\n",
      "##################### Types #####################\n",
      "Pregnancies                   int64\n",
      "Glucose                       int64\n",
      "BloodPressure                 int64\n",
      "SkinThickness                 int64\n",
      "Insulin                       int64\n",
      "BMI                         float64\n",
      "DiabetesPedigreeFunction    float64\n",
      "Age                           int64\n",
      "Outcome                       int64\n",
      "dtype: object\n",
      "\n",
      "\n",
      "##################### Head #####################\n",
      "   Pregnancies  Glucose  BloodPressure  SkinThickness  Insulin   BMI  \\\n",
      "0            6      148             72             35        0  33.6   \n",
      "1            1       85             66             29        0  26.6   \n",
      "2            8      183             64              0        0  23.3   \n",
      "3            1       89             66             23       94  28.1   \n",
      "4            0      137             40             35      168  43.1   \n",
      "\n",
      "   DiabetesPedigreeFunction  Age  Outcome  \n",
      "0                     0.627   50        1  \n",
      "1                     0.351   31        0  \n",
      "2                     0.672   32        1  \n",
      "3                     0.167   21        0  \n",
      "4                     2.288   33        1  \n",
      "\n",
      "\n",
      "##################### Tail #####################\n",
      "     Pregnancies  Glucose  BloodPressure  SkinThickness  Insulin   BMI  \\\n",
      "763           10      101             76             48      180  32.9   \n",
      "764            2      122             70             27        0  36.8   \n",
      "765            5      121             72             23      112  26.2   \n",
      "766            1      126             60              0        0  30.1   \n",
      "767            1       93             70             31        0  30.4   \n",
      "\n",
      "     DiabetesPedigreeFunction  Age  Outcome  \n",
      "763                     0.171   63        0  \n",
      "764                     0.340   27        0  \n",
      "765                     0.245   30        0  \n",
      "766                     0.349   47        1  \n",
      "767                     0.315   23        0  \n",
      "\n",
      "\n",
      "##################### NA #####################\n",
      "Pregnancies                 0\n",
      "Glucose                     0\n",
      "BloodPressure               0\n",
      "SkinThickness               0\n",
      "Insulin                     0\n",
      "BMI                         0\n",
      "DiabetesPedigreeFunction    0\n",
      "Age                         0\n",
      "Outcome                     0\n",
      "dtype: int64\n",
      "\n",
      "\n",
      "##################### Quantiles #####################\n",
      "                            0.00      0.05      0.50       0.95       0.99  \\\n",
      "Pregnancies                0.000   0.00000    3.0000   10.00000   13.00000   \n",
      "Glucose                    0.000  79.00000  117.0000  181.00000  196.00000   \n",
      "BloodPressure              0.000  38.70000   72.0000   90.00000  106.00000   \n",
      "SkinThickness              0.000   0.00000   23.0000   44.00000   51.33000   \n",
      "Insulin                    0.000   0.00000   30.5000  293.00000  519.90000   \n",
      "BMI                        0.000  21.80000   32.0000   44.39500   50.75900   \n",
      "DiabetesPedigreeFunction   0.078   0.14035    0.3725    1.13285    1.69833   \n",
      "Age                       21.000  21.00000   29.0000   58.00000   67.00000   \n",
      "Outcome                    0.000   0.00000    0.0000    1.00000    1.00000   \n",
      "\n",
      "                            1.00  \n",
      "Pregnancies                17.00  \n",
      "Glucose                   199.00  \n",
      "BloodPressure             122.00  \n",
      "SkinThickness              99.00  \n",
      "Insulin                   846.00  \n",
      "BMI                        67.10  \n",
      "DiabetesPedigreeFunction    2.42  \n",
      "Age                        81.00  \n",
      "Outcome                     1.00  \n"
     ]
    }
   ],
   "source": [
    "check_df(df)"
   ]
  },
  {
   "cell_type": "code",
   "execution_count": 13,
   "metadata": {},
   "outputs": [
    {
     "name": "stdout",
     "output_type": "stream",
     "text": [
      "Observations: 768\n",
      "Variables: 9\n",
      "categorical_cols: 1\n",
      "numerical_cols: 8\n",
      "cardinal_cols: 0\n",
      "nominal_cols: 1\n"
     ]
    }
   ],
   "source": [
    "# Değişken türlerin ayrıştırılması\n",
    "categorical_cols, numerical_cols, cardinal_cols, nominal_cols = grab_col_names(df, categorical_threshold=5, cardinal_threshold=20)"
   ]
  },
  {
   "cell_type": "code",
   "execution_count": 14,
   "metadata": {},
   "outputs": [
    {
     "name": "stdout",
     "output_type": "stream",
     "text": [
      "   Outcome      Ratio\n",
      "0      500  65.104167\n",
      "1      268  34.895833\n",
      "########################################## \n",
      "\n"
     ]
    },
    {
     "data": {
      "image/png": "[encoded data removed]",
      "text/plain": [
       "<Figure size 432x288 with 1 Axes>"
      ]
     },
     "metadata": {
      "needs_background": "light"
     },
     "output_type": "display_data"
    }
   ],
   "source": [
    "# Kategorik değişkenlerin incelenmesi\n",
    "\n",
    "for col in categorical_cols:\n",
    "    cat_summary(df, col,plot=True)"
   ]
  },
  {
   "cell_type": "code",
   "execution_count": 15,
   "metadata": {},
   "outputs": [
    {
     "data": {
      "text/html": [
       "<div>\n",
       "<style scoped>\n",
       "    .dataframe tbody tr th:only-of-type {\n",
       "        vertical-align: middle;\n",
       "    }\n",
       "\n",
       "    .dataframe tbody tr th {\n",
       "        vertical-align: top;\n",
       "    }\n",
       "\n",
       "    .dataframe thead th {\n",
       "        text-align: right;\n",
       "    }\n",
       "</style>\n",
       "<table border=\"1\" class=\"dataframe\">\n",
       "  <thead>\n",
       "    <tr style=\"text-align: right;\">\n",
       "      <th></th>\n",
       "      <th>count</th>\n",
       "      <th>mean</th>\n",
       "      <th>std</th>\n",
       "      <th>min</th>\n",
       "      <th>25%</th>\n",
       "      <th>50%</th>\n",
       "      <th>75%</th>\n",
       "      <th>max</th>\n",
       "    </tr>\n",
       "  </thead>\n",
       "  <tbody>\n",
       "    <tr>\n",
       "      <th>Pregnancies</th>\n",
       "      <td>768.0</td>\n",
       "      <td>3.845052</td>\n",
       "      <td>3.369578</td>\n",
       "      <td>0.000</td>\n",
       "      <td>1.00000</td>\n",
       "      <td>3.0000</td>\n",
       "      <td>6.00000</td>\n",
       "      <td>17.00</td>\n",
       "    </tr>\n",
       "    <tr>\n",
       "      <th>Glucose</th>\n",
       "      <td>768.0</td>\n",
       "      <td>120.894531</td>\n",
       "      <td>31.972618</td>\n",
       "      <td>0.000</td>\n",
       "      <td>99.00000</td>\n",
       "      <td>117.0000</td>\n",
       "      <td>140.25000</td>\n",
       "      <td>199.00</td>\n",
       "    </tr>\n",
       "    <tr>\n",
       "      <th>BloodPressure</th>\n",
       "      <td>768.0</td>\n",
       "      <td>69.105469</td>\n",
       "      <td>19.355807</td>\n",
       "      <td>0.000</td>\n",
       "      <td>62.00000</td>\n",
       "      <td>72.0000</td>\n",
       "      <td>80.00000</td>\n",
       "      <td>122.00</td>\n",
       "    </tr>\n",
       "    <tr>\n",
       "      <th>SkinThickness</th>\n",
       "      <td>768.0</td>\n",
       "      <td>20.536458</td>\n",
       "      <td>15.952218</td>\n",
       "      <td>0.000</td>\n",
       "      <td>0.00000</td>\n",
       "      <td>23.0000</td>\n",
       "      <td>32.00000</td>\n",
       "      <td>99.00</td>\n",
       "    </tr>\n",
       "    <tr>\n",
       "      <th>Insulin</th>\n",
       "      <td>768.0</td>\n",
       "      <td>79.799479</td>\n",
       "      <td>115.244002</td>\n",
       "      <td>0.000</td>\n",
       "      <td>0.00000</td>\n",
       "      <td>30.5000</td>\n",
       "      <td>127.25000</td>\n",
       "      <td>846.00</td>\n",
       "    </tr>\n",
       "    <tr>\n",
       "      <th>BMI</th>\n",
       "      <td>768.0</td>\n",
       "      <td>31.992578</td>\n",
       "      <td>7.884160</td>\n",
       "      <td>0.000</td>\n",
       "      <td>27.30000</td>\n",
       "      <td>32.0000</td>\n",
       "      <td>36.60000</td>\n",
       "      <td>67.10</td>\n",
       "    </tr>\n",
       "    <tr>\n",
       "      <th>DiabetesPedigreeFunction</th>\n",
       "      <td>768.0</td>\n",
       "      <td>0.471876</td>\n",
       "      <td>0.331329</td>\n",
       "      <td>0.078</td>\n",
       "      <td>0.24375</td>\n",
       "      <td>0.3725</td>\n",
       "      <td>0.62625</td>\n",
       "      <td>2.42</td>\n",
       "    </tr>\n",
       "    <tr>\n",
       "      <th>Age</th>\n",
       "      <td>768.0</td>\n",
       "      <td>33.240885</td>\n",
       "      <td>11.760232</td>\n",
       "      <td>21.000</td>\n",
       "      <td>24.00000</td>\n",
       "      <td>29.0000</td>\n",
       "      <td>41.00000</td>\n",
       "      <td>81.00</td>\n",
       "    </tr>\n",
       "  </tbody>\n",
       "</table>\n",
       "</div>"
      ],
      "text/plain": [
       "                          count        mean         std     min       25%  \\\n",
       "Pregnancies               768.0    3.845052    3.369578   0.000   1.00000   \n",
       "Glucose                   768.0  120.894531   31.972618   0.000  99.00000   \n",
       "BloodPressure             768.0   69.105469   19.355807   0.000  62.00000   \n",
       "SkinThickness             768.0   20.536458   15.952218   0.000   0.00000   \n",
       "Insulin                   768.0   79.799479  115.244002   0.000   0.00000   \n",
       "BMI                       768.0   31.992578    7.884160   0.000  27.30000   \n",
       "DiabetesPedigreeFunction  768.0    0.471876    0.331329   0.078   0.24375   \n",
       "Age                       768.0   33.240885   11.760232  21.000  24.00000   \n",
       "\n",
       "                               50%        75%     max  \n",
       "Pregnancies                 3.0000    6.00000   17.00  \n",
       "Glucose                   117.0000  140.25000  199.00  \n",
       "BloodPressure              72.0000   80.00000  122.00  \n",
       "SkinThickness              23.0000   32.00000   99.00  \n",
       "Insulin                    30.5000  127.25000  846.00  \n",
       "BMI                        32.0000   36.60000   67.10  \n",
       "DiabetesPedigreeFunction    0.3725    0.62625    2.42  \n",
       "Age                        29.0000   41.00000   81.00  "
      ]
     },
     "execution_count": 15,
     "metadata": {},
     "output_type": "execute_result"
    }
   ],
   "source": [
    "#Sayısal değişkenlerin incelenmesi\n",
    "\n",
    "df[numerical_cols].describe().T"
   ]
  },
  {
   "cell_type": "code",
   "execution_count": 16,
   "metadata": {},
   "outputs": [
    {
     "name": "stdout",
     "output_type": "stream",
     "text": [
      "count    768.000000\n",
      "mean       3.845052\n",
      "std        3.369578\n",
      "min        0.000000\n",
      "5%         0.000000\n",
      "10%        0.000000\n",
      "20%        1.000000\n",
      "30%        1.000000\n",
      "40%        2.000000\n",
      "50%        3.000000\n",
      "60%        4.000000\n",
      "70%        5.000000\n",
      "80%        7.000000\n",
      "90%        9.000000\n",
      "95%       10.000000\n",
      "99%       13.000000\n",
      "max       17.000000\n",
      "Name: Pregnancies, dtype: float64\n"
     ]
    },
    {
     "data": {
      "image/png": "[encoded data removed]",
      "text/plain": [
       "<Figure size 432x288 with 1 Axes>"
      ]
     },
     "metadata": {
      "needs_background": "light"
     },
     "output_type": "display_data"
    },
    {
     "name": "stdout",
     "output_type": "stream",
     "text": [
      "count    768.000000\n",
      "mean     120.894531\n",
      "std       31.972618\n",
      "min        0.000000\n",
      "5%        79.000000\n",
      "10%       85.000000\n",
      "20%       95.000000\n",
      "30%      102.000000\n",
      "40%      109.000000\n",
      "50%      117.000000\n",
      "60%      125.000000\n",
      "70%      134.000000\n",
      "80%      147.000000\n",
      "90%      167.000000\n",
      "95%      181.000000\n",
      "99%      196.000000\n",
      "max      199.000000\n",
      "Name: Glucose, dtype: float64\n"
     ]
    },
    {
     "data": {
      "image/png": "[encoded data removed]",
      "text/plain": [
       "<Figure size 432x288 with 1 Axes>"
      ]
     },
     "metadata": {
      "needs_background": "light"
     },
     "output_type": "display_data"
    },
    {
     "name": "stdout",
     "output_type": "stream",
     "text": [
      "count    768.000000\n",
      "mean      69.105469\n",
      "std       19.355807\n",
      "min        0.000000\n",
      "5%        38.700000\n",
      "10%       54.000000\n",
      "20%       60.000000\n",
      "30%       64.000000\n",
      "40%       68.000000\n",
      "50%       72.000000\n",
      "60%       74.000000\n",
      "70%       78.000000\n",
      "80%       82.000000\n",
      "90%       88.000000\n",
      "95%       90.000000\n",
      "99%      106.000000\n",
      "max      122.000000\n",
      "Name: BloodPressure, dtype: float64\n"
     ]
    },
    {
     "data": {
      "image/png": "[encoded data removed]",
      "text/plain": [
       "<Figure size 432x288 with 1 Axes>"
      ]
     },
     "metadata": {
      "needs_background": "light"
     },
     "output_type": "display_data"
    },
    {
     "name": "stdout",
     "output_type": "stream",
     "text": [
      "count    768.000000\n",
      "mean      20.536458\n",
      "std       15.952218\n",
      "min        0.000000\n",
      "5%         0.000000\n",
      "10%        0.000000\n",
      "20%        0.000000\n",
      "30%        8.200000\n",
      "40%       18.000000\n",
      "50%       23.000000\n",
      "60%       27.000000\n",
      "70%       31.000000\n",
      "80%       35.000000\n",
      "90%       40.000000\n",
      "95%       44.000000\n",
      "99%       51.330000\n",
      "max       99.000000\n",
      "Name: SkinThickness, dtype: float64\n"
     ]
    },
    {
     "data": {
      "image/png": "[encoded data removed]",
      "text/plain": [
       "<Figure size 432x288 with 1 Axes>"
      ]
     },
     "metadata": {
      "needs_background": "light"
     },
     "output_type": "display_data"
    },
    {
     "name": "stdout",
     "output_type": "stream",
     "text": [
      "count    768.000000\n",
      "mean      79.799479\n",
      "std      115.244002\n",
      "min        0.000000\n",
      "5%         0.000000\n",
      "10%        0.000000\n",
      "20%        0.000000\n",
      "30%        0.000000\n",
      "40%        0.000000\n",
      "50%       30.500000\n",
      "60%       72.200000\n",
      "70%      106.000000\n",
      "80%      150.000000\n",
      "90%      210.000000\n",
      "95%      293.000000\n",
      "99%      519.900000\n",
      "max      846.000000\n",
      "Name: Insulin, dtype: float64\n"
     ]
    },
    {
     "data": {
      "image/png": "[encoded data removed]",
      "text/plain": [
       "<Figure size 432x288 with 1 Axes>"
      ]
     },
     "metadata": {
      "needs_background": "light"
     },
     "output_type": "display_data"
    },
    {
     "name": "stdout",
     "output_type": "stream",
     "text": [
      "count    768.000000\n",
      "mean      31.992578\n",
      "std        7.884160\n",
      "min        0.000000\n",
      "5%        21.800000\n",
      "10%       23.600000\n",
      "20%       25.900000\n",
      "30%       28.200000\n",
      "40%       30.100000\n",
      "50%       32.000000\n",
      "60%       33.700000\n",
      "70%       35.490000\n",
      "80%       37.800000\n",
      "90%       41.500000\n",
      "95%       44.395000\n",
      "99%       50.759000\n",
      "max       67.100000\n",
      "Name: BMI, dtype: float64\n"
     ]
    },
    {
     "data": {
      "image/png": "[encoded data removed]",
      "text/plain": [
       "<Figure size 432x288 with 1 Axes>"
      ]
     },
     "metadata": {
      "needs_background": "light"
     },
     "output_type": "display_data"
    },
    {
     "name": "stdout",
     "output_type": "stream",
     "text": [
      "count    768.000000\n",
      "mean       0.471876\n",
      "std        0.331329\n",
      "min        0.078000\n",
      "5%         0.140350\n",
      "10%        0.165000\n",
      "20%        0.219400\n",
      "30%        0.259000\n",
      "40%        0.302800\n",
      "50%        0.372500\n",
      "60%        0.454200\n",
      "70%        0.563700\n",
      "80%        0.687000\n",
      "90%        0.878600\n",
      "95%        1.132850\n",
      "99%        1.698330\n",
      "max        2.420000\n",
      "Name: DiabetesPedigreeFunction, dtype: float64\n"
     ]
    },
    {
     "data": {
      "image/png": "[encoded data removed]",
      "text/plain": [
       "<Figure size 432x288 with 1 Axes>"
      ]
     },
     "metadata": {
      "needs_background": "light"
     },
     "output_type": "display_data"
    },
    {
     "name": "stdout",
     "output_type": "stream",
     "text": [
      "count    768.000000\n",
      "mean      33.240885\n",
      "std       11.760232\n",
      "min       21.000000\n",
      "5%        21.000000\n",
      "10%       22.000000\n",
      "20%       23.000000\n",
      "30%       25.000000\n",
      "40%       27.000000\n",
      "50%       29.000000\n",
      "60%       33.000000\n",
      "70%       38.000000\n",
      "80%       42.600000\n",
      "90%       51.000000\n",
      "95%       58.000000\n",
      "99%       67.000000\n",
      "max       81.000000\n",
      "Name: Age, dtype: float64\n"
     ]
    },
    {
     "data": {
      "image/png": "[encoded data removed]",
      "text/plain": [
       "<Figure size 432x288 with 1 Axes>"
      ]
     },
     "metadata": {
      "needs_background": "light"
     },
     "output_type": "display_data"
    }
   ],
   "source": [
    "for col in numerical_cols:\n",
    "    num_summary(dataframe=df,\n",
    "                col_name= col,\n",
    "                plot= True)"
   ]
  },
  {
   "cell_type": "code",
   "execution_count": 17,
   "metadata": {},
   "outputs": [
    {
     "data": {
      "image/png": "[encoded data removed]",
      "text/plain": [
       "<Figure size 720x576 with 2 Axes>"
      ]
     },
     "metadata": {
      "needs_background": "light"
     },
     "output_type": "display_data"
    }
   ],
   "source": [
    "# Sayısal değişkenlerin birbiri ile korelasyonu\n",
    "\n",
    "correlation_matrix(df, numerical_cols)"
   ]
  },
  {
   "cell_type": "code",
   "execution_count": 18,
   "metadata": {},
   "outputs": [
    {
     "name": "stdout",
     "output_type": "stream",
     "text": [
      "         Pregnancies\n",
      "Outcome             \n",
      "0           3.298000\n",
      "1           4.865672\n",
      "\n",
      "\n",
      "            Glucose\n",
      "Outcome            \n",
      "0        109.980000\n",
      "1        141.257463\n",
      "\n",
      "\n",
      "         BloodPressure\n",
      "Outcome               \n",
      "0            68.184000\n",
      "1            70.824627\n",
      "\n",
      "\n",
      "         SkinThickness\n",
      "Outcome               \n",
      "0            19.664000\n",
      "1            22.164179\n",
      "\n",
      "\n",
      "            Insulin\n",
      "Outcome            \n",
      "0         68.792000\n",
      "1        100.335821\n",
      "\n",
      "\n",
      "               BMI\n",
      "Outcome           \n",
      "0        30.304200\n",
      "1        35.142537\n",
      "\n",
      "\n",
      "         DiabetesPedigreeFunction\n",
      "Outcome                          \n",
      "0                        0.429734\n",
      "1                        0.550500\n",
      "\n",
      "\n",
      "               Age\n",
      "Outcome           \n",
      "0        31.190000\n",
      "1        37.067164\n",
      "\n",
      "\n"
     ]
    }
   ],
   "source": [
    "# Target ile sayısal değişkenlerin incelenmesi\n",
    "for col in numerical_cols:\n",
    "    target_summary_with_numerical_data(df, \"Outcome\", col)"
   ]
  },
  {
   "cell_type": "markdown",
   "metadata": {},
   "source": [
    "## Data Preprocessing & Feature Engineering"
   ]
  },
  {
   "cell_type": "code",
   "execution_count": 19,
   "metadata": {},
   "outputs": [],
   "source": [
    "def outlier_thresholds(dataframe, col_name, q1=0.25, q3=0.75):\n",
    "    \"\"\"\n",
    "    Return the lower and upper limit of each columns. \n",
    "\n",
    "    Args:\n",
    "        dataframe (dataframe): The dataframe from which variables names are to be retrieved.\n",
    "        col_name (string): The column names from which features names are to be retrieved\n",
    "        q1 (float, optional): _description_. Defaults to 0.25.\n",
    "        q3 (float, optional): _description_. Defaults to 0.75.\n",
    "\n",
    "    Returns:\n",
    "        low_limit (float): Returns the lower limit by using quartile1 and interquantile range values for each columns.\n",
    "        up_limit (float) : Returns the upper limit by using quartile3 and interquantile range values for each columns.\n",
    "    \"\"\"\n",
    "    quartile1 = dataframe[col_name].quantile(q1)\n",
    "    quartile3 = dataframe[col_name].quantile(q3)\n",
    "    interquantile_range = quartile3 - quartile1\n",
    "    up_limit = quartile3 + 1.5 * interquantile_range\n",
    "    low_limit = quartile1 - 1.5 * interquantile_range\n",
    "    return low_limit, up_limit"
   ]
  },
  {
   "cell_type": "code",
   "execution_count": 20,
   "metadata": {},
   "outputs": [],
   "source": [
    "def replace_with_thresholds(dataframe, col_name):\n",
    "    \"\"\"\n",
    "    Replacing values ​​in Outlier with lower and upper bounds\n",
    "\n",
    "    Args:\n",
    "        dataframe (dataframe): The dataframe from which variables names are to be retrieved.\n",
    "        col_name (string): The column name with the outlier values are to be retrieved.\n",
    "    \"\"\"\n",
    "    low_limit, up_limit = outlier_thresholds(dataframe, col_name)\n",
    "    dataframe.loc[(dataframe[col_name] < low_limit), col_name] = low_limit\n",
    "    dataframe.loc[(dataframe[col_name] > up_limit), col_name] = up_limit"
   ]
  },
  {
   "cell_type": "code",
   "execution_count": 21,
   "metadata": {},
   "outputs": [],
   "source": [
    "def check_outlier(dataframe, col_name, q1=0.25, q3=0.75):\n",
    "    \"\"\"\n",
    "    Checking the outliers for each columns\n",
    "\n",
    "    Args:\n",
    "        dataframe (dataframe): The dataframe from which variables names are to be retrieved.\n",
    "        col_name (string): The column names from which features names are to be retrieved\n",
    "        q1 (float, optional): Quartile 1 Value of specified column. Defaults to 0.25.\n",
    "        q3 (float, optional): Quartile 3 Value of specified column.. Defaults to 0.75.\n",
    "\n",
    "    Returns:\n",
    "        boolean: If the specified column has outlier values, return True. If not, return False.\n",
    "    \"\"\"\n",
    "    low_limit, up_limit = outlier_thresholds(dataframe, col_name, q1, q3)\n",
    "    if dataframe[(dataframe[col_name] > up_limit) | (dataframe[col_name] < low_limit)].any(axis=None):\n",
    "        return True\n",
    "    else:\n",
    "        return False"
   ]
  },
  {
   "cell_type": "code",
   "execution_count": 22,
   "metadata": {},
   "outputs": [],
   "source": [
    "def one_hot_encoder(dataframe, categorical_cols, drop_first=False):\n",
    "    \"\"\"\n",
    "    Apply One Hot Encoding to all specified categorical columns.\n",
    "\n",
    "    Args:\n",
    "        dataframe (dataframe): The dataframe from which variables names are to be retrieved.\n",
    "        categorical_col (string): The numerical column names are to be retrieved.\n",
    "        drop_first (bool, optional): Remove the first column after one hot encoding process to prevent overfitting. Defaults to False.\n",
    "\n",
    "    Returns:\n",
    "        _type_: _description_\n",
    "    \"\"\"\n",
    "    dataframe = pd.get_dummies(dataframe, columns=categorical_cols, drop_first=drop_first)\n",
    "    return dataframe"
   ]
  },
  {
   "cell_type": "code",
   "execution_count": 23,
   "metadata": {},
   "outputs": [
    {
     "data": {
      "text/html": [
       "<div>\n",
       "<style scoped>\n",
       "    .dataframe tbody tr th:only-of-type {\n",
       "        vertical-align: middle;\n",
       "    }\n",
       "\n",
       "    .dataframe tbody tr th {\n",
       "        vertical-align: top;\n",
       "    }\n",
       "\n",
       "    .dataframe thead th {\n",
       "        text-align: right;\n",
       "    }\n",
       "</style>\n",
       "<table border=\"1\" class=\"dataframe\">\n",
       "  <thead>\n",
       "    <tr style=\"text-align: right;\">\n",
       "      <th></th>\n",
       "      <th>Pregnancies</th>\n",
       "      <th>Glucose</th>\n",
       "      <th>BloodPressure</th>\n",
       "      <th>SkinThickness</th>\n",
       "      <th>Insulin</th>\n",
       "      <th>BMI</th>\n",
       "      <th>DiabetesPedigreeFunction</th>\n",
       "      <th>Age</th>\n",
       "      <th>Outcome</th>\n",
       "    </tr>\n",
       "  </thead>\n",
       "  <tbody>\n",
       "    <tr>\n",
       "      <th>0</th>\n",
       "      <td>6</td>\n",
       "      <td>148</td>\n",
       "      <td>72</td>\n",
       "      <td>35</td>\n",
       "      <td>0</td>\n",
       "      <td>33.6</td>\n",
       "      <td>0.627</td>\n",
       "      <td>50</td>\n",
       "      <td>1</td>\n",
       "    </tr>\n",
       "    <tr>\n",
       "      <th>1</th>\n",
       "      <td>1</td>\n",
       "      <td>85</td>\n",
       "      <td>66</td>\n",
       "      <td>29</td>\n",
       "      <td>0</td>\n",
       "      <td>26.6</td>\n",
       "      <td>0.351</td>\n",
       "      <td>31</td>\n",
       "      <td>0</td>\n",
       "    </tr>\n",
       "    <tr>\n",
       "      <th>2</th>\n",
       "      <td>8</td>\n",
       "      <td>183</td>\n",
       "      <td>64</td>\n",
       "      <td>0</td>\n",
       "      <td>0</td>\n",
       "      <td>23.3</td>\n",
       "      <td>0.672</td>\n",
       "      <td>32</td>\n",
       "      <td>1</td>\n",
       "    </tr>\n",
       "    <tr>\n",
       "      <th>3</th>\n",
       "      <td>1</td>\n",
       "      <td>89</td>\n",
       "      <td>66</td>\n",
       "      <td>23</td>\n",
       "      <td>94</td>\n",
       "      <td>28.1</td>\n",
       "      <td>0.167</td>\n",
       "      <td>21</td>\n",
       "      <td>0</td>\n",
       "    </tr>\n",
       "    <tr>\n",
       "      <th>4</th>\n",
       "      <td>0</td>\n",
       "      <td>137</td>\n",
       "      <td>40</td>\n",
       "      <td>35</td>\n",
       "      <td>168</td>\n",
       "      <td>43.1</td>\n",
       "      <td>2.288</td>\n",
       "      <td>33</td>\n",
       "      <td>1</td>\n",
       "    </tr>\n",
       "  </tbody>\n",
       "</table>\n",
       "</div>"
      ],
      "text/plain": [
       "   Pregnancies  Glucose  BloodPressure  SkinThickness  Insulin   BMI  \\\n",
       "0            6      148             72             35        0  33.6   \n",
       "1            1       85             66             29        0  26.6   \n",
       "2            8      183             64              0        0  23.3   \n",
       "3            1       89             66             23       94  28.1   \n",
       "4            0      137             40             35      168  43.1   \n",
       "\n",
       "   DiabetesPedigreeFunction  Age  Outcome  \n",
       "0                     0.627   50        1  \n",
       "1                     0.351   31        0  \n",
       "2                     0.672   32        1  \n",
       "3                     0.167   21        0  \n",
       "4                     2.288   33        1  "
      ]
     },
     "execution_count": 23,
     "metadata": {},
     "output_type": "execute_result"
    }
   ],
   "source": [
    "df.head()"
   ]
  },
  {
   "cell_type": "code",
   "execution_count": 24,
   "metadata": {},
   "outputs": [],
   "source": [
    "# Değişken isimleri büyütmek\n",
    "df.columns = [col.upper() for col in df.columns]"
   ]
  },
  {
   "cell_type": "code",
   "execution_count": 25,
   "metadata": {},
   "outputs": [],
   "source": [
    "# Glucose\n",
    "df['NEW_GLUCOSE_CAT'] = pd.cut(x=df['GLUCOSE'], bins=[-1, 139, 200], labels=[\"normal\", \"prediabetes\"])\n",
    "# 0 değerini kapsasın diye -1 yazdık.\n",
    "# -1 ile 139 arasında normal, 139 ile 200 arasına prediabetes dedik."
   ]
  },
  {
   "cell_type": "code",
   "execution_count": 26,
   "metadata": {},
   "outputs": [],
   "source": [
    "# Age\n",
    "df.loc[(df['AGE'] < 35), \"NEW_AGE_CAT\"] = 'young'\n",
    "df.loc[(df['AGE'] >= 35) & (df['AGE'] <= 55), \"NEW_AGE_CAT\"] = 'middleage'\n",
    "df.loc[(df['AGE'] > 55), \"NEW_AGE_CAT\"] = 'old'"
   ]
  },
  {
   "cell_type": "code",
   "execution_count": 27,
   "metadata": {},
   "outputs": [],
   "source": [
    "# BMI\n",
    "df['NEW_BMI_RANGE'] = pd.cut(x=df['BMI'], \n",
    "                             bins=[-1, 18.5, 24.9, 29.9, 100],\n",
    "                             labels=[\"underweight\", \"healthy\", \"overweight\", \"obese\"])"
   ]
  },
  {
   "cell_type": "code",
   "execution_count": 28,
   "metadata": {},
   "outputs": [],
   "source": [
    "# BloodPressure\n",
    "df['NEW_BLOODPRESSURE'] = pd.cut(x=df['BLOODPRESSURE'], bins=[-1, 79, 89, 123], labels=[\"normal\", \"hs1\", \"hs2\"])"
   ]
  },
  {
   "cell_type": "code",
   "execution_count": 29,
   "metadata": {},
   "outputs": [
    {
     "name": "stdout",
     "output_type": "stream",
     "text": [
      "##################### Shape #####################\n",
      "(768, 13)\n",
      "\n",
      "\n",
      "##################### Types #####################\n",
      "PREGNANCIES                    int64\n",
      "GLUCOSE                        int64\n",
      "BLOODPRESSURE                  int64\n",
      "SKINTHICKNESS                  int64\n",
      "INSULIN                        int64\n",
      "BMI                          float64\n",
      "DIABETESPEDIGREEFUNCTION     float64\n",
      "AGE                            int64\n",
      "OUTCOME                        int64\n",
      "NEW_GLUCOSE_CAT             category\n",
      "NEW_AGE_CAT                   object\n",
      "NEW_BMI_RANGE               category\n",
      "NEW_BLOODPRESSURE           category\n",
      "dtype: object\n",
      "\n",
      "\n",
      "##################### Head #####################\n",
      "   PREGNANCIES  GLUCOSE  BLOODPRESSURE  SKINTHICKNESS  INSULIN   BMI  \\\n",
      "0            6      148             72             35        0  33.6   \n",
      "1            1       85             66             29        0  26.6   \n",
      "2            8      183             64              0        0  23.3   \n",
      "3            1       89             66             23       94  28.1   \n",
      "4            0      137             40             35      168  43.1   \n",
      "\n",
      "   DIABETESPEDIGREEFUNCTION  AGE  OUTCOME NEW_GLUCOSE_CAT NEW_AGE_CAT  \\\n",
      "0                     0.627   50        1     prediabetes   middleage   \n",
      "1                     0.351   31        0          normal       young   \n",
      "2                     0.672   32        1     prediabetes       young   \n",
      "3                     0.167   21        0          normal       young   \n",
      "4                     2.288   33        1          normal       young   \n",
      "\n",
      "  NEW_BMI_RANGE NEW_BLOODPRESSURE  \n",
      "0         obese            normal  \n",
      "1    overweight            normal  \n",
      "2       healthy            normal  \n",
      "3    overweight            normal  \n",
      "4         obese            normal  \n",
      "\n",
      "\n",
      "##################### Tail #####################\n",
      "     PREGNANCIES  GLUCOSE  BLOODPRESSURE  SKINTHICKNESS  INSULIN   BMI  \\\n",
      "763           10      101             76             48      180  32.9   \n",
      "764            2      122             70             27        0  36.8   \n",
      "765            5      121             72             23      112  26.2   \n",
      "766            1      126             60              0        0  30.1   \n",
      "767            1       93             70             31        0  30.4   \n",
      "\n",
      "     DIABETESPEDIGREEFUNCTION  AGE  OUTCOME NEW_GLUCOSE_CAT NEW_AGE_CAT  \\\n",
      "763                     0.171   63        0          normal         old   \n",
      "764                     0.340   27        0          normal       young   \n",
      "765                     0.245   30        0          normal       young   \n",
      "766                     0.349   47        1          normal   middleage   \n",
      "767                     0.315   23        0          normal       young   \n",
      "\n",
      "    NEW_BMI_RANGE NEW_BLOODPRESSURE  \n",
      "763         obese            normal  \n",
      "764         obese            normal  \n",
      "765    overweight            normal  \n",
      "766         obese            normal  \n",
      "767         obese            normal  \n",
      "\n",
      "\n",
      "##################### NA #####################\n",
      "PREGNANCIES                 0\n",
      "GLUCOSE                     0\n",
      "BLOODPRESSURE               0\n",
      "SKINTHICKNESS               0\n",
      "INSULIN                     0\n",
      "BMI                         0\n",
      "DIABETESPEDIGREEFUNCTION    0\n",
      "AGE                         0\n",
      "OUTCOME                     0\n",
      "NEW_GLUCOSE_CAT             0\n",
      "NEW_AGE_CAT                 0\n",
      "NEW_BMI_RANGE               0\n",
      "NEW_BLOODPRESSURE           0\n",
      "dtype: int64\n",
      "\n",
      "\n",
      "##################### Quantiles #####################\n",
      "                            0.00      0.05      0.50       0.95       0.99  \\\n",
      "PREGNANCIES                0.000   0.00000    3.0000   10.00000   13.00000   \n",
      "GLUCOSE                    0.000  79.00000  117.0000  181.00000  196.00000   \n",
      "BLOODPRESSURE              0.000  38.70000   72.0000   90.00000  106.00000   \n",
      "SKINTHICKNESS              0.000   0.00000   23.0000   44.00000   51.33000   \n",
      "INSULIN                    0.000   0.00000   30.5000  293.00000  519.90000   \n",
      "BMI                        0.000  21.80000   32.0000   44.39500   50.75900   \n",
      "DIABETESPEDIGREEFUNCTION   0.078   0.14035    0.3725    1.13285    1.69833   \n",
      "AGE                       21.000  21.00000   29.0000   58.00000   67.00000   \n",
      "OUTCOME                    0.000   0.00000    0.0000    1.00000    1.00000   \n",
      "\n",
      "                            1.00  \n",
      "PREGNANCIES                17.00  \n",
      "GLUCOSE                   199.00  \n",
      "BLOODPRESSURE             122.00  \n",
      "SKINTHICKNESS              99.00  \n",
      "INSULIN                   846.00  \n",
      "BMI                        67.10  \n",
      "DIABETESPEDIGREEFUNCTION    2.42  \n",
      "AGE                        81.00  \n",
      "OUTCOME                     1.00  \n"
     ]
    }
   ],
   "source": [
    "check_df(df)"
   ]
  },
  {
   "cell_type": "code",
   "execution_count": 30,
   "metadata": {},
   "outputs": [
    {
     "name": "stdout",
     "output_type": "stream",
     "text": [
      "Observations: 768\n",
      "Variables: 13\n",
      "categorical_cols: 5\n",
      "numerical_cols: 8\n",
      "cardinal_cols: 0\n",
      "nominal_cols: 4\n"
     ]
    }
   ],
   "source": [
    "categorical_cols, numerical_cols, cardinal_cols, nominal_cols = grab_col_names(df, categorical_threshold=5, cardinal_threshold=20)"
   ]
  },
  {
   "cell_type": "code",
   "execution_count": 31,
   "metadata": {},
   "outputs": [
    {
     "data": {
      "text/plain": [
       "['NEW_AGE_CAT',\n",
       " 'OUTCOME',\n",
       " 'NEW_GLUCOSE_CAT',\n",
       " 'NEW_BMI_RANGE',\n",
       " 'NEW_BLOODPRESSURE']"
      ]
     },
     "execution_count": 31,
     "metadata": {},
     "output_type": "execute_result"
    }
   ],
   "source": [
    "categorical_cols"
   ]
  },
  {
   "cell_type": "code",
   "execution_count": 32,
   "metadata": {},
   "outputs": [
    {
     "data": {
      "text/plain": [
       "['PREGNANCIES',\n",
       " 'GLUCOSE',\n",
       " 'BLOODPRESSURE',\n",
       " 'SKINTHICKNESS',\n",
       " 'INSULIN',\n",
       " 'BMI',\n",
       " 'DIABETESPEDIGREEFUNCTION',\n",
       " 'AGE']"
      ]
     },
     "execution_count": 32,
     "metadata": {},
     "output_type": "execute_result"
    }
   ],
   "source": [
    "numerical_cols"
   ]
  },
  {
   "cell_type": "code",
   "execution_count": 33,
   "metadata": {},
   "outputs": [
    {
     "data": {
      "text/plain": [
       "[]"
      ]
     },
     "execution_count": 33,
     "metadata": {},
     "output_type": "execute_result"
    }
   ],
   "source": [
    "cardinal_cols"
   ]
  },
  {
   "cell_type": "code",
   "execution_count": 34,
   "metadata": {},
   "outputs": [
    {
     "data": {
      "text/plain": [
       "['OUTCOME', 'NEW_GLUCOSE_CAT', 'NEW_BMI_RANGE', 'NEW_BLOODPRESSURE']"
      ]
     },
     "execution_count": 34,
     "metadata": {},
     "output_type": "execute_result"
    }
   ],
   "source": [
    "nominal_cols"
   ]
  },
  {
   "cell_type": "code",
   "execution_count": 35,
   "metadata": {},
   "outputs": [
    {
     "name": "stdout",
     "output_type": "stream",
     "text": [
      "           NEW_AGE_CAT      Ratio\n",
      "young              488  63.541667\n",
      "middleage          230  29.947917\n",
      "old                 50   6.510417\n",
      "########################################## \n",
      "\n"
     ]
    },
    {
     "data": {
      "image/png": "[encoded data removed]",
      "text/plain": [
       "<Figure size 432x288 with 1 Axes>"
      ]
     },
     "metadata": {
      "needs_background": "light"
     },
     "output_type": "display_data"
    },
    {
     "name": "stdout",
     "output_type": "stream",
     "text": [
      "   OUTCOME      Ratio\n",
      "0      500  65.104167\n",
      "1      268  34.895833\n",
      "########################################## \n",
      "\n"
     ]
    },
    {
     "data": {
      "image/png": "[encoded data removed]",
      "text/plain": [
       "<Figure size 432x288 with 1 Axes>"
      ]
     },
     "metadata": {
      "needs_background": "light"
     },
     "output_type": "display_data"
    },
    {
     "name": "stdout",
     "output_type": "stream",
     "text": [
      "             NEW_GLUCOSE_CAT      Ratio\n",
      "normal                   571  74.348958\n",
      "prediabetes              197  25.651042\n",
      "########################################## \n",
      "\n"
     ]
    },
    {
     "data": {
      "image/png": "[encoded data removed]",
      "text/plain": [
       "<Figure size 432x288 with 1 Axes>"
      ]
     },
     "metadata": {
      "needs_background": "light"
     },
     "output_type": "display_data"
    },
    {
     "name": "stdout",
     "output_type": "stream",
     "text": [
      "             NEW_BMI_RANGE      Ratio\n",
      "obese                  472  61.458333\n",
      "overweight             179  23.307292\n",
      "healthy                102  13.281250\n",
      "underweight             15   1.953125\n",
      "########################################## \n",
      "\n"
     ]
    },
    {
     "data": {
      "image/png": "[encoded data removed]",
      "text/plain": [
       "<Figure size 432x288 with 1 Axes>"
      ]
     },
     "metadata": {
      "needs_background": "light"
     },
     "output_type": "display_data"
    },
    {
     "name": "stdout",
     "output_type": "stream",
     "text": [
      "        NEW_BLOODPRESSURE      Ratio\n",
      "normal                563  73.307292\n",
      "hs1                   145  18.880208\n",
      "hs2                    60   7.812500\n",
      "########################################## \n",
      "\n"
     ]
    },
    {
     "data": {
      "image/png": "[encoded data removed]",
      "text/plain": [
       "<Figure size 432x288 with 1 Axes>"
      ]
     },
     "metadata": {
      "needs_background": "light"
     },
     "output_type": "display_data"
    }
   ],
   "source": [
    "for col in categorical_cols:\n",
    "    cat_summary(df,col,True)"
   ]
  },
  {
   "cell_type": "code",
   "execution_count": 36,
   "metadata": {},
   "outputs": [
    {
     "name": "stdout",
     "output_type": "stream",
     "text": [
      "             TARGET_MEAN\n",
      "NEW_AGE_CAT             \n",
      "middleage       0.543478\n",
      "old             0.340000\n",
      "young           0.258197\n",
      "\n",
      "\n",
      "         TARGET_MEAN\n",
      "OUTCOME             \n",
      "0                0.0\n",
      "1                1.0\n",
      "\n",
      "\n",
      "                 TARGET_MEAN\n",
      "NEW_GLUCOSE_CAT             \n",
      "normal              0.232925\n",
      "prediabetes         0.685279\n",
      "\n",
      "\n",
      "               TARGET_MEAN\n",
      "NEW_BMI_RANGE             \n",
      "underweight       0.133333\n",
      "healthy           0.068627\n",
      "overweight        0.223464\n",
      "obese             0.463983\n",
      "\n",
      "\n",
      "                   TARGET_MEAN\n",
      "NEW_BLOODPRESSURE             \n",
      "normal                0.316163\n",
      "hs1                   0.420690\n",
      "hs2                   0.483333\n",
      "\n",
      "\n"
     ]
    }
   ],
   "source": [
    "for col in categorical_cols:\n",
    "    target_summary_with_categorical_data(df, \"OUTCOME\",col)"
   ]
  },
  {
   "cell_type": "code",
   "execution_count": 37,
   "metadata": {},
   "outputs": [],
   "source": [
    "categorical_cols = [col for col in categorical_cols if \"OUTCOME\" not in col]"
   ]
  },
  {
   "cell_type": "code",
   "execution_count": 38,
   "metadata": {},
   "outputs": [],
   "source": [
    "df = one_hot_encoder(df, categorical_cols, drop_first=True)"
   ]
  },
  {
   "cell_type": "code",
   "execution_count": 39,
   "metadata": {},
   "outputs": [
    {
     "name": "stdout",
     "output_type": "stream",
     "text": [
      "##################### Shape #####################\n",
      "(768, 17)\n",
      "\n",
      "\n",
      "##################### Types #####################\n",
      "PREGNANCIES                      int64\n",
      "GLUCOSE                          int64\n",
      "BLOODPRESSURE                    int64\n",
      "SKINTHICKNESS                    int64\n",
      "INSULIN                          int64\n",
      "BMI                            float64\n",
      "DIABETESPEDIGREEFUNCTION       float64\n",
      "AGE                              int64\n",
      "OUTCOME                          int64\n",
      "NEW_AGE_CAT_old                  uint8\n",
      "NEW_AGE_CAT_young                uint8\n",
      "NEW_GLUCOSE_CAT_prediabetes      uint8\n",
      "NEW_BMI_RANGE_healthy            uint8\n",
      "NEW_BMI_RANGE_overweight         uint8\n",
      "NEW_BMI_RANGE_obese              uint8\n",
      "NEW_BLOODPRESSURE_hs1            uint8\n",
      "NEW_BLOODPRESSURE_hs2            uint8\n",
      "dtype: object\n",
      "\n",
      "\n",
      "##################### Head #####################\n",
      "   PREGNANCIES  GLUCOSE  BLOODPRESSURE  SKINTHICKNESS  INSULIN   BMI  \\\n",
      "0            6      148             72             35        0  33.6   \n",
      "1            1       85             66             29        0  26.6   \n",
      "2            8      183             64              0        0  23.3   \n",
      "3            1       89             66             23       94  28.1   \n",
      "4            0      137             40             35      168  43.1   \n",
      "\n",
      "   DIABETESPEDIGREEFUNCTION  AGE  OUTCOME  NEW_AGE_CAT_old  NEW_AGE_CAT_young  \\\n",
      "0                     0.627   50        1                0                  0   \n",
      "1                     0.351   31        0                0                  1   \n",
      "2                     0.672   32        1                0                  1   \n",
      "3                     0.167   21        0                0                  1   \n",
      "4                     2.288   33        1                0                  1   \n",
      "\n",
      "   NEW_GLUCOSE_CAT_prediabetes  NEW_BMI_RANGE_healthy  \\\n",
      "0                            1                      0   \n",
      "1                            0                      0   \n",
      "2                            1                      1   \n",
      "3                            0                      0   \n",
      "4                            0                      0   \n",
      "\n",
      "   NEW_BMI_RANGE_overweight  NEW_BMI_RANGE_obese  NEW_BLOODPRESSURE_hs1  \\\n",
      "0                         0                    1                      0   \n",
      "1                         1                    0                      0   \n",
      "2                         0                    0                      0   \n",
      "3                         1                    0                      0   \n",
      "4                         0                    1                      0   \n",
      "\n",
      "   NEW_BLOODPRESSURE_hs2  \n",
      "0                      0  \n",
      "1                      0  \n",
      "2                      0  \n",
      "3                      0  \n",
      "4                      0  \n",
      "\n",
      "\n",
      "##################### Tail #####################\n",
      "     PREGNANCIES  GLUCOSE  BLOODPRESSURE  SKINTHICKNESS  INSULIN   BMI  \\\n",
      "763           10      101             76             48      180  32.9   \n",
      "764            2      122             70             27        0  36.8   \n",
      "765            5      121             72             23      112  26.2   \n",
      "766            1      126             60              0        0  30.1   \n",
      "767            1       93             70             31        0  30.4   \n",
      "\n",
      "     DIABETESPEDIGREEFUNCTION  AGE  OUTCOME  NEW_AGE_CAT_old  \\\n",
      "763                     0.171   63        0                1   \n",
      "764                     0.340   27        0                0   \n",
      "765                     0.245   30        0                0   \n",
      "766                     0.349   47        1                0   \n",
      "767                     0.315   23        0                0   \n",
      "\n",
      "     NEW_AGE_CAT_young  NEW_GLUCOSE_CAT_prediabetes  NEW_BMI_RANGE_healthy  \\\n",
      "763                  0                            0                      0   \n",
      "764                  1                            0                      0   \n",
      "765                  1                            0                      0   \n",
      "766                  0                            0                      0   \n",
      "767                  1                            0                      0   \n",
      "\n",
      "     NEW_BMI_RANGE_overweight  NEW_BMI_RANGE_obese  NEW_BLOODPRESSURE_hs1  \\\n",
      "763                         0                    1                      0   \n",
      "764                         0                    1                      0   \n",
      "765                         1                    0                      0   \n",
      "766                         0                    1                      0   \n",
      "767                         0                    1                      0   \n",
      "\n",
      "     NEW_BLOODPRESSURE_hs2  \n",
      "763                      0  \n",
      "764                      0  \n",
      "765                      0  \n",
      "766                      0  \n",
      "767                      0  \n",
      "\n",
      "\n",
      "##################### NA #####################\n",
      "PREGNANCIES                    0\n",
      "GLUCOSE                        0\n",
      "BLOODPRESSURE                  0\n",
      "SKINTHICKNESS                  0\n",
      "INSULIN                        0\n",
      "BMI                            0\n",
      "DIABETESPEDIGREEFUNCTION       0\n",
      "AGE                            0\n",
      "OUTCOME                        0\n",
      "NEW_AGE_CAT_old                0\n",
      "NEW_AGE_CAT_young              0\n",
      "NEW_GLUCOSE_CAT_prediabetes    0\n",
      "NEW_BMI_RANGE_healthy          0\n",
      "NEW_BMI_RANGE_overweight       0\n",
      "NEW_BMI_RANGE_obese            0\n",
      "NEW_BLOODPRESSURE_hs1          0\n",
      "NEW_BLOODPRESSURE_hs2          0\n",
      "dtype: int64\n",
      "\n",
      "\n",
      "##################### Quantiles #####################\n",
      "                               0.00      0.05      0.50       0.95       0.99  \\\n",
      "PREGNANCIES                   0.000   0.00000    3.0000   10.00000   13.00000   \n",
      "GLUCOSE                       0.000  79.00000  117.0000  181.00000  196.00000   \n",
      "BLOODPRESSURE                 0.000  38.70000   72.0000   90.00000  106.00000   \n",
      "SKINTHICKNESS                 0.000   0.00000   23.0000   44.00000   51.33000   \n",
      "INSULIN                       0.000   0.00000   30.5000  293.00000  519.90000   \n",
      "BMI                           0.000  21.80000   32.0000   44.39500   50.75900   \n",
      "DIABETESPEDIGREEFUNCTION      0.078   0.14035    0.3725    1.13285    1.69833   \n",
      "AGE                          21.000  21.00000   29.0000   58.00000   67.00000   \n",
      "OUTCOME                       0.000   0.00000    0.0000    1.00000    1.00000   \n",
      "NEW_AGE_CAT_old               0.000   0.00000    0.0000    1.00000    1.00000   \n",
      "NEW_AGE_CAT_young             0.000   0.00000    1.0000    1.00000    1.00000   \n",
      "NEW_GLUCOSE_CAT_prediabetes   0.000   0.00000    0.0000    1.00000    1.00000   \n",
      "NEW_BMI_RANGE_healthy         0.000   0.00000    0.0000    1.00000    1.00000   \n",
      "NEW_BMI_RANGE_overweight      0.000   0.00000    0.0000    1.00000    1.00000   \n",
      "NEW_BMI_RANGE_obese           0.000   0.00000    1.0000    1.00000    1.00000   \n",
      "NEW_BLOODPRESSURE_hs1         0.000   0.00000    0.0000    1.00000    1.00000   \n",
      "NEW_BLOODPRESSURE_hs2         0.000   0.00000    0.0000    1.00000    1.00000   \n",
      "\n",
      "                               1.00  \n",
      "PREGNANCIES                   17.00  \n",
      "GLUCOSE                      199.00  \n",
      "BLOODPRESSURE                122.00  \n",
      "SKINTHICKNESS                 99.00  \n",
      "INSULIN                      846.00  \n",
      "BMI                           67.10  \n",
      "DIABETESPEDIGREEFUNCTION       2.42  \n",
      "AGE                           81.00  \n",
      "OUTCOME                        1.00  \n",
      "NEW_AGE_CAT_old                1.00  \n",
      "NEW_AGE_CAT_young              1.00  \n",
      "NEW_GLUCOSE_CAT_prediabetes    1.00  \n",
      "NEW_BMI_RANGE_healthy          1.00  \n",
      "NEW_BMI_RANGE_overweight       1.00  \n",
      "NEW_BMI_RANGE_obese            1.00  \n",
      "NEW_BLOODPRESSURE_hs1          1.00  \n",
      "NEW_BLOODPRESSURE_hs2          1.00  \n"
     ]
    }
   ],
   "source": [
    "check_df(df)"
   ]
  },
  {
   "cell_type": "code",
   "execution_count": 40,
   "metadata": {},
   "outputs": [],
   "source": [
    "df.columns = [col.upper() for col in df.columns]"
   ]
  },
  {
   "cell_type": "code",
   "execution_count": 41,
   "metadata": {},
   "outputs": [
    {
     "name": "stdout",
     "output_type": "stream",
     "text": [
      "Observations: 768\n",
      "Variables: 17\n",
      "categorical_cols: 9\n",
      "numerical_cols: 8\n",
      "cardinal_cols: 0\n",
      "nominal_cols: 9\n"
     ]
    }
   ],
   "source": [
    "# Son final değişken türleri\n",
    "categorical_cols, numerical_cols, cardinal_cols, ordinal_cols = grab_col_names(df,\n",
    "                                                                               categorical_threshold=5,\n",
    "                                                                               cardinal_threshold=20)"
   ]
  },
  {
   "cell_type": "code",
   "execution_count": 42,
   "metadata": {},
   "outputs": [],
   "source": [
    "categorical_cols = [col for col in categorical_cols if \"OUTCOME\" not in col]"
   ]
  },
  {
   "cell_type": "code",
   "execution_count": 43,
   "metadata": {},
   "outputs": [
    {
     "name": "stdout",
     "output_type": "stream",
     "text": [
      "PREGNANCIES False\n",
      "GLUCOSE False\n",
      "BLOODPRESSURE False\n",
      "SKINTHICKNESS False\n",
      "INSULIN True\n",
      "BMI False\n",
      "DIABETESPEDIGREEFUNCTION False\n",
      "AGE False\n"
     ]
    }
   ],
   "source": [
    "for col in numerical_cols:\n",
    "    print(col, check_outlier(dataframe=df,\n",
    "                             col_name = col,\n",
    "                             q1 = 0.05,\n",
    "                             q3 = 0.95))"
   ]
  },
  {
   "cell_type": "code",
   "execution_count": 44,
   "metadata": {},
   "outputs": [],
   "source": [
    "replace_with_thresholds(df, \"INSULIN\")"
   ]
  },
  {
   "cell_type": "code",
   "execution_count": 45,
   "metadata": {},
   "outputs": [],
   "source": [
    "# Standartlaştırma\n",
    "X_scaled = StandardScaler().fit_transform(df[numerical_cols])\n",
    "df[numerical_cols] = pd.DataFrame(X_scaled, columns=df[numerical_cols].columns)"
   ]
  },
  {
   "cell_type": "code",
   "execution_count": 46,
   "metadata": {},
   "outputs": [],
   "source": [
    "y = df[\"OUTCOME\"]\n",
    "X = df.drop([\"OUTCOME\"], axis=1)"
   ]
  },
  {
   "cell_type": "code",
   "execution_count": 47,
   "metadata": {},
   "outputs": [
    {
     "name": "stdout",
     "output_type": "stream",
     "text": [
      "##################### Shape #####################\n",
      "(768, 16)\n",
      "\n",
      "\n",
      "##################### Types #####################\n",
      "PREGNANCIES                    float64\n",
      "GLUCOSE                        float64\n",
      "BLOODPRESSURE                  float64\n",
      "SKINTHICKNESS                  float64\n",
      "INSULIN                        float64\n",
      "BMI                            float64\n",
      "DIABETESPEDIGREEFUNCTION       float64\n",
      "AGE                            float64\n",
      "NEW_AGE_CAT_OLD                  uint8\n",
      "NEW_AGE_CAT_YOUNG                uint8\n",
      "NEW_GLUCOSE_CAT_PREDIABETES      uint8\n",
      "NEW_BMI_RANGE_HEALTHY            uint8\n",
      "NEW_BMI_RANGE_OVERWEIGHT         uint8\n",
      "NEW_BMI_RANGE_OBESE              uint8\n",
      "NEW_BLOODPRESSURE_HS1            uint8\n",
      "NEW_BLOODPRESSURE_HS2            uint8\n",
      "dtype: object\n",
      "\n",
      "\n",
      "##################### Head #####################\n",
      "   PREGNANCIES   GLUCOSE  BLOODPRESSURE  SKINTHICKNESS   INSULIN       BMI  \\\n",
      "0     0.639947  0.848324       0.149641       0.907270 -0.787602  0.204013   \n",
      "1    -0.844885 -1.123396      -0.160546       0.530902 -0.787602 -0.684422   \n",
      "2     1.233880  1.943724      -0.263941      -1.288212 -0.787602 -1.103255   \n",
      "3    -0.844885 -0.998208      -0.160546       0.154533  0.217583 -0.494043   \n",
      "4    -1.141852  0.504055      -1.504687       0.907270  1.008900  1.409746   \n",
      "\n",
      "   DIABETESPEDIGREEFUNCTION       AGE  NEW_AGE_CAT_OLD  NEW_AGE_CAT_YOUNG  \\\n",
      "0                  0.468492  1.425995                0                  0   \n",
      "1                 -0.365061 -0.190672                0                  1   \n",
      "2                  0.604397 -0.105584                0                  1   \n",
      "3                 -0.920763 -1.041549                0                  1   \n",
      "4                  5.484909 -0.020496                0                  1   \n",
      "\n",
      "   NEW_GLUCOSE_CAT_PREDIABETES  NEW_BMI_RANGE_HEALTHY  \\\n",
      "0                            1                      0   \n",
      "1                            0                      0   \n",
      "2                            1                      1   \n",
      "3                            0                      0   \n",
      "4                            0                      0   \n",
      "\n",
      "   NEW_BMI_RANGE_OVERWEIGHT  NEW_BMI_RANGE_OBESE  NEW_BLOODPRESSURE_HS1  \\\n",
      "0                         0                    1                      0   \n",
      "1                         1                    0                      0   \n",
      "2                         0                    0                      0   \n",
      "3                         1                    0                      0   \n",
      "4                         0                    1                      0   \n",
      "\n",
      "   NEW_BLOODPRESSURE_HS2  \n",
      "0                      0  \n",
      "1                      0  \n",
      "2                      0  \n",
      "3                      0  \n",
      "4                      0  \n",
      "\n",
      "\n",
      "##################### Tail #####################\n",
      "     PREGNANCIES   GLUCOSE  BLOODPRESSURE  SKINTHICKNESS   INSULIN       BMI  \\\n",
      "763     1.827813 -0.622642       0.356432       1.722735  1.137221  0.115169   \n",
      "764    -0.547919  0.034598       0.046245       0.405445 -0.787602  0.610154   \n",
      "765     0.342981  0.003301       0.149641       0.154533  0.410066 -0.735190   \n",
      "766    -0.844885  0.159787      -0.470732      -1.288212 -0.787602 -0.240205   \n",
      "767    -0.844885 -0.873019       0.046245       0.656358 -0.787602 -0.202129   \n",
      "\n",
      "     DIABETESPEDIGREEFUNCTION       AGE  NEW_AGE_CAT_OLD  NEW_AGE_CAT_YOUNG  \\\n",
      "763                 -0.908682  2.532136                1                  0   \n",
      "764                 -0.398282 -0.531023                0                  1   \n",
      "765                 -0.685193 -0.275760                0                  1   \n",
      "766                 -0.371101  1.170732                0                  0   \n",
      "767                 -0.473785 -0.871374                0                  1   \n",
      "\n",
      "     NEW_GLUCOSE_CAT_PREDIABETES  NEW_BMI_RANGE_HEALTHY  \\\n",
      "763                            0                      0   \n",
      "764                            0                      0   \n",
      "765                            0                      0   \n",
      "766                            0                      0   \n",
      "767                            0                      0   \n",
      "\n",
      "     NEW_BMI_RANGE_OVERWEIGHT  NEW_BMI_RANGE_OBESE  NEW_BLOODPRESSURE_HS1  \\\n",
      "763                         0                    1                      0   \n",
      "764                         0                    1                      0   \n",
      "765                         1                    0                      0   \n",
      "766                         0                    1                      0   \n",
      "767                         0                    1                      0   \n",
      "\n",
      "     NEW_BLOODPRESSURE_HS2  \n",
      "763                      0  \n",
      "764                      0  \n",
      "765                      0  \n",
      "766                      0  \n",
      "767                      0  \n",
      "\n",
      "\n",
      "##################### NA #####################\n",
      "PREGNANCIES                    0\n",
      "GLUCOSE                        0\n",
      "BLOODPRESSURE                  0\n",
      "SKINTHICKNESS                  0\n",
      "INSULIN                        0\n",
      "BMI                            0\n",
      "DIABETESPEDIGREEFUNCTION       0\n",
      "AGE                            0\n",
      "NEW_AGE_CAT_OLD                0\n",
      "NEW_AGE_CAT_YOUNG              0\n",
      "NEW_GLUCOSE_CAT_PREDIABETES    0\n",
      "NEW_BMI_RANGE_HEALTHY          0\n",
      "NEW_BMI_RANGE_OVERWEIGHT       0\n",
      "NEW_BMI_RANGE_OBESE            0\n",
      "NEW_BLOODPRESSURE_HS1          0\n",
      "NEW_BLOODPRESSURE_HS2          0\n",
      "dtype: int64\n",
      "\n",
      "\n",
      "##################### Quantiles #####################\n",
      "                                 0.00      0.05      0.50      0.95      0.99  \\\n",
      "PREGNANCIES                 -1.141852 -1.141852 -0.250952  1.827813  2.718712   \n",
      "GLUCOSE                     -3.783654 -1.311179 -0.121888  1.881130  2.350587   \n",
      "BLOODPRESSURE               -3.572597 -1.571894  0.149641  1.080200  1.907364   \n",
      "SKINTHICKNESS               -1.288212 -1.288212  0.154533  1.471822  1.931619   \n",
      "INSULIN                     -0.787602 -0.787602 -0.461451  2.345582  2.614256   \n",
      "BMI                         -4.060474 -1.293634  0.000942  1.574106  2.381820   \n",
      "DIABETESPEDIGREEFUNCTION    -1.189553 -1.001249 -0.300128  1.996219  3.704036   \n",
      "AGE                         -1.041549 -1.041549 -0.360847  2.106697  2.872487   \n",
      "NEW_AGE_CAT_OLD              0.000000  0.000000  0.000000  1.000000  1.000000   \n",
      "NEW_AGE_CAT_YOUNG            0.000000  0.000000  1.000000  1.000000  1.000000   \n",
      "NEW_GLUCOSE_CAT_PREDIABETES  0.000000  0.000000  0.000000  1.000000  1.000000   \n",
      "NEW_BMI_RANGE_HEALTHY        0.000000  0.000000  0.000000  1.000000  1.000000   \n",
      "NEW_BMI_RANGE_OVERWEIGHT     0.000000  0.000000  0.000000  1.000000  1.000000   \n",
      "NEW_BMI_RANGE_OBESE          0.000000  0.000000  1.000000  1.000000  1.000000   \n",
      "NEW_BLOODPRESSURE_HS1        0.000000  0.000000  0.000000  1.000000  1.000000   \n",
      "NEW_BLOODPRESSURE_HS2        0.000000  0.000000  0.000000  1.000000  1.000000   \n",
      "\n",
      "                                 1.00  \n",
      "PREGNANCIES                  3.906578  \n",
      "GLUCOSE                      2.444478  \n",
      "BLOODPRESSURE                2.734528  \n",
      "SKINTHICKNESS                4.921866  \n",
      "INSULIN                      2.614256  \n",
      "BMI                          4.455807  \n",
      "DIABETESPEDIGREEFUNCTION     5.883565  \n",
      "AGE                          4.063716  \n",
      "NEW_AGE_CAT_OLD              1.000000  \n",
      "NEW_AGE_CAT_YOUNG            1.000000  \n",
      "NEW_GLUCOSE_CAT_PREDIABETES  1.000000  \n",
      "NEW_BMI_RANGE_HEALTHY        1.000000  \n",
      "NEW_BMI_RANGE_OVERWEIGHT     1.000000  \n",
      "NEW_BMI_RANGE_OBESE          1.000000  \n",
      "NEW_BLOODPRESSURE_HS1        1.000000  \n",
      "NEW_BLOODPRESSURE_HS2        1.000000  \n"
     ]
    }
   ],
   "source": [
    "check_df(X)"
   ]
  },
  {
   "cell_type": "code",
   "execution_count": 48,
   "metadata": {},
   "outputs": [],
   "source": [
    "def diabetes_data_prep(dataframe):\n",
    "    \"\"\"\n",
    "    The whole Data Preprocessing steps for Diabetes csv file. \n",
    "\n",
    "    Args:\n",
    "        dataframe (dataframe): The dataframe from which variables names are to be retrieved.\n",
    "\n",
    "    Returns:\n",
    "        X (dataframe): Return the whole dataset without target column after data preprocessing\n",
    "        y (list): Return the target column\n",
    "    \"\"\"\n",
    "    dataframe.columns = [col.upper() for col in dataframe.columns]\n",
    "\n",
    "    # Glucose\n",
    "    dataframe['NEW_GLUCOSE_CAT'] = pd.cut(x=dataframe['GLUCOSE'], bins=[-1, 139, 200], labels=[\"normal\", \"prediabetes\"])\n",
    "\n",
    "    # Age\n",
    "    dataframe.loc[(dataframe['AGE'] < 35), \"NEW_AGE_CAT\"] = 'young'\n",
    "    dataframe.loc[(dataframe['AGE'] >= 35) & (dataframe['AGE'] <= 55), \"NEW_AGE_CAT\"] = 'middleage'\n",
    "    dataframe.loc[(dataframe['AGE'] > 55), \"NEW_AGE_CAT\"] = 'old'\n",
    "\n",
    "    # BMI\n",
    "    dataframe['NEW_BMI_RANGE'] = pd.cut(x=dataframe['BMI'], bins=[-1, 18.5, 24.9, 29.9, 100],\n",
    "                                        labels=[\"underweight\", \"healty\", \"overweight\", \"obese\"])\n",
    "\n",
    "    # BloodPressure\n",
    "    dataframe['NEW_BLOODPRESSURE'] = pd.cut(x=dataframe['BLOODPRESSURE'], bins=[-1, 79, 89, 123],\n",
    "                                            labels=[\"normal\", \"hs1\", \"hs2\"])\n",
    "\n",
    "    categorical_cols, numerical_cols, cardinal_cols, nominal_cols = grab_col_names(dataframe, categorical_threshold=5, cardinal_threshold=20)\n",
    "\n",
    "    categorical_cols = [col for col in categorical_cols if \"OUTCOME\" not in col]\n",
    "\n",
    "    df = one_hot_encoder(dataframe, categorical_cols, drop_first=True)\n",
    "\n",
    "    df.columns = [col.upper() for col in df.columns]\n",
    "\n",
    "    print(\"\\n\")\n",
    "    print(\"After Feature Extraction and Encoding Process \\n\")\n",
    "    \n",
    "    categorical_cols, numerical_cols, cardinal_cols, nominal_cols = grab_col_names(df, categorical_threshold=5, cardinal_threshold=20)\n",
    "\n",
    "    categorical_cols = [col for col in categorical_cols if \"OUTCOME\" not in col]\n",
    "\n",
    "    replace_with_thresholds(df, \"INSULIN\")\n",
    "\n",
    "    X_scaled = StandardScaler().fit_transform(df[numerical_cols])\n",
    "    df[numerical_cols] = pd.DataFrame(X_scaled, columns=df[numerical_cols].columns)\n",
    "\n",
    "    y = df[\"OUTCOME\"]\n",
    "    X = df.drop([\"OUTCOME\"], axis=1)\n",
    "\n",
    "    return X, y"
   ]
  },
  {
   "cell_type": "code",
   "execution_count": 49,
   "metadata": {},
   "outputs": [],
   "source": [
    "df = pd.read_csv(\"datasets/diabetes.csv\")"
   ]
  },
  {
   "cell_type": "code",
   "execution_count": 50,
   "metadata": {},
   "outputs": [
    {
     "name": "stdout",
     "output_type": "stream",
     "text": [
      "##################### Shape #####################\n",
      "(768, 9)\n",
      "\n",
      "\n",
      "##################### Types #####################\n",
      "Pregnancies                   int64\n",
      "Glucose                       int64\n",
      "BloodPressure                 int64\n",
      "SkinThickness                 int64\n",
      "Insulin                       int64\n",
      "BMI                         float64\n",
      "DiabetesPedigreeFunction    float64\n",
      "Age                           int64\n",
      "Outcome                       int64\n",
      "dtype: object\n",
      "\n",
      "\n",
      "##################### Head #####################\n",
      "   Pregnancies  Glucose  BloodPressure  SkinThickness  Insulin   BMI  \\\n",
      "0            6      148             72             35        0  33.6   \n",
      "1            1       85             66             29        0  26.6   \n",
      "2            8      183             64              0        0  23.3   \n",
      "3            1       89             66             23       94  28.1   \n",
      "4            0      137             40             35      168  43.1   \n",
      "\n",
      "   DiabetesPedigreeFunction  Age  Outcome  \n",
      "0                     0.627   50        1  \n",
      "1                     0.351   31        0  \n",
      "2                     0.672   32        1  \n",
      "3                     0.167   21        0  \n",
      "4                     2.288   33        1  \n",
      "\n",
      "\n",
      "##################### Tail #####################\n",
      "     Pregnancies  Glucose  BloodPressure  SkinThickness  Insulin   BMI  \\\n",
      "763           10      101             76             48      180  32.9   \n",
      "764            2      122             70             27        0  36.8   \n",
      "765            5      121             72             23      112  26.2   \n",
      "766            1      126             60              0        0  30.1   \n",
      "767            1       93             70             31        0  30.4   \n",
      "\n",
      "     DiabetesPedigreeFunction  Age  Outcome  \n",
      "763                     0.171   63        0  \n",
      "764                     0.340   27        0  \n",
      "765                     0.245   30        0  \n",
      "766                     0.349   47        1  \n",
      "767                     0.315   23        0  \n",
      "\n",
      "\n",
      "##################### NA #####################\n",
      "Pregnancies                 0\n",
      "Glucose                     0\n",
      "BloodPressure               0\n",
      "SkinThickness               0\n",
      "Insulin                     0\n",
      "BMI                         0\n",
      "DiabetesPedigreeFunction    0\n",
      "Age                         0\n",
      "Outcome                     0\n",
      "dtype: int64\n",
      "\n",
      "\n",
      "##################### Quantiles #####################\n",
      "                            0.00      0.05      0.50       0.95       0.99  \\\n",
      "Pregnancies                0.000   0.00000    3.0000   10.00000   13.00000   \n",
      "Glucose                    0.000  79.00000  117.0000  181.00000  196.00000   \n",
      "BloodPressure              0.000  38.70000   72.0000   90.00000  106.00000   \n",
      "SkinThickness              0.000   0.00000   23.0000   44.00000   51.33000   \n",
      "Insulin                    0.000   0.00000   30.5000  293.00000  519.90000   \n",
      "BMI                        0.000  21.80000   32.0000   44.39500   50.75900   \n",
      "DiabetesPedigreeFunction   0.078   0.14035    0.3725    1.13285    1.69833   \n",
      "Age                       21.000  21.00000   29.0000   58.00000   67.00000   \n",
      "Outcome                    0.000   0.00000    0.0000    1.00000    1.00000   \n",
      "\n",
      "                            1.00  \n",
      "Pregnancies                17.00  \n",
      "Glucose                   199.00  \n",
      "BloodPressure             122.00  \n",
      "SkinThickness              99.00  \n",
      "Insulin                   846.00  \n",
      "BMI                        67.10  \n",
      "DiabetesPedigreeFunction    2.42  \n",
      "Age                        81.00  \n",
      "Outcome                     1.00  \n"
     ]
    }
   ],
   "source": [
    "check_df(df)"
   ]
  },
  {
   "cell_type": "code",
   "execution_count": 51,
   "metadata": {},
   "outputs": [
    {
     "name": "stdout",
     "output_type": "stream",
     "text": [
      "Observations: 768\n",
      "Variables: 13\n",
      "categorical_cols: 5\n",
      "numerical_cols: 8\n",
      "cardinal_cols: 0\n",
      "nominal_cols: 4\n",
      "\n",
      "\n",
      "After Feature Extraction and Encoding Process \n",
      "\n",
      "Observations: 768\n",
      "Variables: 17\n",
      "categorical_cols: 9\n",
      "numerical_cols: 8\n",
      "cardinal_cols: 0\n",
      "nominal_cols: 9\n"
     ]
    }
   ],
   "source": [
    "X, y = diabetes_data_prep(df)"
   ]
  },
  {
   "cell_type": "code",
   "execution_count": 52,
   "metadata": {},
   "outputs": [
    {
     "name": "stdout",
     "output_type": "stream",
     "text": [
      "##################### Shape #####################\n",
      "(768, 16)\n",
      "\n",
      "\n",
      "##################### Types #####################\n",
      "PREGNANCIES                    float64\n",
      "GLUCOSE                        float64\n",
      "BLOODPRESSURE                  float64\n",
      "SKINTHICKNESS                  float64\n",
      "INSULIN                        float64\n",
      "BMI                            float64\n",
      "DIABETESPEDIGREEFUNCTION       float64\n",
      "AGE                            float64\n",
      "NEW_AGE_CAT_OLD                  uint8\n",
      "NEW_AGE_CAT_YOUNG                uint8\n",
      "NEW_GLUCOSE_CAT_PREDIABETES      uint8\n",
      "NEW_BMI_RANGE_HEALTY             uint8\n",
      "NEW_BMI_RANGE_OVERWEIGHT         uint8\n",
      "NEW_BMI_RANGE_OBESE              uint8\n",
      "NEW_BLOODPRESSURE_HS1            uint8\n",
      "NEW_BLOODPRESSURE_HS2            uint8\n",
      "dtype: object\n",
      "\n",
      "\n",
      "##################### Head #####################\n",
      "   PREGNANCIES   GLUCOSE  BLOODPRESSURE  SKINTHICKNESS   INSULIN       BMI  \\\n",
      "0     0.639947  0.848324       0.149641       0.907270 -0.787602  0.204013   \n",
      "1    -0.844885 -1.123396      -0.160546       0.530902 -0.787602 -0.684422   \n",
      "2     1.233880  1.943724      -0.263941      -1.288212 -0.787602 -1.103255   \n",
      "3    -0.844885 -0.998208      -0.160546       0.154533  0.217583 -0.494043   \n",
      "4    -1.141852  0.504055      -1.504687       0.907270  1.008900  1.409746   \n",
      "\n",
      "   DIABETESPEDIGREEFUNCTION       AGE  NEW_AGE_CAT_OLD  NEW_AGE_CAT_YOUNG  \\\n",
      "0                  0.468492  1.425995                0                  0   \n",
      "1                 -0.365061 -0.190672                0                  1   \n",
      "2                  0.604397 -0.105584                0                  1   \n",
      "3                 -0.920763 -1.041549                0                  1   \n",
      "4                  5.484909 -0.020496                0                  1   \n",
      "\n",
      "   NEW_GLUCOSE_CAT_PREDIABETES  NEW_BMI_RANGE_HEALTY  \\\n",
      "0                            1                     0   \n",
      "1                            0                     0   \n",
      "2                            1                     1   \n",
      "3                            0                     0   \n",
      "4                            0                     0   \n",
      "\n",
      "   NEW_BMI_RANGE_OVERWEIGHT  NEW_BMI_RANGE_OBESE  NEW_BLOODPRESSURE_HS1  \\\n",
      "0                         0                    1                      0   \n",
      "1                         1                    0                      0   \n",
      "2                         0                    0                      0   \n",
      "3                         1                    0                      0   \n",
      "4                         0                    1                      0   \n",
      "\n",
      "   NEW_BLOODPRESSURE_HS2  \n",
      "0                      0  \n",
      "1                      0  \n",
      "2                      0  \n",
      "3                      0  \n",
      "4                      0  \n",
      "\n",
      "\n",
      "##################### Tail #####################\n",
      "     PREGNANCIES   GLUCOSE  BLOODPRESSURE  SKINTHICKNESS   INSULIN       BMI  \\\n",
      "763     1.827813 -0.622642       0.356432       1.722735  1.137221  0.115169   \n",
      "764    -0.547919  0.034598       0.046245       0.405445 -0.787602  0.610154   \n",
      "765     0.342981  0.003301       0.149641       0.154533  0.410066 -0.735190   \n",
      "766    -0.844885  0.159787      -0.470732      -1.288212 -0.787602 -0.240205   \n",
      "767    -0.844885 -0.873019       0.046245       0.656358 -0.787602 -0.202129   \n",
      "\n",
      "     DIABETESPEDIGREEFUNCTION       AGE  NEW_AGE_CAT_OLD  NEW_AGE_CAT_YOUNG  \\\n",
      "763                 -0.908682  2.532136                1                  0   \n",
      "764                 -0.398282 -0.531023                0                  1   \n",
      "765                 -0.685193 -0.275760                0                  1   \n",
      "766                 -0.371101  1.170732                0                  0   \n",
      "767                 -0.473785 -0.871374                0                  1   \n",
      "\n",
      "     NEW_GLUCOSE_CAT_PREDIABETES  NEW_BMI_RANGE_HEALTY  \\\n",
      "763                            0                     0   \n",
      "764                            0                     0   \n",
      "765                            0                     0   \n",
      "766                            0                     0   \n",
      "767                            0                     0   \n",
      "\n",
      "     NEW_BMI_RANGE_OVERWEIGHT  NEW_BMI_RANGE_OBESE  NEW_BLOODPRESSURE_HS1  \\\n",
      "763                         0                    1                      0   \n",
      "764                         0                    1                      0   \n",
      "765                         1                    0                      0   \n",
      "766                         0                    1                      0   \n",
      "767                         0                    1                      0   \n",
      "\n",
      "     NEW_BLOODPRESSURE_HS2  \n",
      "763                      0  \n",
      "764                      0  \n",
      "765                      0  \n",
      "766                      0  \n",
      "767                      0  \n",
      "\n",
      "\n",
      "##################### NA #####################\n",
      "PREGNANCIES                    0\n",
      "GLUCOSE                        0\n",
      "BLOODPRESSURE                  0\n",
      "SKINTHICKNESS                  0\n",
      "INSULIN                        0\n",
      "BMI                            0\n",
      "DIABETESPEDIGREEFUNCTION       0\n",
      "AGE                            0\n",
      "NEW_AGE_CAT_OLD                0\n",
      "NEW_AGE_CAT_YOUNG              0\n",
      "NEW_GLUCOSE_CAT_PREDIABETES    0\n",
      "NEW_BMI_RANGE_HEALTY           0\n",
      "NEW_BMI_RANGE_OVERWEIGHT       0\n",
      "NEW_BMI_RANGE_OBESE            0\n",
      "NEW_BLOODPRESSURE_HS1          0\n",
      "NEW_BLOODPRESSURE_HS2          0\n",
      "dtype: int64\n",
      "\n",
      "\n",
      "##################### Quantiles #####################\n",
      "                                 0.00      0.05      0.50      0.95      0.99  \\\n",
      "PREGNANCIES                 -1.141852 -1.141852 -0.250952  1.827813  2.718712   \n",
      "GLUCOSE                     -3.783654 -1.311179 -0.121888  1.881130  2.350587   \n",
      "BLOODPRESSURE               -3.572597 -1.571894  0.149641  1.080200  1.907364   \n",
      "SKINTHICKNESS               -1.288212 -1.288212  0.154533  1.471822  1.931619   \n",
      "INSULIN                     -0.787602 -0.787602 -0.461451  2.345582  2.614256   \n",
      "BMI                         -4.060474 -1.293634  0.000942  1.574106  2.381820   \n",
      "DIABETESPEDIGREEFUNCTION    -1.189553 -1.001249 -0.300128  1.996219  3.704036   \n",
      "AGE                         -1.041549 -1.041549 -0.360847  2.106697  2.872487   \n",
      "NEW_AGE_CAT_OLD              0.000000  0.000000  0.000000  1.000000  1.000000   \n",
      "NEW_AGE_CAT_YOUNG            0.000000  0.000000  1.000000  1.000000  1.000000   \n",
      "NEW_GLUCOSE_CAT_PREDIABETES  0.000000  0.000000  0.000000  1.000000  1.000000   \n",
      "NEW_BMI_RANGE_HEALTY         0.000000  0.000000  0.000000  1.000000  1.000000   \n",
      "NEW_BMI_RANGE_OVERWEIGHT     0.000000  0.000000  0.000000  1.000000  1.000000   \n",
      "NEW_BMI_RANGE_OBESE          0.000000  0.000000  1.000000  1.000000  1.000000   \n",
      "NEW_BLOODPRESSURE_HS1        0.000000  0.000000  0.000000  1.000000  1.000000   \n",
      "NEW_BLOODPRESSURE_HS2        0.000000  0.000000  0.000000  1.000000  1.000000   \n",
      "\n",
      "                                 1.00  \n",
      "PREGNANCIES                  3.906578  \n",
      "GLUCOSE                      2.444478  \n",
      "BLOODPRESSURE                2.734528  \n",
      "SKINTHICKNESS                4.921866  \n",
      "INSULIN                      2.614256  \n",
      "BMI                          4.455807  \n",
      "DIABETESPEDIGREEFUNCTION     5.883565  \n",
      "AGE                          4.063716  \n",
      "NEW_AGE_CAT_OLD              1.000000  \n",
      "NEW_AGE_CAT_YOUNG            1.000000  \n",
      "NEW_GLUCOSE_CAT_PREDIABETES  1.000000  \n",
      "NEW_BMI_RANGE_HEALTY         1.000000  \n",
      "NEW_BMI_RANGE_OVERWEIGHT     1.000000  \n",
      "NEW_BMI_RANGE_OBESE          1.000000  \n",
      "NEW_BLOODPRESSURE_HS1        1.000000  \n",
      "NEW_BLOODPRESSURE_HS2        1.000000  \n"
     ]
    }
   ],
   "source": [
    "check_df(X)"
   ]
  },
  {
   "cell_type": "markdown",
   "metadata": {},
   "source": [
    "## Base Models\n",
    "\n",
    "- Research aşamasında da yer alabilir, veya Pipeline içerisinde raporlama kısmında da yer alabilir. Ama genelde Pipeline içerisinde yer almaması gereken bir bölümdür.\n",
    "- Research aşamasında temel bazı modellere bakılır. Bu modeller içerisinde bu problemi çözmek için kullanabilecek olanlar arasından 1 veya 1'den fazla model seçilir ve onların üzerinde hiper parametre optimizasyonu  gerçekleştirilir.\n",
    "  - LightGBM (Gradient temelli) gibi modeller genellikle en iyi modeller olarak seçilir. "
   ]
  },
  {
   "cell_type": "code",
   "execution_count": 53,
   "metadata": {},
   "outputs": [],
   "source": [
    "def base_models(X,y, scoring=\"roc_auc\"):\n",
    "    \"\"\"\n",
    "    Print the results of specified models without any data processing steps.\n",
    "\n",
    "    Args:\n",
    "        X (dataframe): Return the whole dataset without target column after data preprocessing\n",
    "        y (list): Return the target column\n",
    "        scoring (str, optional): It contains the information of what type of model results are desired. Defaults to \"roc_auc\".\n",
    "    \"\"\"\n",
    "    print(\"Base Models .... \\n\")\n",
    "    classifiers = [(\"LR\", LogisticRegression()),\n",
    "                   (\"KNN\",KNeighborsClassifier()),\n",
    "                   (\"SVC\",SVC()),\n",
    "                   (\"CART\",DecisionTreeClassifier()),\n",
    "                   (\"RF\",RandomForestClassifier()),\n",
    "                   (\"Adaboost\",AdaBoostClassifier()),\n",
    "                   (\"GBM\",GradientBoostingClassifier()),\n",
    "                   (\"XGBoost\",XGBClassifier(use_label_encoder=False, eval_metric = \"logloss\")),\n",
    "                   (\"LightGBM\",LGBMClassifier()),\n",
    "                   (\"CatBoost\",CatBoostClassifier(verbose=False))]\n",
    "    \n",
    "    for name, classifier in classifiers:\n",
    "        cv_results = cross_validate(classifier, X,y, cv=3, scoring=scoring)\n",
    "        print(f\"{scoring}: {round(cv_results['test_score'].mean(), 4)} ({name}) \")"
   ]
  },
  {
   "cell_type": "code",
   "execution_count": 54,
   "metadata": {},
   "outputs": [
    {
     "name": "stdout",
     "output_type": "stream",
     "text": [
      "Base Models .... \n",
      "\n",
      "accuracy: 0.7604 (LR) \n",
      "accuracy: 0.7617 (KNN) \n",
      "accuracy: 0.7656 (SVC) \n",
      "accuracy: 0.6784 (CART) \n",
      "accuracy: 0.763 (RF) \n",
      "accuracy: 0.7578 (Adaboost) \n",
      "accuracy: 0.75 (GBM) \n",
      "accuracy: 0.7448 (XGBoost) \n",
      "accuracy: 0.7383 (LightGBM) \n",
      "accuracy: 0.7591 (CatBoost) \n"
     ]
    }
   ],
   "source": [
    "base_models(X,y, scoring=\"accuracy\")"
   ]
  },
  {
   "cell_type": "markdown",
   "metadata": {},
   "source": [
    "## Automated Hyperparamater Optimization"
   ]
  },
  {
   "cell_type": "code",
   "execution_count": 55,
   "metadata": {},
   "outputs": [],
   "source": [
    "knn_params = {\"n_neighbors\": range(2, 50)}"
   ]
  },
  {
   "cell_type": "code",
   "execution_count": 56,
   "metadata": {},
   "outputs": [],
   "source": [
    "cart_params = {'max_depth': range(1, 20),\n",
    "               \"min_samples_split\": range(2, 30)}"
   ]
  },
  {
   "cell_type": "code",
   "execution_count": 57,
   "metadata": {},
   "outputs": [],
   "source": [
    "rf_params = {\"max_depth\": [8, 15, None],\n",
    "             \"max_features\": [5, 7, \"auto\"],\n",
    "             \"min_samples_split\": [15, 20],\n",
    "             \"n_estimators\": [200, 300]}"
   ]
  },
  {
   "cell_type": "code",
   "execution_count": 58,
   "metadata": {},
   "outputs": [],
   "source": [
    "xgboost_params = {\"learning_rate\": [0.1, 0.01],\n",
    "                  \"max_depth\": [5, 8],\n",
    "                  \"n_estimators\": [100, 200]}"
   ]
  },
  {
   "cell_type": "code",
   "execution_count": 59,
   "metadata": {},
   "outputs": [],
   "source": [
    "lightgbm_params = {\"learning_rate\": [0.01, 0.1],\n",
    "                   \"n_estimators\": [300, 500]}"
   ]
  },
  {
   "cell_type": "code",
   "execution_count": 60,
   "metadata": {},
   "outputs": [],
   "source": [
    "classifiers = [('KNN', KNeighborsClassifier(), knn_params),\n",
    "               (\"CART\", DecisionTreeClassifier(), cart_params),\n",
    "               (\"RF\", RandomForestClassifier(), rf_params),\n",
    "               ('XGBoost', XGBClassifier(use_label_encoder=False, eval_metric='logloss'), xgboost_params),\n",
    "               ('LightGBM', LGBMClassifier(), lightgbm_params)]"
   ]
  },
  {
   "cell_type": "code",
   "execution_count": 61,
   "metadata": {},
   "outputs": [],
   "source": [
    "def hyperparamater_optimization(X,y,cv=3, scoring=\"roc_auc\"):\n",
    "    \"\"\"\n",
    "    Return the best models after hyperparameter optimization process\n",
    "\n",
    "    Args:\n",
    "        X (dataframe): Return the whole dataset without target column after data preprocessing\n",
    "        y (list): Return the target column\n",
    "        cv (int, optional): The number for cross validation. Defaults to 3.\n",
    "        scoring (str, optional): It contains the information of what type of model results are desired. Defaults to \"roc_auc\".\n",
    "\n",
    "    Returns:\n",
    "        _type_: _description_\n",
    "    \"\"\"\n",
    "    print(\"Hyperparameter Optimization ...\")\n",
    "    best_models= {}\n",
    "    for name, classifier, params in classifiers:\n",
    "        print(f\"########## {name} ##########\")\n",
    "        cv_results = cross_validate(estimator=classifier,\n",
    "                                    X=X,\n",
    "                                    y=y,\n",
    "                                    cv=cv,\n",
    "                                    scoring=scoring)\n",
    "        print(f\"{scoring} (Before): {round(cv_results['test_score'].mean(), 4)}\")\n",
    "        \n",
    "        gs_best = GridSearchCV(estimator=classifier,\n",
    "                               param_grid=params, \n",
    "                               cv=cv, \n",
    "                               n_jobs=-1, \n",
    "                               verbose= False).fit(X,y)\n",
    "        final_model = classifier.set_params(**gs_best.best_params_)\n",
    "        \n",
    "        cv_results= cross_validate(estimator=final_model,\n",
    "                                   X=X,\n",
    "                                   y=y,\n",
    "                                   cv=cv,\n",
    "                                   scoring=scoring)\n",
    "        \n",
    "        print(f\"{scoring} (After): {round(cv_results['test_score'].mean(), 4)}\")\n",
    "        print(f\"{name} best params: {gs_best.best_params_}\", end=\"\\n\\n\")\n",
    "        best_models[name] = final_model\n",
    "    return best_models"
   ]
  },
  {
   "cell_type": "code",
   "execution_count": 62,
   "metadata": {},
   "outputs": [
    {
     "name": "stdout",
     "output_type": "stream",
     "text": [
      "Hyperparameter Optimization ...\n",
      "########## KNN ##########\n",
      "roc_auc (Before): 0.791\n",
      "roc_auc (After): 0.8211\n",
      "KNN best params: {'n_neighbors': 20}\n",
      "\n",
      "########## CART ##########\n",
      "roc_auc (Before): 0.6527\n",
      "roc_auc (After): 0.7943\n",
      "CART best params: {'max_depth': 6, 'min_samples_split': 23}\n",
      "\n",
      "########## RF ##########\n",
      "roc_auc (Before): 0.8264\n",
      "roc_auc (After): 0.8333\n",
      "RF best params: {'max_depth': 15, 'max_features': 7, 'min_samples_split': 15, 'n_estimators': 200}\n",
      "\n",
      "########## XGBoost ##########\n",
      "roc_auc (Before): 0.8015\n",
      "roc_auc (After): 0.8179\n",
      "XGBoost best params: {'learning_rate': 0.01, 'max_depth': 5, 'n_estimators': 200}\n",
      "\n",
      "########## LightGBM ##########\n",
      "roc_auc (Before): 0.807\n",
      "roc_auc (After): 0.8185\n",
      "LightGBM best params: {'learning_rate': 0.01, 'n_estimators': 300}\n",
      "\n"
     ]
    }
   ],
   "source": [
    "best_models = hyperparamater_optimization(X,y)"
   ]
  },
  {
   "cell_type": "markdown",
   "metadata": {},
   "source": [
    "## Stacking & Ensemble Learning\n",
    "\n",
    "- Birden fazla modeli bir arada kullanmaya dayanmaktadır.\n",
    "- Random Forest içerisinde birden fazla ağacın farklı olarak çalışıp sonrasında tek bir ağaç gibi davranmaları bagging olayına örnekti. Burada ise, sadece Random Forest değil, başka algoritmalarla birlikte ortak bir sonuç oluşturulur.\n",
    "-  Bir algoritmanın kendi içindeki çalışma prensibi yerine, birden fazla algoritmanın bir araya gelerek bu işlemleri yapmasına Stacking | Ensemble | Meta Learning denir.\n",
    "-  Tahmin performansının güçlenmesi beklenir."
   ]
  },
  {
   "cell_type": "code",
   "execution_count": 63,
   "metadata": {},
   "outputs": [],
   "source": [
    "def voting_classifier(best_models, X, y):\n",
    "    \"\"\"\n",
    "    Calculate and return the voting classification by using top 3 best models for this dataset.\n",
    "    \n",
    "    Args:\n",
    "        best_models (dictionary): The dictionary of best model with hyperparameter values.\n",
    "        X (dataframe): Return the whole dataset without target column after data preprocessing.\n",
    "        y (list): Return the target column.\n",
    "    \n",
    "    \"\"\"\n",
    "    print(\"Voting Classifier...\")\n",
    "    \n",
    "    \"\"\" Soft Voting / Majority Rule Classifier for unfitted estimators\n",
    "    \n",
    "    Hard Voting : Uses predicted class labels for majority rule voting\n",
    "        - Diyelim ki 3 model arasından 2'si 1 olarak tahmin etti, birisi 0 olarak tahmin etti. O zaman hard voting kuralına göre çoğunluk ele alınır ve tahmin sonucu 1 olarak alınır.\n",
    "    Soft Voting : Uses predicted class labels based on the argmax of the sums of the predicted probabilities\n",
    "        - Sınıf gerçekleşme olasılıkları üzerinden oylama yapılır.\n",
    "    \n",
    "    \"\"\"\n",
    "    voting_clf = VotingClassifier(estimators=[('KNN', best_models[\"KNN\"]),\n",
    "                                              ('RF', best_models[\"RF\"]), # bagging'e dayalı\n",
    "                                              ('LightGBM', best_models[\"LightGBM\"])], #boosting'e dayalı\n",
    "                                  voting='soft').fit(X, y)\n",
    "\n",
    "    cv_results = cross_validate(voting_clf, X, y, cv=3, scoring=[\"accuracy\", \"f1\", \"roc_auc\"])\n",
    "    print(f\"Accuracy: {cv_results['test_accuracy'].mean()}\")\n",
    "    print(f\"F1Score: {cv_results['test_f1'].mean()}\")\n",
    "    print(f\"ROC_AUC: {cv_results['test_roc_auc'].mean()}\")\n",
    "    return voting_clf"
   ]
  },
  {
   "cell_type": "code",
   "execution_count": 64,
   "metadata": {},
   "outputs": [
    {
     "name": "stdout",
     "output_type": "stream",
     "text": [
      "Voting Classifier...\n",
      "Accuracy: 0.7669270833333334\n",
      "F1Score: 0.6313041758833416\n",
      "ROC_AUC: 0.8358322898147271\n"
     ]
    }
   ],
   "source": [
    "voting_clf = voting_classifier(best_models, X, y)"
   ]
  },
  {
   "cell_type": "markdown",
   "metadata": {},
   "source": [
    "## Prediction for a New Observation"
   ]
  },
  {
   "cell_type": "code",
   "execution_count": 65,
   "metadata": {},
   "outputs": [
    {
     "data": {
      "text/plain": [
       "array([1], dtype=int64)"
      ]
     },
     "execution_count": 65,
     "metadata": {},
     "output_type": "execute_result"
    }
   ],
   "source": [
    "X.columns\n",
    "random_user = X.sample(1, random_state=45)\n",
    "voting_clf.predict(random_user)"
   ]
  },
  {
   "cell_type": "code",
   "execution_count": 66,
   "metadata": {},
   "outputs": [
    {
     "data": {
      "text/plain": [
       "['voting_clf2.pkl']"
      ]
     },
     "execution_count": 66,
     "metadata": {},
     "output_type": "execute_result"
    }
   ],
   "source": [
    "joblib.dump(voting_clf, \"voting_clf2.pkl\")"
   ]
  },
  {
   "cell_type": "code",
   "execution_count": 67,
   "metadata": {},
   "outputs": [
    {
     "data": {
      "text/plain": [
       "array([1], dtype=int64)"
      ]
     },
     "execution_count": 67,
     "metadata": {},
     "output_type": "execute_result"
    }
   ],
   "source": [
    "new_model = joblib.load(\"voting_clf2.pkl\")\n",
    "new_model.predict(random_user)"
   ]
  },
  {
   "cell_type": "markdown",
   "metadata": {},
   "source": [
    "## Pipeline Main Function\n",
    "\n",
    "- ***config.py*** : Konfigurasyon dosyası: \n",
    "  - Veri setinin path'i yer alabilir. Dışarıdan ayarlanan ifadeler burada olabilir.\n",
    "  - Oluşturulan parametre ifadeleri burada yer alabilir.\n",
    "    - knn_params, cart_params, vb.\n",
    "    - output path\n",
    "    - log tutulabilir. (geçmiş bilgiler)"
   ]
  },
  {
   "cell_type": "code",
   "execution_count": 68,
   "metadata": {},
   "outputs": [
    {
     "name": "stdout",
     "output_type": "stream",
     "text": [
      "Process started...\n",
      "Observations: 768\n",
      "Variables: 13\n",
      "categorical_cols: 5\n",
      "numerical_cols: 8\n",
      "cardinal_cols: 0\n",
      "nominal_cols: 4\n",
      "\n",
      "\n",
      "After Feature Extraction and Encoding Process \n",
      "\n",
      "Observations: 768\n",
      "Variables: 17\n",
      "categorical_cols: 9\n",
      "numerical_cols: 8\n",
      "cardinal_cols: 0\n",
      "nominal_cols: 9\n",
      "\n",
      "\n",
      "Base Models .... \n",
      "\n",
      "roc_auc: 0.8409 (LR) \n",
      "roc_auc: 0.791 (KNN) \n",
      "roc_auc: 0.8355 (SVC) \n",
      "roc_auc: 0.6615 (CART) \n",
      "roc_auc: 0.8314 (RF) \n",
      "roc_auc: 0.8196 (Adaboost) \n",
      "roc_auc: 0.8238 (GBM) \n",
      "roc_auc: 0.8015 (XGBoost) \n",
      "roc_auc: 0.807 (LightGBM) \n",
      "roc_auc: 0.8349 (CatBoost) \n",
      "\n",
      "\n",
      "Hyperparameter Optimization ...\n",
      "########## KNN ##########\n",
      "roc_auc (Before): 0.8211\n",
      "roc_auc (After): 0.8211\n",
      "KNN best params: {'n_neighbors': 20}\n",
      "\n",
      "########## CART ##########\n",
      "roc_auc (Before): 0.7943\n",
      "roc_auc (After): 0.7943\n",
      "CART best params: {'max_depth': 6, 'min_samples_split': 23}\n",
      "\n",
      "########## RF ##########\n",
      "roc_auc (Before): 0.835\n",
      "roc_auc (After): 0.8358\n",
      "RF best params: {'max_depth': 15, 'max_features': 5, 'min_samples_split': 15, 'n_estimators': 300}\n",
      "\n",
      "########## XGBoost ##########\n",
      "roc_auc (Before): 0.8179\n",
      "roc_auc (After): 0.8179\n",
      "XGBoost best params: {'learning_rate': 0.01, 'max_depth': 5, 'n_estimators': 200}\n",
      "\n",
      "########## LightGBM ##########\n",
      "roc_auc (Before): 0.8185\n",
      "roc_auc (After): 0.8185\n",
      "LightGBM best params: {'learning_rate': 0.01, 'n_estimators': 300}\n",
      "\n",
      "\n",
      "\n",
      "Voting Classifier...\n",
      "Accuracy: 0.7721354166666666\n",
      "F1Score: 0.640056741751657\n",
      "ROC_AUC: 0.8370389584983275\n"
     ]
    }
   ],
   "source": [
    "def main():\n",
    "    \"\"\"\n",
    "    Main function to start end-to-end machine learning pipeline process\n",
    "\n",
    "    Returns:\n",
    "        voting_clf (): Return 3 best models with hyperparameter values after Voting Classification process.\n",
    "        \"\"\"\n",
    "    df = pd.read_csv(\"datasets/diabetes.csv\")\n",
    "    X, y = diabetes_data_prep(df)\n",
    "    print(\"\\n\")\n",
    "    base_models(X,y)\n",
    "    print(\"\\n\")\n",
    "    best_models = hyperparamater_optimization(X,y)\n",
    "    print(\"\\n\")\n",
    "    voting_clf = voting_classifier(best_models, X, y)\n",
    "    joblib.dump(voting_clf, \"voting_clf.pkl\")\n",
    "    return voting_clf\n",
    "\n",
    "if __name__ == \"__main__\":\n",
    "    print(\"Process started...\")\n",
    "    main()"
   ]
  },
  {
   "cell_type": "markdown",
   "metadata": {},
   "source": [
    "## Prediction\n",
    "\n",
    "- Bazı kaynaklarda scoring olara da geçebilir."
   ]
  },
  {
   "cell_type": "code",
   "execution_count": 69,
   "metadata": {},
   "outputs": [],
   "source": [
    "import joblib\n",
    "import pandas as pd"
   ]
  },
  {
   "cell_type": "code",
   "execution_count": 70,
   "metadata": {},
   "outputs": [],
   "source": [
    "df = pd.read_csv(\"datasets/diabetes.csv\")"
   ]
  },
  {
   "cell_type": "code",
   "execution_count": 71,
   "metadata": {},
   "outputs": [],
   "source": [
    "random_user = df.sample(1, random_state=45)"
   ]
  },
  {
   "cell_type": "code",
   "execution_count": 72,
   "metadata": {},
   "outputs": [],
   "source": [
    "new_model = joblib.load(\"voting_clf.pkl\")"
   ]
  },
  {
   "cell_type": "code",
   "execution_count": 73,
   "metadata": {},
   "outputs": [
    {
     "ename": "ValueError",
     "evalue": "X has 9 features, but KNeighborsClassifier is expecting 16 features as input.",
     "output_type": "error",
     "traceback": [
      "\u001b[1;31m---------------------------------------------------------------------------\u001b[0m",
      "\u001b[1;31mValueError\u001b[0m                                Traceback (most recent call last)",
      "\u001b[1;32mc:\\Users\\choon\\Desktop\\GitHub\\Miuul-Machine-Learning-Summer-Bootcamp\\Module 6\\Machine Learning Pipeline\\End to End Diabetes Machine Learning Pipeline.ipynb Cell 84\u001b[0m in \u001b[0;36m<cell line: 1>\u001b[1;34m()\u001b[0m\n\u001b[1;32m----> <a href='vscode-notebook-cell:/c%3A/Users/choon/Desktop/GitHub/Miuul-Machine-Learning-Summer-Bootcamp/Module%206/Machine%20Learning%20Pipeline/End%20to%20End%20Diabetes%20Machine%20Learning%20Pipeline.ipynb#Y152sZmlsZQ%3D%3D?line=0'>1</a>\u001b[0m new_model\u001b[39m.\u001b[39;49mpredict(random_user)\n",
      "File \u001b[1;32mc:\\Users\\choon\\anaconda3\\envs\\python39\\lib\\site-packages\\sklearn\\ensemble\\_voting.py:341\u001b[0m, in \u001b[0;36mVotingClassifier.predict\u001b[1;34m(self, X)\u001b[0m\n\u001b[0;32m    339\u001b[0m check_is_fitted(\u001b[39mself\u001b[39m)\n\u001b[0;32m    340\u001b[0m \u001b[39mif\u001b[39;00m \u001b[39mself\u001b[39m\u001b[39m.\u001b[39mvoting \u001b[39m==\u001b[39m \u001b[39m\"\u001b[39m\u001b[39msoft\u001b[39m\u001b[39m\"\u001b[39m:\n\u001b[1;32m--> 341\u001b[0m     maj \u001b[39m=\u001b[39m np\u001b[39m.\u001b[39margmax(\u001b[39mself\u001b[39;49m\u001b[39m.\u001b[39;49mpredict_proba(X), axis\u001b[39m=\u001b[39m\u001b[39m1\u001b[39m)\n\u001b[0;32m    343\u001b[0m \u001b[39melse\u001b[39;00m:  \u001b[39m# 'hard' voting\u001b[39;00m\n\u001b[0;32m    344\u001b[0m     predictions \u001b[39m=\u001b[39m \u001b[39mself\u001b[39m\u001b[39m.\u001b[39m_predict(X)\n",
      "File \u001b[1;32mc:\\Users\\choon\\anaconda3\\envs\\python39\\lib\\site-packages\\sklearn\\utils\\metaestimators.py:113\u001b[0m, in \u001b[0;36m_AvailableIfDescriptor.__get__.<locals>.<lambda>\u001b[1;34m(*args, **kwargs)\u001b[0m\n\u001b[0;32m    110\u001b[0m         \u001b[39mraise\u001b[39;00m attr_err\n\u001b[0;32m    112\u001b[0m     \u001b[39m# lambda, but not partial, allows help() to work with update_wrapper\u001b[39;00m\n\u001b[1;32m--> 113\u001b[0m     out \u001b[39m=\u001b[39m \u001b[39mlambda\u001b[39;00m \u001b[39m*\u001b[39margs, \u001b[39m*\u001b[39m\u001b[39m*\u001b[39mkwargs: \u001b[39mself\u001b[39m\u001b[39m.\u001b[39mfn(obj, \u001b[39m*\u001b[39margs, \u001b[39m*\u001b[39m\u001b[39m*\u001b[39mkwargs)  \u001b[39m# noqa\u001b[39;00m\n\u001b[0;32m    114\u001b[0m \u001b[39melse\u001b[39;00m:\n\u001b[0;32m    116\u001b[0m     \u001b[39mdef\u001b[39;00m \u001b[39mfn\u001b[39m(\u001b[39m*\u001b[39margs, \u001b[39m*\u001b[39m\u001b[39m*\u001b[39mkwargs):\n",
      "File \u001b[1;32mc:\\Users\\choon\\anaconda3\\envs\\python39\\lib\\site-packages\\sklearn\\ensemble\\_voting.py:382\u001b[0m, in \u001b[0;36mVotingClassifier.predict_proba\u001b[1;34m(self, X)\u001b[0m\n\u001b[0;32m    368\u001b[0m \u001b[39m\"\"\"Compute probabilities of possible outcomes for samples in X.\u001b[39;00m\n\u001b[0;32m    369\u001b[0m \n\u001b[0;32m    370\u001b[0m \u001b[39mParameters\u001b[39;00m\n\u001b[1;32m   (...)\u001b[0m\n\u001b[0;32m    378\u001b[0m \u001b[39m    Weighted average probability for each class per sample.\u001b[39;00m\n\u001b[0;32m    379\u001b[0m \u001b[39m\"\"\"\u001b[39;00m\n\u001b[0;32m    380\u001b[0m check_is_fitted(\u001b[39mself\u001b[39m)\n\u001b[0;32m    381\u001b[0m avg \u001b[39m=\u001b[39m np\u001b[39m.\u001b[39maverage(\n\u001b[1;32m--> 382\u001b[0m     \u001b[39mself\u001b[39;49m\u001b[39m.\u001b[39;49m_collect_probas(X), axis\u001b[39m=\u001b[39m\u001b[39m0\u001b[39m, weights\u001b[39m=\u001b[39m\u001b[39mself\u001b[39m\u001b[39m.\u001b[39m_weights_not_none\n\u001b[0;32m    383\u001b[0m )\n\u001b[0;32m    384\u001b[0m \u001b[39mreturn\u001b[39;00m avg\n",
      "File \u001b[1;32mc:\\Users\\choon\\anaconda3\\envs\\python39\\lib\\site-packages\\sklearn\\ensemble\\_voting.py:357\u001b[0m, in \u001b[0;36mVotingClassifier._collect_probas\u001b[1;34m(self, X)\u001b[0m\n\u001b[0;32m    355\u001b[0m \u001b[39mdef\u001b[39;00m \u001b[39m_collect_probas\u001b[39m(\u001b[39mself\u001b[39m, X):\n\u001b[0;32m    356\u001b[0m     \u001b[39m\"\"\"Collect results from clf.predict calls.\"\"\"\u001b[39;00m\n\u001b[1;32m--> 357\u001b[0m     \u001b[39mreturn\u001b[39;00m np\u001b[39m.\u001b[39masarray([clf\u001b[39m.\u001b[39mpredict_proba(X) \u001b[39mfor\u001b[39;00m clf \u001b[39min\u001b[39;00m \u001b[39mself\u001b[39m\u001b[39m.\u001b[39mestimators_])\n",
      "File \u001b[1;32mc:\\Users\\choon\\anaconda3\\envs\\python39\\lib\\site-packages\\sklearn\\ensemble\\_voting.py:357\u001b[0m, in \u001b[0;36m<listcomp>\u001b[1;34m(.0)\u001b[0m\n\u001b[0;32m    355\u001b[0m \u001b[39mdef\u001b[39;00m \u001b[39m_collect_probas\u001b[39m(\u001b[39mself\u001b[39m, X):\n\u001b[0;32m    356\u001b[0m     \u001b[39m\"\"\"Collect results from clf.predict calls.\"\"\"\u001b[39;00m\n\u001b[1;32m--> 357\u001b[0m     \u001b[39mreturn\u001b[39;00m np\u001b[39m.\u001b[39masarray([clf\u001b[39m.\u001b[39;49mpredict_proba(X) \u001b[39mfor\u001b[39;00m clf \u001b[39min\u001b[39;00m \u001b[39mself\u001b[39m\u001b[39m.\u001b[39mestimators_])\n",
      "File \u001b[1;32mc:\\Users\\choon\\anaconda3\\envs\\python39\\lib\\site-packages\\sklearn\\neighbors\\_classification.py:256\u001b[0m, in \u001b[0;36mKNeighborsClassifier.predict_proba\u001b[1;34m(self, X)\u001b[0m\n\u001b[0;32m    240\u001b[0m \u001b[39mdef\u001b[39;00m \u001b[39mpredict_proba\u001b[39m(\u001b[39mself\u001b[39m, X):\n\u001b[0;32m    241\u001b[0m     \u001b[39m\"\"\"Return probability estimates for the test data X.\u001b[39;00m\n\u001b[0;32m    242\u001b[0m \n\u001b[0;32m    243\u001b[0m \u001b[39m    Parameters\u001b[39;00m\n\u001b[1;32m   (...)\u001b[0m\n\u001b[0;32m    254\u001b[0m \u001b[39m        by lexicographic order.\u001b[39;00m\n\u001b[0;32m    255\u001b[0m \u001b[39m    \"\"\"\u001b[39;00m\n\u001b[1;32m--> 256\u001b[0m     neigh_dist, neigh_ind \u001b[39m=\u001b[39m \u001b[39mself\u001b[39;49m\u001b[39m.\u001b[39;49mkneighbors(X)\n\u001b[0;32m    258\u001b[0m     classes_ \u001b[39m=\u001b[39m \u001b[39mself\u001b[39m\u001b[39m.\u001b[39mclasses_\n\u001b[0;32m    259\u001b[0m     _y \u001b[39m=\u001b[39m \u001b[39mself\u001b[39m\u001b[39m.\u001b[39m_y\n",
      "File \u001b[1;32mc:\\Users\\choon\\anaconda3\\envs\\python39\\lib\\site-packages\\sklearn\\neighbors\\_base.py:714\u001b[0m, in \u001b[0;36mKNeighborsMixin.kneighbors\u001b[1;34m(self, X, n_neighbors, return_distance)\u001b[0m\n\u001b[0;32m    712\u001b[0m         X \u001b[39m=\u001b[39m _check_precomputed(X)\n\u001b[0;32m    713\u001b[0m     \u001b[39melse\u001b[39;00m:\n\u001b[1;32m--> 714\u001b[0m         X \u001b[39m=\u001b[39m \u001b[39mself\u001b[39;49m\u001b[39m.\u001b[39;49m_validate_data(X, accept_sparse\u001b[39m=\u001b[39;49m\u001b[39m\"\u001b[39;49m\u001b[39mcsr\u001b[39;49m\u001b[39m\"\u001b[39;49m, reset\u001b[39m=\u001b[39;49m\u001b[39mFalse\u001b[39;49;00m)\n\u001b[0;32m    715\u001b[0m \u001b[39melse\u001b[39;00m:\n\u001b[0;32m    716\u001b[0m     query_is_train \u001b[39m=\u001b[39m \u001b[39mTrue\u001b[39;00m\n",
      "File \u001b[1;32mc:\\Users\\choon\\anaconda3\\envs\\python39\\lib\\site-packages\\sklearn\\base.py:580\u001b[0m, in \u001b[0;36mBaseEstimator._validate_data\u001b[1;34m(self, X, y, reset, validate_separately, **check_params)\u001b[0m\n\u001b[0;32m    577\u001b[0m     out \u001b[39m=\u001b[39m X, y\n\u001b[0;32m    579\u001b[0m \u001b[39mif\u001b[39;00m \u001b[39mnot\u001b[39;00m no_val_X \u001b[39mand\u001b[39;00m check_params\u001b[39m.\u001b[39mget(\u001b[39m\"\u001b[39m\u001b[39mensure_2d\u001b[39m\u001b[39m\"\u001b[39m, \u001b[39mTrue\u001b[39;00m):\n\u001b[1;32m--> 580\u001b[0m     \u001b[39mself\u001b[39;49m\u001b[39m.\u001b[39;49m_check_n_features(X, reset\u001b[39m=\u001b[39;49mreset)\n\u001b[0;32m    582\u001b[0m \u001b[39mreturn\u001b[39;00m out\n",
      "File \u001b[1;32mc:\\Users\\choon\\anaconda3\\envs\\python39\\lib\\site-packages\\sklearn\\base.py:395\u001b[0m, in \u001b[0;36mBaseEstimator._check_n_features\u001b[1;34m(self, X, reset)\u001b[0m\n\u001b[0;32m    392\u001b[0m     \u001b[39mreturn\u001b[39;00m\n\u001b[0;32m    394\u001b[0m \u001b[39mif\u001b[39;00m n_features \u001b[39m!=\u001b[39m \u001b[39mself\u001b[39m\u001b[39m.\u001b[39mn_features_in_:\n\u001b[1;32m--> 395\u001b[0m     \u001b[39mraise\u001b[39;00m \u001b[39mValueError\u001b[39;00m(\n\u001b[0;32m    396\u001b[0m         \u001b[39mf\u001b[39m\u001b[39m\"\u001b[39m\u001b[39mX has \u001b[39m\u001b[39m{\u001b[39;00mn_features\u001b[39m}\u001b[39;00m\u001b[39m features, but \u001b[39m\u001b[39m{\u001b[39;00m\u001b[39mself\u001b[39m\u001b[39m.\u001b[39m\u001b[39m__class__\u001b[39m\u001b[39m.\u001b[39m\u001b[39m__name__\u001b[39m\u001b[39m}\u001b[39;00m\u001b[39m \u001b[39m\u001b[39m\"\u001b[39m\n\u001b[0;32m    397\u001b[0m         \u001b[39mf\u001b[39m\u001b[39m\"\u001b[39m\u001b[39mis expecting \u001b[39m\u001b[39m{\u001b[39;00m\u001b[39mself\u001b[39m\u001b[39m.\u001b[39mn_features_in_\u001b[39m}\u001b[39;00m\u001b[39m features as input.\u001b[39m\u001b[39m\"\u001b[39m\n\u001b[0;32m    398\u001b[0m     )\n",
      "\u001b[1;31mValueError\u001b[0m: X has 9 features, but KNeighborsClassifier is expecting 16 features as input."
     ]
    }
   ],
   "source": [
    "new_model.predict(random_user)\n",
    "# Burada hata çıkmasının nedeni modeli kurduğumuz veri seti ile dışarıdan aldığımız veri setinin arasındaki boyut farklılığıdır. \n",
    "# Bu hata data preprocessing kısmında yaptığımız feature extraction kısmında kaynaklanır. \n",
    "# Bunu düzeltmek için öncelikle diabetes_data_prep fonksiyonunu kullanarak veri seti boyutunu modelde yeniden oluşturduğumuz veri seti boyutuna uyarlanması gerekir."
   ]
  },
  {
   "cell_type": "code",
   "execution_count": 74,
   "metadata": {},
   "outputs": [
    {
     "name": "stdout",
     "output_type": "stream",
     "text": [
      "Observations: 768\n",
      "Variables: 13\n",
      "categorical_cols: 5\n",
      "numerical_cols: 8\n",
      "cardinal_cols: 0\n",
      "nominal_cols: 4\n",
      "\n",
      "\n",
      "After Feature Extraction and Encoding Process \n",
      "\n",
      "Observations: 768\n",
      "Variables: 17\n",
      "categorical_cols: 9\n",
      "numerical_cols: 8\n",
      "cardinal_cols: 0\n",
      "nominal_cols: 9\n"
     ]
    }
   ],
   "source": [
    "X, y = diabetes_data_prep(df)"
   ]
  },
  {
   "cell_type": "code",
   "execution_count": 76,
   "metadata": {},
   "outputs": [],
   "source": [
    "random_user = X.sample(1, random_state=50)"
   ]
  },
  {
   "cell_type": "code",
   "execution_count": 77,
   "metadata": {},
   "outputs": [],
   "source": [
    "new_model = joblib.load(\"voting_clf.pkl\")"
   ]
  },
  {
   "cell_type": "code",
   "execution_count": 78,
   "metadata": {},
   "outputs": [
    {
     "data": {
      "text/plain": [
       "array([0], dtype=int64)"
      ]
     },
     "execution_count": 78,
     "metadata": {},
     "output_type": "execute_result"
    }
   ],
   "source": [
    "new_model.predict(random_user)"
   ]
  }
 ],
 "metadata": {
  "kernelspec": {
   "display_name": "Python 3.9.12 ('python39')",
   "language": "python",
   "name": "python3"
  },
  "language_info": {
   "codemirror_mode": {
    "name": "ipython",
    "version": 3
   },
   "file_extension": ".py",
   "mimetype": "text/x-python",
   "name": "python",
   "nbconvert_exporter": "python",
   "pygments_lexer": "ipython3",
   "version": "3.9.12"
  },
  "orig_nbformat": 4,
  "vscode": {
   "interpreter": {
    "hash": "dc4b3c05902c10370de471fcddb26262fd84af011c6feaac4fb5a6964f823446"
   }
  }
 },
 "nbformat": 4,
 "nbformat_minor": 2
}
