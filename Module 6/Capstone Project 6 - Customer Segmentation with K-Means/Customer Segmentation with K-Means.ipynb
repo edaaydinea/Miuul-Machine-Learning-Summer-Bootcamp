{
 "cells": [
  {
   "cell_type": "markdown",
   "metadata": {},
   "source": [
    "# Customer Segmentation with K-Means\n",
    "\n",
    "*Author: Eda AYDIN*"
   ]
  },
  {
   "cell_type": "markdown",
   "metadata": {},
   "source": [
    "## Table of Contents\n",
    "\n",
    "- [Import Libraries](#import-libraries)\n",
    "- [Dataset History](#dataset-history)\n",
    "- [Exploratory Data Analysis](#exploratory-data-analysis)\n",
    "- [Data Preprocessing & Feature Engineering](#data-preprocessing--feature-engineering)\n",
    "- [LOG Transformation](#log-transformation)\n",
    "- [Encoding / Scaling](#encoding--scaling)\n",
    "- [Modeling](#modeling)\n",
    "  - [Determining Optimal Numbers of Cluster (Elbow Method)](#determining-optimal-numbers-of-cluster-elbow-method)\n",
    "  - [K-Means](#k-means)\n",
    "  - [Hierarchical Clustering](#hierarchical-clustering)"
   ]
  },
  {
   "cell_type": "markdown",
   "metadata": {},
   "source": [
    "## Import Libraries"
   ]
  },
  {
   "cell_type": "code",
   "execution_count": 1,
   "metadata": {},
   "outputs": [
    {
     "name": "stderr",
     "output_type": "stream",
     "text": [
      "c:\\Users\\choon\\anaconda3\\envs\\python39\\lib\\site-packages\\numpy\\_distributor_init.py:30: UserWarning: loaded more than 1 DLL from .libs:\n",
      "c:\\Users\\choon\\anaconda3\\envs\\python39\\lib\\site-packages\\numpy\\.libs\\libopenblas.EL2C6PLE4ZYW3ECEVIV3OXXGRN2NRFM2.gfortran-win_amd64.dll\n",
      "c:\\Users\\choon\\anaconda3\\envs\\python39\\lib\\site-packages\\numpy\\.libs\\libopenblas.XWYDX2IKJW2NMTWSFYNGFUWKQU3LYTCZ.gfortran-win_amd64.dll\n",
      "  warnings.warn(\"loaded more than 1 DLL from .libs:\"\n"
     ]
    }
   ],
   "source": [
    "import numpy as np\n",
    "import pandas as pd\n",
    "import seaborn as sns\n",
    "import warnings\n",
    "from scipy import stats\n",
    "import datetime as dt\n",
    "import matplotlib.pyplot as plt\n",
    "from sklearn.preprocessing import MinMaxScaler, StandardScaler\n",
    "from sklearn.cluster import KMeans, AgglomerativeClustering\n",
    "from scipy.cluster.hierarchy import dendrogram, linkage\n",
    "from yellowbrick.cluster import KElbowVisualizer"
   ]
  },
  {
   "cell_type": "code",
   "execution_count": 2,
   "metadata": {},
   "outputs": [],
   "source": [
    "pd.set_option(\"display.max_columns\",None)\n",
    "pd.set_option(\"display.max_rows\",50)\n",
    "pd.set_option(\"display.float_format\", lambda x: \"%.2f\" %x)\n",
    "pd.set_option(\"display.width\",None)\n",
    "warnings.filterwarnings(\"ignore\")"
   ]
  },
  {
   "cell_type": "markdown",
   "metadata": {},
   "source": [
    "## Dataset History\n",
    "\n",
    "Online Retail II isimli veri seti İngiltere merkezli bir perakende şirketinin 01/12/2009 - 09/12/2011 tarihleri arasındaki online satış işlemlerini içeriyor. Şirketin ürün kataloğunda hediyelik eşyalar yer almaktadır ve çoğu müşterisinin toptancı olduğu bilgisi mevcuttur.\n",
    "\n",
    "<table style=\"border-collapse: collapse; width: 100%; height: 162px;\" border=\"1\">\n",
    "<tbody>\n",
    "<tr style=\"height: 18px;\">\n",
    "<td style=\"width: 1.58479%; height: 18px;\"><strong>Features</strong></td>\n",
    "<td style=\"width: 65.0818%; height: 18px;\"><strong>A&ccedil;ıklama</strong></td>\n",
    "</tr>\n",
    "<tr style=\"height: 18px;\">\n",
    "<td style=\"width: 1.58479%; height: 18px;\">InvoiceNo</td>\n",
    "<td style=\"width: 65.0818%; height: 18px;\">Fatura Numarası (Eğer bu kod C ile başlıyorsa işlemin iptal edildiğini ifade eder.)</td>\n",
    "</tr>\n",
    "<tr style=\"height: 18px;\">\n",
    "<td style=\"width: 1.58479%; height: 18px;\">StockCode</td>\n",
    "<td style=\"width: 65.0818%; height: 18px;\">&Uuml;r&uuml;n Kodu (Her bir &uuml;r&uuml;n i&ccedil;in eşsiz)</td>\n",
    "</tr>\n",
    "<tr style=\"height: 18px;\">\n",
    "<td style=\"width: 1.58479%; height: 18px;\">Description</td>\n",
    "<td style=\"width: 65.0818%; height: 18px;\">&Uuml;r&uuml;n ismi</td>\n",
    "</tr>\n",
    "<tr style=\"height: 18px;\">\n",
    "<td style=\"width: 1.58479%; height: 18px;\">Quantity</td>\n",
    "<td style=\"width: 65.0818%; height: 18px;\">&Uuml;r&uuml;n adedi (Faturalardaki &uuml;r&uuml;nlerde ka&ccedil;ar tane satıldığı)</td>\n",
    "</tr>\n",
    "<tr style=\"height: 18px;\">\n",
    "<td style=\"width: 1.58479%; height: 18px;\">InvoiceDate</td>\n",
    "<td style=\"width: 65.0818%; height: 18px;\">Fatura Tarihi</td>\n",
    "</tr>\n",
    "<tr style=\"height: 18px;\">\n",
    "<td style=\"width: 1.58479%; height: 18px;\">UnitPrice</td>\n",
    "<td style=\"width: 65.0818%; height: 18px;\">Fatura Fiyatı (Sterlin)</td>\n",
    "</tr>\n",
    "<tr style=\"height: 18px;\">\n",
    "<td style=\"width: 1.58479%; height: 18px;\">CustomerID</td>\n",
    "<td style=\"width: 65.0818%; height: 18px;\">Eşsiz m&uuml;şteri numarası</td>\n",
    "</tr>\n",
    "<tr style=\"height: 18px;\">\n",
    "<td style=\"width: 1.58479%; height: 18px;\">Country</td>\n",
    "<td style=\"width: 65.0818%; height: 18px;\">&Uuml;lke ismi</td>\n",
    "</tr>\n",
    "</tbody>\n",
    "</table>"
   ]
  },
  {
   "cell_type": "code",
   "execution_count": 3,
   "metadata": {},
   "outputs": [
    {
     "data": {
      "text/html": [
       "<div>\n",
       "<style scoped>\n",
       "    .dataframe tbody tr th:only-of-type {\n",
       "        vertical-align: middle;\n",
       "    }\n",
       "\n",
       "    .dataframe tbody tr th {\n",
       "        vertical-align: top;\n",
       "    }\n",
       "\n",
       "    .dataframe thead th {\n",
       "        text-align: right;\n",
       "    }\n",
       "</style>\n",
       "<table border=\"1\" class=\"dataframe\">\n",
       "  <thead>\n",
       "    <tr style=\"text-align: right;\">\n",
       "      <th></th>\n",
       "      <th>Invoice</th>\n",
       "      <th>StockCode</th>\n",
       "      <th>Description</th>\n",
       "      <th>Quantity</th>\n",
       "      <th>InvoiceDate</th>\n",
       "      <th>Price</th>\n",
       "      <th>Customer ID</th>\n",
       "      <th>Country</th>\n",
       "    </tr>\n",
       "  </thead>\n",
       "  <tbody>\n",
       "    <tr>\n",
       "      <th>0</th>\n",
       "      <td>489434</td>\n",
       "      <td>85048</td>\n",
       "      <td>15CM CHRISTMAS GLASS BALL 20 LIGHTS</td>\n",
       "      <td>12</td>\n",
       "      <td>2009-12-01 07:45:00</td>\n",
       "      <td>6.95</td>\n",
       "      <td>13085.00</td>\n",
       "      <td>United Kingdom</td>\n",
       "    </tr>\n",
       "    <tr>\n",
       "      <th>1</th>\n",
       "      <td>489434</td>\n",
       "      <td>79323P</td>\n",
       "      <td>PINK CHERRY LIGHTS</td>\n",
       "      <td>12</td>\n",
       "      <td>2009-12-01 07:45:00</td>\n",
       "      <td>6.75</td>\n",
       "      <td>13085.00</td>\n",
       "      <td>United Kingdom</td>\n",
       "    </tr>\n",
       "    <tr>\n",
       "      <th>2</th>\n",
       "      <td>489434</td>\n",
       "      <td>79323W</td>\n",
       "      <td>WHITE CHERRY LIGHTS</td>\n",
       "      <td>12</td>\n",
       "      <td>2009-12-01 07:45:00</td>\n",
       "      <td>6.75</td>\n",
       "      <td>13085.00</td>\n",
       "      <td>United Kingdom</td>\n",
       "    </tr>\n",
       "    <tr>\n",
       "      <th>3</th>\n",
       "      <td>489434</td>\n",
       "      <td>22041</td>\n",
       "      <td>RECORD FRAME 7\" SINGLE SIZE</td>\n",
       "      <td>48</td>\n",
       "      <td>2009-12-01 07:45:00</td>\n",
       "      <td>2.10</td>\n",
       "      <td>13085.00</td>\n",
       "      <td>United Kingdom</td>\n",
       "    </tr>\n",
       "    <tr>\n",
       "      <th>4</th>\n",
       "      <td>489434</td>\n",
       "      <td>21232</td>\n",
       "      <td>STRAWBERRY CERAMIC TRINKET BOX</td>\n",
       "      <td>24</td>\n",
       "      <td>2009-12-01 07:45:00</td>\n",
       "      <td>1.25</td>\n",
       "      <td>13085.00</td>\n",
       "      <td>United Kingdom</td>\n",
       "    </tr>\n",
       "  </tbody>\n",
       "</table>\n",
       "</div>"
      ],
      "text/plain": [
       "  Invoice StockCode                          Description  Quantity  \\\n",
       "0  489434     85048  15CM CHRISTMAS GLASS BALL 20 LIGHTS        12   \n",
       "1  489434    79323P                   PINK CHERRY LIGHTS        12   \n",
       "2  489434    79323W                  WHITE CHERRY LIGHTS        12   \n",
       "3  489434     22041         RECORD FRAME 7\" SINGLE SIZE         48   \n",
       "4  489434     21232       STRAWBERRY CERAMIC TRINKET BOX        24   \n",
       "\n",
       "          InvoiceDate  Price  Customer ID         Country  \n",
       "0 2009-12-01 07:45:00   6.95     13085.00  United Kingdom  \n",
       "1 2009-12-01 07:45:00   6.75     13085.00  United Kingdom  \n",
       "2 2009-12-01 07:45:00   6.75     13085.00  United Kingdom  \n",
       "3 2009-12-01 07:45:00   2.10     13085.00  United Kingdom  \n",
       "4 2009-12-01 07:45:00   1.25     13085.00  United Kingdom  "
      ]
     },
     "execution_count": 3,
     "metadata": {},
     "output_type": "execute_result"
    }
   ],
   "source": [
    "df_ = pd.read_excel(\"dataset/online_retail_II.xlsx\")\n",
    "df_.head()"
   ]
  },
  {
   "cell_type": "code",
   "execution_count": 4,
   "metadata": {},
   "outputs": [],
   "source": [
    "df = df_.copy()"
   ]
  },
  {
   "cell_type": "markdown",
   "metadata": {},
   "source": [
    "## Exploratory Data Analysis"
   ]
  },
  {
   "cell_type": "code",
   "execution_count": 5,
   "metadata": {},
   "outputs": [],
   "source": [
    "def check_df(dataframe, head=5):\n",
    "    print(\"##################### Shape #####################\")\n",
    "    print(dataframe.shape)\n",
    "    print(\"\\n\")\n",
    "    print(\"##################### Types #####################\")\n",
    "    print(dataframe.dtypes)\n",
    "    print(\"\\n\")\n",
    "    print(\"##################### Head #####################\")\n",
    "    print(dataframe.head(head))\n",
    "    print(\"\\n\")\n",
    "    print(\"##################### Tail #####################\")\n",
    "    print(dataframe.tail(head))\n",
    "    print(\"\\n\")\n",
    "    print(\"##################### NA #####################\")\n",
    "    print(dataframe.isnull().sum())\n",
    "    print(\"\\n\")\n",
    "    print(\"##################### Quantiles #####################\")\n",
    "    print(dataframe.quantile([0.01, 0.1, 0.25, 0.5, 0.75, 0.90, 0.99]).T)"
   ]
  },
  {
   "cell_type": "code",
   "execution_count": 6,
   "metadata": {},
   "outputs": [],
   "source": [
    "def select_country(dataframe, country):\n",
    "    new_dataframe = dataframe.loc[dataframe[\"Country\"] == country]\n",
    "    return new_dataframe"
   ]
  },
  {
   "cell_type": "code",
   "execution_count": 7,
   "metadata": {},
   "outputs": [],
   "source": [
    "def grab_col_names(dataframe, categorical_threshold=10, cardinal_threshold=20):\n",
    "    \"\"\"\n",
    "    It gives the names of categorical, numerical and categorical but cardinal,nominal variables in the data set.\n",
    "    Note: Categorical variables but numerical variables are also included in categorical variables.\n",
    "\n",
    "    Parameters\n",
    "    ----------\n",
    "    dataframe : dataframe\n",
    "        The dataframe from which variables names are to be retrieved.\n",
    "    categorical_threshold : int, optional\n",
    "        class threshold for numeric but categorical variables\n",
    "    cardinal_threshold : int, optional\n",
    "        Class threshold for categorical but cardinal variables\n",
    "\n",
    "    Returns\n",
    "    -------\n",
    "        categorical_cols : list\n",
    "            Categorical variable list\n",
    "        numerical_cols : list\n",
    "            Numerical variable list\n",
    "        cardinal_cols : list\n",
    "            Categorical looking cardinal variable list\n",
    "\n",
    "    Examples\n",
    "    -------\n",
    "        import seaborn as sns\n",
    "        df = sns.load_titanic_dataset(\"iris\")\n",
    "        print(grab_col_names(df))\n",
    "\n",
    "    Notes\n",
    "    -------\n",
    "        categorical_cols + numerical_cols + cardinal_cols = total number of variables.\n",
    "        nominal_cols is inside categorical_cols\n",
    "        The sum of the 3 returned lists equals the total number of variables: categorical_cols + cardinal_cols = number of variables\n",
    "\n",
    "    \"\"\"\n",
    "\n",
    "    categorical_cols = [col for col in dataframe.columns if dataframe[col].dtypes == \"O\"]\n",
    "    nominal_cols = [col for col in dataframe.columns if\n",
    "                    dataframe[col].nunique() < categorical_threshold and dataframe[col].dtypes != \"O\"]\n",
    "    cardinal_cols = [col for col in dataframe.columns if\n",
    "                     dataframe[col].nunique() > cardinal_threshold and dataframe[col].dtypes == \"O\"]\n",
    "    categorical_cols = categorical_cols + nominal_cols\n",
    "    categorical_cols = [col for col in categorical_cols if col not in cardinal_cols]\n",
    "\n",
    "    # numerical_cols\n",
    "    numerical_cols = [col for col in dataframe.columns if dataframe[col].dtypes != \"O\"]\n",
    "    numerical_cols = [col for col in numerical_cols if col not in categorical_cols]\n",
    "\n",
    "    print(f\"Observations: {dataframe.shape[0]}\")\n",
    "    print(f\"Variables: {dataframe.shape[1]}\")\n",
    "    print(f'categorical_cols: {len(categorical_cols)}')\n",
    "    print(f'numerical_cols: {len(numerical_cols)}')\n",
    "    print(f'cardinal_cols: {len(cardinal_cols)}')\n",
    "    print(f'nominal_cols: {len(nominal_cols)}')\n",
    "    return categorical_cols, numerical_cols, cardinal_cols, nominal_cols"
   ]
  },
  {
   "cell_type": "code",
   "execution_count": 8,
   "metadata": {},
   "outputs": [
    {
     "name": "stdout",
     "output_type": "stream",
     "text": [
      "##################### Shape #####################\n",
      "(525461, 8)\n",
      "\n",
      "\n",
      "##################### Types #####################\n",
      "Invoice                object\n",
      "StockCode              object\n",
      "Description            object\n",
      "Quantity                int64\n",
      "InvoiceDate    datetime64[ns]\n",
      "Price                 float64\n",
      "Customer ID           float64\n",
      "Country                object\n",
      "dtype: object\n",
      "\n",
      "\n",
      "##################### Head #####################\n",
      "  Invoice StockCode                          Description  Quantity  \\\n",
      "0  489434     85048  15CM CHRISTMAS GLASS BALL 20 LIGHTS        12   \n",
      "1  489434    79323P                   PINK CHERRY LIGHTS        12   \n",
      "2  489434    79323W                  WHITE CHERRY LIGHTS        12   \n",
      "3  489434     22041         RECORD FRAME 7\" SINGLE SIZE         48   \n",
      "4  489434     21232       STRAWBERRY CERAMIC TRINKET BOX        24   \n",
      "\n",
      "          InvoiceDate  Price  Customer ID         Country  \n",
      "0 2009-12-01 07:45:00   6.95     13085.00  United Kingdom  \n",
      "1 2009-12-01 07:45:00   6.75     13085.00  United Kingdom  \n",
      "2 2009-12-01 07:45:00   6.75     13085.00  United Kingdom  \n",
      "3 2009-12-01 07:45:00   2.10     13085.00  United Kingdom  \n",
      "4 2009-12-01 07:45:00   1.25     13085.00  United Kingdom  \n",
      "\n",
      "\n",
      "##################### Tail #####################\n",
      "       Invoice StockCode                         Description  Quantity  \\\n",
      "525456  538171     22271                FELTCRAFT DOLL ROSIE         2   \n",
      "525457  538171     22750        FELTCRAFT PRINCESS LOLA DOLL         1   \n",
      "525458  538171     22751      FELTCRAFT PRINCESS OLIVIA DOLL         1   \n",
      "525459  538171     20970  PINK FLORAL FELTCRAFT SHOULDER BAG         2   \n",
      "525460  538171     21931              JUMBO STORAGE BAG SUKI         2   \n",
      "\n",
      "               InvoiceDate  Price  Customer ID         Country  \n",
      "525456 2010-12-09 20:01:00   2.95     17530.00  United Kingdom  \n",
      "525457 2010-12-09 20:01:00   3.75     17530.00  United Kingdom  \n",
      "525458 2010-12-09 20:01:00   3.75     17530.00  United Kingdom  \n",
      "525459 2010-12-09 20:01:00   3.75     17530.00  United Kingdom  \n",
      "525460 2010-12-09 20:01:00   1.95     17530.00  United Kingdom  \n",
      "\n",
      "\n",
      "##################### NA #####################\n",
      "Invoice             0\n",
      "StockCode           0\n",
      "Description      2928\n",
      "Quantity            0\n",
      "InvoiceDate         0\n",
      "Price               0\n",
      "Customer ID    107927\n",
      "Country             0\n",
      "dtype: int64\n",
      "\n",
      "\n",
      "##################### Quantiles #####################\n",
      "                0.01     0.10     0.25     0.50     0.75     0.90     0.99\n",
      "Quantity       -3.00     1.00     1.00     3.00    10.00    24.00   120.00\n",
      "Price           0.21     0.65     1.25     2.10     4.21     7.95    19.95\n",
      "Customer ID 12435.00 13042.00 13983.00 15311.00 16799.00 17706.00 18196.00\n"
     ]
    }
   ],
   "source": [
    "check_df(df)"
   ]
  },
  {
   "cell_type": "code",
   "execution_count": 9,
   "metadata": {},
   "outputs": [
    {
     "name": "stdout",
     "output_type": "stream",
     "text": [
      "Observations: 525461\n",
      "Variables: 8\n",
      "categorical_cols: 0\n",
      "numerical_cols: 4\n",
      "cardinal_cols: 4\n",
      "nominal_cols: 0\n"
     ]
    }
   ],
   "source": [
    "# Değişken türlerin ayrıştırılması\n",
    "categorical_cols, numerical_cols, cardinal_cols, nominal_cols = grab_col_names(df, categorical_threshold=5, cardinal_threshold=20)"
   ]
  },
  {
   "cell_type": "code",
   "execution_count": 10,
   "metadata": {},
   "outputs": [
    {
     "data": {
      "text/plain": [
       "['Quantity', 'InvoiceDate', 'Price', 'Customer ID']"
      ]
     },
     "execution_count": 10,
     "metadata": {},
     "output_type": "execute_result"
    }
   ],
   "source": [
    "numerical_cols\n",
    "# InvoiceDate saat ve tarih değerlerini içeriyor. Yani aslında anlamlı bir sayısal değişken değil. Tarih ve saat değerleri ayrıştırılabilir.\n"
   ]
  },
  {
   "cell_type": "code",
   "execution_count": 11,
   "metadata": {},
   "outputs": [
    {
     "data": {
      "text/plain": [
       "['Invoice', 'StockCode', 'Description', 'Country']"
      ]
     },
     "execution_count": 11,
     "metadata": {},
     "output_type": "execute_result"
    }
   ],
   "source": [
    "cardinal_cols"
   ]
  },
  {
   "cell_type": "markdown",
   "metadata": {},
   "source": [
    "## Data Preprocessing & Feature Engineering"
   ]
  },
  {
   "cell_type": "code",
   "execution_count": 12,
   "metadata": {},
   "outputs": [],
   "source": [
    "def check_outlier(dataframe, col_name, q1=0.25, q3=0.75):\n",
    "    \"\"\"\n",
    "    Checking the outliers for each columns\n",
    "\n",
    "    Args:\n",
    "        dataframe (dataframe): The dataframe from which variables names are to be retrieved.\n",
    "        col_name (string): The column names from which features names are to be retrieved\n",
    "        q1 (float, optional): Quartile 1 Value of specified column. Defaults to 0.25.\n",
    "        q3 (float, optional): Quartile 3 Value of specified column.. Defaults to 0.75.\n",
    "\n",
    "    Returns:\n",
    "        boolean: If the specified column has outlier values, return True. If not, return False.\n",
    "    \"\"\"\n",
    "    low_limit, up_limit = outlier_thresholds(dataframe, col_name, q1, q3)\n",
    "    if dataframe[(dataframe[col_name] > up_limit) | (dataframe[col_name] < low_limit)].any(axis=None):\n",
    "        return True\n",
    "    else:\n",
    "        return False"
   ]
  },
  {
   "cell_type": "code",
   "execution_count": 13,
   "metadata": {},
   "outputs": [],
   "source": [
    "def outlier_thresholds(dataframe, col_name, q1=0.25, q3=0.75):\n",
    "    \"\"\"\n",
    "    Return the lower and upper limit of each columns. \n",
    "\n",
    "    Args:\n",
    "        dataframe (dataframe): The dataframe from which variables names are to be retrieved.\n",
    "        col_name (string): The column names from which features names are to be retrieved\n",
    "        q1 (float, optional): _description_. Defaults to 0.25.\n",
    "        q3 (float, optional): _description_. Defaults to 0.75.\n",
    "\n",
    "    Returns:\n",
    "        low_limit (float): Returns the lower limit by using quartile1 and interquantile range values for each columns.\n",
    "        up_limit (float) : Returns the upper limit by using quartile3 and interquantile range values for each columns.\n",
    "    \"\"\"\n",
    "    quartile1 = dataframe[col_name].quantile(q1)\n",
    "    quartile3 = dataframe[col_name].quantile(q3)\n",
    "    interquantile_range = quartile3 - quartile1\n",
    "    up_limit = quartile3 + 1.5 * interquantile_range\n",
    "    low_limit = quartile1 - 1.5 * interquantile_range\n",
    "    return low_limit, up_limit"
   ]
  },
  {
   "cell_type": "code",
   "execution_count": 14,
   "metadata": {},
   "outputs": [],
   "source": [
    "def replace_with_thresholds(dataframe, col_name):\n",
    "    \"\"\"\n",
    "    Replacing values ​​in Outlier with lower and upper bounds\n",
    "\n",
    "    Args:\n",
    "        dataframe (dataframe): The dataframe from which variables names are to be retrieved.\n",
    "        col_name (string): The column name with the outlier values are to be retrieved.\n",
    "    \"\"\"\n",
    "    low_limit, up_limit = outlier_thresholds(dataframe, col_name)\n",
    "    dataframe.loc[(dataframe[col_name] < low_limit), col_name] = low_limit\n",
    "    dataframe.loc[(dataframe[col_name] > up_limit), col_name] = up_limit"
   ]
  },
  {
   "cell_type": "code",
   "execution_count": 15,
   "metadata": {},
   "outputs": [],
   "source": [
    "# InvoiceNo içerisinde C bulunan değerleri baskılama ile çıkar. Çünkü bu işlemler iptal edilen işlemlerdir.\n",
    "df = df[~df[\"Invoice\"].str.contains(\"C\",na=False)]"
   ]
  },
  {
   "cell_type": "code",
   "execution_count": 16,
   "metadata": {},
   "outputs": [],
   "source": [
    "# Quantity (Ürün adedi) sayısının 0'dan büyük olanları al.\n",
    "df = df[(df[\"Quantity\"] > 0)]\n",
    "df.dropna(inplace=True)"
   ]
  },
  {
   "cell_type": "code",
   "execution_count": 17,
   "metadata": {},
   "outputs": [
    {
     "name": "stdout",
     "output_type": "stream",
     "text": [
      "##################### Shape #####################\n",
      "(407695, 8)\n",
      "\n",
      "\n",
      "##################### Types #####################\n",
      "Invoice                object\n",
      "StockCode              object\n",
      "Description            object\n",
      "Quantity                int64\n",
      "InvoiceDate    datetime64[ns]\n",
      "Price                 float64\n",
      "Customer ID           float64\n",
      "Country                object\n",
      "dtype: object\n",
      "\n",
      "\n",
      "##################### Head #####################\n",
      "  Invoice StockCode                          Description  Quantity  \\\n",
      "0  489434     85048  15CM CHRISTMAS GLASS BALL 20 LIGHTS        12   \n",
      "1  489434    79323P                   PINK CHERRY LIGHTS        12   \n",
      "2  489434    79323W                  WHITE CHERRY LIGHTS        12   \n",
      "3  489434     22041         RECORD FRAME 7\" SINGLE SIZE         48   \n",
      "4  489434     21232       STRAWBERRY CERAMIC TRINKET BOX        24   \n",
      "\n",
      "          InvoiceDate  Price  Customer ID         Country  \n",
      "0 2009-12-01 07:45:00   6.95     13085.00  United Kingdom  \n",
      "1 2009-12-01 07:45:00   6.75     13085.00  United Kingdom  \n",
      "2 2009-12-01 07:45:00   6.75     13085.00  United Kingdom  \n",
      "3 2009-12-01 07:45:00   2.10     13085.00  United Kingdom  \n",
      "4 2009-12-01 07:45:00   1.25     13085.00  United Kingdom  \n",
      "\n",
      "\n",
      "##################### Tail #####################\n",
      "       Invoice StockCode                         Description  Quantity  \\\n",
      "525456  538171     22271                FELTCRAFT DOLL ROSIE         2   \n",
      "525457  538171     22750        FELTCRAFT PRINCESS LOLA DOLL         1   \n",
      "525458  538171     22751      FELTCRAFT PRINCESS OLIVIA DOLL         1   \n",
      "525459  538171     20970  PINK FLORAL FELTCRAFT SHOULDER BAG         2   \n",
      "525460  538171     21931              JUMBO STORAGE BAG SUKI         2   \n",
      "\n",
      "               InvoiceDate  Price  Customer ID         Country  \n",
      "525456 2010-12-09 20:01:00   2.95     17530.00  United Kingdom  \n",
      "525457 2010-12-09 20:01:00   3.75     17530.00  United Kingdom  \n",
      "525458 2010-12-09 20:01:00   3.75     17530.00  United Kingdom  \n",
      "525459 2010-12-09 20:01:00   3.75     17530.00  United Kingdom  \n",
      "525460 2010-12-09 20:01:00   1.95     17530.00  United Kingdom  \n",
      "\n",
      "\n",
      "##################### NA #####################\n",
      "Invoice        0\n",
      "StockCode      0\n",
      "Description    0\n",
      "Quantity       0\n",
      "InvoiceDate    0\n",
      "Price          0\n",
      "Customer ID    0\n",
      "Country        0\n",
      "dtype: int64\n",
      "\n",
      "\n",
      "##################### Quantiles #####################\n",
      "                0.01     0.10     0.25     0.50     0.75     0.90     0.99\n",
      "Quantity        1.00     1.00     2.00     5.00    12.00    24.00   144.00\n",
      "Price           0.29     0.65     1.25     1.95     3.75     6.75    14.95\n",
      "Customer ID 12435.00 13044.00 13997.00 15321.00 16812.00 17706.00 18196.00\n"
     ]
    }
   ],
   "source": [
    "check_df(df)\n",
    "\n",
    "# Artık Nan verimiz kalmadı.\n",
    "# 117.766 verimiz veri setinden çıkarıldı."
   ]
  },
  {
   "cell_type": "code",
   "execution_count": 18,
   "metadata": {},
   "outputs": [
    {
     "data": {
      "text/plain": [
       "array([22076, 48185, 'M', 22065, 22142, 85042, 21143, 79320, 22355, 21533,\n",
       "       'TEST001', 21662, 22459, 22458, 22376, 21765, 20914, 22423, 22690,\n",
       "       22472, 22202, '46000M', 22218, 22630, 22121, 21843, 22624, 22846,\n",
       "       22845, 22841], dtype=object)"
      ]
     },
     "execution_count": 18,
     "metadata": {},
     "output_type": "execute_result"
    }
   ],
   "source": [
    "# Price değeri 0 olup, elimizde ürün kodu unique olan değerler\n",
    "df[df[\"Price\"] == 0][\"StockCode\"].unique()"
   ]
  },
  {
   "cell_type": "code",
   "execution_count": 19,
   "metadata": {},
   "outputs": [],
   "source": [
    "# StockCode içerisinde M olan değerleri çıkar.\n",
    "df = df[df[\"StockCode\"] != \"M\"]"
   ]
  },
  {
   "cell_type": "code",
   "execution_count": 20,
   "metadata": {},
   "outputs": [
    {
     "data": {
      "text/plain": [
       "['POST', 'BANK CHARGES', 'TEST001', 'TEST002', 'PADS', 'ADJUST', 'ADJUST2']"
      ]
     },
     "execution_count": 20,
     "metadata": {},
     "output_type": "execute_result"
    }
   ],
   "source": [
    "# StockCode içerisinde uygun olmayan kod isimlerini getir.\n",
    "invalid_codes = df[df[\"StockCode\"].astype (str).str.contains (r\"[a-zA-Z]{3,}\")][\"StockCode\"].unique ().tolist ()\n",
    "invalid_codes"
   ]
  },
  {
   "cell_type": "code",
   "execution_count": 21,
   "metadata": {},
   "outputs": [
    {
     "data": {
      "text/html": [
       "<div>\n",
       "<style scoped>\n",
       "    .dataframe tbody tr th:only-of-type {\n",
       "        vertical-align: middle;\n",
       "    }\n",
       "\n",
       "    .dataframe tbody tr th {\n",
       "        vertical-align: top;\n",
       "    }\n",
       "\n",
       "    .dataframe thead th {\n",
       "        text-align: right;\n",
       "    }\n",
       "</style>\n",
       "<table border=\"1\" class=\"dataframe\">\n",
       "  <thead>\n",
       "    <tr style=\"text-align: right;\">\n",
       "      <th></th>\n",
       "      <th>Invoice</th>\n",
       "      <th>Quantity</th>\n",
       "      <th>Price</th>\n",
       "      <th>Customer ID</th>\n",
       "    </tr>\n",
       "    <tr>\n",
       "      <th>StockCode</th>\n",
       "      <th></th>\n",
       "      <th></th>\n",
       "      <th></th>\n",
       "      <th></th>\n",
       "    </tr>\n",
       "  </thead>\n",
       "  <tbody>\n",
       "    <tr>\n",
       "      <th>ADJUST</th>\n",
       "      <td>32</td>\n",
       "      <td>32</td>\n",
       "      <td>3538.52</td>\n",
       "      <td>25</td>\n",
       "    </tr>\n",
       "    <tr>\n",
       "      <th>ADJUST2</th>\n",
       "      <td>3</td>\n",
       "      <td>3</td>\n",
       "      <td>731.05</td>\n",
       "      <td>3</td>\n",
       "    </tr>\n",
       "    <tr>\n",
       "      <th>BANK CHARGES</th>\n",
       "      <td>20</td>\n",
       "      <td>20</td>\n",
       "      <td>300.00</td>\n",
       "      <td>12</td>\n",
       "    </tr>\n",
       "    <tr>\n",
       "      <th>PADS</th>\n",
       "      <td>14</td>\n",
       "      <td>14</td>\n",
       "      <td>0.01</td>\n",
       "      <td>12</td>\n",
       "    </tr>\n",
       "    <tr>\n",
       "      <th>POST</th>\n",
       "      <td>738</td>\n",
       "      <td>2212</td>\n",
       "      <td>19964.83</td>\n",
       "      <td>230</td>\n",
       "    </tr>\n",
       "    <tr>\n",
       "      <th>TEST001</th>\n",
       "      <td>11</td>\n",
       "      <td>60</td>\n",
       "      <td>40.50</td>\n",
       "      <td>4</td>\n",
       "    </tr>\n",
       "    <tr>\n",
       "      <th>TEST002</th>\n",
       "      <td>1</td>\n",
       "      <td>1</td>\n",
       "      <td>1.00</td>\n",
       "      <td>1</td>\n",
       "    </tr>\n",
       "  </tbody>\n",
       "</table>\n",
       "</div>"
      ],
      "text/plain": [
       "              Invoice  Quantity    Price  Customer ID\n",
       "StockCode                                            \n",
       "ADJUST             32        32  3538.52           25\n",
       "ADJUST2             3         3   731.05            3\n",
       "BANK CHARGES       20        20   300.00           12\n",
       "PADS               14        14     0.01           12\n",
       "POST              738      2212 19964.83          230\n",
       "TEST001            11        60    40.50            4\n",
       "TEST002             1         1     1.00            1"
      ]
     },
     "execution_count": 21,
     "metadata": {},
     "output_type": "execute_result"
    }
   ],
   "source": [
    "# Yukarıda bulunan invalid_codes değerlerini çıkarmadan önce herhangi bir şekilde uyumlu olma ihtimali alma diye tekrardan bakıyoruz.\n",
    "df[df[\"StockCode\"].isin (invalid_codes)].groupby ([\"StockCode\"]).agg ({\"Invoice\":\"nunique\",\n",
    "                                                                       \"Quantity\": \"sum\",\n",
    "                                                                       \"Price\": \"sum\",\n",
    "                                                                       \"Customer ID\": \"nunique\"})"
   ]
  },
  {
   "cell_type": "code",
   "execution_count": 22,
   "metadata": {},
   "outputs": [],
   "source": [
    "# Kümeleme yaklaşımına gittiğimiz için, Kümeleme mantığına yanlış bir yaklaşım sergileyeceğini düşündüğümüz invalid_codes değerlerini veri setinden çıkarıyoruz.\n",
    "df = df[~df[\"StockCode\"].isin (invalid_codes)].reset_index (drop=True)"
   ]
  },
  {
   "cell_type": "code",
   "execution_count": 23,
   "metadata": {},
   "outputs": [
    {
     "name": "stdout",
     "output_type": "stream",
     "text": [
      "##################### Shape #####################\n",
      "(406450, 8)\n",
      "\n",
      "\n",
      "##################### Types #####################\n",
      "Invoice                object\n",
      "StockCode              object\n",
      "Description            object\n",
      "Quantity                int64\n",
      "InvoiceDate    datetime64[ns]\n",
      "Price                 float64\n",
      "Customer ID           float64\n",
      "Country                object\n",
      "dtype: object\n",
      "\n",
      "\n",
      "##################### Head #####################\n",
      "  Invoice StockCode                          Description  Quantity  \\\n",
      "0  489434     85048  15CM CHRISTMAS GLASS BALL 20 LIGHTS        12   \n",
      "1  489434    79323P                   PINK CHERRY LIGHTS        12   \n",
      "2  489434    79323W                  WHITE CHERRY LIGHTS        12   \n",
      "3  489434     22041         RECORD FRAME 7\" SINGLE SIZE         48   \n",
      "4  489434     21232       STRAWBERRY CERAMIC TRINKET BOX        24   \n",
      "\n",
      "          InvoiceDate  Price  Customer ID         Country  \n",
      "0 2009-12-01 07:45:00   6.95     13085.00  United Kingdom  \n",
      "1 2009-12-01 07:45:00   6.75     13085.00  United Kingdom  \n",
      "2 2009-12-01 07:45:00   6.75     13085.00  United Kingdom  \n",
      "3 2009-12-01 07:45:00   2.10     13085.00  United Kingdom  \n",
      "4 2009-12-01 07:45:00   1.25     13085.00  United Kingdom  \n",
      "\n",
      "\n",
      "##################### Tail #####################\n",
      "       Invoice StockCode                         Description  Quantity  \\\n",
      "406445  538171     22271                FELTCRAFT DOLL ROSIE         2   \n",
      "406446  538171     22750        FELTCRAFT PRINCESS LOLA DOLL         1   \n",
      "406447  538171     22751      FELTCRAFT PRINCESS OLIVIA DOLL         1   \n",
      "406448  538171     20970  PINK FLORAL FELTCRAFT SHOULDER BAG         2   \n",
      "406449  538171     21931              JUMBO STORAGE BAG SUKI         2   \n",
      "\n",
      "               InvoiceDate  Price  Customer ID         Country  \n",
      "406445 2010-12-09 20:01:00   2.95     17530.00  United Kingdom  \n",
      "406446 2010-12-09 20:01:00   3.75     17530.00  United Kingdom  \n",
      "406447 2010-12-09 20:01:00   3.75     17530.00  United Kingdom  \n",
      "406448 2010-12-09 20:01:00   3.75     17530.00  United Kingdom  \n",
      "406449 2010-12-09 20:01:00   1.95     17530.00  United Kingdom  \n",
      "\n",
      "\n",
      "##################### NA #####################\n",
      "Invoice        0\n",
      "StockCode      0\n",
      "Description    0\n",
      "Quantity       0\n",
      "InvoiceDate    0\n",
      "Price          0\n",
      "Customer ID    0\n",
      "Country        0\n",
      "dtype: int64\n",
      "\n",
      "\n",
      "##################### Quantiles #####################\n",
      "                0.01     0.10     0.25     0.50     0.75     0.90     0.99\n",
      "Quantity        1.00     1.00     2.00     5.00    12.00    24.00   144.00\n",
      "Price           0.29     0.65     1.25     1.95     3.75     6.75    12.75\n",
      "Customer ID 12437.00 13050.00 14006.00 15325.00 16814.00 17706.00 18196.00\n"
     ]
    }
   ],
   "source": [
    "# Quantity max değerlerinde şu anda halen outlier değerler içeriyor. Ona tekrardan bakılacak.\n",
    "# Price değerinin max değerine tekrardan bakılacak.\n",
    "check_df(df)"
   ]
  },
  {
   "cell_type": "code",
   "execution_count": 24,
   "metadata": {},
   "outputs": [],
   "source": [
    "df[\"TotalPrice\"] = df[\"Quantity\"] * df[\"Price\"]"
   ]
  },
  {
   "cell_type": "code",
   "execution_count": 25,
   "metadata": {},
   "outputs": [
    {
     "name": "stdout",
     "output_type": "stream",
     "text": [
      "##################### Shape #####################\n",
      "(406450, 9)\n",
      "\n",
      "\n",
      "##################### Types #####################\n",
      "Invoice                object\n",
      "StockCode              object\n",
      "Description            object\n",
      "Quantity                int64\n",
      "InvoiceDate    datetime64[ns]\n",
      "Price                 float64\n",
      "Customer ID           float64\n",
      "Country                object\n",
      "TotalPrice            float64\n",
      "dtype: object\n",
      "\n",
      "\n",
      "##################### Head #####################\n",
      "  Invoice StockCode                          Description  Quantity  \\\n",
      "0  489434     85048  15CM CHRISTMAS GLASS BALL 20 LIGHTS        12   \n",
      "1  489434    79323P                   PINK CHERRY LIGHTS        12   \n",
      "2  489434    79323W                  WHITE CHERRY LIGHTS        12   \n",
      "3  489434     22041         RECORD FRAME 7\" SINGLE SIZE         48   \n",
      "4  489434     21232       STRAWBERRY CERAMIC TRINKET BOX        24   \n",
      "\n",
      "          InvoiceDate  Price  Customer ID         Country  TotalPrice  \n",
      "0 2009-12-01 07:45:00   6.95     13085.00  United Kingdom       83.40  \n",
      "1 2009-12-01 07:45:00   6.75     13085.00  United Kingdom       81.00  \n",
      "2 2009-12-01 07:45:00   6.75     13085.00  United Kingdom       81.00  \n",
      "3 2009-12-01 07:45:00   2.10     13085.00  United Kingdom      100.80  \n",
      "4 2009-12-01 07:45:00   1.25     13085.00  United Kingdom       30.00  \n",
      "\n",
      "\n",
      "##################### Tail #####################\n",
      "       Invoice StockCode                         Description  Quantity  \\\n",
      "406445  538171     22271                FELTCRAFT DOLL ROSIE         2   \n",
      "406446  538171     22750        FELTCRAFT PRINCESS LOLA DOLL         1   \n",
      "406447  538171     22751      FELTCRAFT PRINCESS OLIVIA DOLL         1   \n",
      "406448  538171     20970  PINK FLORAL FELTCRAFT SHOULDER BAG         2   \n",
      "406449  538171     21931              JUMBO STORAGE BAG SUKI         2   \n",
      "\n",
      "               InvoiceDate  Price  Customer ID         Country  TotalPrice  \n",
      "406445 2010-12-09 20:01:00   2.95     17530.00  United Kingdom        5.90  \n",
      "406446 2010-12-09 20:01:00   3.75     17530.00  United Kingdom        3.75  \n",
      "406447 2010-12-09 20:01:00   3.75     17530.00  United Kingdom        3.75  \n",
      "406448 2010-12-09 20:01:00   3.75     17530.00  United Kingdom        7.50  \n",
      "406449 2010-12-09 20:01:00   1.95     17530.00  United Kingdom        3.90  \n",
      "\n",
      "\n",
      "##################### NA #####################\n",
      "Invoice        0\n",
      "StockCode      0\n",
      "Description    0\n",
      "Quantity       0\n",
      "InvoiceDate    0\n",
      "Price          0\n",
      "Customer ID    0\n",
      "Country        0\n",
      "TotalPrice     0\n",
      "dtype: int64\n",
      "\n",
      "\n",
      "##################### Quantiles #####################\n",
      "                0.01     0.10     0.25     0.50     0.75     0.90     0.99\n",
      "Quantity        1.00     1.00     2.00     5.00    12.00    24.00   144.00\n",
      "Price           0.29     0.65     1.25     1.95     3.75     6.75    12.75\n",
      "Customer ID 12437.00 13050.00 14006.00 15325.00 16814.00 17706.00 18196.00\n",
      "TotalPrice      0.65     2.10     4.95    11.85    19.50    35.40   197.10\n"
     ]
    }
   ],
   "source": [
    "check_df(df)"
   ]
  },
  {
   "cell_type": "code",
   "execution_count": 26,
   "metadata": {},
   "outputs": [],
   "source": [
    "max_invoice_date = df[\"InvoiceDate\"].max ()"
   ]
  },
  {
   "cell_type": "code",
   "execution_count": 27,
   "metadata": {},
   "outputs": [],
   "source": [
    "today_date = (max_invoice_date + dt.timedelta (days=2))"
   ]
  },
  {
   "cell_type": "code",
   "execution_count": 28,
   "metadata": {},
   "outputs": [],
   "source": [
    "rfm = df.groupby (\"Customer ID\").agg ({\"InvoiceDate\": lambda date: (today_date - date.max ()).days,\n",
    "                                       \"Invoice\": \"nunique\",\n",
    "                                       \"TotalPrice\": \"sum\"})"
   ]
  },
  {
   "cell_type": "code",
   "execution_count": 29,
   "metadata": {},
   "outputs": [
    {
     "data": {
      "text/html": [
       "<div>\n",
       "<style scoped>\n",
       "    .dataframe tbody tr th:only-of-type {\n",
       "        vertical-align: middle;\n",
       "    }\n",
       "\n",
       "    .dataframe tbody tr th {\n",
       "        vertical-align: top;\n",
       "    }\n",
       "\n",
       "    .dataframe thead th {\n",
       "        text-align: right;\n",
       "    }\n",
       "</style>\n",
       "<table border=\"1\" class=\"dataframe\">\n",
       "  <thead>\n",
       "    <tr style=\"text-align: right;\">\n",
       "      <th></th>\n",
       "      <th>InvoiceDate</th>\n",
       "      <th>Invoice</th>\n",
       "      <th>TotalPrice</th>\n",
       "    </tr>\n",
       "    <tr>\n",
       "      <th>Customer ID</th>\n",
       "      <th></th>\n",
       "      <th></th>\n",
       "      <th></th>\n",
       "    </tr>\n",
       "  </thead>\n",
       "  <tbody>\n",
       "    <tr>\n",
       "      <th>12346.00</th>\n",
       "      <td>166</td>\n",
       "      <td>2</td>\n",
       "      <td>169.36</td>\n",
       "    </tr>\n",
       "    <tr>\n",
       "      <th>12347.00</th>\n",
       "      <td>4</td>\n",
       "      <td>2</td>\n",
       "      <td>1323.32</td>\n",
       "    </tr>\n",
       "    <tr>\n",
       "      <th>12348.00</th>\n",
       "      <td>75</td>\n",
       "      <td>1</td>\n",
       "      <td>221.16</td>\n",
       "    </tr>\n",
       "    <tr>\n",
       "      <th>12349.00</th>\n",
       "      <td>44</td>\n",
       "      <td>2</td>\n",
       "      <td>2221.14</td>\n",
       "    </tr>\n",
       "    <tr>\n",
       "      <th>12351.00</th>\n",
       "      <td>12</td>\n",
       "      <td>1</td>\n",
       "      <td>300.93</td>\n",
       "    </tr>\n",
       "  </tbody>\n",
       "</table>\n",
       "</div>"
      ],
      "text/plain": [
       "             InvoiceDate  Invoice  TotalPrice\n",
       "Customer ID                                  \n",
       "12346.00             166        2      169.36\n",
       "12347.00               4        2     1323.32\n",
       "12348.00              75        1      221.16\n",
       "12349.00              44        2     2221.14\n",
       "12351.00              12        1      300.93"
      ]
     },
     "execution_count": 29,
     "metadata": {},
     "output_type": "execute_result"
    }
   ],
   "source": [
    "rfm.head ()"
   ]
  },
  {
   "cell_type": "code",
   "execution_count": 30,
   "metadata": {},
   "outputs": [],
   "source": [
    "rfm.columns = [\"Recency\", \"Frequency\", \"Monetary\"]"
   ]
  },
  {
   "cell_type": "code",
   "execution_count": 31,
   "metadata": {},
   "outputs": [],
   "source": [
    "rfm = rfm[(rfm[\"Monetary\"]) > 0 & (rfm[\"Frequency\"] > 0)]"
   ]
  },
  {
   "cell_type": "code",
   "execution_count": 32,
   "metadata": {},
   "outputs": [
    {
     "name": "stdout",
     "output_type": "stream",
     "text": [
      "##################### Shape #####################\n",
      "(4286, 3)\n",
      "\n",
      "\n",
      "##################### Types #####################\n",
      "Recency        int64\n",
      "Frequency      int64\n",
      "Monetary     float64\n",
      "dtype: object\n",
      "\n",
      "\n",
      "##################### Head #####################\n",
      "             Recency  Frequency  Monetary\n",
      "Customer ID                              \n",
      "12346.00         166          2    169.36\n",
      "12347.00           4          2   1323.32\n",
      "12348.00          75          1    221.16\n",
      "12349.00          44          2   2221.14\n",
      "12351.00          12          1    300.93\n",
      "\n",
      "\n",
      "##################### Tail #####################\n",
      "             Recency  Frequency  Monetary\n",
      "Customer ID                              \n",
      "18283.00          19          6    641.77\n",
      "18284.00          68          1    461.68\n",
      "18285.00         297          1    427.00\n",
      "18286.00         113          2   1296.43\n",
      "18287.00          19          4   2345.71\n",
      "\n",
      "\n",
      "##################### NA #####################\n",
      "Recency      0\n",
      "Frequency    0\n",
      "Monetary     0\n",
      "dtype: int64\n",
      "\n",
      "\n",
      "##################### Quantiles #####################\n",
      "           0.01   0.10   0.25   0.50    0.75    0.90     0.99\n",
      "Recency    2.00   9.00  19.00  53.00  136.75  255.00   369.00\n",
      "Frequency  1.00   1.00   1.00   2.00    5.00    9.00    31.15\n",
      "Monetary  40.76 157.03 307.66 702.25 1703.98 3761.56 19749.29\n"
     ]
    }
   ],
   "source": [
    "check_df(rfm)"
   ]
  },
  {
   "cell_type": "code",
   "execution_count": 33,
   "metadata": {},
   "outputs": [
    {
     "name": "stdout",
     "output_type": "stream",
     "text": [
      "Recency True\n",
      "Frequency True\n",
      "Monetary True\n"
     ]
    }
   ],
   "source": [
    "for col in rfm.columns:\n",
    "    print (col, check_outlier (rfm, col))"
   ]
  },
  {
   "cell_type": "code",
   "execution_count": 34,
   "metadata": {},
   "outputs": [],
   "source": [
    "for col in rfm.columns:\n",
    "    replace_with_thresholds (rfm, col)"
   ]
  },
  {
   "cell_type": "code",
   "execution_count": 35,
   "metadata": {},
   "outputs": [
    {
     "name": "stdout",
     "output_type": "stream",
     "text": [
      "##################### Shape #####################\n",
      "(4286, 3)\n",
      "\n",
      "\n",
      "##################### Types #####################\n",
      "Recency      float64\n",
      "Frequency      int64\n",
      "Monetary     float64\n",
      "dtype: object\n",
      "\n",
      "\n",
      "##################### Head #####################\n",
      "             Recency  Frequency  Monetary\n",
      "Customer ID                              \n",
      "12346.00      166.00          2    169.36\n",
      "12347.00        4.00          2   1323.32\n",
      "12348.00       75.00          1    221.16\n",
      "12349.00       44.00          2   2221.14\n",
      "12351.00       12.00          1    300.93\n",
      "\n",
      "\n",
      "##################### Tail #####################\n",
      "             Recency  Frequency  Monetary\n",
      "Customer ID                              \n",
      "18283.00       19.00          6    641.77\n",
      "18284.00       68.00          1    461.68\n",
      "18285.00      297.00          1    427.00\n",
      "18286.00      113.00          2   1296.43\n",
      "18287.00       19.00          4   2345.71\n",
      "\n",
      "\n",
      "##################### NA #####################\n",
      "Recency      0\n",
      "Frequency    0\n",
      "Monetary     0\n",
      "dtype: int64\n",
      "\n",
      "\n",
      "##################### Quantiles #####################\n",
      "           0.01   0.10   0.25   0.50    0.75    0.90    0.99\n",
      "Recency    2.00   9.00  19.00  53.00  136.75  255.00  313.38\n",
      "Frequency  1.00   1.00   1.00   2.00    5.00    9.00   11.00\n",
      "Monetary  40.76 157.03 307.66 702.25 1703.98 3761.56 3798.48\n"
     ]
    }
   ],
   "source": [
    "check_df(rfm)"
   ]
  },
  {
   "cell_type": "code",
   "execution_count": 36,
   "metadata": {},
   "outputs": [],
   "source": [
    "def histogram(dataframe, col_name, plot=False):\n",
    "    dataframe[col_name].hist(bins=20)\n",
    "    plt.title(\"Histogram of {}\".format(col_name))\n",
    "    if plot== True:\n",
    "        plt.savefig(\"Histogram of {}.png\".format(col_name))\n",
    "        plt.show()\n",
    "    else:\n",
    "        plt.show()"
   ]
  },
  {
   "cell_type": "code",
   "execution_count": 37,
   "metadata": {},
   "outputs": [
    {
     "data": {
      "image/png": "[encoded data removed]",
      "text/plain": [
       "<Figure size 576x396 with 1 Axes>"
      ]
     },
     "metadata": {},
     "output_type": "display_data"
    }
   ],
   "source": [
    "histogram(dataframe=rfm,\n",
    "          col_name=\"Recency\",\n",
    "          plot=True)"
   ]
  },
  {
   "cell_type": "code",
   "execution_count": 38,
   "metadata": {},
   "outputs": [
    {
     "data": {
      "image/png": "[encoded data removed]",
      "text/plain": [
       "<Figure size 576x396 with 1 Axes>"
      ]
     },
     "metadata": {},
     "output_type": "display_data"
    }
   ],
   "source": [
    "histogram(dataframe=rfm,\n",
    "          col_name=\"Frequency\",\n",
    "          plot=True)"
   ]
  },
  {
   "cell_type": "markdown",
   "metadata": {},
   "source": [
    "## LOG Transformation"
   ]
  },
  {
   "cell_type": "code",
   "execution_count": 39,
   "metadata": {},
   "outputs": [
    {
     "data": {
      "text/html": [
       "<div>\n",
       "<style scoped>\n",
       "    .dataframe tbody tr th:only-of-type {\n",
       "        vertical-align: middle;\n",
       "    }\n",
       "\n",
       "    .dataframe tbody tr th {\n",
       "        vertical-align: top;\n",
       "    }\n",
       "\n",
       "    .dataframe thead th {\n",
       "        text-align: right;\n",
       "    }\n",
       "</style>\n",
       "<table border=\"1\" class=\"dataframe\">\n",
       "  <thead>\n",
       "    <tr style=\"text-align: right;\">\n",
       "      <th></th>\n",
       "      <th>Recency</th>\n",
       "      <th>Frequency</th>\n",
       "      <th>Monetary</th>\n",
       "      <th>LOG_Recency</th>\n",
       "      <th>LOG_Frequency</th>\n",
       "    </tr>\n",
       "    <tr>\n",
       "      <th>Customer ID</th>\n",
       "      <th></th>\n",
       "      <th></th>\n",
       "      <th></th>\n",
       "      <th></th>\n",
       "      <th></th>\n",
       "    </tr>\n",
       "  </thead>\n",
       "  <tbody>\n",
       "    <tr>\n",
       "      <th>12346.00</th>\n",
       "      <td>166.00</td>\n",
       "      <td>2</td>\n",
       "      <td>169.36</td>\n",
       "      <td>5.12</td>\n",
       "      <td>1.10</td>\n",
       "    </tr>\n",
       "    <tr>\n",
       "      <th>12347.00</th>\n",
       "      <td>4.00</td>\n",
       "      <td>2</td>\n",
       "      <td>1323.32</td>\n",
       "      <td>1.61</td>\n",
       "      <td>1.10</td>\n",
       "    </tr>\n",
       "    <tr>\n",
       "      <th>12348.00</th>\n",
       "      <td>75.00</td>\n",
       "      <td>1</td>\n",
       "      <td>221.16</td>\n",
       "      <td>4.33</td>\n",
       "      <td>0.69</td>\n",
       "    </tr>\n",
       "    <tr>\n",
       "      <th>12349.00</th>\n",
       "      <td>44.00</td>\n",
       "      <td>2</td>\n",
       "      <td>2221.14</td>\n",
       "      <td>3.81</td>\n",
       "      <td>1.10</td>\n",
       "    </tr>\n",
       "    <tr>\n",
       "      <th>12351.00</th>\n",
       "      <td>12.00</td>\n",
       "      <td>1</td>\n",
       "      <td>300.93</td>\n",
       "      <td>2.56</td>\n",
       "      <td>0.69</td>\n",
       "    </tr>\n",
       "  </tbody>\n",
       "</table>\n",
       "</div>"
      ],
      "text/plain": [
       "             Recency  Frequency  Monetary  LOG_Recency  LOG_Frequency\n",
       "Customer ID                                                          \n",
       "12346.00      166.00          2    169.36         5.12           1.10\n",
       "12347.00        4.00          2   1323.32         1.61           1.10\n",
       "12348.00       75.00          1    221.16         4.33           0.69\n",
       "12349.00       44.00          2   2221.14         3.81           1.10\n",
       "12351.00       12.00          1    300.93         2.56           0.69"
      ]
     },
     "execution_count": 39,
     "metadata": {},
     "output_type": "execute_result"
    }
   ],
   "source": [
    "# Recency ve Frequency sütunlarına dağılımlarını normale yaklaştırmak(ölçeklendirmek) için loglama işlemi uyguluyoruz.\n",
    "for col in [\"Recency\", \"Frequency\"]:\n",
    "    rfm[f\"LOG_{col}\"] = np.log1p (rfm[col])\n",
    "rfm.head ()"
   ]
  },
  {
   "cell_type": "markdown",
   "metadata": {},
   "source": [
    "## Encoding / Scaling"
   ]
  },
  {
   "cell_type": "code",
   "execution_count": 40,
   "metadata": {},
   "outputs": [],
   "source": [
    "sc = StandardScaler ()\n",
    "sc.fit (rfm[[\"LOG_Recency\", \"LOG_Frequency\"]])\n",
    "scaled_rf = sc.transform (rfm[[\"LOG_Recency\", \"LOG_Frequency\"]])"
   ]
  },
  {
   "cell_type": "code",
   "execution_count": 41,
   "metadata": {},
   "outputs": [
    {
     "data": {
      "text/html": [
       "<div>\n",
       "<style scoped>\n",
       "    .dataframe tbody tr th:only-of-type {\n",
       "        vertical-align: middle;\n",
       "    }\n",
       "\n",
       "    .dataframe tbody tr th {\n",
       "        vertical-align: top;\n",
       "    }\n",
       "\n",
       "    .dataframe thead th {\n",
       "        text-align: right;\n",
       "    }\n",
       "</style>\n",
       "<table border=\"1\" class=\"dataframe\">\n",
       "  <thead>\n",
       "    <tr style=\"text-align: right;\">\n",
       "      <th></th>\n",
       "      <th>LOG_Recency</th>\n",
       "      <th>LOG_Frequency</th>\n",
       "    </tr>\n",
       "    <tr>\n",
       "      <th>Customer ID</th>\n",
       "      <th></th>\n",
       "      <th></th>\n",
       "    </tr>\n",
       "  </thead>\n",
       "  <tbody>\n",
       "    <tr>\n",
       "      <th>12346.00</th>\n",
       "      <td>1.00</td>\n",
       "      <td>-0.39</td>\n",
       "    </tr>\n",
       "    <tr>\n",
       "      <th>12347.00</th>\n",
       "      <td>-1.86</td>\n",
       "      <td>-0.39</td>\n",
       "    </tr>\n",
       "    <tr>\n",
       "      <th>12348.00</th>\n",
       "      <td>0.36</td>\n",
       "      <td>-1.07</td>\n",
       "    </tr>\n",
       "    <tr>\n",
       "      <th>12349.00</th>\n",
       "      <td>-0.07</td>\n",
       "      <td>-0.39</td>\n",
       "    </tr>\n",
       "    <tr>\n",
       "      <th>12351.00</th>\n",
       "      <td>-1.08</td>\n",
       "      <td>-1.07</td>\n",
       "    </tr>\n",
       "    <tr>\n",
       "      <th>...</th>\n",
       "      <td>...</td>\n",
       "      <td>...</td>\n",
       "    </tr>\n",
       "    <tr>\n",
       "      <th>18283.00</th>\n",
       "      <td>-0.73</td>\n",
       "      <td>1.02</td>\n",
       "    </tr>\n",
       "    <tr>\n",
       "      <th>18284.00</th>\n",
       "      <td>0.28</td>\n",
       "      <td>-1.07</td>\n",
       "    </tr>\n",
       "    <tr>\n",
       "      <th>18285.00</th>\n",
       "      <td>1.47</td>\n",
       "      <td>-1.07</td>\n",
       "    </tr>\n",
       "    <tr>\n",
       "      <th>18286.00</th>\n",
       "      <td>0.69</td>\n",
       "      <td>-0.39</td>\n",
       "    </tr>\n",
       "    <tr>\n",
       "      <th>18287.00</th>\n",
       "      <td>-0.73</td>\n",
       "      <td>0.46</td>\n",
       "    </tr>\n",
       "  </tbody>\n",
       "</table>\n",
       "<p>4286 rows × 2 columns</p>\n",
       "</div>"
      ],
      "text/plain": [
       "             LOG_Recency  LOG_Frequency\n",
       "Customer ID                            \n",
       "12346.00            1.00          -0.39\n",
       "12347.00           -1.86          -0.39\n",
       "12348.00            0.36          -1.07\n",
       "12349.00           -0.07          -0.39\n",
       "12351.00           -1.08          -1.07\n",
       "...                  ...            ...\n",
       "18283.00           -0.73           1.02\n",
       "18284.00            0.28          -1.07\n",
       "18285.00            1.47          -1.07\n",
       "18286.00            0.69          -0.39\n",
       "18287.00           -0.73           0.46\n",
       "\n",
       "[4286 rows x 2 columns]"
      ]
     },
     "execution_count": 41,
     "metadata": {},
     "output_type": "execute_result"
    }
   ],
   "source": [
    "scaled_df = pd.DataFrame (index=rfm.index, columns=[\"LOG_Recency\", \"LOG_Frequency\"], data=scaled_rf)\n",
    "scaled_df"
   ]
  },
  {
   "cell_type": "markdown",
   "metadata": {},
   "source": [
    "## Modeling"
   ]
  },
  {
   "cell_type": "markdown",
   "metadata": {},
   "source": [
    "### Determining Optimal Numbers of Cluster (Elbow Method)"
   ]
  },
  {
   "cell_type": "code",
   "execution_count": 51,
   "metadata": {},
   "outputs": [
    {
     "data": {
      "text/plain": [
       "<AxesSubplot:title={'center':'Distortion Score Elbow for KMeans Clustering'}, xlabel='k', ylabel='distortion score'>"
      ]
     },
     "execution_count": 51,
     "metadata": {},
     "output_type": "execute_result"
    },
    {
     "data": {
      "image/png": "[encoded data removed]",
      "text/plain": [
       "<Figure size 576x396 with 2 Axes>"
      ]
     },
     "metadata": {},
     "output_type": "display_data"
    }
   ],
   "source": [
    "kmeans = KMeans ()\n",
    "elbow = KElbowVisualizer (kmeans, k=30)\n",
    "elbow.fit(scaled_df)\n",
    "elbow.show(outpath=\"Distortion Score Elbow for KMeans Clustering.png\")"
   ]
  },
  {
   "cell_type": "code",
   "execution_count": 43,
   "metadata": {},
   "outputs": [
    {
     "name": "stdout",
     "output_type": "stream",
     "text": [
      "8\n"
     ]
    }
   ],
   "source": [
    "cluster_number = elbow.elbow_value_\n",
    "print(cluster_number)"
   ]
  },
  {
   "cell_type": "markdown",
   "metadata": {},
   "source": [
    "### K-Means"
   ]
  },
  {
   "cell_type": "code",
   "execution_count": 44,
   "metadata": {},
   "outputs": [],
   "source": [
    "k_means = KMeans(n_clusters=cluster_number,\n",
    "                 random_state=99).fit(scaled_df)"
   ]
  },
  {
   "cell_type": "code",
   "execution_count": 45,
   "metadata": {},
   "outputs": [
    {
     "data": {
      "text/plain": [
       "array([7, 6, 2, ..., 0, 7, 1])"
      ]
     },
     "execution_count": 45,
     "metadata": {},
     "output_type": "execute_result"
    }
   ],
   "source": [
    "labels = k_means.labels_\n",
    "labels"
   ]
  },
  {
   "cell_type": "code",
   "execution_count": 46,
   "metadata": {},
   "outputs": [],
   "source": [
    "rfm[\"KMeans_Labels\"] = labels"
   ]
  },
  {
   "cell_type": "code",
   "execution_count": 47,
   "metadata": {},
   "outputs": [
    {
     "data": {
      "text/html": [
       "<div>\n",
       "<style scoped>\n",
       "    .dataframe tbody tr th:only-of-type {\n",
       "        vertical-align: middle;\n",
       "    }\n",
       "\n",
       "    .dataframe tbody tr th {\n",
       "        vertical-align: top;\n",
       "    }\n",
       "\n",
       "    .dataframe thead th {\n",
       "        text-align: right;\n",
       "    }\n",
       "</style>\n",
       "<table border=\"1\" class=\"dataframe\">\n",
       "  <thead>\n",
       "    <tr style=\"text-align: right;\">\n",
       "      <th></th>\n",
       "      <th>Recency</th>\n",
       "      <th>Frequency</th>\n",
       "      <th>Monetary</th>\n",
       "      <th>LOG_Recency</th>\n",
       "      <th>LOG_Frequency</th>\n",
       "      <th>KMeans_Labels</th>\n",
       "    </tr>\n",
       "    <tr>\n",
       "      <th>Customer ID</th>\n",
       "      <th></th>\n",
       "      <th></th>\n",
       "      <th></th>\n",
       "      <th></th>\n",
       "      <th></th>\n",
       "      <th></th>\n",
       "    </tr>\n",
       "  </thead>\n",
       "  <tbody>\n",
       "    <tr>\n",
       "      <th>12346.00</th>\n",
       "      <td>166.00</td>\n",
       "      <td>2</td>\n",
       "      <td>169.36</td>\n",
       "      <td>5.12</td>\n",
       "      <td>1.10</td>\n",
       "      <td>7</td>\n",
       "    </tr>\n",
       "    <tr>\n",
       "      <th>12347.00</th>\n",
       "      <td>4.00</td>\n",
       "      <td>2</td>\n",
       "      <td>1323.32</td>\n",
       "      <td>1.61</td>\n",
       "      <td>1.10</td>\n",
       "      <td>6</td>\n",
       "    </tr>\n",
       "    <tr>\n",
       "      <th>12348.00</th>\n",
       "      <td>75.00</td>\n",
       "      <td>1</td>\n",
       "      <td>221.16</td>\n",
       "      <td>4.33</td>\n",
       "      <td>0.69</td>\n",
       "      <td>2</td>\n",
       "    </tr>\n",
       "    <tr>\n",
       "      <th>12349.00</th>\n",
       "      <td>44.00</td>\n",
       "      <td>2</td>\n",
       "      <td>2221.14</td>\n",
       "      <td>3.81</td>\n",
       "      <td>1.10</td>\n",
       "      <td>2</td>\n",
       "    </tr>\n",
       "    <tr>\n",
       "      <th>12351.00</th>\n",
       "      <td>12.00</td>\n",
       "      <td>1</td>\n",
       "      <td>300.93</td>\n",
       "      <td>2.56</td>\n",
       "      <td>0.69</td>\n",
       "      <td>6</td>\n",
       "    </tr>\n",
       "  </tbody>\n",
       "</table>\n",
       "</div>"
      ],
      "text/plain": [
       "             Recency  Frequency  Monetary  LOG_Recency  LOG_Frequency  \\\n",
       "Customer ID                                                             \n",
       "12346.00      166.00          2    169.36         5.12           1.10   \n",
       "12347.00        4.00          2   1323.32         1.61           1.10   \n",
       "12348.00       75.00          1    221.16         4.33           0.69   \n",
       "12349.00       44.00          2   2221.14         3.81           1.10   \n",
       "12351.00       12.00          1    300.93         2.56           0.69   \n",
       "\n",
       "             KMeans_Labels  \n",
       "Customer ID                 \n",
       "12346.00                 7  \n",
       "12347.00                 6  \n",
       "12348.00                 2  \n",
       "12349.00                 2  \n",
       "12351.00                 6  "
      ]
     },
     "execution_count": 47,
     "metadata": {},
     "output_type": "execute_result"
    }
   ],
   "source": [
    "rfm.head()"
   ]
  },
  {
   "cell_type": "code",
   "execution_count": 48,
   "metadata": {},
   "outputs": [
    {
     "data": {
      "text/html": [
       "<div>\n",
       "<style scoped>\n",
       "    .dataframe tbody tr th:only-of-type {\n",
       "        vertical-align: middle;\n",
       "    }\n",
       "\n",
       "    .dataframe tbody tr th {\n",
       "        vertical-align: top;\n",
       "    }\n",
       "\n",
       "    .dataframe thead tr th {\n",
       "        text-align: left;\n",
       "    }\n",
       "\n",
       "    .dataframe thead tr:last-of-type th {\n",
       "        text-align: right;\n",
       "    }\n",
       "</style>\n",
       "<table border=\"1\" class=\"dataframe\">\n",
       "  <thead>\n",
       "    <tr>\n",
       "      <th></th>\n",
       "      <th colspan=\"3\" halign=\"left\">Recency</th>\n",
       "      <th colspan=\"3\" halign=\"left\">Frequency</th>\n",
       "      <th colspan=\"3\" halign=\"left\">Monetary</th>\n",
       "    </tr>\n",
       "    <tr>\n",
       "      <th></th>\n",
       "      <th>mean</th>\n",
       "      <th>median</th>\n",
       "      <th>count</th>\n",
       "      <th>mean</th>\n",
       "      <th>median</th>\n",
       "      <th>count</th>\n",
       "      <th>mean</th>\n",
       "      <th>median</th>\n",
       "      <th>count</th>\n",
       "    </tr>\n",
       "    <tr>\n",
       "      <th>KMeans_Labels</th>\n",
       "      <th></th>\n",
       "      <th></th>\n",
       "      <th></th>\n",
       "      <th></th>\n",
       "      <th></th>\n",
       "      <th></th>\n",
       "      <th></th>\n",
       "      <th></th>\n",
       "      <th></th>\n",
       "    </tr>\n",
       "  </thead>\n",
       "  <tbody>\n",
       "    <tr>\n",
       "      <th>0</th>\n",
       "      <td>233.82</td>\n",
       "      <td>239.00</td>\n",
       "      <td>755</td>\n",
       "      <td>1.00</td>\n",
       "      <td>1.00</td>\n",
       "      <td>755</td>\n",
       "      <td>305.49</td>\n",
       "      <td>225.55</td>\n",
       "      <td>755</td>\n",
       "    </tr>\n",
       "    <tr>\n",
       "      <th>1</th>\n",
       "      <td>20.26</td>\n",
       "      <td>18.00</td>\n",
       "      <td>490</td>\n",
       "      <td>4.16</td>\n",
       "      <td>4.00</td>\n",
       "      <td>490</td>\n",
       "      <td>1401.30</td>\n",
       "      <td>1160.09</td>\n",
       "      <td>490</td>\n",
       "    </tr>\n",
       "    <tr>\n",
       "      <th>2</th>\n",
       "      <td>53.30</td>\n",
       "      <td>52.00</td>\n",
       "      <td>842</td>\n",
       "      <td>1.37</td>\n",
       "      <td>1.00</td>\n",
       "      <td>842</td>\n",
       "      <td>506.83</td>\n",
       "      <td>354.55</td>\n",
       "      <td>842</td>\n",
       "    </tr>\n",
       "    <tr>\n",
       "      <th>3</th>\n",
       "      <td>6.01</td>\n",
       "      <td>5.00</td>\n",
       "      <td>434</td>\n",
       "      <td>9.05</td>\n",
       "      <td>10.00</td>\n",
       "      <td>434</td>\n",
       "      <td>2891.30</td>\n",
       "      <td>3340.07</td>\n",
       "      <td>434</td>\n",
       "    </tr>\n",
       "    <tr>\n",
       "      <th>4</th>\n",
       "      <td>82.19</td>\n",
       "      <td>69.00</td>\n",
       "      <td>544</td>\n",
       "      <td>4.17</td>\n",
       "      <td>4.00</td>\n",
       "      <td>544</td>\n",
       "      <td>1553.26</td>\n",
       "      <td>1307.57</td>\n",
       "      <td>544</td>\n",
       "    </tr>\n",
       "    <tr>\n",
       "      <th>5</th>\n",
       "      <td>39.42</td>\n",
       "      <td>31.00</td>\n",
       "      <td>393</td>\n",
       "      <td>8.89</td>\n",
       "      <td>9.00</td>\n",
       "      <td>393</td>\n",
       "      <td>2848.48</td>\n",
       "      <td>3063.84</td>\n",
       "      <td>393</td>\n",
       "    </tr>\n",
       "    <tr>\n",
       "      <th>6</th>\n",
       "      <td>12.26</td>\n",
       "      <td>12.00</td>\n",
       "      <td>350</td>\n",
       "      <td>1.78</td>\n",
       "      <td>2.00</td>\n",
       "      <td>350</td>\n",
       "      <td>561.62</td>\n",
       "      <td>425.99</td>\n",
       "      <td>350</td>\n",
       "    </tr>\n",
       "    <tr>\n",
       "      <th>7</th>\n",
       "      <td>182.73</td>\n",
       "      <td>177.50</td>\n",
       "      <td>478</td>\n",
       "      <td>2.38</td>\n",
       "      <td>2.00</td>\n",
       "      <td>478</td>\n",
       "      <td>766.69</td>\n",
       "      <td>604.15</td>\n",
       "      <td>478</td>\n",
       "    </tr>\n",
       "  </tbody>\n",
       "</table>\n",
       "</div>"
      ],
      "text/plain": [
       "              Recency              Frequency              Monetary          \\\n",
       "                 mean median count      mean median count     mean  median   \n",
       "KMeans_Labels                                                                \n",
       "0              233.82 239.00   755      1.00   1.00   755   305.49  225.55   \n",
       "1               20.26  18.00   490      4.16   4.00   490  1401.30 1160.09   \n",
       "2               53.30  52.00   842      1.37   1.00   842   506.83  354.55   \n",
       "3                6.01   5.00   434      9.05  10.00   434  2891.30 3340.07   \n",
       "4               82.19  69.00   544      4.17   4.00   544  1553.26 1307.57   \n",
       "5               39.42  31.00   393      8.89   9.00   393  2848.48 3063.84   \n",
       "6               12.26  12.00   350      1.78   2.00   350   561.62  425.99   \n",
       "7              182.73 177.50   478      2.38   2.00   478   766.69  604.15   \n",
       "\n",
       "                     \n",
       "              count  \n",
       "KMeans_Labels        \n",
       "0               755  \n",
       "1               490  \n",
       "2               842  \n",
       "3               434  \n",
       "4               544  \n",
       "5               393  \n",
       "6               350  \n",
       "7               478  "
      ]
     },
     "execution_count": 48,
     "metadata": {},
     "output_type": "execute_result"
    }
   ],
   "source": [
    "rfm.groupby (\"KMeans_Labels\").agg ({\"Recency\": [\"mean\", \"median\", \"count\"],\n",
    "                                    \"Frequency\": [\"mean\", \"median\", \"count\"],\n",
    "                                    \"Monetary\": [\"mean\", \"median\", \"count\"]})"
   ]
  },
  {
   "cell_type": "code",
   "execution_count": 52,
   "metadata": {},
   "outputs": [],
   "source": [
    "def boxplot(x,y,dataframe,save_plot=False):\n",
    "    plt.figure(figsize=(20,10))\n",
    "    sns.boxplot(x=x,y=y,data=dataframe)\n",
    "    if save_plot == True:\n",
    "        plt.savefig(\"{} - {} Boxplot.png\".format(x,y))\n",
    "        plt.show()\n",
    "    else:\n",
    "        plt.show()"
   ]
  },
  {
   "cell_type": "code",
   "execution_count": 53,
   "metadata": {},
   "outputs": [
    {
     "data": {
      "image/png": "[encoded data removed]",
      "text/plain": [
       "<Figure size 1440x720 with 1 Axes>"
      ]
     },
     "metadata": {},
     "output_type": "display_data"
    }
   ],
   "source": [
    "boxplot(\"KMeans_Labels\",\"Monetary\",rfm,True)"
   ]
  },
  {
   "cell_type": "markdown",
   "metadata": {},
   "source": [
    "### Hierarchical Clustering"
   ]
  },
  {
   "cell_type": "code",
   "execution_count": 54,
   "metadata": {},
   "outputs": [],
   "source": [
    "hc_complete = linkage (scaled_df, 'complete')"
   ]
  },
  {
   "cell_type": "code",
   "execution_count": 55,
   "metadata": {},
   "outputs": [
    {
     "data": {
      "image/png": "[encoded data removed]",
      "text/plain": [
       "<Figure size 504x360 with 1 Axes>"
      ]
     },
     "metadata": {},
     "output_type": "display_data"
    }
   ],
   "source": [
    "plt.figure(figsize=(7, 5))\n",
    "plt.title(\"Dendrograms\")\n",
    "dend = dendrogram (hc_complete,\n",
    "                   truncate_mode=\"lastp\",\n",
    "                   p=10,\n",
    "                   show_contracted=True,\n",
    "                   leaf_font_size=10)\n",
    "plt.axhline(y=1.2, color='r', linestyle='--')\n",
    "plt.savefig(\"Hierarchical Clustering - Dendrograms.png\")\n",
    "plt.show()"
   ]
  },
  {
   "cell_type": "code",
   "execution_count": 56,
   "metadata": {},
   "outputs": [
    {
     "data": {
      "text/html": [
       "<div>\n",
       "<style scoped>\n",
       "    .dataframe tbody tr th:only-of-type {\n",
       "        vertical-align: middle;\n",
       "    }\n",
       "\n",
       "    .dataframe tbody tr th {\n",
       "        vertical-align: top;\n",
       "    }\n",
       "\n",
       "    .dataframe thead tr th {\n",
       "        text-align: left;\n",
       "    }\n",
       "\n",
       "    .dataframe thead tr:last-of-type th {\n",
       "        text-align: right;\n",
       "    }\n",
       "</style>\n",
       "<table border=\"1\" class=\"dataframe\">\n",
       "  <thead>\n",
       "    <tr>\n",
       "      <th></th>\n",
       "      <th colspan=\"3\" halign=\"left\">Recency</th>\n",
       "      <th colspan=\"3\" halign=\"left\">Frequency</th>\n",
       "      <th colspan=\"3\" halign=\"left\">Monetary</th>\n",
       "    </tr>\n",
       "    <tr>\n",
       "      <th></th>\n",
       "      <th>mean</th>\n",
       "      <th>median</th>\n",
       "      <th>count</th>\n",
       "      <th>mean</th>\n",
       "      <th>median</th>\n",
       "      <th>count</th>\n",
       "      <th>mean</th>\n",
       "      <th>median</th>\n",
       "      <th>count</th>\n",
       "    </tr>\n",
       "    <tr>\n",
       "      <th>Hierarchical_Labels</th>\n",
       "      <th></th>\n",
       "      <th></th>\n",
       "      <th></th>\n",
       "      <th></th>\n",
       "      <th></th>\n",
       "      <th></th>\n",
       "      <th></th>\n",
       "      <th></th>\n",
       "      <th></th>\n",
       "    </tr>\n",
       "  </thead>\n",
       "  <tbody>\n",
       "    <tr>\n",
       "      <th>0</th>\n",
       "      <td>114.95</td>\n",
       "      <td>86.00</td>\n",
       "      <td>1168</td>\n",
       "      <td>2.72</td>\n",
       "      <td>2.00</td>\n",
       "      <td>1168</td>\n",
       "      <td>962.48</td>\n",
       "      <td>721.25</td>\n",
       "      <td>1168</td>\n",
       "    </tr>\n",
       "    <tr>\n",
       "      <th>1</th>\n",
       "      <td>5.22</td>\n",
       "      <td>4.00</td>\n",
       "      <td>468</td>\n",
       "      <td>8.13</td>\n",
       "      <td>10.00</td>\n",
       "      <td>468</td>\n",
       "      <td>2594.66</td>\n",
       "      <td>2767.07</td>\n",
       "      <td>468</td>\n",
       "    </tr>\n",
       "    <tr>\n",
       "      <th>2</th>\n",
       "      <td>41.12</td>\n",
       "      <td>34.00</td>\n",
       "      <td>828</td>\n",
       "      <td>1.20</td>\n",
       "      <td>1.00</td>\n",
       "      <td>828</td>\n",
       "      <td>423.84</td>\n",
       "      <td>310.75</td>\n",
       "      <td>828</td>\n",
       "    </tr>\n",
       "    <tr>\n",
       "      <th>3</th>\n",
       "      <td>234.17</td>\n",
       "      <td>239.00</td>\n",
       "      <td>753</td>\n",
       "      <td>1.00</td>\n",
       "      <td>1.00</td>\n",
       "      <td>753</td>\n",
       "      <td>305.86</td>\n",
       "      <td>226.30</td>\n",
       "      <td>753</td>\n",
       "    </tr>\n",
       "    <tr>\n",
       "      <th>4</th>\n",
       "      <td>57.97</td>\n",
       "      <td>50.00</td>\n",
       "      <td>459</td>\n",
       "      <td>8.22</td>\n",
       "      <td>8.00</td>\n",
       "      <td>459</td>\n",
       "      <td>2695.60</td>\n",
       "      <td>2841.07</td>\n",
       "      <td>459</td>\n",
       "    </tr>\n",
       "    <tr>\n",
       "      <th>5</th>\n",
       "      <td>19.86</td>\n",
       "      <td>18.00</td>\n",
       "      <td>610</td>\n",
       "      <td>4.75</td>\n",
       "      <td>5.00</td>\n",
       "      <td>610</td>\n",
       "      <td>1589.05</td>\n",
       "      <td>1298.22</td>\n",
       "      <td>610</td>\n",
       "    </tr>\n",
       "  </tbody>\n",
       "</table>\n",
       "</div>"
      ],
      "text/plain": [
       "                    Recency              Frequency              Monetary  \\\n",
       "                       mean median count      mean median count     mean   \n",
       "Hierarchical_Labels                                                        \n",
       "0                    114.95  86.00  1168      2.72   2.00  1168   962.48   \n",
       "1                      5.22   4.00   468      8.13  10.00   468  2594.66   \n",
       "2                     41.12  34.00   828      1.20   1.00   828   423.84   \n",
       "3                    234.17 239.00   753      1.00   1.00   753   305.86   \n",
       "4                     57.97  50.00   459      8.22   8.00   459  2695.60   \n",
       "5                     19.86  18.00   610      4.75   5.00   610  1589.05   \n",
       "\n",
       "                                   \n",
       "                     median count  \n",
       "Hierarchical_Labels                \n",
       "0                    721.25  1168  \n",
       "1                   2767.07   468  \n",
       "2                    310.75   828  \n",
       "3                    226.30   753  \n",
       "4                   2841.07   459  \n",
       "5                   1298.22   610  "
      ]
     },
     "execution_count": 56,
     "metadata": {},
     "output_type": "execute_result"
    }
   ],
   "source": [
    "hc = AgglomerativeClustering (n_clusters=6)\n",
    "segments = hc.fit_predict (scaled_df)\n",
    "rfm[\"Hierarchical_Labels\"] = segments\n",
    "rfm.groupby (\"Hierarchical_Labels\").agg ({\"Recency\": [\"mean\", \"median\", \"count\"],\n",
    "                                         \"Frequency\": [\"mean\", \"median\", \"count\"],\n",
    "                                         \"Monetary\": [\"mean\", \"median\", \"count\"]})\n"
   ]
  },
  {
   "cell_type": "code",
   "execution_count": 57,
   "metadata": {},
   "outputs": [
    {
     "data": {
      "image/png": "[encoded data removed]",
      "text/plain": [
       "<Figure size 1440x720 with 1 Axes>"
      ]
     },
     "metadata": {},
     "output_type": "display_data"
    }
   ],
   "source": [
    "boxplot(\"Hierarchical_Labels\",\"Monetary\",rfm,True)"
   ]
  }
 ],
 "metadata": {
  "kernelspec": {
   "display_name": "Python 3.9.12 ('python39')",
   "language": "python",
   "name": "python3"
  },
  "language_info": {
   "codemirror_mode": {
    "name": "ipython",
    "version": 3
   },
   "file_extension": ".py",
   "mimetype": "text/x-python",
   "name": "python",
   "nbconvert_exporter": "python",
   "pygments_lexer": "ipython3",
   "version": "3.9.12"
  },
  "orig_nbformat": 4,
  "vscode": {
   "interpreter": {
    "hash": "dc4b3c05902c10370de471fcddb26262fd84af011c6feaac4fb5a6964f823446"
   }
  }
 },
 "nbformat": 4,
 "nbformat_minor": 2
}
