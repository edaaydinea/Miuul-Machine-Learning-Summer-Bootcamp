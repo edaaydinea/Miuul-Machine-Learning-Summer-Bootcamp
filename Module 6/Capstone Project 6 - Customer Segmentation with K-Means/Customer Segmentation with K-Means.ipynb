{
 "cells": [
  {
   "cell_type": "markdown",
   "metadata": {},
   "source": [
    "# Customer Segmentation with K-Means\n",
    "\n",
    "*Author: Eda AYDIN*"
   ]
  },
  {
   "cell_type": "markdown",
   "metadata": {},
   "source": [
    "## Table of Contents\n",
    "\n",
    "- [Import Libraries](#import-libraries)\n",
    "- [Exploratory Data Analysis](#exploratory-data-analysis)\n",
    "- [Data Preprocessing & Feature Engineering](#data-preprocessing--feature-engineering)\n",
    "- [Encoding / Scaling](#encoding--scaling)\n",
    "- [Modeling](#modeling)\n",
    "  - [K-Means](#k-means)\n",
    "  - [Hierarchical Clustering](#hierarchical-clustering)"
   ]
  },
  {
   "cell_type": "markdown",
   "metadata": {},
   "source": [
    "## Import Libraries"
   ]
  },
  {
   "cell_type": "code",
   "execution_count": 1,
   "metadata": {},
   "outputs": [
    {
     "name": "stderr",
     "output_type": "stream",
     "text": [
      "c:\\Users\\choon\\anaconda3\\envs\\python39\\lib\\site-packages\\numpy\\_distributor_init.py:30: UserWarning: loaded more than 1 DLL from .libs:\n",
      "c:\\Users\\choon\\anaconda3\\envs\\python39\\lib\\site-packages\\numpy\\.libs\\libopenblas.EL2C6PLE4ZYW3ECEVIV3OXXGRN2NRFM2.gfortran-win_amd64.dll\n",
      "c:\\Users\\choon\\anaconda3\\envs\\python39\\lib\\site-packages\\numpy\\.libs\\libopenblas.XWYDX2IKJW2NMTWSFYNGFUWKQU3LYTCZ.gfortran-win_amd64.dll\n",
      "  warnings.warn(\"loaded more than 1 DLL from .libs:\"\n"
     ]
    }
   ],
   "source": [
    "import numpy as np\n",
    "import pandas as pd\n",
    "import seaborn as sns\n",
    "import warnings\n",
    "from scipy import stats\n",
    "import datetime as dt\n",
    "import matplotlib.pyplot as plt\n",
    "from sklearn.preprocessing import MinMaxScaler, StandardScaler\n",
    "from sklearn.cluster import KMeans, AgglomerativeClustering\n",
    "from scipy.cluster.hierarchy import dendrogram, linkage\n",
    "from yellowbrick.cluster import KElbowVisualizer"
   ]
  },
  {
   "cell_type": "code",
   "execution_count": 2,
   "metadata": {},
   "outputs": [],
   "source": [
    "pd.set_option(\"display.max_columns\",None)\n",
    "pd.set_option(\"display.max_rows\",50)\n",
    "pd.set_option(\"display.float_format\", lambda x: \"%.2f\" %x)\n",
    "pd.set_option(\"display.width\",None)\n",
    "warnings.filterwarnings(\"ignore\")"
   ]
  },
  {
   "cell_type": "markdown",
   "metadata": {},
   "source": [
    "## Dataset History\n",
    "\n",
    "Online Retail II isimli veri seti İngiltere merkezli bir perakende şirketinin 01/12/2009 - 09/12/2011 tarihleri arasındaki online satış işlemlerini içeriyor. Şirketin ürün kataloğunda hediyelik eşyalar yer almaktadır ve çoğu müşterisinin toptancı olduğu bilgisi mevcuttur.\n",
    "\n",
    "<table style=\"border-collapse: collapse; width: 100%; height: 162px;\" border=\"1\">\n",
    "<tbody>\n",
    "<tr style=\"height: 18px;\">\n",
    "<td style=\"width: 1.58479%; height: 18px;\"><strong>Features</strong></td>\n",
    "<td style=\"width: 65.0818%; height: 18px;\"><strong>A&ccedil;ıklama</strong></td>\n",
    "</tr>\n",
    "<tr style=\"height: 18px;\">\n",
    "<td style=\"width: 1.58479%; height: 18px;\">InvoiceNo</td>\n",
    "<td style=\"width: 65.0818%; height: 18px;\">Fature Numarası (Eğer bu kod C ile başlıyorsa işlemin iptal edildiğini ifade eder.)</td>\n",
    "</tr>\n",
    "<tr style=\"height: 18px;\">\n",
    "<td style=\"width: 1.58479%; height: 18px;\">StockCode</td>\n",
    "<td style=\"width: 65.0818%; height: 18px;\">&Uuml;r&uuml;n Kodu (Her bir &uuml;r&uuml;n i&ccedil;in eşsiz)</td>\n",
    "</tr>\n",
    "<tr style=\"height: 18px;\">\n",
    "<td style=\"width: 1.58479%; height: 18px;\">Description</td>\n",
    "<td style=\"width: 65.0818%; height: 18px;\">&Uuml;r&uuml;n ismi</td>\n",
    "</tr>\n",
    "<tr style=\"height: 18px;\">\n",
    "<td style=\"width: 1.58479%; height: 18px;\">Quantity</td>\n",
    "<td style=\"width: 65.0818%; height: 18px;\">&Uuml;r&uuml;n adedi (Faturalardaki &uuml;r&uuml;nlerde ka&ccedil;ar tane satıldığı)</td>\n",
    "</tr>\n",
    "<tr style=\"height: 18px;\">\n",
    "<td style=\"width: 1.58479%; height: 18px;\">InvoiceDate</td>\n",
    "<td style=\"width: 65.0818%; height: 18px;\">Fatura Tarihi</td>\n",
    "</tr>\n",
    "<tr style=\"height: 18px;\">\n",
    "<td style=\"width: 1.58479%; height: 18px;\">UnitPrice</td>\n",
    "<td style=\"width: 65.0818%; height: 18px;\">Fatura Fiyatı (Stelin)</td>\n",
    "</tr>\n",
    "<tr style=\"height: 18px;\">\n",
    "<td style=\"width: 1.58479%; height: 18px;\">CustomerID</td>\n",
    "<td style=\"width: 65.0818%; height: 18px;\">Eşsiz m&uuml;şteri numarası</td>\n",
    "</tr>\n",
    "<tr style=\"height: 18px;\">\n",
    "<td style=\"width: 1.58479%; height: 18px;\">Country</td>\n",
    "<td style=\"width: 65.0818%; height: 18px;\">&Uuml;lke ismi</td>\n",
    "</tr>\n",
    "</tbody>\n",
    "</table>"
   ]
  },
  {
   "cell_type": "code",
   "execution_count": 4,
   "metadata": {},
   "outputs": [
    {
     "data": {
      "text/html": [
       "<div>\n",
       "<style scoped>\n",
       "    .dataframe tbody tr th:only-of-type {\n",
       "        vertical-align: middle;\n",
       "    }\n",
       "\n",
       "    .dataframe tbody tr th {\n",
       "        vertical-align: top;\n",
       "    }\n",
       "\n",
       "    .dataframe thead th {\n",
       "        text-align: right;\n",
       "    }\n",
       "</style>\n",
       "<table border=\"1\" class=\"dataframe\">\n",
       "  <thead>\n",
       "    <tr style=\"text-align: right;\">\n",
       "      <th></th>\n",
       "      <th>Invoice</th>\n",
       "      <th>StockCode</th>\n",
       "      <th>Description</th>\n",
       "      <th>Quantity</th>\n",
       "      <th>InvoiceDate</th>\n",
       "      <th>Price</th>\n",
       "      <th>Customer ID</th>\n",
       "      <th>Country</th>\n",
       "    </tr>\n",
       "  </thead>\n",
       "  <tbody>\n",
       "    <tr>\n",
       "      <th>0</th>\n",
       "      <td>489434</td>\n",
       "      <td>85048</td>\n",
       "      <td>15CM CHRISTMAS GLASS BALL 20 LIGHTS</td>\n",
       "      <td>12</td>\n",
       "      <td>2009-12-01 07:45:00</td>\n",
       "      <td>6.95</td>\n",
       "      <td>13085.00</td>\n",
       "      <td>United Kingdom</td>\n",
       "    </tr>\n",
       "    <tr>\n",
       "      <th>1</th>\n",
       "      <td>489434</td>\n",
       "      <td>79323P</td>\n",
       "      <td>PINK CHERRY LIGHTS</td>\n",
       "      <td>12</td>\n",
       "      <td>2009-12-01 07:45:00</td>\n",
       "      <td>6.75</td>\n",
       "      <td>13085.00</td>\n",
       "      <td>United Kingdom</td>\n",
       "    </tr>\n",
       "    <tr>\n",
       "      <th>2</th>\n",
       "      <td>489434</td>\n",
       "      <td>79323W</td>\n",
       "      <td>WHITE CHERRY LIGHTS</td>\n",
       "      <td>12</td>\n",
       "      <td>2009-12-01 07:45:00</td>\n",
       "      <td>6.75</td>\n",
       "      <td>13085.00</td>\n",
       "      <td>United Kingdom</td>\n",
       "    </tr>\n",
       "    <tr>\n",
       "      <th>3</th>\n",
       "      <td>489434</td>\n",
       "      <td>22041</td>\n",
       "      <td>RECORD FRAME 7\" SINGLE SIZE</td>\n",
       "      <td>48</td>\n",
       "      <td>2009-12-01 07:45:00</td>\n",
       "      <td>2.10</td>\n",
       "      <td>13085.00</td>\n",
       "      <td>United Kingdom</td>\n",
       "    </tr>\n",
       "    <tr>\n",
       "      <th>4</th>\n",
       "      <td>489434</td>\n",
       "      <td>21232</td>\n",
       "      <td>STRAWBERRY CERAMIC TRINKET BOX</td>\n",
       "      <td>24</td>\n",
       "      <td>2009-12-01 07:45:00</td>\n",
       "      <td>1.25</td>\n",
       "      <td>13085.00</td>\n",
       "      <td>United Kingdom</td>\n",
       "    </tr>\n",
       "  </tbody>\n",
       "</table>\n",
       "</div>"
      ],
      "text/plain": [
       "  Invoice StockCode                          Description  Quantity  \\\n",
       "0  489434     85048  15CM CHRISTMAS GLASS BALL 20 LIGHTS        12   \n",
       "1  489434    79323P                   PINK CHERRY LIGHTS        12   \n",
       "2  489434    79323W                  WHITE CHERRY LIGHTS        12   \n",
       "3  489434     22041         RECORD FRAME 7\" SINGLE SIZE         48   \n",
       "4  489434     21232       STRAWBERRY CERAMIC TRINKET BOX        24   \n",
       "\n",
       "          InvoiceDate  Price  Customer ID         Country  \n",
       "0 2009-12-01 07:45:00   6.95     13085.00  United Kingdom  \n",
       "1 2009-12-01 07:45:00   6.75     13085.00  United Kingdom  \n",
       "2 2009-12-01 07:45:00   6.75     13085.00  United Kingdom  \n",
       "3 2009-12-01 07:45:00   2.10     13085.00  United Kingdom  \n",
       "4 2009-12-01 07:45:00   1.25     13085.00  United Kingdom  "
      ]
     },
     "execution_count": 4,
     "metadata": {},
     "output_type": "execute_result"
    }
   ],
   "source": [
    "df_ = pd.read_excel(\"dataset/online_retail_II.xlsx\")\n",
    "df_.head()"
   ]
  },
  {
   "cell_type": "code",
   "execution_count": null,
   "metadata": {},
   "outputs": [],
   "source": [
    "df = df_.copy()"
   ]
  },
  {
   "cell_type": "markdown",
   "metadata": {},
   "source": [
    "## Exploratory Data Analysis"
   ]
  },
  {
   "cell_type": "markdown",
   "metadata": {},
   "source": [
    "## Data Preprocessing & Feature Engineering"
   ]
  },
  {
   "cell_type": "markdown",
   "metadata": {},
   "source": [
    "## Encoding / Scaling"
   ]
  },
  {
   "cell_type": "markdown",
   "metadata": {},
   "source": [
    "## Modeling"
   ]
  },
  {
   "cell_type": "markdown",
   "metadata": {},
   "source": [
    "### K-Means"
   ]
  },
  {
   "cell_type": "markdown",
   "metadata": {},
   "source": [
    "### Hierarchical Clustering"
   ]
  }
 ],
 "metadata": {
  "kernelspec": {
   "display_name": "Python 3.9.12 ('python39')",
   "language": "python",
   "name": "python3"
  },
  "language_info": {
   "codemirror_mode": {
    "name": "ipython",
    "version": 3
   },
   "file_extension": ".py",
   "mimetype": "text/x-python",
   "name": "python",
   "nbconvert_exporter": "python",
   "pygments_lexer": "ipython3",
   "version": "3.9.12"
  },
  "orig_nbformat": 4,
  "vscode": {
   "interpreter": {
    "hash": "dc4b3c05902c10370de471fcddb26262fd84af011c6feaac4fb5a6964f823446"
   }
  }
 },
 "nbformat": 4,
 "nbformat_minor": 2
}
